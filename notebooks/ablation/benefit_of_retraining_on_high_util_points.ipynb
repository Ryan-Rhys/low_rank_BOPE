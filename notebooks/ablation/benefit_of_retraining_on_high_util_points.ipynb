{
 "cells": [
  {
   "attachments": {},
   "cell_type": "markdown",
   "metadata": {},
   "source": [
    "# TLDR\n",
    "\n",
    "The goal of this notebook is to answer the following questions:\n",
    "- What do the subspaces for no-retraining PCA and retraining look like?\n",
    "- Does it help to retrain the subspace on high-utility outcome points? \n",
    "- Would retraining on high-util outcome points help only when the initial points do not have good coverage over the space?\n",
    "\n",
    "\n",
    "The steps to answer these questions:\n",
    "- load the saved `pref_data_dict` from finished experiments. Those contain the initial + EUBO-selected outcome vectors as well as their true utility value\n",
    "- train the following subspaces, keeping them at the same latent dim\n",
    "    - subspace 1: learned from initial batch (32 points) of Y\n",
    "    - subspace 2: take 32 points with highest util values\n",
    "    - subspace 3: take 32 points with lowest util values\n",
    "- Then, fit outcome and util models respectively, and compare\n",
    "    - outcome reconstruction error\n",
    "    - util model accuracy\n",
    "    - overall model accuracy\n",
    "    - (later) pass as a linear projection into BOPE and see BOPE performance, but could just be similar"
   ]
  },
  {
   "cell_type": "code",
   "execution_count": null,
   "metadata": {},
   "outputs": [],
   "source": []
  }
 ],
 "metadata": {
  "language_info": {
   "name": "python"
  },
  "orig_nbformat": 4
 },
 "nbformat": 4,
 "nbformat_minor": 2
}
