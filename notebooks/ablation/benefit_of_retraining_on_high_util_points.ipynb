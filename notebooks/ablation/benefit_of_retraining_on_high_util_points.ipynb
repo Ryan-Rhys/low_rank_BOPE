{
 "cells": [
  {
   "attachments": {},
   "cell_type": "markdown",
   "metadata": {},
   "source": [
    "# TLDR\n",
    "\n",
    "The goal of this notebook is to answer the following questions:\n",
    "- What do the subspaces for no-retraining PCA and retraining look like?\n",
    "- Does it help to retrain the subspace on high-utility outcome points? \n",
    "- Would retraining on high-util outcome points help only when the initial points do not have good coverage over the space?\n",
    "\n",
    "\n",
    "The steps to answer these questions:\n",
    "- load the saved `pref_data_dict` from finished experiments. Those contain the initial + EUBO-selected outcome vectors as well as their true utility value\n",
    "- train the following subspaces, keeping them at the same latent dim\n",
    "    - subspace 1: learned from initial batch (32 points) of Y\n",
    "    - subspace 2: take 32 points with highest util values\n",
    "    - subspace 3: take 32 points with lowest util values\n",
    "- Then, fit outcome and util models respectively, and compare\n",
    "    - outcome reconstruction error\n",
    "    - util model accuracy\n",
    "    - overall model accuracy\n",
    "    - (later) pass as a linear projection into BOPE and see BOPE performance, but could just be similar"
   ]
  },
  {
   "cell_type": "code",
   "execution_count": 1,
   "metadata": {},
   "outputs": [
    {
     "name": "stderr",
     "output_type": "stream",
     "text": [
      "/home/yz685/anaconda3/envs/bope_pca/lib/python3.9/site-packages/tqdm/auto.py:22: TqdmWarning: IProgress not found. Please update jupyter and ipywidgets. See https://ipywidgets.readthedocs.io/en/stable/user_install.html\n",
      "  from .autonotebook import tqdm as notebook_tqdm\n"
     ]
    }
   ],
   "source": [
    "%load_ext autoreload\n",
    "%autoreload 2\n",
    "\n",
    "import itertools\n",
    "import pickle\n",
    "import re\n",
    "import warnings\n",
    "from collections import defaultdict\n",
    "from dataclasses import asdict, dataclass\n",
    "from typing import Dict, List, Tuple, Union\n",
    "\n",
    "import matplotlib.pyplot as plt\n",
    "import numpy as np\n",
    "import pandas as pd\n",
    "# import seaborn as sns\n",
    "import torch \n",
    "\n",
    "warnings.filterwarnings(\"ignore\")\n",
    "\n",
    "import sys\n",
    "sys.path.append('..')\n",
    "sys.path.append('/home/yz685/low_rank_BOPE')\n",
    "sys.path.append('/home/yz685/low_rank_BOPE/low_rank_BOPE')\n",
    "\n",
    "from helpers.plotting_helpers import plot_performance_over_comps_multiple, plot_performance_over_comps_single, \\\n",
    "    plot_subspace_diagnostics_single, \\\n",
    "    plot_result_metric_multiple, colors_dict, marker_dict, labels_dict\n",
    "from low_rank_BOPE.src.transforms import fit_pca"
   ]
  },
  {
   "cell_type": "code",
   "execution_count": 2,
   "metadata": {},
   "outputs": [],
   "source": [
    "trial_range = range(31, 51)\n",
    "problems = [\"8by8_rectangle_gradient_aware_area\"]\n",
    "parent_dir_name = \"shapes_rt\"\n",
    "\n",
    "\n",
    "# problems = {\n",
    "#     \"vehiclesafety_5d3d_piecewiselinear_24_0.01\": (5,24),\n",
    "#     \"carcabdesign_7d9d_piecewiselinear_72_0.01\": (7,72),\n",
    "#     \"carcabdesign_7d9d_linear_72_0.01\": (7,72)}\n",
    "# trial_range = range(1,21)\n",
    "# parent_dir_name = \"cars_rt\""
   ]
  },
  {
   "cell_type": "code",
   "execution_count": 3,
   "metadata": {},
   "outputs": [],
   "source": [
    "outputs = defaultdict(lambda: defaultdict(dict))\n",
    "valid_trials = []\n",
    "\n",
    "for problem in problems:\n",
    "\n",
    "    results_folder = f'/home/yz685/low_rank_BOPE/experiments/{parent_dir_name}/{problem}/'\n",
    "\n",
    "    for trial in trial_range:\n",
    "\n",
    "        try:\n",
    "\n",
    "            outputs[problem]['exp_candidate_results'][trial] = \\\n",
    "                list(vv for v in torch.load(results_folder + f'final_candidate_results_trial={trial}.th').values() for vv in v.values())\n",
    "            \n",
    "            outputs[problem]['within_session_results'][trial] = \\\n",
    "                list(itertools.chain.from_iterable(vv for v in torch.load(results_folder + f'PE_session_results_trial={trial}.th').values() for vv in v.values()))\n",
    "\n",
    "            outputs[problem]['subspace_diagnostics'][trial] = \\\n",
    "                torch.load(results_folder + f'subspace_diagnostics_trial={trial}.th')\n",
    "            \n",
    "            outputs[problem]['pref_data'][trial] = \\\n",
    "                torch.load(results_folder + f'pref_data_trial={trial}.th')\n",
    "            \n",
    "            valid_trials.append(trial)\n",
    "        \n",
    "        except:\n",
    "            print(f\"Trial {trial} not finished yet, skipping for now\")\n",
    "            continue\n",
    "    "
   ]
  },
  {
   "cell_type": "code",
   "execution_count": 5,
   "metadata": {},
   "outputs": [],
   "source": [
    "example_output = outputs[\"8by8_rectangle_gradient_aware_area\"][\"pref_data\"][31][('pca','EUBO-zeta')]"
   ]
  },
  {
   "cell_type": "code",
   "execution_count": 6,
   "metadata": {},
   "outputs": [],
   "source": [
    "Y = example_output[\"Y\"]\n",
    "util_vals = example_output[\"util_vals\"]"
   ]
  },
  {
   "cell_type": "code",
   "execution_count": 7,
   "metadata": {},
   "outputs": [
    {
     "data": {
      "text/plain": [
       "torch.Size([112, 64])"
      ]
     },
     "execution_count": 7,
     "metadata": {},
     "output_type": "execute_result"
    }
   ],
   "source": [
    "Y.shape"
   ]
  },
  {
   "cell_type": "code",
   "execution_count": 8,
   "metadata": {},
   "outputs": [],
   "source": [
    "proj_1 = fit_pca(Y[:32], standardize=False)"
   ]
  },
  {
   "cell_type": "code",
   "execution_count": 9,
   "metadata": {},
   "outputs": [],
   "source": [
    "largest_ind = torch.topk(util_vals.squeeze(1), k=32).indices\n",
    "largest_Y = Y[largest_ind]\n",
    "\n",
    "smallest_ind = torch.topk(util_vals.squeeze(1), largest=False, k=32).indices\n",
    "smallest_Y = Y[smallest_ind]"
   ]
  },
  {
   "cell_type": "code",
   "execution_count": 10,
   "metadata": {},
   "outputs": [],
   "source": [
    "proj_2 = fit_pca(largest_Y, standardize=False)\n",
    "proj_3 = fit_pca(smallest_Y, standardize=False)"
   ]
  },
  {
   "cell_type": "code",
   "execution_count": null,
   "metadata": {},
   "outputs": [],
   "source": [
    "# TODO: keep them at the same dimension, then compute Grassmann distance\n",
    "# learn about principal angles, etc. \n",
    "\n",
    "# https://web.ma.utexas.edu/users/vandyke/notes/deep_learning_presentation/presentation.pdf"
   ]
  },
  {
   "cell_type": "code",
   "execution_count": 35,
   "metadata": {},
   "outputs": [
    {
     "name": "stdout",
     "output_type": "stream",
     "text": [
      "torch.Size([12, 64]) torch.Size([12, 64]) torch.Size([10, 64])\n"
     ]
    }
   ],
   "source": [
    "print(proj_1.shape, proj_2.shape, proj_3.shape)"
   ]
  },
  {
   "cell_type": "code",
   "execution_count": 24,
   "metadata": {},
   "outputs": [
    {
     "data": {
      "text/plain": [
       "tensor(-0.5071, dtype=torch.float64)"
      ]
     },
     "execution_count": 24,
     "metadata": {},
     "output_type": "execute_result"
    }
   ],
   "source": [
    "torch.dot(proj_2[0], proj_3[0])"
   ]
  },
  {
   "cell_type": "code",
   "execution_count": 34,
   "metadata": {},
   "outputs": [],
   "source": [
    "def get_principal_angles(subspace1, subspace2):\n",
    "    r\"\"\"\n",
    "    \n",
    "    Args:\n",
    "        subspace1: `latent_dim x outcome_dim` \n",
    "        subspace2: `latent_dim x outcome_dim`\n",
    "\n",
    "    \"\"\"\n",
    "\n",
    "    subspace1_ = torch.transpose(subspace1, -2, -1)\n",
    "    subspace2_ = torch.transpose(subspace2, -2, -1)\n",
    "\n",
    "    q1, _ = torch.linalg.qr(subspace1_)\n",
    "    q2, _ = torch.linalg.qr(subspace2_)\n",
    "\n",
    "    _, S, _ = torch.linalg.svd(torch.transpose(q1, -2, -1) @ q2)\n",
    "\n",
    "    print('singular values: ', S)\n",
    "\n",
    "    theta = torch.arccos(S)\n",
    "\n",
    "    return theta"
   ]
  },
  {
   "cell_type": "code",
   "execution_count": 36,
   "metadata": {},
   "outputs": [
    {
     "name": "stdout",
     "output_type": "stream",
     "text": [
      "singular values:  tensor([0.9945, 0.9829, 0.8504, 0.7357, 0.6343, 0.5203, 0.4482, 0.3550, 0.3052,\n",
      "        0.2458, 0.1163, 0.0024], dtype=torch.float64)\n"
     ]
    },
    {
     "data": {
      "text/plain": [
       "tensor([0.1046, 0.1852, 0.5541, 0.7441, 0.8837, 1.0236, 1.1061, 1.2079, 1.2606,\n",
       "        1.3224, 1.4543, 1.5684], dtype=torch.float64)"
      ]
     },
     "execution_count": 36,
     "metadata": {},
     "output_type": "execute_result"
    }
   ],
   "source": [
    "get_principal_angles(\n",
    "    subspace1 = proj_1,\n",
    "    subspace2 = proj_2\n",
    ")"
   ]
  },
  {
   "cell_type": "code",
   "execution_count": 37,
   "metadata": {},
   "outputs": [
    {
     "name": "stdout",
     "output_type": "stream",
     "text": [
      "singular values:  tensor([0.9915, 0.9837, 0.9756, 0.9548, 0.9265, 0.8844, 0.7896, 0.6632, 0.4345,\n",
      "        0.0809], dtype=torch.float64)\n"
     ]
    },
    {
     "data": {
      "text/plain": [
       "tensor([0.1302, 0.1810, 0.2213, 0.3019, 0.3859, 0.4856, 0.6607, 0.8457, 1.1213,\n",
       "        1.4899], dtype=torch.float64)"
      ]
     },
     "execution_count": 37,
     "metadata": {},
     "output_type": "execute_result"
    }
   ],
   "source": [
    "get_principal_angles(\n",
    "    subspace1 = proj_1[:10],\n",
    "    subspace2 = proj_3\n",
    ")"
   ]
  },
  {
   "cell_type": "code",
   "execution_count": null,
   "metadata": {},
   "outputs": [],
   "source": []
  }
 ],
 "metadata": {
  "kernelspec": {
   "display_name": "bope_pca",
   "language": "python",
   "name": "python3"
  },
  "language_info": {
   "codemirror_mode": {
    "name": "ipython",
    "version": 3
   },
   "file_extension": ".py",
   "mimetype": "text/x-python",
   "name": "python",
   "nbconvert_exporter": "python",
   "pygments_lexer": "ipython3",
   "version": "3.9.15"
  },
  "orig_nbformat": 4,
  "vscode": {
   "interpreter": {
    "hash": "f178f7686bb85c5c6e141a85fd4c17c3082d63b89f6cfaecdf98c22c0047a219"
   }
  }
 },
 "nbformat": 4,
 "nbformat_minor": 2
}
