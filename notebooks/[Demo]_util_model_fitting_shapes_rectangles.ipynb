{
  "cells": [
    {
      "attachments": {},
      "cell_type": "markdown",
      "metadata": {
        "code_folding": [],
        "customInput": null,
        "hidden_ranges": [],
        "originalKey": "c2748393-d4ea-4830-94f2-145dc2fb0c14",
        "showInput": false
      },
      "source": [
        "# Overview\n",
        "\n",
        "The test problem explored in this notebook is adapted from an experiment in \n",
        "Tripp et al., Sample-Efficient Optimization in the Latent Space of Deep \n",
        "Generative Models via Weighted Retraining (https://arxiv.org/abs/2006.09191). \n",
        "\n",
        "We work with a set of 16x16 images. In each image, we place a randomly generated \n",
        "black **rectangle**. We aim to learn a predictive model that maps an image to the area \n",
        "of the black rectangle inside it. \n",
        "- We first train this model using images and the numerical values for the areas\n",
        "- We further bring this into a preference learning setting where, instead of \n",
        "    numerical values of the black areas, we provide pairwise comparisons of \n",
        "    areas in a pair of images. \n",
        "\n",
        "It can be seen that the image data are highly structured. We perform PCA on the \n",
        "set of images and keep the first 16 principal axes. Then, for each of the two \n",
        "types of models above, we try applying PCA to the images and fit a GP from 16\n",
        "dimensions to 1 dimension, and compare the performance with not doing so (i.e., \n",
        "fitting a GP from 256 dimensions to 1 dimension.)"
      ]
    },
    {
      "cell_type": "code",
      "execution_count": 2,
      "metadata": {
        "code_folding": [],
        "collapsed": false,
        "customOutput": null,
        "executionStartTime": 1673017165515,
        "executionStopTime": 1673017169427,
        "hidden_ranges": [],
        "originalKey": "ed006d17-14ef-41a2-9b4f-6163953a6ec9",
        "requestMsgId": "c593f2fe-2fb2-4595-9412-d4a68b8971a6",
        "trusted": true
      },
      "outputs": [
        {
          "name": "stderr",
          "output_type": "stream",
          "text": [
            "/home/yz685/anaconda3/envs/bope_pca/lib/python3.9/site-packages/tqdm/auto.py:22: TqdmWarning: IProgress not found. Please update jupyter and ipywidgets. See https://ipywidgets.readthedocs.io/en/stable/user_install.html\n",
            "  from .autonotebook import tqdm as notebook_tqdm\n"
          ]
        }
      ],
      "source": [
        "%load_ext autoreload\n",
        "%autoreload 2\n",
        "\n",
        "import os, sys\n",
        "# file_dir = os.path.dirname(__file__)\n",
        "# sys.path.append(file_dir)\n",
        "sys.path.append('/home/yz685/low_rank_BOPE')\n",
        "sys.path.append('/home/yz685/low_rank_BOPE/low_rank_BOPE')\n",
        "import warnings\n",
        "import math\n",
        "import matplotlib.pyplot as plt\n",
        "import numpy as np\n",
        "import scipy.linalg\n",
        "import torch\n",
        "from torch import Tensor\n",
        "from tqdm.auto import trange\n",
        "\n",
        "\n",
        "from test_problems.synthetic_problem import generate_principal_axes, PCATestProblem\n",
        "from src.transforms import (\n",
        "    generate_random_projection,\n",
        "    InputCenter,\n",
        "    LinearProjectionInputTransform,\n",
        "    LinearProjectionOutcomeTransform,\n",
        "    PCAInputTransform,\n",
        "    PCAOutcomeTransform,\n",
        "    SubsetOutcomeTransform,\n",
        ")\n",
        "from src.pref_learning_helpers import gen_initial_real_data, fit_pref_model, gen_comps\n",
        "from src.diagnostics import check_util_model_fit\n",
        "from src.models import make_modified_kernel\n",
        "\n",
        "# import botorch, gpytorch functions\n",
        "from botorch import fit_gpytorch_model, fit_gpytorch_mll\n",
        "from botorch.optim.fit import fit_gpytorch_scipy\n",
        "from botorch.optim.utils import _filter_kwargs\n",
        "from botorch.utils.sampling import draw_sobol_samples\n",
        "from botorch.models import SingleTaskGP\n",
        "from botorch.models.transforms.outcome import ChainedOutcomeTransform, Standardize\n",
        "from botorch.models.transforms.input import (\n",
        "    ChainedInputTransform,\n",
        "    FilterFeatures,\n",
        "    Normalize,\n",
        ")\n",
        "from botorch.models.pairwise_gp import (PairwiseGP,\n",
        "                                        PairwiseLaplaceMarginalLogLikelihood)\n",
        "\n",
        "from gpytorch.kernels import MaternKernel\n",
        "from gpytorch.mlls import ExactMarginalLogLikelihood\n",
        "from gpytorch.likelihoods import GaussianLikelihood\n",
        "from gpytorch.priors import GammaPrior\n",
        "\n",
        "warnings.filterwarnings(\"ignore\")\n"
      ]
    },
    {
      "cell_type": "code",
      "execution_count": 3,
      "metadata": {},
      "outputs": [],
      "source": [
        "tkwargs = {\n",
        "    \"dtype\": torch.double,\n",
        "    \"device\": torch.device(\"cuda\" if torch.cuda.is_available() else \"cpu\"),\n",
        "}"
      ]
    },
    {
      "cell_type": "code",
      "execution_count": 30,
      "metadata": {},
      "outputs": [],
      "source": [
        "# Adapted from https://stackoverflow.com/questions/33607071/fastest-way-to-compute-entropy-of-each-numpy-array-row \n",
        "\n",
        "def entropy(x):\n",
        "    \"\"\"\n",
        "    x is assumed to be an (nsignals, nsamples) array containing integers between\n",
        "    0 and n_unique_vals\n",
        "    \"\"\"\n",
        "    x = np.atleast_2d(x)\n",
        "    nrows, ncols = x.shape\n",
        "    nbins = x.max() + 1\n",
        "\n",
        "    # count the number of occurrences for each unique integer between 0 and x.max()\n",
        "    # in each row of x\n",
        "    counts = np.vstack((np.bincount(row, minlength=nbins) for row in x))\n",
        "\n",
        "    # divide by number of columns to get the probability of each unique value\n",
        "    p = counts / float(ncols)\n",
        "    p = p[p!=0]\n",
        "\n",
        "    # compute Shannon entropy in bits\n",
        "    return -np.sum(p * np.log2(p))"
      ]
    },
    {
      "attachments": {},
      "cell_type": "markdown",
      "metadata": {},
      "source": [
        "## 1. Construct the Shapes Dataset to Test the Implementation"
      ]
    },
    {
      "cell_type": "code",
      "execution_count": 31,
      "metadata": {
        "collapsed": false,
        "customInput": null,
        "executionStartTime": 1674095278421,
        "executionStopTime": 1674095278508,
        "originalKey": "defe9441-c3df-4641-a9b5-5b162af3e937",
        "requestMsgId": "defe9441-c3df-4641-a9b5-5b162af3e937",
        "showInput": true
      },
      "outputs": [
        {
          "name": "stdout",
          "output_type": "stream",
          "text": [
            "Making Dataset\n"
          ]
        },
        {
          "name": "stderr",
          "output_type": "stream",
          "text": [
            "100%|██████████| 5/5 [00:00<00:00, 502.91it/s]"
          ]
        },
        {
          "name": "stdout",
          "output_type": "stream",
          "text": [
            "Dataset created. Total of 615 points\n",
            "Array size 0.0 GB\n"
          ]
        },
        {
          "name": "stderr",
          "output_type": "stream",
          "text": [
            "\n"
          ]
        }
      ],
      "source": [
        "\"\"\"\n",
        "Construct the Shapes optimization benchmark dataset from Tripp et al.,\n",
        "Sample-Efficient Optimization in the Latent Space of Deep Generative Models \n",
        "via Weighted Retraining, NeurIPS 2020. \n",
        "Adapted from: https://github.com/cambridge-mlg/weighted-retraining\n",
        "\"\"\"\n",
        "\n",
        "# Hyperparameters from \n",
        "# https://arxiv.org/abs/2006.09191\n",
        "\n",
        "grid_size = 16 # image dimension\n",
        "min_size = 4\n",
        "max_size = 8\n",
        "shuffle_seed = None # Int specifying the shuffle seed\n",
        "min_col = None # min column to start spanning, shifts rectangles to the left\n",
        "max_col = None # max column to start spanning\n",
        "num_replicates = 1 # number of times to replicate each point\n",
        "\n",
        "# Make all the rectangles\n",
        "print(\"Making Dataset\")\n",
        "img_list = []\n",
        "for rect_height in trange(min_size, max_size + 1): # range(5, 8)\n",
        "\n",
        "    for rect_width in [rect_height]:  # Because it is squares only # TODO: change here\n",
        "    #  for rect_width in [rect_height-1, rect_height+1]:  \n",
        "\n",
        "        for row in range(grid_size - rect_height + 1):\n",
        "\n",
        "            # Specify which columns to span\n",
        "            if min_col is None:\n",
        "                min_col = 0\n",
        "            if max_col is None:\n",
        "                max_col = grid_size\n",
        "            for col in range(min_col, min(grid_size - rect_width + 1, max_col)):\n",
        "\n",
        "                arr = np.zeros((grid_size, grid_size))\n",
        "                arr[row : row + rect_height, col : col + rect_width] = np.ones(\n",
        "                    (rect_height, rect_width)\n",
        "                )\n",
        "                # Append the same image multiple times\n",
        "                for _ in range(num_replicates):\n",
        "                    img_list.append(arr)\n",
        "\n",
        "img_array = np.array(img_list)\n",
        "print(f\"Dataset created. Total of {len(img_array)} points\")\n",
        "print(f\"Array size {img_array.nbytes / 1e9:.1f} GB\")\n",
        "\n",
        "# Possibly shuffle\n",
        "if shuffle_seed is not None:\n",
        "    print(\"Shuffling!\")\n",
        "    np.random.seed(shuffle_seed)\n",
        "    np.random.shuffle(img_array)\n",
        "\n",
        "# Calculate areas\n",
        "areas_array = np.sum(img_array, axis=(1, 2)).astype(float)"
      ]
    },
    {
      "cell_type": "code",
      "execution_count": 32,
      "metadata": {},
      "outputs": [
        {
          "name": "stdout",
          "output_type": "stream",
          "text": [
            "Entropy of areas array:  2.2753145581766265\n"
          ]
        },
        {
          "data": {
            "text/plain": [
              "(array([169., 144.,   0.,   0., 121.,   0., 100.,   0.,   0.,  81.]),\n",
              " array([16. , 20.8, 25.6, 30.4, 35.2, 40. , 44.8, 49.6, 54.4, 59.2, 64. ]),\n",
              " <BarContainer object of 10 artists>)"
            ]
          },
          "execution_count": 32,
          "metadata": {},
          "output_type": "execute_result"
        },
        {
          "data": {
            "image/png": "[encoded data removed]",
            "text/plain": [
              "<Figure size 432x288 with 1 Axes>"
            ]
          },
          "metadata": {
            "needs_background": "light"
          },
          "output_type": "display_data"
        }
      ],
      "source": [
        "print('Entropy of areas array: ', entropy(areas_array.astype(int)))\n",
        "plt.hist(areas_array)"
      ]
    },
    {
      "cell_type": "code",
      "execution_count": 33,
      "metadata": {},
      "outputs": [],
      "source": [
        "# what if we don't traverse the possible upper left corners of the rectangle in \n",
        "# the grid one by one; rather we just randomly generate the upper left corner \n",
        "# and then randomly generate the height and widths? Would that give us more \n",
        "# variation in the areas?\n",
        "\n",
        "\n",
        "def generate_random_rectangles(\n",
        "    n_samples, \n",
        "    seed, \n",
        "    num_replicates=1, \n",
        "    shuffle=True,\n",
        "    grid_size=16\n",
        "):\n",
        "\n",
        "    np.random.seed(seed)\n",
        "\n",
        "    img_list = []\n",
        "\n",
        "    for _ in range(n_samples):\n",
        "\n",
        "        row_start = np.random.choice(grid_size-1) # rectangle should be at least 1 pixel\n",
        "        col_start = np.random.choice(grid_size-1)\n",
        "\n",
        "        row_end = np.random.choice(np.arange(row_start, grid_size))\n",
        "        col_end = np.random.choice(np.arange(col_start, grid_size))\n",
        "\n",
        "        arr = np.zeros((grid_size, grid_size))\n",
        "        arr[row_start : row_end+1, col_start : col_end+1] = np.ones(\n",
        "            (row_end-row_start+1, col_end-col_start+1)\n",
        "        )\n",
        "        # Append the same image multiple times\n",
        "        for _ in range(num_replicates):\n",
        "            img_list.append(arr)\n",
        "\n",
        "    img_array = np.array(img_list)\n",
        "    print(f\"Dataset created. Total of {len(img_array)} points\")\n",
        "    print(f\"Array size {img_array.nbytes / 1e9:.1f} GB\")\n",
        "\n",
        "    # Possibly shuffle\n",
        "    if shuffle:\n",
        "        print(\"Shuffling!\")\n",
        "        np.random.shuffle(img_array)\n",
        "\n",
        "    # Calculate areas\n",
        "    areas_array = np.sum(img_array, axis=(1, 2)).astype(float)\n",
        "\n",
        "    return img_array, areas_array\n",
        "\n"
      ]
    },
    {
      "cell_type": "code",
      "execution_count": 34,
      "metadata": {},
      "outputs": [
        {
          "name": "stdout",
          "output_type": "stream",
          "text": [
            "Dataset created. Total of 615 points\n",
            "Array size 0.0 GB\n",
            "Shuffling!\n"
          ]
        }
      ],
      "source": [
        "img_array_rdm, areas_array_rdm = generate_random_rectangles(615, 0, grid_size=16)"
      ]
    },
    {
      "cell_type": "code",
      "execution_count": 35,
      "metadata": {},
      "outputs": [
        {
          "data": {
            "text/plain": [
              "(array([377., 112.,  61.,  23.,  16.,  10.,   6.,   4.,   2.,   4.]),\n",
              " array([  1. ,  20.4,  39.8,  59.2,  78.6,  98. , 117.4, 136.8, 156.2,\n",
              "        175.6, 195. ]),\n",
              " <BarContainer object of 10 artists>)"
            ]
          },
          "execution_count": 35,
          "metadata": {},
          "output_type": "execute_result"
        },
        {
          "data": {
            "image/png": "[encoded data removed]",
            "text/plain": [
              "<Figure size 432x288 with 1 Axes>"
            ]
          },
          "metadata": {
            "needs_background": "light"
          },
          "output_type": "display_data"
        }
      ],
      "source": [
        "plt.hist(areas_array_rdm)"
      ]
    },
    {
      "cell_type": "code",
      "execution_count": 36,
      "metadata": {},
      "outputs": [
        {
          "data": {
            "text/plain": [
              "5.437498728979752"
            ]
          },
          "execution_count": 36,
          "metadata": {},
          "output_type": "execute_result"
        }
      ],
      "source": [
        "entropy(areas_array_rdm.astype(int))\n",
        "\n",
        "# this is double the entropy of the squares dataset"
      ]
    },
    {
      "attachments": {},
      "cell_type": "markdown",
      "metadata": {},
      "source": [
        "### Sidenote:\n",
        "\n",
        "Consider generating rectangles in [0,1]x[0,1], where\n",
        "- row_start ~ Unif[0,1], row_end | row_start ~ Unif[row_start, 1]\n",
        "- col_start ~ Unif[0,1], col_end | col_start ~ Unif[col_start, 1]\n",
        "- row_start and col_start are independent\n",
        "\n",
        "Then how is the area A = (row_end - row_start) * (col_end - col_start) distributed?\n",
        "\n",
        "E[A] = E[row_end - row_start] * E[col_end - col_start] = 1/4 * 1/4 = 1/16\n",
        "\n",
        "In our case where we have a grid, the mean of `areas_array_rdm` approaches `grid_size^2/16` as `grid_size` becomes large."
      ]
    },
    {
      "cell_type": "code",
      "execution_count": 37,
      "metadata": {},
      "outputs": [],
      "source": [
        "img_array = img_array_rdm\n",
        "areas_array = areas_array_rdm"
      ]
    },
    {
      "cell_type": "code",
      "execution_count": 38,
      "metadata": {},
      "outputs": [
        {
          "data": {
            "text/plain": [
              "Text(0.5, 0.98, 'Example Shapes Images')"
            ]
          },
          "execution_count": 38,
          "metadata": {},
          "output_type": "execute_result"
        },
        {
          "data": {
            "image/png": "[encoded data removed]",
            "text/plain": [
              "<Figure size 2304x1152 with 10 Axes>"
            ]
          },
          "metadata": {
            "needs_background": "light"
          },
          "output_type": "display_data"
        }
      ],
      "source": [
        "\"\"\"\n",
        "Plot example images from the dataset.\n",
        "\"\"\"\n",
        "\n",
        "fig, ax = plt.subplots(2, 5, figsize = (32, 16))\n",
        "ax = ax.reshape(-1)\n",
        "\n",
        "for i in range(10):\n",
        "    if i < 5:\n",
        "        f = ax[i].imshow(img_array[10*i], cmap=plt.cm.gray_r)\n",
        "    else:\n",
        "        f = ax[i].imshow(img_array[50*i], cmap=plt.cm.gray_r)\n",
        "\n",
        "plt.suptitle('Example Shapes Images', fontsize=40)"
      ]
    },
    {
      "cell_type": "code",
      "execution_count": 39,
      "metadata": {},
      "outputs": [],
      "source": [
        "\"\"\"\n",
        "Define the relative L2-error for the reconstruction of the image data from the low-dimensional PCA embedding.\n",
        "\"\"\"\n",
        "\n",
        "def rel_l2_error(recons, ground_truth):\n",
        "    \"\"\"\"Relative L2-error.\n",
        "\n",
        "    Args: \n",
        "        recons: `[b x d]` NumPy array of flattened reconstructions.\n",
        "        ground_truth: `[b x d]` NumPy array of flattened ground truth images.\n",
        "\n",
        "    Returns:\n",
        "        Float specifying the average l2 error across the dataset.\n",
        "    \"\"\"\n",
        "\n",
        "    return np.mean(np.linalg.norm((recons - ground_truth), axis=-1) / np.linalg.norm(ground_truth, axis=-1))"
      ]
    },
    {
      "attachments": {},
      "cell_type": "markdown",
      "metadata": {},
      "source": [
        "##  2. Test Reconstruction Performance of PCA on the Shapes Dataset"
      ]
    },
    {
      "cell_type": "code",
      "execution_count": 40,
      "metadata": {},
      "outputs": [],
      "source": [
        "\"\"\"\n",
        "Divide the Shapes dataset into train/test.\n",
        "\"\"\"\n",
        "\n",
        "from sklearn.model_selection import train_test_split\n",
        "\n",
        "X_train, X_test, y_train, y_test = train_test_split(img_array, areas_array, test_size=0.2, random_state=42)\n",
        "\n",
        "n_train_data = len(X_train)\n",
        "n_test_data = len(X_test)\n",
        "img_dim = len(X_train[0]) # 16 x 16\n",
        "\n",
        "# Flatten images\n",
        "X_train = X_train.reshape(n_train_data, img_dim**2)\n",
        "X_test = X_test.reshape(n_test_data, img_dim**2)"
      ]
    },
    {
      "cell_type": "code",
      "execution_count": 41,
      "metadata": {},
      "outputs": [
        {
          "name": "stdout",
          "output_type": "stream",
          "text": [
            "Runtime is 0.06 seconds\n"
          ]
        }
      ],
      "source": [
        "\"\"\"\n",
        "Fit PCA and measure reconstruction error (relative l2 error) on the test set.\n",
        "\"\"\"\n",
        "\n",
        "import time\n",
        "\n",
        "from sklearn.decomposition import PCA\n",
        "\n",
        "start_time = time.time()\n",
        "\n",
        "# Runtime of PCA is ca. 10 seconds\n",
        "pca_x = PCA(n_components=16)\n",
        "pca_x.fit(X_train)\n",
        "recons_x = pca_x.inverse_transform(pca_x.transform(X_test))\n",
        "test_error = rel_l2_error(recons_x, X_test)\n",
        "\n",
        "end_time = time.time()\n",
        "print(f'Runtime is {(end_time - start_time):.2f} seconds')\n",
        "\n",
        "def round_binary(reconstructions):\n",
        "    \"\"\"round reconstructions to binary pixel values.\n",
        "\n",
        "    Args:\n",
        "        reconstructions: NumPy array of reconstructions.\n",
        "\n",
        "    Returns:\n",
        "        rounded binary-valued array\n",
        "    \"\"\"\n",
        "\n",
        "    reconstructions = reconstructions > 0.5\n",
        "    reconstructions = reconstructions.astype(float)\n",
        "    return reconstructions\n",
        "\n",
        "recons_x = round_binary(recons_x)\n"
      ]
    },
    {
      "cell_type": "code",
      "execution_count": 42,
      "metadata": {},
      "outputs": [
        {
          "name": "stdout",
          "output_type": "stream",
          "text": [
            "Relative L2 reconstruction error is 63.82%\n"
          ]
        }
      ],
      "source": [
        "print(f'Relative L2 reconstruction error is {100*test_error:.2f}%')\n"
      ]
    },
    {
      "cell_type": "code",
      "execution_count": 43,
      "metadata": {},
      "outputs": [
        {
          "name": "stdout",
          "output_type": "stream",
          "text": [
            "torch.Size([16, 256])\n"
          ]
        }
      ],
      "source": [
        "# 16x256 principal axes\n",
        "principal_axes = torch.Tensor(pca_x.components_)\n",
        "print(principal_axes.shape)"
      ]
    },
    {
      "attachments": {},
      "cell_type": "markdown",
      "metadata": {},
      "source": [
        "## 3. Flatten each image into a vector, then learn a model on the (image, area) data\n",
        "\n",
        "The image data is a `615x256` tensor, the area data is a `615x1` tensor. \n",
        "\n",
        "We implemented PCA as an `InputTranform` object, which can be passed when fitting the model (whether it's `SingleTaskGP` or `PairwiseGP`)."
      ]
    },
    {
      "cell_type": "code",
      "execution_count": 44,
      "metadata": {},
      "outputs": [],
      "source": [
        "import random\n",
        "\n",
        "def split_data_helper(dataset_size, split_fraction):\n",
        "    \"\"\"\n",
        "    Helper function for splitting a set of indices randomly into two parts given split_fraction (<0.5). \n",
        "    \"\"\"\n",
        "    indices = list(range(dataset_size))\n",
        "    split = int(np.floor(split_fraction * dataset_size))\n",
        "\n",
        "    test_indices = random.sample(indices, split)\n",
        "    train_indices = list(set(indices) - set(test_indices))  \n",
        "\n",
        "    return train_indices, test_indices"
      ]
    },
    {
      "attachments": {},
      "cell_type": "markdown",
      "metadata": {},
      "source": [
        "### 3.1 Fit a utility model with the numerical utility values (i.e., areas) with and without PCA transform\n",
        "\n",
        "We call these models `st_abs` and `pca_abs`. "
      ]
    },
    {
      "cell_type": "code",
      "execution_count": 45,
      "metadata": {},
      "outputs": [
        {
          "name": "stdout",
          "output_type": "stream",
          "text": [
            "torch.Size([615, 256]) torch.Size([615, 1])\n"
          ]
        }
      ],
      "source": [
        "X = torch.Tensor(img_array).flatten(start_dim=1)\n",
        "areas = torch.Tensor(areas_array).unsqueeze(1)\n",
        "\n",
        "print(X.shape, areas.shape)"
      ]
    },
    {
      "cell_type": "code",
      "execution_count": 46,
      "metadata": {},
      "outputs": [
        {
          "name": "stdout",
          "output_type": "stream",
          "text": [
            "torch.Size([492, 256]) torch.Size([123, 256]) torch.Size([492, 1]) torch.Size([123, 1])\n"
          ]
        }
      ],
      "source": [
        "# split images X and areas into train and test sets\n",
        "\n",
        "train_indices, test_indices = split_data_helper(dataset_size=615, split_fraction=0.2)\n",
        "train_X = X[train_indices]\n",
        "test_X = X[test_indices]\n",
        "train_areas = areas[train_indices]\n",
        "test_areas = areas[test_indices]\n",
        "\n",
        "print(train_X.shape, test_X.shape, train_areas.shape, test_areas.shape)"
      ]
    },
    {
      "cell_type": "code",
      "execution_count": 47,
      "metadata": {},
      "outputs": [
        {
          "data": {
            "text/plain": [
              "ExactMarginalLogLikelihood(\n",
              "  (likelihood): GaussianLikelihood(\n",
              "    (noise_covar): HomoskedasticNoise(\n",
              "      (noise_prior): GammaPrior()\n",
              "      (raw_noise_constraint): GreaterThan(1.000E-04)\n",
              "    )\n",
              "  )\n",
              "  (model): SingleTaskGP(\n",
              "    (likelihood): GaussianLikelihood(\n",
              "      (noise_covar): HomoskedasticNoise(\n",
              "        (noise_prior): GammaPrior()\n",
              "        (raw_noise_constraint): GreaterThan(1.000E-04)\n",
              "      )\n",
              "    )\n",
              "    (mean_module): ConstantMean()\n",
              "    (covar_module): ScaleKernel(\n",
              "      (base_kernel): MaternKernel(\n",
              "        (lengthscale_prior): GammaPrior()\n",
              "        (raw_lengthscale_constraint): Positive()\n",
              "      )\n",
              "      (outputscale_prior): GammaPrior()\n",
              "      (raw_outputscale_constraint): Positive()\n",
              "    )\n",
              "  )\n",
              ")"
            ]
          },
          "execution_count": 47,
          "metadata": {},
          "output_type": "execute_result"
        }
      ],
      "source": [
        "# Fit single task abs-util model\n",
        "\n",
        "st_abs = SingleTaskGP(\n",
        "    train_X,\n",
        "    train_areas,\n",
        "    # TODO: need to set covar_module?\n",
        ")\n",
        "\n",
        "st_mll = ExactMarginalLogLikelihood(st_abs.likelihood, st_abs)\n",
        "fit_gpytorch_model(st_mll)"
      ]
    },
    {
      "cell_type": "code",
      "execution_count": 48,
      "metadata": {},
      "outputs": [
        {
          "data": {
            "text/plain": [
              "ExactMarginalLogLikelihood(\n",
              "  (likelihood): GaussianLikelihood(\n",
              "    (noise_covar): HomoskedasticNoise(\n",
              "      (noise_prior): GammaPrior()\n",
              "      (raw_noise_constraint): GreaterThan(1.000E-04)\n",
              "    )\n",
              "  )\n",
              "  (model): SingleTaskGP(\n",
              "    (likelihood): GaussianLikelihood(\n",
              "      (noise_covar): HomoskedasticNoise(\n",
              "        (noise_prior): GammaPrior()\n",
              "        (raw_noise_constraint): GreaterThan(1.000E-04)\n",
              "      )\n",
              "    )\n",
              "    (mean_module): ConstantMean()\n",
              "    (covar_module): ScaleKernel(\n",
              "      (base_kernel): MaternKernel(\n",
              "        (lengthscale_prior): GammaPrior()\n",
              "        (raw_lengthscale_constraint): Positive()\n",
              "      )\n",
              "      (outputscale_prior): GammaPrior()\n",
              "      (raw_outputscale_constraint): Positive()\n",
              "    )\n",
              "    (input_transform): ChainedInputTransform(\n",
              "      (center): InputCenter()\n",
              "      (pca): PCAInputTransform()\n",
              "    )\n",
              "  )\n",
              ")"
            ]
          },
          "execution_count": 48,
          "metadata": {},
          "output_type": "execute_result"
        }
      ],
      "source": [
        "# Fit PCA abs-util model\n",
        "\n",
        "pca_abs = SingleTaskGP(\n",
        "    train_X,\n",
        "    train_areas,\n",
        "    input_transform=ChainedInputTransform(\n",
        "                        **{\n",
        "                            \"center\": InputCenter(train_X.shape[-1]),\n",
        "                            \"pca\": PCAInputTransform(axes=principal_axes),\n",
        "                        }\n",
        "                    )\n",
        ")\n",
        "\n",
        "pca_mll = ExactMarginalLogLikelihood(pca_abs.likelihood, pca_abs)\n",
        "fit_gpytorch_model(pca_mll)"
      ]
    },
    {
      "cell_type": "code",
      "execution_count": 49,
      "metadata": {},
      "outputs": [
        {
          "name": "stdout",
          "output_type": "stream",
          "text": [
            "PCA area prediction relative error -1.5789605379104614 %\n"
          ]
        }
      ],
      "source": [
        "# compute area prediction error on the test set\n",
        "\n",
        "pca_abs_err = ((test_areas - pca_abs.posterior(test_X).mean) / test_areas).mean()\n",
        "\n",
        "print(f\"PCA area prediction relative error {100*pca_abs_err} %\")"
      ]
    },
    {
      "cell_type": "code",
      "execution_count": 50,
      "metadata": {},
      "outputs": [
        {
          "name": "stdout",
          "output_type": "stream",
          "text": [
            "ST area prediction relative error -204.74212646484375 %\n"
          ]
        }
      ],
      "source": [
        "st_abs_err = ((test_areas - st_abs.posterior(test_X).mean) / test_areas).mean()\n",
        "\n",
        "print(f\"ST area prediction relative error {100*st_abs_err} %\")"
      ]
    },
    {
      "attachments": {},
      "cell_type": "markdown",
      "metadata": {},
      "source": [
        "### 3.2 Fit a utility model with pairwise comparison data with and without PCA transform\n",
        "\n",
        "More specifically, we take the first 614 entries of train_X, shuffle them, and generate 307 pairwise comparisons. Then we fit a `PairwiseGP` on this data. \n",
        "\n",
        "We call these models `st_rel` and `pca_rel`. "
      ]
    },
    {
      "cell_type": "code",
      "execution_count": 51,
      "metadata": {},
      "outputs": [],
      "source": [
        "# generate a random permutation of indices [0, ..., 613]\n",
        "perm_indices = torch.randperm(614)\n",
        "\n",
        "X_shuffled = X[perm_indices]\n",
        "areas_shuffled = areas[perm_indices]"
      ]
    },
    {
      "cell_type": "code",
      "execution_count": 52,
      "metadata": {},
      "outputs": [
        {
          "name": "stdout",
          "output_type": "stream",
          "text": [
            "torch.Size([490, 256]) torch.Size([124, 256]) torch.Size([245, 2]) torch.Size([62, 2])\n"
          ]
        }
      ],
      "source": [
        "import itertools\n",
        "\n",
        "dataset_size = 307\n",
        "split_fraction = 0.2\n",
        "\n",
        "# generate indices of pairs for training and testing\n",
        "train_pair_indices = list(range(int( dataset_size * (1-split_fraction))))\n",
        "test_pair_indices = list(set(range(dataset_size)) - set(train_pair_indices))  \n",
        "\n",
        "# map the pair indices to data indices\n",
        "# e.g., pair 0 maps to [0,1]\n",
        "test_indices = list(itertools.chain.from_iterable((2*i, 2*i+1) for i in test_pair_indices))\n",
        "train_indices = list(itertools.chain.from_iterable((2*i, 2*i+1) for i in train_pair_indices))\n",
        "\n",
        "train_X = X_shuffled[train_indices]\n",
        "test_X = X_shuffled[test_indices]\n",
        "\n",
        "# generate pairwise comparisons for the shuffled area values\n",
        "# https://github.com/zyyjjj/low_rank_BOPE/blob/main/low_rank_BOPE/src/pref_learning_helpers.py#L55 \n",
        "area_comps = gen_comps(areas_shuffled)\n",
        "train_area_comps = area_comps[train_pair_indices]\n",
        "test_area_comps = area_comps[test_pair_indices]\n",
        "\n",
        "print(train_X.shape, test_X.shape, train_area_comps.shape, test_area_comps.shape)\n"
      ]
    },
    {
      "cell_type": "code",
      "execution_count": 54,
      "metadata": {},
      "outputs": [
        {
          "ename": "ModelFittingError",
          "evalue": "All attempts to fit the model have failed. For more information, try enabling botorch.settings.debug mode.",
          "output_type": "error",
          "traceback": [
            "\u001b[0;31m---------------------------------------------------------------------------\u001b[0m",
            "\u001b[0;31mModelFittingError\u001b[0m                         Traceback (most recent call last)",
            "\u001b[0;32m/tmp/ipykernel_298415/361416258.py\u001b[0m in \u001b[0;36m<module>\u001b[0;34m\u001b[0m\n\u001b[1;32m      9\u001b[0m \u001b[0mmll_util\u001b[0m \u001b[0;34m=\u001b[0m \u001b[0mPairwiseLaplaceMarginalLogLikelihood\u001b[0m\u001b[0;34m(\u001b[0m\u001b[0mst_rel\u001b[0m\u001b[0;34m.\u001b[0m\u001b[0mlikelihood\u001b[0m\u001b[0;34m,\u001b[0m \u001b[0mst_rel\u001b[0m\u001b[0;34m)\u001b[0m\u001b[0;34m\u001b[0m\u001b[0;34m\u001b[0m\u001b[0m\n\u001b[1;32m     10\u001b[0m \u001b[0;34m\u001b[0m\u001b[0m\n\u001b[0;32m---> 11\u001b[0;31m \u001b[0mfit_gpytorch_mll\u001b[0m\u001b[0;34m(\u001b[0m\u001b[0mmll_util\u001b[0m\u001b[0;34m)\u001b[0m\u001b[0;34m\u001b[0m\u001b[0;34m\u001b[0m\u001b[0m\n\u001b[0m",
            "\u001b[0;32m~/anaconda3/envs/bope_pca/lib/python3.9/site-packages/botorch/fit.py\u001b[0m in \u001b[0;36mfit_gpytorch_mll\u001b[0;34m(mll, closure, optimizer, closure_kwargs, optimizer_kwargs, **kwargs)\u001b[0m\n\u001b[1;32m    103\u001b[0m         \u001b[0mkwargs\u001b[0m\u001b[0;34m[\u001b[0m\u001b[0;34m\"optimizer\"\u001b[0m\u001b[0;34m]\u001b[0m \u001b[0;34m=\u001b[0m \u001b[0moptimizer\u001b[0m\u001b[0;34m\u001b[0m\u001b[0;34m\u001b[0m\u001b[0m\n\u001b[1;32m    104\u001b[0m \u001b[0;34m\u001b[0m\u001b[0m\n\u001b[0;32m--> 105\u001b[0;31m     return FitGPyTorchMLL(\n\u001b[0m\u001b[1;32m    106\u001b[0m         \u001b[0mmll\u001b[0m\u001b[0;34m,\u001b[0m\u001b[0;34m\u001b[0m\u001b[0;34m\u001b[0m\u001b[0m\n\u001b[1;32m    107\u001b[0m         \u001b[0mtype\u001b[0m\u001b[0;34m(\u001b[0m\u001b[0mmll\u001b[0m\u001b[0;34m.\u001b[0m\u001b[0mlikelihood\u001b[0m\u001b[0;34m)\u001b[0m\u001b[0;34m,\u001b[0m\u001b[0;34m\u001b[0m\u001b[0;34m\u001b[0m\u001b[0m\n",
            "\u001b[0;32m~/anaconda3/envs/bope_pca/lib/python3.9/site-packages/botorch/utils/dispatcher.py\u001b[0m in \u001b[0;36m__call__\u001b[0;34m(self, *args, **kwargs)\u001b[0m\n\u001b[1;32m     91\u001b[0m         \u001b[0mfunc\u001b[0m \u001b[0;34m=\u001b[0m \u001b[0mself\u001b[0m\u001b[0;34m.\u001b[0m\u001b[0m__getitem__\u001b[0m\u001b[0;34m(\u001b[0m\u001b[0mtypes\u001b[0m\u001b[0;34m=\u001b[0m\u001b[0mtypes\u001b[0m\u001b[0;34m)\u001b[0m\u001b[0;34m\u001b[0m\u001b[0;34m\u001b[0m\u001b[0m\n\u001b[1;32m     92\u001b[0m         \u001b[0;32mtry\u001b[0m\u001b[0;34m:\u001b[0m\u001b[0;34m\u001b[0m\u001b[0;34m\u001b[0m\u001b[0m\n\u001b[0;32m---> 93\u001b[0;31m             \u001b[0;32mreturn\u001b[0m \u001b[0mfunc\u001b[0m\u001b[0;34m(\u001b[0m\u001b[0;34m*\u001b[0m\u001b[0margs\u001b[0m\u001b[0;34m,\u001b[0m \u001b[0;34m**\u001b[0m\u001b[0mkwargs\u001b[0m\u001b[0;34m)\u001b[0m\u001b[0;34m\u001b[0m\u001b[0;34m\u001b[0m\u001b[0m\n\u001b[0m\u001b[1;32m     94\u001b[0m         \u001b[0;32mexcept\u001b[0m \u001b[0mMDNotImplementedError\u001b[0m\u001b[0;34m:\u001b[0m\u001b[0;34m\u001b[0m\u001b[0;34m\u001b[0m\u001b[0m\n\u001b[1;32m     95\u001b[0m             \u001b[0;31m# Traverses registered methods in order, yields whenever a match is found\u001b[0m\u001b[0;34m\u001b[0m\u001b[0;34m\u001b[0m\u001b[0m\n",
            "\u001b[0;32m~/anaconda3/envs/bope_pca/lib/python3.9/site-packages/botorch/fit.py\u001b[0m in \u001b[0;36m_fit_fallback\u001b[0;34m(mll, _, __, closure, optimizer, closure_kwargs, optimizer_kwargs, max_attempts, warning_handler, caught_exception_types, **ignore)\u001b[0m\n\u001b[1;32m    281\u001b[0m         \u001b[0mmsg\u001b[0m \u001b[0;34m=\u001b[0m \u001b[0mmsg\u001b[0m \u001b[0;34m+\u001b[0m \u001b[0;34m\" For more information, try enabling botorch.settings.debug mode.\"\u001b[0m\u001b[0;34m\u001b[0m\u001b[0;34m\u001b[0m\u001b[0m\n\u001b[1;32m    282\u001b[0m \u001b[0;34m\u001b[0m\u001b[0m\n\u001b[0;32m--> 283\u001b[0;31m     \u001b[0;32mraise\u001b[0m \u001b[0mModelFittingError\u001b[0m\u001b[0;34m(\u001b[0m\u001b[0mmsg\u001b[0m\u001b[0;34m)\u001b[0m\u001b[0;34m\u001b[0m\u001b[0;34m\u001b[0m\u001b[0m\n\u001b[0m\u001b[1;32m    284\u001b[0m \u001b[0;34m\u001b[0m\u001b[0m\n\u001b[1;32m    285\u001b[0m \u001b[0;34m\u001b[0m\u001b[0m\n",
            "\u001b[0;31mModelFittingError\u001b[0m: All attempts to fit the model have failed. For more information, try enabling botorch.settings.debug mode."
          ]
        }
      ],
      "source": [
        "# fit single task pairwise model\n",
        "\n",
        "st_rel = PairwiseGP(\n",
        "    train_X,\n",
        "    train_area_comps,\n",
        "    covar_module = make_modified_kernel(ard_num_dims = 256)\n",
        ")\n",
        "\n",
        "mll_util = PairwiseLaplaceMarginalLogLikelihood(st_rel.likelihood, st_rel)\n",
        "\n",
        "fit_gpytorch_mll(mll_util)"
      ]
    },
    {
      "attachments": {},
      "cell_type": "markdown",
      "metadata": {},
      "source": [
        "# Progress checkpoint as of 2/4/2023"
      ]
    },
    {
      "cell_type": "code",
      "execution_count": null,
      "metadata": {},
      "outputs": [
        {
          "data": {
            "text/plain": [
              "PairwiseLaplaceMarginalLogLikelihood(\n",
              "  (likelihood): PairwiseProbitLikelihood()\n",
              "  (model): PairwiseGP(\n",
              "    (input_transform): ChainedInputTransform(\n",
              "      (center): InputCenter()\n",
              "      (pca): PCAInputTransform()\n",
              "    )\n",
              "    (likelihood): PairwiseProbitLikelihood()\n",
              "    (mean_module): ConstantMean()\n",
              "    (covar_module): ScaleKernel(\n",
              "      (base_kernel): RBFKernel(\n",
              "        (lengthscale_prior): GammaPrior()\n",
              "        (raw_lengthscale_constraint): GreaterThan(1.000E-04)\n",
              "      )\n",
              "      (outputscale_prior): SmoothedBoxPrior()\n",
              "      (raw_outputscale_constraint): Interval(2.000E-01, 5.000E+00)\n",
              "    )\n",
              "  )\n",
              ")"
            ]
          },
          "execution_count": 47,
          "metadata": {},
          "output_type": "execute_result"
        }
      ],
      "source": [
        "# fit PCA pairwise model \n",
        "\n",
        "pca_rel = PairwiseGP(\n",
        "    train_X,\n",
        "    train_area_comps,\n",
        "    input_transform=ChainedInputTransform(\n",
        "                        **{\n",
        "                            \"center\": InputCenter(train_X.shape[-1]),\n",
        "                            \"pca\": PCAInputTransform(axes=principal_axes),\n",
        "                        }\n",
        "                    ),\n",
        "    covar_module = make_modified_kernel(ard_num_dims = 16)\n",
        ")\n",
        "\n",
        "mll_util = PairwiseLaplaceMarginalLogLikelihood(pca_rel.likelihood, pca_rel)\n",
        "\n",
        "fit_gpytorch_mll(mll_util)"
      ]
    },
    {
      "cell_type": "code",
      "execution_count": null,
      "metadata": {},
      "outputs": [],
      "source": []
    },
    {
      "cell_type": "code",
      "execution_count": 58,
      "metadata": {},
      "outputs": [],
      "source": [
        "# evaluate model quality not based on prediction of utility value, but on pairwise prediction accuracy\n",
        "\n",
        "def pref_prediction_accuracy(model, test_X, test_comps):\n",
        "\n",
        "    posterior_util_mean = model.posterior(test_X).mean\n",
        "    posterior_util_mean_ = posterior_util_mean.reshape((len(test_comps), 2))\n",
        "    print('difference in posterior util mean: ', posterior_util_mean_[:,0] - posterior_util_mean_[:,1])\n",
        "\n",
        "    # in test_comps, [x,y] means x is more preferable than y\n",
        "    # in posterior util mean, a higher util mean is more preferable\n",
        "    correct_test_rankings = (posterior_util_mean_[:,0] - posterior_util_mean_[:,1]) * (\n",
        "        test_comps[:, 0] - test_comps[:, 1]\n",
        "    )\n",
        "    pref_prediction_accuracy = sum(correct_test_rankings < 0) / len(\n",
        "        correct_test_rankings\n",
        "    )\n",
        "\n",
        "    return pref_prediction_accuracy"
      ]
    },
    {
      "cell_type": "code",
      "execution_count": 59,
      "metadata": {},
      "outputs": [
        {
          "name": "stdout",
          "output_type": "stream",
          "text": [
            "difference in posterior util mean:  tensor([-7.1255e-01,  5.3793e-01,  1.5610e+00,  2.8174e+00,  1.7314e+00,\n",
            "        -5.8783e+00,  1.7895e-01, -4.0681e+00, -4.5102e+00, -3.6551e+00,\n",
            "        -5.3811e+00,  3.7249e-02, -3.2811e+00, -1.7677e+00,  7.8398e-01,\n",
            "         4.8080e+00,  7.9768e-01, -2.9813e+00, -7.8103e+00, -2.0226e+00,\n",
            "         5.3170e+00,  1.2157e-01, -1.9229e+00,  1.9956e-01,  4.8826e+00,\n",
            "        -3.1413e+00, -1.0510e+00, -7.6965e+00, -1.1552e+00, -4.4470e-01,\n",
            "        -4.2598e+00, -2.2128e+00, -1.9964e+00, -1.5681e+00, -4.9878e+00,\n",
            "         2.5937e+00, -5.0874e+00,  2.3548e+00,  4.6524e+00,  5.9396e+00,\n",
            "        -2.7446e+00,  3.2465e+00, -3.8883e+00,  1.7568e+00,  7.1271e+00,\n",
            "         1.2255e-01, -5.5529e+00, -2.7263e-01,  2.9162e+00,  2.9832e+00,\n",
            "         6.9526e+00,  5.2108e+00, -5.9734e+00,  3.4276e+00,  2.0856e+00,\n",
            "         8.0911e-01, -4.1844e+00,  4.3699e+00, -5.5120e+00, -6.5455e-03,\n",
            "         1.1915e+00,  2.2681e+00], grad_fn=<SubBackward0>)\n",
            "PCA preference prediction accuracy 83.87096524238586 %\n"
          ]
        }
      ],
      "source": [
        "pca_acc = pref_prediction_accuracy(pca_rel, test_X, test_area_comps).item()\n",
        "print(f\"PCA preference prediction accuracy {100*pca_acc} %\")"
      ]
    },
    {
      "cell_type": "code",
      "execution_count": 60,
      "metadata": {},
      "outputs": [
        {
          "name": "stdout",
          "output_type": "stream",
          "text": [
            "difference in posterior util mean:  tensor([-1.4227e-20,  2.7318e-23,  3.1080e-13,  6.2743e-16,  3.4705e-15,\n",
            "        -8.9916e-14,  4.3973e-23, -1.6232e-13, -1.6236e-13, -2.8703e-15,\n",
            "        -2.4877e-13, -7.4375e-15, -1.5526e-13, -6.5330e-14,  2.0794e-17,\n",
            "         3.8041e-15,  3.2476e-13, -1.0321e-14, -1.7285e-13, -2.3151e-13,\n",
            "         7.2877e-15, -2.6215e-23, -3.1942e-15, -7.5955e-14,  7.5857e-15,\n",
            "        -2.3818e-13,  5.8243e-18, -1.6936e-13, -2.2766e-13,  1.3726e-17,\n",
            "        -1.6239e-13,  1.4700e-17, -2.5708e-19, -3.0408e-13, -8.2937e-14,\n",
            "         1.0291e-14, -8.6425e-14,  2.2454e-13,  2.4181e-13,  2.5228e-13,\n",
            "        -1.9886e-17,  6.9823e-18, -1.6233e-13,  2.3090e-13,  7.9443e-14,\n",
            "         7.5957e-14, -1.6583e-13, -4.0160e-20,  1.6586e-13,  7.4733e-15,\n",
            "         2.4178e-13,  3.6439e-15,  7.9446e-14,  5.9172e-19,  1.5160e-13,\n",
            "         7.6443e-23, -1.5887e-13,  8.2938e-14, -1.6587e-13, -2.2072e-13,\n",
            "         1.3555e-20,  3.9508e-15], grad_fn=<SubBackward0>)\n",
            "ST preference prediction accuracy 82.2580635547638 %\n"
          ]
        }
      ],
      "source": [
        "st_acc = pref_prediction_accuracy(st_rel, test_X, test_area_comps).item()\n",
        "print(f\"ST preference prediction accuracy {100*st_acc} %\")"
      ]
    },
    {
      "cell_type": "code",
      "execution_count": 61,
      "metadata": {},
      "outputs": [
        {
          "name": "stdout",
          "output_type": "stream",
          "text": [
            "13 pairs out of 62 are the same area\n"
          ]
        }
      ],
      "source": [
        "# However, I am concerned that the squares dataset is too homogeneous. \n",
        "# Here I check how many pairs in the test data are actually the same area value.\n",
        "# It's hard to evaluate prediction accuracy of our model for these samples\n",
        "# because the difference is almost never exactly zero.\n",
        "\n",
        "ties = 0\n",
        "for i in range(len(test_area_comps)):\n",
        "    if all(areas_shuffled[2*i] == areas_shuffled[2*i+1]):\n",
        "        ties += 1\n",
        "print(f\"{ties} pairs out of {len(test_area_comps)} are the same area\")"
      ]
    },
    {
      "cell_type": "code",
      "execution_count": null,
      "metadata": {},
      "outputs": [],
      "source": [
        "# TODO: one way around this is perhaps to generate rectangle instead of squares, so that we have more variation in area values. "
      ]
    }
  ],
  "metadata": {
    "bento_stylesheets": {
      "bento/extensions/flow/main.css": true,
      "bento/extensions/kernel_selector/main.css": true,
      "bento/extensions/kernel_ui/main.css": true,
      "bento/extensions/new_kernel/main.css": true,
      "bento/extensions/system_usage/main.css": true,
      "bento/extensions/theme/main.css": true
    },
    "captumWidgetMessage": {},
    "dataExplorerConfig": {},
    "disseminate_notebook_id": {
      "notebook_id": "310500951141609"
    },
    "disseminate_notebook_info": {
      "bento_version": "20220213-210538",
      "data_retention_policy": "default",
      "description": "",
      "hide_code": false,
      "hipster_group": "",
      "kernel_build_info": {
        "deps": [
          "//ae:notebook",
          "//ax/ax/utils/tutorials:tutorial_utils"
        ],
        "external_deps": [],
        "kernel_version": "1206"
      },
      "no_uii": true,
      "notebook_number": "1613503",
      "others_can_edit": false,
      "reviewers": "",
      "revision_id": "668025524236855",
      "tags": "",
      "tasks": "",
      "title": "QE_Lib_ae_ig_feed_recs_sourcing_quickbo_relax_media_age_analysis_b2"
    },
    "interpreter": {
      "hash": "f178f7686bb85c5c6e141a85fd4c17c3082d63b89f6cfaecdf98c22c0047a219"
    },
    "kernelspec": {
      "display_name": "Python 3.9.15 ('bope_pca')",
      "language": "python",
      "name": "python3"
    },
    "language_info": {
      "codemirror_mode": {
        "name": "ipython",
        "version": 3
      },
      "file_extension": ".py",
      "mimetype": "text/x-python",
      "name": "python",
      "nbconvert_exporter": "python",
      "pygments_lexer": "ipython3",
      "version": "3.9.15"
    },
    "last_base_url": "https://devvm10848.prn0.facebook.com:8090/",
    "last_kernel_id": "33f76217-c3bb-4b3c-be64-89415980d364",
    "last_msg_id": "33163635-cf61d68d283ac2575827f13f_324",
    "last_server_session_id": "e5067c57-e1d5-4267-b323-2335fc1b1e29",
    "outputWidgetContext": {}
  },
  "nbformat": 4,
  "nbformat_minor": 2
}
