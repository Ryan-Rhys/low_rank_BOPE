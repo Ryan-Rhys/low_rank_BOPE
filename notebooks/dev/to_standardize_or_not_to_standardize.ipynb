{
 "cells": [
  {
   "attachments": {},
   "cell_type": "markdown",
   "metadata": {},
   "source": [
    "# TLDR\n",
    "\n",
    "The goal of this notebook is to understand how standardizing (or not) affects the outcome model fitting performance"
   ]
  },
  {
   "cell_type": "code",
   "execution_count": 3,
   "metadata": {},
   "outputs": [
    {
     "name": "stdout",
     "output_type": "stream",
     "text": [
      "The autoreload extension is already loaded. To reload it, use:\n",
      "  %reload_ext autoreload\n"
     ]
    }
   ],
   "source": [
    "%load_ext autoreload\n",
    "%autoreload 2\n",
    "\n",
    "import os, sys\n",
    "# file_dir = os.path.dirname(__file__)\n",
    "# sys.path.append(file_dir)\n",
    "sys.path.append('/home/yz685/low_rank_BOPE')\n",
    "sys.path.append('/home/yz685/low_rank_BOPE/low_rank_BOPE')\n",
    "import warnings\n",
    "import math\n",
    "import matplotlib.pyplot as plt\n",
    "import numpy as np\n",
    "import scipy.linalg\n",
    "import torch\n",
    "from torch import Tensor\n",
    "from tqdm.auto import trange\n",
    "\n",
    "from botorch.models import SingleTaskGP\n",
    "from botorch.models.transforms import Standardize\n",
    "from botorch.utils.sampling import draw_sobol_samples\n",
    "\n",
    "from gpytorch import ExactMarginalLogLikelihood\n",
    "from gpytorch.constraints import GreaterThan\n",
    "from gpytorch.likelihoods import GaussianLikelihood\n",
    "from gpytorch.priors import GammaPrior\n",
    "from low_rank_BOPE.bope_class import BopeExperiment\n",
    "from low_rank_BOPE.bope_class_retraining import RetrainingBopeExperiment\n",
    "from low_rank_BOPE.test_problems.shapes import AreaUtil, Image\n",
    "from low_rank_BOPE.test_problems.synthetic_problem import make_controlled_coeffs, make_problem, generate_principal_axes, PCATestProblem, LinearUtil\n",
    "from low_rank_BOPE.src.diagnostics import check_outcome_model_fit, check_util_model_fit\n",
    "from low_rank_BOPE.src.transforms import fit_pca\n",
    "from low_rank_BOPE.test_problems.car_problems import problem_setup_augmented\n"
   ]
  },
  {
   "attachments": {},
   "cell_type": "markdown",
   "metadata": {},
   "source": [
    "## First try on synthetic low-rank problems"
   ]
  },
  {
   "cell_type": "code",
   "execution_count": 7,
   "metadata": {},
   "outputs": [],
   "source": [
    "full_axes = generate_principal_axes(\n",
    "    output_dim=20,\n",
    "    num_axes=20,\n",
    "    dtype=torch.double,\n",
    "    seed=0\n",
    ")\n",
    "true_axes = full_axes[:3]\n",
    "scaling = [1,2,3]"
   ]
  },
  {
   "cell_type": "code",
   "execution_count": 8,
   "metadata": {},
   "outputs": [],
   "source": [
    "\n",
    "# default config\n",
    "config = {\n",
    "    \"input_dim\": 2,\n",
    "    \"outcome_dim\": 20,\n",
    "    \"PC_noise_level\": 0,\n",
    "    \"noise_std\": 0.01,\n",
    "    \"num_initial_samples\": 32,\n",
    "    \"true_axes\": true_axes,\n",
    "    \"PC_lengthscales\": [0.5]*3,\n",
    "    \"PC_scaling_factors\": scaling,\n",
    "    \"dtype\": torch.double,\n",
    "    \"problem_seed\": 1234,\n",
    "}\n",
    "\n",
    "np.random.seed(config[\"problem_seed\"])\n",
    "torch.manual_seed(config[\"problem_seed\"])\n",
    "torch.autograd.set_detect_anomaly(True)\n",
    "\n",
    "initial_X = torch.randn(\n",
    "    (config[\"num_initial_samples\"], config[\"input_dim\"]), dtype=config[\"dtype\"])\n",
    "\n",
    "obj_indices = list(range(config[\"outcome_dim\"]))\n",
    "cons_indices = []\n",
    "\n",
    "if len(config['true_axes'].shape) == 1:\n",
    "    config['true_axes'] = config['true_axes'].unsqueeze(0)\n",
    "\n"
   ]
  },
  {
   "cell_type": "code",
   "execution_count": 9,
   "metadata": {},
   "outputs": [
    {
     "name": "stderr",
     "output_type": "stream",
     "text": [
      "/home/yz685/anaconda3/envs/bope_pca/lib/python3.9/site-packages/botorch/test_functions/base.py:39: UserWarning: To copy construct from a tensor, it is recommended to use sourceTensor.clone().detach() or sourceTensor.clone().detach().requires_grad_(True), rather than torch.tensor(sourceTensor).\n",
      "  \"bounds\", torch.tensor(self._bounds, dtype=torch.float).transpose(-1, -2)\n",
      "/home/yz685/anaconda3/envs/bope_pca/lib/python3.9/site-packages/botorch/models/utils/assorted.py:173: InputDataWarning: Input data is not contained to the unit cube. Please consider min-max scaling the input data.\n",
      "  warnings.warn(msg, InputDataWarning)\n",
      "/home/yz685/anaconda3/envs/bope_pca/lib/python3.9/site-packages/botorch/models/utils/assorted.py:201: InputDataWarning: Input data is not standardized. Please consider scaling the input to zero mean and unit variance.\n",
      "  warnings.warn(msg, InputDataWarning)\n"
     ]
    }
   ],
   "source": [
    "# @Jerry: this part is very slow\n",
    "problem = PCATestProblem(\n",
    "    opt_config=(obj_indices, cons_indices),\n",
    "    initial_X=initial_X,\n",
    "    bounds=Tensor([[0, 1]] * config[\"input_dim\"]),\n",
    "    true_axes=config['true_axes'],\n",
    "    noise_std=config[\"noise_std\"],\n",
    "    PC_lengthscales=Tensor(config[\"PC_lengthscales\"]),\n",
    "    PC_scaling_factors=Tensor(config[\"PC_scaling_factors\"]),\n",
    "    dtype=torch.double,\n",
    ")"
   ]
  },
  {
   "cell_type": "code",
   "execution_count": 7,
   "metadata": {},
   "outputs": [
    {
     "data": {
      "text/plain": [
       "PCATestProblem(\n",
       "  (gen_model_PC): SingleTaskGP(\n",
       "    (likelihood): GaussianLikelihood(\n",
       "      (noise_covar): HomoskedasticNoise(\n",
       "        (noise_prior): GammaPrior()\n",
       "        (raw_noise_constraint): GreaterThan(1.000E-04)\n",
       "      )\n",
       "    )\n",
       "    (mean_module): ConstantMean()\n",
       "    (covar_module): ScaleKernel(\n",
       "      (base_kernel): MaternKernel(\n",
       "        (lengthscale_prior): GammaPrior()\n",
       "        (raw_lengthscale_constraint): Positive()\n",
       "      )\n",
       "      (outputscale_prior): GammaPrior()\n",
       "      (raw_outputscale_constraint): Positive()\n",
       "    )\n",
       "  )\n",
       ")"
      ]
     },
     "execution_count": 7,
     "metadata": {},
     "output_type": "execute_result"
    }
   ],
   "source": [
    "problem"
   ]
  },
  {
   "cell_type": "code",
   "execution_count": 10,
   "metadata": {},
   "outputs": [],
   "source": [
    "test_X = torch.randn((100, 2), dtype=torch.double)\n",
    "test_Y = problem(test_X)\n"
   ]
  },
  {
   "cell_type": "code",
   "execution_count": 11,
   "metadata": {},
   "outputs": [],
   "source": [
    "beta = make_controlled_coeffs(\n",
    "    full_axes=full_axes,\n",
    "    latent_dim=3,\n",
    "    alpha=1,\n",
    "    n_reps = 1,\n",
    "    dtype=torch.double\n",
    ").transpose(-2, -1)\n",
    "\n",
    "util_func = LinearUtil(beta=beta)"
   ]
  },
  {
   "cell_type": "code",
   "execution_count": 12,
   "metadata": {},
   "outputs": [
    {
     "name": "stdout",
     "output_type": "stream",
     "text": [
      "BopeExperiment settings:  {'pca_var_threshold': 0.95, 'initial_experimentation_batch': 16, 'n_check_post_mean': 20, 'every_n_comps': 3, 'verbose': True, 'dtype': torch.float64, 'num_restarts': 20, 'raw_samples': 128, 'batch_limit': 4, 'sampler_num_outcome_samples': 64, 'maxiter': 1000, 'initial_latent_dim': None, 'min_stdv': 100000, 'true_axes': None, 'standardize': True}\n",
      "self.methods,  ['uwpca']\n",
      "True utility landscape:  (-0.8557261109931735, 1.902402839473068, -5.314487096447218, 1.5261655025016472, tensor([-2.4954, -0.2233,  0.8608], dtype=torch.float64))\n"
     ]
    }
   ],
   "source": [
    "exp = RetrainingBopeExperiment(\n",
    "    problem = problem,\n",
    "    util_func = util_func,\n",
    "    methods = [\"uwpca\"],\n",
    "    pe_strategies=[\"EUBO-zeta\"],\n",
    "    trial_idx=0,\n",
    "    output_path='/home/yz685/low_rank_BOPE/experiments/synthetic/'\n",
    ")"
   ]
  },
  {
   "cell_type": "code",
   "execution_count": 13,
   "metadata": {},
   "outputs": [
    {
     "data": {
      "text/plain": [
       "True"
      ]
     },
     "execution_count": 13,
     "metadata": {},
     "output_type": "execute_result"
    }
   ],
   "source": [
    "exp.standardize"
   ]
  },
  {
   "cell_type": "code",
   "execution_count": 14,
   "metadata": {},
   "outputs": [
    {
     "name": "stderr",
     "output_type": "stream",
     "text": [
      "/home/yz685/low_rank_BOPE/low_rank_BOPE/src/transforms.py:755: UserWarning: To copy construct from a tensor, it is recommended to use sourceTensor.clone().detach() or sourceTensor.clone().detach().requires_grad_(True), rather than torch.tensor(sourceTensor).\n",
      "  pca_axes = torch.tensor(torch.transpose(V[:, : num_axes], -2, -1), dtype = torch.double)\n"
     ]
    }
   ],
   "source": [
    "exp.generate_random_experiment_data(32)\n",
    "exp.compute_projections(\"uwpca\", \"EUBO-zeta\")"
   ]
  },
  {
   "cell_type": "code",
   "execution_count": 15,
   "metadata": {},
   "outputs": [
    {
     "name": "stdout",
     "output_type": "stream",
     "text": [
      "Fitting outcome model using uwpca and EUBO-zeta\n"
     ]
    }
   ],
   "source": [
    "exp.fit_outcome_model(\"uwpca\",\"EUBO-zeta\")"
   ]
  },
  {
   "cell_type": "code",
   "execution_count": null,
   "metadata": {},
   "outputs": [
    {
     "data": {
      "text/plain": [
       "tensor(0.1569, dtype=torch.float64, grad_fn=<DivBackward0>)"
      ]
     },
     "execution_count": 25,
     "metadata": {},
     "output_type": "execute_result"
    }
   ],
   "source": [
    "# the smaller the better the fit is\n",
    "check_outcome_model_fit(\n",
    "    outcome_model = exp.outcome_models_dict[(\"uwpca\",\"EUBO-zeta\")],\n",
    "    problem=problem,\n",
    "    n_test=1024\n",
    ")"
   ]
  },
  {
   "cell_type": "code",
   "execution_count": null,
   "metadata": {},
   "outputs": [
    {
     "name": "stderr",
     "output_type": "stream",
     "text": [
      "/home/yz685/low_rank_BOPE/low_rank_BOPE/src/transforms.py:755: UserWarning: To copy construct from a tensor, it is recommended to use sourceTensor.clone().detach() or sourceTensor.clone().detach().requires_grad_(True), rather than torch.tensor(sourceTensor).\n",
      "  pca_axes = torch.tensor(torch.transpose(V[:, : num_axes], -2, -1), dtype = torch.double)\n"
     ]
    },
    {
     "name": "stdout",
     "output_type": "stream",
     "text": [
      "Fitting outcome model using uwpca and EUBO-zeta\n"
     ]
    },
    {
     "data": {
      "text/plain": [
       "tensor(0.0035, dtype=torch.float64, grad_fn=<DivBackward0>)"
      ]
     },
     "execution_count": 26,
     "metadata": {},
     "output_type": "execute_result"
    }
   ],
   "source": [
    "# now do not standardize and check model fit again\n",
    "\n",
    "exp.standardize=False\n",
    "exp.compute_projections(\"uwpca\", \"EUBO-zeta\")\n",
    "exp.fit_outcome_model(\"uwpca\",\"EUBO-zeta\")\n",
    "check_outcome_model_fit(\n",
    "    outcome_model = exp.outcome_models_dict[(\"uwpca\",\"EUBO-zeta\")],\n",
    "    problem=problem,\n",
    "    n_test=1024\n",
    ")\n",
    "\n",
    "# if not standardizing, model fit is much better"
   ]
  },
  {
   "attachments": {},
   "cell_type": "markdown",
   "metadata": {},
   "source": [
    "## Further try on car problems"
   ]
  },
  {
   "cell_type": "code",
   "execution_count": 4,
   "metadata": {},
   "outputs": [
    {
     "name": "stdout",
     "output_type": "stream",
     "text": [
      "carcabdesign_7d9d_piecewiselinear_45, noisy: False, noise_std: 0\n",
      "Generated outcome projection matrix:  tensor([[-0.0883,  0.3420,  0.4112,  1.0051, -0.1117, -0.5988, -0.0982, -0.3511,\n",
      "          0.7209, -0.2169, -1.0427,  0.2448, -0.9887, -0.5196,  0.6585,  0.6406,\n",
      "          0.7839,  0.6573, -1.6348, -0.6108,  0.6003, -0.8769,  0.9649, -0.1926,\n",
      "          0.3745,  0.0933,  0.3025,  1.3122, -0.5610,  0.1900, -0.1660,  0.9107,\n",
      "         -1.7856, -0.9354,  0.8843,  1.5818,  0.1096,  0.1010, -0.1656,  0.3211,\n",
      "          0.1205,  0.5147, -0.0914,  2.3645, -0.4103],\n",
      "        [ 0.5155, -1.1730, -0.7426,  0.5920,  0.0815, -0.4143,  1.1540,  0.1156,\n",
      "          0.9368,  0.7956, -0.0108, -0.0245, -0.3893, -0.4196, -0.4357,  0.3146,\n",
      "         -1.7189,  0.9152, -0.2367,  2.4031, -0.7140, -2.5363,  0.3875, -1.8925,\n",
      "         -1.0344, -0.2548, -0.3988, -1.6678,  0.5487,  1.0110,  0.4060, -0.1338,\n",
      "          0.5337, -1.1412, -1.7431,  1.1547, -0.8211, -1.1050,  0.9516,  0.6811,\n",
      "         -1.9544,  0.3775,  0.1086, -1.2239, -1.2696],\n",
      "        [ 0.2177,  0.7182, -1.9564, -0.3235, -2.3268,  2.1542,  1.1963, -1.1541,\n",
      "         -0.5517, -0.7422, -0.2634, -0.0380,  2.7414, -0.8189,  0.2533,  1.1208,\n",
      "         -2.6281,  2.6241, -0.2084,  0.7044,  0.8678, -0.1620,  0.4453, -2.1023,\n",
      "         -0.1272,  0.8530,  0.2553,  2.2304, -1.8972, -1.3312,  1.2750,  1.9769,\n",
      "         -0.8920,  0.3948,  1.5796,  0.8429,  0.7830, -2.2847,  0.6437, -1.1116,\n",
      "         -1.1100,  0.5489,  1.0657, -2.1299, -0.8338],\n",
      "        [-1.1267,  0.2138, -0.9391,  1.8530, -0.6568,  1.3898, -0.3838,  0.6859,\n",
      "         -0.1445, -1.2224,  1.3125, -1.3691, -1.5614,  0.1027, -0.2116,  1.0820,\n",
      "          1.3977, -0.6515, -2.7029, -1.2557, -0.1469, -1.0993, -0.6189, -1.3170,\n",
      "          0.1482,  0.4242,  0.0113, -0.1561, -0.2646, -0.6010, -0.7107, -0.7554,\n",
      "          0.3000, -0.5055,  0.4849,  0.4218, -1.4143, -1.7708, -1.3911, -0.6966,\n",
      "          0.5278,  1.2407, -1.4098,  0.2537, -0.9645],\n",
      "        [ 1.0540, -0.2384, -1.0347, -0.9500,  1.2498, -0.5520, -0.1499, -0.1109,\n",
      "         -0.2682,  0.2671, -0.1515,  0.1905,  0.5334,  0.1086, -0.5822, -0.1940,\n",
      "         -1.0266,  0.0232,  0.5379,  1.0873,  0.2572, -1.2646,  0.0272, -0.2240,\n",
      "          1.0957, -0.5858,  0.5649,  0.4201,  1.3380,  0.2429,  0.1854,  0.4013,\n",
      "          0.4133, -1.5735,  1.9391, -1.4382, -0.6941,  0.2998, -0.3106, -0.5774,\n",
      "         -3.0054,  1.0056,  0.7402,  0.2800, -0.5957],\n",
      "        [ 1.1236,  1.3364,  1.5376, -0.0476,  0.5452, -0.8588,  1.6497, -0.7702,\n",
      "         -0.4181, -1.3242,  1.2251, -0.9399,  0.5683, -0.1851,  1.5136, -1.0931,\n",
      "          1.3903, -0.7075,  0.6470, -0.2146,  0.7057,  0.5793, -0.7901,  0.3582,\n",
      "          1.9651,  0.6763, -0.0469, -0.1313,  1.1156,  1.1967,  0.8112,  0.8187,\n",
      "         -0.4489,  0.4641, -1.9516,  0.4730, -0.6609,  0.0210,  0.7888,  0.3594,\n",
      "         -0.0747, -0.2444,  1.9585, -0.4683,  0.5171],\n",
      "        [-0.8502,  1.2777,  0.3455, -0.1288,  0.8979,  0.7601, -1.2607, -0.6928,\n",
      "         -2.6623, -0.2536, -0.8115, -1.3284, -0.3341,  0.4249,  0.7110, -1.4895,\n",
      "          0.9100,  1.8964, -1.2514,  0.2640,  1.3029, -3.1168, -1.0221,  0.8539,\n",
      "         -0.6291,  1.9259,  0.2318, -1.2458,  0.6379, -0.1257,  0.1456, -1.0549,\n",
      "          1.1768,  0.3935,  0.3948,  0.6753,  0.6626,  0.1840,  1.0842, -1.7725,\n",
      "          0.7909, -0.5478, -1.7270, -1.6427, -0.6984],\n",
      "        [-0.1547,  2.0936, -1.1705, -0.2923,  0.5296,  0.1168,  0.5934, -3.2493,\n",
      "         -0.0359, -0.5064, -0.0589, -1.5105, -0.8647,  0.5133, -1.2428,  1.3560,\n",
      "         -0.5434,  0.2296,  0.2856,  2.0413,  0.0924, -1.1922,  0.2616, -0.3620,\n",
      "          0.4134,  0.6806,  0.7883, -0.6837, -0.2355,  0.4484,  1.1172, -0.1329,\n",
      "          1.2810,  0.2806, -0.1285,  2.6586,  0.5030,  0.6856, -0.0373, -0.7780,\n",
      "          0.3542,  2.1194,  1.3422,  0.9737, -0.7122],\n",
      "        [-1.3147, -2.4181, -0.2492, -0.0843, -0.4243, -0.4158,  1.2055, -0.0280,\n",
      "         -0.6393, -0.3233,  1.6866, -0.8869,  0.8044, -0.4263,  0.2931, -0.0221,\n",
      "          0.9633,  1.8851,  1.3776,  0.7027,  0.6226,  1.9097,  0.1219,  0.4666,\n",
      "          0.5811,  1.3719,  0.1342, -0.6658, -0.8749,  0.7096,  0.7857,  2.2241,\n",
      "         -0.4752,  1.6231,  0.5466,  0.6758, -0.1547,  0.2732,  0.0119, -0.6151,\n",
      "          0.7515, -2.1979,  1.2712, -1.1232, -0.4143]], dtype=torch.float64)\n",
      "BopeExperiment settings:  {'pca_var_threshold': 0.95, 'initial_experimentation_batch': 16, 'n_check_post_mean': 20, 'every_n_comps': 3, 'verbose': True, 'dtype': torch.float64, 'num_restarts': 20, 'raw_samples': 128, 'batch_limit': 4, 'sampler_num_outcome_samples': 64, 'maxiter': 1000, 'initial_latent_dim': None, 'min_stdv': 100000, 'true_axes': None, 'standardize': True}\n",
      "self.methods,  ['uwpca']\n"
     ]
    },
    {
     "name": "stderr",
     "output_type": "stream",
     "text": [
      "/home/yz685/anaconda3/envs/bope_pca/lib/python3.9/site-packages/botorch/test_functions/base.py:39: UserWarning: To copy construct from a tensor, it is recommended to use sourceTensor.clone().detach() or sourceTensor.clone().detach().requires_grad_(True), rather than torch.tensor(sourceTensor).\n",
      "  \"bounds\", torch.tensor(self._bounds, dtype=torch.float).transpose(-1, -2)\n"
     ]
    },
    {
     "name": "stdout",
     "output_type": "stream",
     "text": [
      "True utility landscape:  (-41.2332054560695, 2.2286759493579233, -48.29236791005685, -34.45658870292537, tensor([-42.7027, -41.1230, -39.6802], dtype=torch.float64))\n"
     ]
    }
   ],
   "source": [
    "from low_rank_BOPE.test_problems.car_problems import problem_setup_augmented\n",
    "\n",
    "# original 9D outcome raised to 45D\n",
    "input_dim, outcome_dim, problem, _, util_func, _, _ = problem_setup_augmented(\n",
    "    \"carcabdesign_7d9d_piecewiselinear_45\", augmented_dims_noise=0.01\n",
    ")\n",
    "\n",
    "output_path = f\"/home/yz685/low_rank_BOPE/experiments/cars/test/\"\n",
    "\n",
    "exp = RetrainingBopeExperiment(\n",
    "    problem, \n",
    "    util_func, \n",
    "    methods = [\"uwpca\"],\n",
    "    pe_strategies=[\"EUBO-zeta\"],\n",
    "    trial_idx=0,\n",
    "    output_path=output_path\n",
    ")"
   ]
  },
  {
   "cell_type": "code",
   "execution_count": 5,
   "metadata": {},
   "outputs": [
    {
     "name": "stderr",
     "output_type": "stream",
     "text": [
      "/home/yz685/low_rank_BOPE/low_rank_BOPE/src/transforms.py:755: UserWarning: To copy construct from a tensor, it is recommended to use sourceTensor.clone().detach() or sourceTensor.clone().detach().requires_grad_(True), rather than torch.tensor(sourceTensor).\n",
      "  pca_axes = torch.tensor(torch.transpose(V[:, : num_axes], -2, -1), dtype = torch.double)\n",
      "/home/yz685/anaconda3/envs/bope_pca/lib/python3.9/site-packages/botorch/models/utils/assorted.py:173: InputDataWarning: Input data is not contained to the unit cube. Please consider min-max scaling the input data.\n",
      "  warnings.warn(msg, InputDataWarning)\n"
     ]
    },
    {
     "name": "stdout",
     "output_type": "stream",
     "text": [
      "Fitting outcome model using uwpca and EUBO-zeta\n"
     ]
    },
    {
     "data": {
      "text/plain": [
       "tensor(14.6516, dtype=torch.float64, grad_fn=<DivBackward0>)"
      ]
     },
     "execution_count": 5,
     "metadata": {},
     "output_type": "execute_result"
    }
   ],
   "source": [
    "exp.generate_random_experiment_data(32)\n",
    "exp.compute_projections(\"uwpca\", \"EUBO-zeta\")\n",
    "exp.fit_outcome_model(\"uwpca\",\"EUBO-zeta\")\n",
    "check_outcome_model_fit(\n",
    "    outcome_model = exp.outcome_models_dict[(\"uwpca\",\"EUBO-zeta\")],\n",
    "    problem=problem,\n",
    "    n_test=1024\n",
    ")\n",
    "\n"
   ]
  },
  {
   "cell_type": "code",
   "execution_count": 6,
   "metadata": {},
   "outputs": [
    {
     "name": "stderr",
     "output_type": "stream",
     "text": [
      "/home/yz685/low_rank_BOPE/low_rank_BOPE/src/transforms.py:755: UserWarning: To copy construct from a tensor, it is recommended to use sourceTensor.clone().detach() or sourceTensor.clone().detach().requires_grad_(True), rather than torch.tensor(sourceTensor).\n",
      "  pca_axes = torch.tensor(torch.transpose(V[:, : num_axes], -2, -1), dtype = torch.double)\n",
      "/home/yz685/anaconda3/envs/bope_pca/lib/python3.9/site-packages/botorch/models/utils/assorted.py:173: InputDataWarning: Input data is not contained to the unit cube. Please consider min-max scaling the input data.\n",
      "  warnings.warn(msg, InputDataWarning)\n"
     ]
    },
    {
     "name": "stdout",
     "output_type": "stream",
     "text": [
      "Fitting outcome model using uwpca and EUBO-zeta\n"
     ]
    },
    {
     "data": {
      "text/plain": [
       "tensor(16.0258, dtype=torch.float64, grad_fn=<DivBackward0>)"
      ]
     },
     "execution_count": 6,
     "metadata": {},
     "output_type": "execute_result"
    }
   ],
   "source": [
    "exp.standardize=False\n",
    "exp.compute_projections(\"uwpca\", \"EUBO-zeta\")\n",
    "exp.fit_outcome_model(\"uwpca\",\"EUBO-zeta\")\n",
    "check_outcome_model_fit(\n",
    "    outcome_model = exp.outcome_models_dict[(\"uwpca\",\"EUBO-zeta\")],\n",
    "    problem=problem,\n",
    "    n_test=1024\n",
    ")"
   ]
  },
  {
   "cell_type": "code",
   "execution_count": 4,
   "metadata": {},
   "outputs": [
    {
     "name": "stdout",
     "output_type": "stream",
     "text": [
      "carcabdesign_7d9d_piecewiselinear_72, noisy: False, noise_std: 0\n",
      "Generated outcome projection matrix:  tensor([[-0.0883,  0.3420,  0.4112,  1.0051, -0.1117, -0.5988, -0.0982, -0.3511,\n",
      "          0.7209, -0.2169, -1.0427,  0.2448, -0.9887, -0.5196,  0.6585,  0.6406,\n",
      "          0.7839,  0.6573, -1.6348, -0.6108,  0.6003, -0.8769,  0.9649, -0.1926,\n",
      "          0.3745,  0.0933,  0.3025,  1.3122, -0.5610,  0.1900, -0.1660,  0.9107,\n",
      "         -1.7856, -0.9354,  0.8843,  1.5818,  0.1096,  0.1010, -0.1656,  0.3211,\n",
      "          0.1205,  0.5147, -0.0914,  2.3645, -0.4103,  0.5155, -1.1730, -0.7426,\n",
      "          0.5920,  0.0815, -0.4143,  1.1540,  0.1156,  0.9368,  0.7956, -0.0108,\n",
      "         -0.0245, -0.3893, -0.4196, -0.4357,  0.3146, -1.7189,  0.9152, -0.2367,\n",
      "          2.4031, -0.7140, -2.5363,  0.3875, -1.8925, -1.0344, -0.2548, -0.3988],\n",
      "        [-1.6678,  0.5487,  1.0110,  0.4060, -0.1338,  0.5337, -1.1412, -1.7431,\n",
      "          1.1547, -0.8211, -1.1050,  0.9516,  0.6811, -1.9544,  0.3775,  0.1086,\n",
      "         -1.2239, -1.2696,  0.2177,  0.7182, -1.9564, -0.3235, -2.3268,  2.1542,\n",
      "          1.1963, -1.1541, -0.5517, -0.7422, -0.2634, -0.0380,  2.7414, -0.8189,\n",
      "          0.2533,  1.1208, -2.6281,  2.6241, -0.2084,  0.7044,  0.8678, -0.1620,\n",
      "          0.4453, -2.1023, -0.1272,  0.8530,  0.2553,  2.2304, -1.8972, -1.3312,\n",
      "          1.2750,  1.9769, -0.8920,  0.3948,  1.5796,  0.8429,  0.7830, -2.2847,\n",
      "          0.6437, -1.1116, -1.1100,  0.5489,  1.0657, -2.1299, -0.8338, -1.1267,\n",
      "          0.2138, -0.9391,  1.8530, -0.6568,  1.3898, -0.3838,  0.6859, -0.1445],\n",
      "        [-1.2224,  1.3125, -1.3691, -1.5614,  0.1027, -0.2116,  1.0820,  1.3977,\n",
      "         -0.6515, -2.7029, -1.2557, -0.1469, -1.0993, -0.6189, -1.3170,  0.1482,\n",
      "          0.4242,  0.0113, -0.1561, -0.2646, -0.6010, -0.7107, -0.7554,  0.3000,\n",
      "         -0.5055,  0.4849,  0.4218, -1.4143, -1.7708, -1.3911, -0.6966,  0.5278,\n",
      "          1.2407, -1.4098,  0.2537, -0.9645,  1.0540, -0.2384, -1.0347, -0.9500,\n",
      "          1.2498, -0.5520, -0.1499, -0.1109, -0.2682,  0.2671, -0.1515,  0.1905,\n",
      "          0.5334,  0.1086, -0.5822, -0.1940, -1.0266,  0.0232,  0.5379,  1.0873,\n",
      "          0.2572, -1.2646,  0.0272, -0.2240,  1.0957, -0.5858,  0.5649,  0.4201,\n",
      "          1.3380,  0.2429,  0.1854,  0.4013,  0.4133, -1.5735,  1.9391, -1.4382],\n",
      "        [-0.6941,  0.2998, -0.3106, -0.5774, -3.0054,  1.0056,  0.7402,  0.2800,\n",
      "         -0.5957,  1.1236,  1.3364,  1.5376, -0.0476,  0.5452, -0.8588,  1.6497,\n",
      "         -0.7702, -0.4181, -1.3242,  1.2251, -0.9399,  0.5683, -0.1851,  1.5136,\n",
      "         -1.0931,  1.3903, -0.7075,  0.6470, -0.2146,  0.7057,  0.5793, -0.7901,\n",
      "          0.3582,  1.9651,  0.6763, -0.0469, -0.1313,  1.1156,  1.1967,  0.8112,\n",
      "          0.8187, -0.4489,  0.4641, -1.9516,  0.4730, -0.6609,  0.0210,  0.7888,\n",
      "          0.3594, -0.0747, -0.2444,  1.9585, -0.4683,  0.5171, -0.8502,  1.2777,\n",
      "          0.3455, -0.1288,  0.8979,  0.7601, -1.2607, -0.6928, -2.6623, -0.2536,\n",
      "         -0.8115, -1.3284, -0.3341,  0.4249,  0.7110, -1.4895,  0.9100,  1.8964],\n",
      "        [-1.2514,  0.2640,  1.3029, -3.1168, -1.0221,  0.8539, -0.6291,  1.9259,\n",
      "          0.2318, -1.2458,  0.6379, -0.1257,  0.1456, -1.0549,  1.1768,  0.3935,\n",
      "          0.3948,  0.6753,  0.6626,  0.1840,  1.0842, -1.7725,  0.7909, -0.5478,\n",
      "         -1.7270, -1.6427, -0.6984, -0.1547,  2.0936, -1.1705, -0.2923,  0.5296,\n",
      "          0.1168,  0.5934, -3.2493, -0.0359, -0.5064, -0.0589, -1.5105, -0.8647,\n",
      "          0.5133, -1.2428,  1.3560, -0.5434,  0.2296,  0.2856,  2.0413,  0.0924,\n",
      "         -1.1922,  0.2616, -0.3620,  0.4134,  0.6806,  0.7883, -0.6837, -0.2355,\n",
      "          0.4484,  1.1172, -0.1329,  1.2810,  0.2806, -0.1285,  2.6586,  0.5030,\n",
      "          0.6856, -0.0373, -0.7780,  0.3542,  2.1194,  1.3422,  0.9737, -0.7122],\n",
      "        [-1.3147, -2.4181, -0.2492, -0.0843, -0.4243, -0.4158,  1.2055, -0.0280,\n",
      "         -0.6393, -0.3233,  1.6866, -0.8869,  0.8044, -0.4263,  0.2931, -0.0221,\n",
      "          0.9633,  1.8851,  1.3776,  0.7027,  0.6226,  1.9097,  0.1219,  0.4666,\n",
      "          0.5811,  1.3719,  0.1342, -0.6658, -0.8749, -0.8122,  0.8199,  0.2908,\n",
      "         -0.0521, -0.6154,  0.9632, -1.0285,  0.8260,  0.3656, -1.3131, -0.1927,\n",
      "         -0.3964,  2.3408, -0.5646, -0.8161,  1.5852,  0.7096,  0.7857,  2.2241,\n",
      "          0.7601, -0.3547, -0.5048, -0.4255,  1.0504,  0.2732,  0.0119, -0.6151,\n",
      "         -0.7993, -1.9515,  0.6055,  0.7449, -0.8675,  1.2822, -0.6443, -0.5563,\n",
      "          0.4375,  0.0482, -0.2084,  1.7503, -1.2689,  0.5909,  2.3676, -1.1656],\n",
      "        [-0.6654,  0.9535, -1.3272, -0.0040,  0.3224,  0.4151,  0.1449,  2.4506,\n",
      "         -0.0948, -1.7761,  0.3968, -1.3931,  0.2538, -0.7244, -1.0467,  0.8562,\n",
      "          0.5358, -2.1413, -0.1204, -0.6420,  0.2983, -0.3563, -2.0459, -0.7149,\n",
      "         -0.0296, -1.0810,  0.9742, -2.5759,  0.0718, -0.0356, -0.7161, -0.6687,\n",
      "          0.6036, -0.0166, -0.1108,  0.0051, -1.3456,  0.2349,  0.6743, -1.1041,\n",
      "          0.2101, -0.3788, -0.5763,  1.0858, -0.9090,  2.0449, -1.0744, -0.1733,\n",
      "          2.0521, -1.4984, -0.0261,  0.4364, -1.0853,  0.1285,  0.7272,  0.4014,\n",
      "         -0.2714,  0.6559,  2.3769,  0.4974, -0.2867, -0.1876,  0.5387, -0.0507,\n",
      "         -0.4408, -0.8712, -0.1953, -0.1407,  0.8883, -0.1266,  0.6184, -2.6486],\n",
      "        [-0.9637, -2.2461, -2.0016,  0.3335,  0.1335,  0.8459,  0.0637,  1.9795,\n",
      "         -1.2692,  0.0261, -0.4758,  0.5511, -1.4325,  0.7739, -0.2571, -1.1803,\n",
      "          0.7141, -0.9709, -3.2170, -1.0374,  1.1907,  0.6993,  0.5437,  0.6855,\n",
      "          0.4453,  0.0795,  0.7781, -0.6271, -1.0922,  0.2493, -0.6824, -0.3890,\n",
      "         -0.4328,  0.7781,  1.1362,  0.5171, -0.0579,  0.2628,  0.8302, -0.1605,\n",
      "          1.5170, -0.6441,  0.3228,  0.9215,  0.9801, -0.8448, -0.4865,  1.2098,\n",
      "         -0.1419,  0.1868, -0.3558, -0.8850, -1.1209,  1.5982,  1.1349, -1.0179,\n",
      "          0.6172,  1.0194, -1.2705,  0.9640,  0.5856,  2.4162,  0.8090,  1.0618,\n",
      "          1.6138,  1.9414, -0.0646, -0.0701, -0.2879,  1.0629,  1.2632, -2.1652],\n",
      "        [-0.3412,  1.0595, -0.9088, -0.0186, -0.5368,  1.1212, -0.7080,  0.7070,\n",
      "          1.2348, -0.2418, -0.0826,  0.1379,  0.5679, -0.5668,  1.9967,  0.8581,\n",
      "         -0.7872, -0.7521, -1.9776,  0.0485, -0.2888,  0.8848, -1.6497, -1.5905,\n",
      "          0.0859, -0.8464,  0.5921,  0.1855, -0.4981,  1.5690,  0.4154,  0.3723,\n",
      "          0.5803, -1.1432,  0.5660, -0.6647,  0.5368,  0.6652, -0.0697, -1.3563,\n",
      "          1.3451, -0.6659, -0.1036, -0.6391,  1.6066,  0.1488,  1.2388, -0.4486,\n",
      "          0.2540, -0.3332, -0.6839, -0.6864, -1.3427, -0.0564,  0.2652,  0.7806,\n",
      "         -0.3939, -1.0472,  1.7202,  0.0055,  0.0085,  0.0380, -0.0565, -1.0503,\n",
      "          0.9320, -1.2995, -1.2555, -1.3737,  0.5938, -0.4539,  0.2863,  0.3339]],\n",
      "       dtype=torch.float64)\n",
      "BopeExperiment settings:  {'pca_var_threshold': 0.95, 'initial_experimentation_batch': 16, 'n_check_post_mean': 20, 'every_n_comps': 3, 'verbose': True, 'dtype': torch.float64, 'num_restarts': 20, 'raw_samples': 128, 'batch_limit': 4, 'sampler_num_outcome_samples': 64, 'maxiter': 1000, 'initial_latent_dim': None, 'min_stdv': 100000, 'true_axes': None, 'standardize': True}\n",
      "self.methods,  ['uwpca']\n"
     ]
    },
    {
     "name": "stderr",
     "output_type": "stream",
     "text": [
      "/home/yz685/anaconda3/envs/bope_pca/lib/python3.9/site-packages/botorch/test_functions/base.py:39: UserWarning: To copy construct from a tensor, it is recommended to use sourceTensor.clone().detach() or sourceTensor.clone().detach().requires_grad_(True), rather than torch.tensor(sourceTensor).\n",
      "  \"bounds\", torch.tensor(self._bounds, dtype=torch.float).transpose(-1, -2)\n"
     ]
    },
    {
     "name": "stdout",
     "output_type": "stream",
     "text": [
      "True utility landscape:  (-61.96517649620232, 7.729437115445321, -81.407098742132, -45.24203179810365, tensor([-68.2561, -62.5050, -55.6492], dtype=torch.float64))\n"
     ]
    }
   ],
   "source": [
    "# original 9D outcome raised to 72D\n",
    "input_dim, outcome_dim, problem, _, util_func, _, _ = problem_setup_augmented(\n",
    "    \"carcabdesign_7d9d_piecewiselinear_72\", augmented_dims_noise=0.01\n",
    ")\n",
    "\n",
    "output_path = f\"/home/yz685/low_rank_BOPE/experiments/cars/test/\"\n",
    "\n",
    "exp = RetrainingBopeExperiment(\n",
    "    problem, \n",
    "    util_func, \n",
    "    methods = [\"uwpca\"],\n",
    "    pe_strategies=[\"EUBO-zeta\"],\n",
    "    trial_idx=0,\n",
    "    output_path=output_path\n",
    ")"
   ]
  },
  {
   "cell_type": "code",
   "execution_count": 5,
   "metadata": {},
   "outputs": [
    {
     "name": "stderr",
     "output_type": "stream",
     "text": [
      "/home/yz685/low_rank_BOPE/low_rank_BOPE/src/transforms.py:755: UserWarning: To copy construct from a tensor, it is recommended to use sourceTensor.clone().detach() or sourceTensor.clone().detach().requires_grad_(True), rather than torch.tensor(sourceTensor).\n",
      "  pca_axes = torch.tensor(torch.transpose(V[:, : num_axes], -2, -1), dtype = torch.double)\n",
      "/home/yz685/anaconda3/envs/bope_pca/lib/python3.9/site-packages/botorch/models/utils/assorted.py:173: InputDataWarning: Input data is not contained to the unit cube. Please consider min-max scaling the input data.\n",
      "  warnings.warn(msg, InputDataWarning)\n"
     ]
    },
    {
     "name": "stdout",
     "output_type": "stream",
     "text": [
      "Fitting outcome model using uwpca and EUBO-zeta\n"
     ]
    },
    {
     "data": {
      "text/plain": [
       "tensor(12.0892, dtype=torch.float64, grad_fn=<DivBackward0>)"
      ]
     },
     "execution_count": 5,
     "metadata": {},
     "output_type": "execute_result"
    }
   ],
   "source": [
    "exp.generate_random_experiment_data(32)\n",
    "exp.compute_projections(\"uwpca\", \"EUBO-zeta\")\n",
    "exp.fit_outcome_model(\"uwpca\",\"EUBO-zeta\")\n",
    "check_outcome_model_fit(\n",
    "    outcome_model = exp.outcome_models_dict[(\"uwpca\",\"EUBO-zeta\")],\n",
    "    problem=problem,\n",
    "    n_test=1024\n",
    ")"
   ]
  },
  {
   "cell_type": "code",
   "execution_count": 6,
   "metadata": {},
   "outputs": [
    {
     "name": "stderr",
     "output_type": "stream",
     "text": [
      "/home/yz685/low_rank_BOPE/low_rank_BOPE/src/transforms.py:755: UserWarning: To copy construct from a tensor, it is recommended to use sourceTensor.clone().detach() or sourceTensor.clone().detach().requires_grad_(True), rather than torch.tensor(sourceTensor).\n",
      "  pca_axes = torch.tensor(torch.transpose(V[:, : num_axes], -2, -1), dtype = torch.double)\n",
      "/home/yz685/anaconda3/envs/bope_pca/lib/python3.9/site-packages/botorch/models/utils/assorted.py:173: InputDataWarning: Input data is not contained to the unit cube. Please consider min-max scaling the input data.\n",
      "  warnings.warn(msg, InputDataWarning)\n"
     ]
    },
    {
     "name": "stdout",
     "output_type": "stream",
     "text": [
      "Fitting outcome model using uwpca and EUBO-zeta\n"
     ]
    },
    {
     "data": {
      "text/plain": [
       "tensor(11.4817, dtype=torch.float64, grad_fn=<DivBackward0>)"
      ]
     },
     "execution_count": 6,
     "metadata": {},
     "output_type": "execute_result"
    }
   ],
   "source": [
    "exp.standardize=False\n",
    "exp.compute_projections(\"uwpca\", \"EUBO-zeta\")\n",
    "exp.fit_outcome_model(\"uwpca\",\"EUBO-zeta\")\n",
    "check_outcome_model_fit(\n",
    "    outcome_model = exp.outcome_models_dict[(\"uwpca\",\"EUBO-zeta\")],\n",
    "    problem=problem,\n",
    "    n_test=1024\n",
    ")"
   ]
  },
  {
   "cell_type": "code",
   "execution_count": null,
   "metadata": {},
   "outputs": [],
   "source": []
  }
 ],
 "metadata": {
  "kernelspec": {
   "display_name": "bope_pca",
   "language": "python",
   "name": "python3"
  },
  "language_info": {
   "codemirror_mode": {
    "name": "ipython",
    "version": 3
   },
   "file_extension": ".py",
   "mimetype": "text/x-python",
   "name": "python",
   "nbconvert_exporter": "python",
   "pygments_lexer": "ipython3",
   "version": "3.9.15"
  },
  "orig_nbformat": 4
 },
 "nbformat": 4,
 "nbformat_minor": 2
}
