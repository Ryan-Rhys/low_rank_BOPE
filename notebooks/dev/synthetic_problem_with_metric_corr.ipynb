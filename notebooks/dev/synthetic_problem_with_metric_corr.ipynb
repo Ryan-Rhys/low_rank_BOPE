{
 "cells": [
  {
   "cell_type": "code",
   "execution_count": 1,
   "metadata": {},
   "outputs": [
    {
     "name": "stderr",
     "output_type": "stream",
     "text": [
      "/home/yz685/anaconda3/envs/bope_pca/lib/python3.9/site-packages/tqdm/auto.py:22: TqdmWarning: IProgress not found. Please update jupyter and ipywidgets. See https://ipywidgets.readthedocs.io/en/stable/user_install.html\n",
      "  from .autonotebook import tqdm as notebook_tqdm\n"
     ]
    }
   ],
   "source": [
    "%load_ext autoreload\n",
    "%autoreload 2\n",
    "\n",
    "import os, sys\n",
    "# file_dir = os.path.dirname(__file__)\n",
    "# sys.path.append(file_dir)\n",
    "sys.path.append('/home/yz685/low_rank_BOPE')\n",
    "sys.path.append('/home/yz685/low_rank_BOPE/low_rank_BOPE')\n",
    "import warnings\n",
    "import math\n",
    "import matplotlib.pyplot as plt\n",
    "import numpy as np\n",
    "import scipy.linalg\n",
    "import torch\n",
    "from torch import Tensor\n",
    "from tqdm.auto import trange\n",
    "\n",
    "from botorch.models import SingleTaskGP\n",
    "from botorch.models.transforms import Standardize\n",
    "from botorch.utils.sampling import draw_sobol_samples\n",
    "\n",
    "\n",
    "from gpytorch import ExactMarginalLogLikelihood\n",
    "from gpytorch.constraints import GreaterThan\n",
    "from gpytorch.likelihoods import GaussianLikelihood\n",
    "from gpytorch.priors import GammaPrior\n",
    "from low_rank_BOPE.bope_class import BopeExperiment\n",
    "from low_rank_BOPE.test_problems.shapes import AreaUtil, Image\n",
    "from low_rank_BOPE.src.diagnostics import check_outcome_model_fit, check_util_model_fit"
   ]
  },
  {
   "cell_type": "code",
   "execution_count": 2,
   "metadata": {},
   "outputs": [],
   "source": [
    "CSVData = open(\"/home/yz685/low_rank_BOPE/low_rank_BOPE/test_problems/real_metric_corr/metric_corr_exp_0.csv\")\n",
    "metric_corr = np.loadtxt(CSVData, delimiter=\",\")"
   ]
  },
  {
   "cell_type": "code",
   "execution_count": 3,
   "metadata": {},
   "outputs": [
    {
     "data": {
      "text/plain": [
       "array([[ 1.        ,  0.37601862, -0.13774877, ...,  0.2008665 ,\n",
       "        -0.2091466 ,  0.31438415],\n",
       "       [ 0.37601862,  1.        ,  0.11476698, ..., -0.08847642,\n",
       "        -0.02969686,  0.05288715],\n",
       "       [-0.13774877,  0.11476698,  1.        , ...,  0.22958563,\n",
       "         0.10350777, -0.29256991],\n",
       "       ...,\n",
       "       [ 0.2008665 , -0.08847642,  0.22958563, ...,  1.        ,\n",
       "         0.01840489,  0.06066022],\n",
       "       [-0.2091466 , -0.02969686,  0.10350777, ...,  0.01840489,\n",
       "         1.        , -0.87128786],\n",
       "       [ 0.31438415,  0.05288715, -0.29256991, ...,  0.06066022,\n",
       "        -0.87128786,  1.        ]])"
      ]
     },
     "execution_count": 3,
     "metadata": {},
     "output_type": "execute_result"
    }
   ],
   "source": [
    "metric_corr"
   ]
  },
  {
   "cell_type": "code",
   "execution_count": 4,
   "metadata": {},
   "outputs": [],
   "source": [
    "from sklearn.decomposition import PCA"
   ]
  },
  {
   "cell_type": "code",
   "execution_count": 6,
   "metadata": {},
   "outputs": [
    {
     "data": {
      "text/plain": [
       "array([[ 4.11676558e-01, -2.03013472e-01,  1.31739164e+00, ...,\n",
       "         7.60660628e-18,  5.31281589e-17,  7.39239236e-17],\n",
       "       [ 1.92518117e+00, -1.02469158e+00,  1.44517413e+00, ...,\n",
       "        -1.16128355e-16,  6.58952637e-17,  1.00250416e-16],\n",
       "       [ 3.83443543e+00,  6.69911708e-01, -9.63326239e-02, ...,\n",
       "        -7.32496225e-17, -4.47823093e-17,  5.68873328e-18],\n",
       "       ...,\n",
       "       [ 2.20826541e+00,  1.98724068e+00,  2.26128283e-01, ...,\n",
       "        -3.62313217e-16, -2.08149352e-17, -6.54048538e-17],\n",
       "       [ 7.94471302e+00,  1.47703693e-01,  2.97242142e-01, ...,\n",
       "        -3.75503084e-16, -5.40678726e-17, -8.83906437e-17],\n",
       "       [-3.78718241e+00,  1.33154444e-01,  5.07277548e-02, ...,\n",
       "         3.44565151e-16,  6.23593541e-17,  4.64217495e-17]])"
      ]
     },
     "execution_count": 6,
     "metadata": {},
     "output_type": "execute_result"
    }
   ],
   "source": [
    "pca = PCA()\n",
    "\n",
    "pca.fit_transform(metric_corr)"
   ]
  },
  {
   "cell_type": "code",
   "execution_count": 10,
   "metadata": {},
   "outputs": [
    {
     "data": {
      "text/plain": [
       "Text(0.5, 1.0, 'Cumulative variance explained by successive principal components')"
      ]
     },
     "execution_count": 10,
     "metadata": {},
     "output_type": "execute_result"
    },
    {
     "data": {
      "image/png": "[encoded data removed]",
      "text/plain": [
       "<Figure size 432x288 with 1 Axes>"
      ]
     },
     "metadata": {
      "needs_background": "light"
     },
     "output_type": "display_data"
    }
   ],
   "source": [
    "plt.plot(np.cumsum(pca.explained_variance_ratio_))\n",
    "plt.title('Cumulative variance explained by successive principal components')"
   ]
  },
  {
   "cell_type": "code",
   "execution_count": null,
   "metadata": {},
   "outputs": [],
   "source": [
    "# idea 1: get the first few axes and eigenvalues, set those as ground truth axes \n",
    "# and latent GP scaling factors\n",
    "\n",
    "# idea 2: use the full correlation matrix\n",
    "# how to detangle the input correlation and task cor*relation?\n",
    "# use kronecker structure?\n",
    "# Suppose we have a vanilla Matern kernel over all inputs for all metrics\n",
    "# is it as simple as idea 1, just using all axes, \n",
    "# or is there something else we can do?"
   ]
  }
 ],
 "metadata": {
  "kernelspec": {
   "display_name": "bope_pca",
   "language": "python",
   "name": "python3"
  },
  "language_info": {
   "codemirror_mode": {
    "name": "ipython",
    "version": 3
   },
   "file_extension": ".py",
   "mimetype": "text/x-python",
   "name": "python",
   "nbconvert_exporter": "python",
   "pygments_lexer": "ipython3",
   "version": "3.9.15 (main, Nov 24 2022, 14:31:59) \n[GCC 11.2.0]"
  },
  "orig_nbformat": 4,
  "vscode": {
   "interpreter": {
    "hash": "f178f7686bb85c5c6e141a85fd4c17c3082d63b89f6cfaecdf98c22c0047a219"
   }
  }
 },
 "nbformat": 4,
 "nbformat_minor": 2
}
