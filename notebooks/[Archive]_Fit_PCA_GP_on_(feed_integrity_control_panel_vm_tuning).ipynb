{
  "cells": [
    {
      "cell_type": "code",
      "execution_count": null,
      "metadata": {
        "customInput": null,
        "customOutput": null,
        "originalKey": "ceb71afe-4052-4baf-b062-7437fc0cec4e",
        "showInput": true
      },
      "outputs": [],
      "source": []
    },
    {
      "cell_type": "code",
      "execution_count": null,
      "metadata": {
        "customInput": null,
        "customOutput": null,
        "originalKey": "1aaef392-6015-47c8-b00a-b7d8415faf68",
        "showInput": true
      },
      "outputs": [],
      "source": [
        "# BO experiment name: feed_integrity_control_panel_vm_tuning_quickbo\n",
        "# PE experiment name: pe_pilot_feed_integrity_control_panel_vm_tuning_quickbo_no_ci"
      ]
    },
    {
      "cell_type": "code",
      "execution_count": null,
      "metadata": {
        "customInput": null,
        "customOutput": null,
        "originalKey": "6b2efe9c-a8df-44c8-9830-2ba293cf45bb",
        "showInput": true
      },
      "outputs": [],
      "source": []
    },
    {
      "cell_type": "code",
      "execution_count": null,
      "metadata": {
        "customInput": null,
        "customOutput": null,
        "originalKey": "9dec4772-a321-411e-9f9d-cbca58b2f61f",
        "showInput": true
      },
      "outputs": [],
      "source": []
    },
    {
      "cell_type": "code",
      "execution_count": null,
      "metadata": {
        "customInput": null,
        "customOutput": null,
        "originalKey": "a4a6da3e-8e8b-478b-a49b-139e4321ede8",
        "showInput": true
      },
      "outputs": [],
      "source": []
    },
    {
      "cell_type": "code",
      "execution_count": 54,
      "metadata": {
        "code_folding": [],
        "collapsed": false,
        "customInput": null,
        "customOutput": null,
        "executionStartTime": 1673038113871,
        "executionStopTime": 1673038117014,
        "hidden_ranges": [],
        "originalKey": "7bab2fa6-c346-42e3-87e1-a667eb3ffe17",
        "requestMsgId": "ad8d01cb-b4e1-4106-ae8b-d580acc00b88",
        "showInput": true
      },
      "outputs": [
        {
          "name": "stderr",
          "output_type": "stream",
          "text": [
            "I0106 124836.904 magics.py:79] %autoreload 2 was called with \n"
          ]
        },
        {
          "name": "stdout",
          "output_type": "stream",
          "text": [
            "The python.parsh.autoreload.magics extension is already loaded. To reload it, use:\n",
            "  %reload_ext python.parsh.autoreload.magics\n"
          ]
        }
      ],
      "source": [
        "%load_ext autoreload\n",
        "%autoreload 2\n",
        "\n",
        "import copy\n",
        "import time\n",
        "import warnings  # noqa\n",
        "\n",
        "from collections import defaultdict\n",
        "from typing import Dict, Optional, Tuple, Type\n",
        "\n",
        "import matplotlib.pylab as plt\n",
        "\n",
        "# import matplotlib.pyplot as plt\n",
        "import matplotlib.ticker as mtick\n",
        "import numpy as np\n",
        "import pandas as pd\n",
        "import seaborn as sns\n",
        "import torch\n",
        "from ae.pca.models import compute_principal_axes\n",
        "\n",
        "# import my own code, which is under ae/pca/\n",
        "from ae.pca.simulation import generate_principal_axes, PCATestProblem\n",
        "from ae.pca.transforms import (\n",
        "    generate_random_projection,\n",
        "    InputCenter,\n",
        "    LinearProjectionInputTransform,\n",
        "    LinearProjectionOutcomeTransform,\n",
        "    PCAInputTransform,\n",
        "    PCAOutcomeTransform,\n",
        "    SubsetOutcomeTransform,\n",
        ")\n",
        "\n",
        "from ax.core.data import Data\n",
        "from ax.core.experiment import Experiment\n",
        "from ax.core.metric import Metric\n",
        "from ax.core.objective import MultiObjective, Objective, ScalarizedObjective\n",
        "from ax.core.observation import ObservationFeatures\n",
        "from ax.core.optimization_config import (\n",
        "    MultiObjectiveOptimizationConfig,\n",
        "    OptimizationConfig,\n",
        ")\n",
        "from ax.core.parameter import ParameterType, RangeParameter\n",
        "from ax.core.runner import Runner\n",
        "from ax.core.search_space import SearchSpace\n",
        "from ax.fb.metrics.deltoid3 import Deltoid3Metric\n",
        "from ax.fb.models.torch.botorch_modular.preference import PreferenceModelAcquisition\n",
        "from ax.fb.plot.notebook import render\n",
        "from ax.fb.service.ax_batch_client import AxBatchClient\n",
        "from ax.fb.storage.registries.pts_registry_bundle import PTS_REGISTRY_BUNDLE\n",
        "from ax.fb.storage.sqa_store.load import load_experiment\n",
        "from ax.fb.storage.sqa_store.save import save_experiment\n",
        "from ax.modelbridge.cross_validation import cross_validate\n",
        "from ax.modelbridge.modelbridge_utils import extract_search_space_digest\n",
        "from ax.modelbridge.pairwise import PairwiseModelBridge\n",
        "from ax.modelbridge.registry import Cont_X_trans, Models, ST_MTGP_trans\n",
        "from ax.modelbridge.transforms.derelativize import Derelativize\n",
        "from ax.modelbridge.transforms.relativize import Relativize\n",
        "from ax.modelbridge.transforms.task_encode import TaskEncode\n",
        "from ax.modelbridge.transforms.trial_as_task import TrialAsTask\n",
        "from ax.models.torch.botorch_modular.list_surrogate import ListSurrogate\n",
        "from ax.models.torch.botorch_modular.model import BoTorchModel\n",
        "from ax.models.torch.botorch_modular.surrogate import Surrogate\n",
        "from ax.plot.diagnostic import interact_cross_validation\n",
        "from ax.plot.scatter import interact_fitted, tile_fitted\n",
        "from ax.service.ax_client import AxClient\n",
        "from ax.service.utils.instantiation import ObjectiveProperties\n",
        "from ax.utils.stats.statstools import relativize_data\n",
        "from botorch import fit_gpytorch_model\n",
        "from botorch.acquisition import LearnedObjective\n",
        "from botorch.acquisition.monte_carlo import qNoisyExpectedImprovement\n",
        "from botorch.models import SingleTaskGP\n",
        "from botorch.models.gp_regression import FixedNoiseGP\n",
        "from botorch.models.gpytorch import GPyTorchModel\n",
        "from botorch.models.multitask import FixedNoiseMultiTaskGP\n",
        "from botorch.models.pairwise_gp import PairwiseGP, PairwiseLaplaceMarginalLogLikelihood\n",
        "from botorch.models.transforms.input import (\n",
        "    ChainedInputTransform,\n",
        "    InputStandardize,\n",
        "    InputTransform,\n",
        "    Normalize,\n",
        ")\n",
        "from botorch.models.transforms.outcome import (\n",
        "    ChainedOutcomeTransform,\n",
        "    OutcomeTransform,\n",
        "    Standardize,\n",
        ")\n",
        "from botorch.optim.fit import fit_gpytorch_scipy\n",
        "from botorch.posteriors import TransformedPosterior\n",
        "from botorch.test_functions.multi_objective import BraninCurrin\n",
        "from gpytorch.likelihoods import GaussianLikelihood, Likelihood\n",
        "from gpytorch.mlls import ExactMarginalLogLikelihood\n",
        "from gpytorch.priors import GammaPrior\n",
        "from IPython.display import clear_output\n",
        "from sklearn.decomposition import PCA\n",
        "\n",
        "warnings.filterwarnings(\"ignore\")\n",
        "\n",
        "# To determine whether we are generating the new BO batch with MTGP\n",
        "BO_MTGP = False\n",
        "# To determine whether we are using MTGP for PE\n",
        "PE_MTGP = False\n",
        "LONG_TRIAL_INDEX = 0\n",
        "\n",
        "DELTOID3_DELTA_TYPE_SUFFICES = (\n",
        "    \"_MEAN\",\n",
        "    \"_PARTICIPATION_RATE\",\n",
        "    \"_CONDITIONAL_MEAN\",\n",
        "    \"_LOG\",\n",
        "    \"_NO_WINSORIZATION_MEAN\",\n",
        "    \"_NO_WINSORIZATION_CONDITIONAL_MEAN\",\n",
        "    \"_REGRESSION_ADJUSTED_MEAN\",\n",
        "    \"_DJ_RECOMMENDED\",\n",
        ")\n",
        "METRIC_STRIP_REGEX = \"|\".join(\n",
        "    [f\"({suffix})\" for suffix in DELTOID3_DELTA_TYPE_SUFFICES]\n",
        ")\n",
        "\n",
        "REL_DATA_AS_PERCENT = True\n",
        "PERCENT_FORMATTER_XMAX = 100.0 if REL_DATA_AS_PERCENT else 1.0\n",
        "\n",
        "if PE_MTGP:\n",
        "    pe_fixed_features = ObservationFeatures(parameters={}, trial_index=LONG_TRIAL_INDEX)\n",
        "    bo_trial_indices = None\n",
        "    raise ValueError(\"Using MTGP for PE is not supported!\")\n",
        "else:\n",
        "    pe_fixed_features = None\n",
        "    bo_trial_indices = [0, 1]\n",
        "\n",
        "if BO_MTGP:\n",
        "    bo_fixed_features = ObservationFeatures(parameters={}, trial_index=LONG_TRIAL_INDEX)\n",
        "else:\n",
        "    bo_fixed_features = None"
      ]
    },
    {
      "cell_type": "code",
      "execution_count": 2,
      "metadata": {
        "code_folding": [],
        "collapsed": false,
        "customInput": null,
        "customOutput": null,
        "executionStartTime": 1671575164417,
        "executionStopTime": 1671575164444,
        "hidden_ranges": [],
        "originalKey": "5971fee6-d3d4-4471-b7d7-8cacb88338bf",
        "requestMsgId": "5971fee6-d3d4-4471-b7d7-8cacb88338bf",
        "showInput": false
      },
      "outputs": [],
      "source": [
        "EXPERIMENT_NAME = \"watch_chaining_vm_tuning_quickbo\"\n",
        "\n",
        "# If none, will use objective + constraints for PE\n",
        "custom_pe_metric_names = [\n",
        "    \"company_core_metrics:time_spent:overall_blue\",\n",
        "    \"games:gaming_video:all:watch_hours:overall\",\n",
        "    \"video:fi_re:entertainment_non_rec:vod:watchtime_rate\",\n",
        "    \"video:live:viewer:overall:is_live_time_spent_total_s\",\n",
        "    \"video:planned_viewing:video_home_watch_time_ms:overall\",\n",
        "    \"video:vpi:consumption:time_spent_s:overall\",\n",
        "    \"video:watch:num_watch_10min_actives:overall\",\n",
        "    \"video:watch:num_watch_1min_actives:overall\",\n",
        "]\n",
        "\n",
        "EXPERIMENT_NAME_CI = \"pe_pilot_\" + EXPERIMENT_NAME + \"_test\"\n",
        "EXPERIMENT_NAME_NO_CI = \"pe_pilot_\" + EXPERIMENT_NAME + \"_no_ci\"\n",
        "\n",
        "\n",
        "# BO experiment name: feed_integrity_control_panel_vm_tuning_quickbo\n",
        "# PE experiment name: pe_pilot_feed_integrity_control_panel_vm_tuning_quickbo_no_ci"
      ]
    },
    {
      "cell_type": "markdown",
      "metadata": {
        "customInput": null,
        "originalKey": "2f89bc92-0dc0-4052-9479-4f4544b55117",
        "showInput": false
      },
      "source": [
        "# Useful code"
      ]
    },
    {
      "cell_type": "code",
      "execution_count": 55,
      "metadata": {
        "collapsed": false,
        "customInput": null,
        "customOutput": null,
        "executionStartTime": 1673038122732,
        "executionStopTime": 1673038122761,
        "originalKey": "d0f083c0-ebff-4c24-a450-05356b4a2d1a",
        "requestMsgId": "2dd900b0-9635-4df3-aad8-fc74647812a7",
        "showInput": true
      },
      "outputs": [],
      "source": [
        "# largely inspired by Wesley's implementation\n",
        "\n",
        "# credit to Sait\n",
        "\n",
        "class ModifiedTransformedPosterior(TransformedPosterior):\n",
        "    @property\n",
        "    def event_shape(self) -> torch.Size:\n",
        "        r\"\"\"The event shape (i.e. the shape of a single sample).\"\"\"\n",
        "        return self.rsample().shape[-2:]\n",
        "\n",
        "    def _extended_shape(\n",
        "        self, sample_shape: torch.Size = torch.Size()  # noqa: B008\n",
        "    ) -> torch.Size:\n",
        "        r\"\"\"Returns the shape of the samples produced by the posterior with\n",
        "        the given `sample_shape`.\n",
        "\n",
        "        NOTE: This assumes that the `sample_transform` does not change the\n",
        "        shape of the samples.\n",
        "        \"\"\"\n",
        "\n",
        "        return self.rsample().shape[-2:]\n",
        "\n",
        "\n",
        "class PCAOutcomeTransform(OutcomeTransform):\n",
        "    def __init__(self, variance_explained_threshold: float = 0.9, num_axes: int = None, *tkwargs):\n",
        "        r\"\"\"\n",
        "        Initialize PCAOutcomeTransform() instance\n",
        "        Args:\n",
        "            variance_explained_threshold: fraction of variance in the data that we want the selected principal axes to explain;\n",
        "                if num_axes is None, use this to decide the number of principal axes to select\n",
        "            num_axes: number of principal axes to select\n",
        "        \"\"\"\n",
        "\n",
        "        super().__init__()\n",
        "        self.variance_explained_threshold = variance_explained_threshold\n",
        "        self.num_axes = num_axes\n",
        "\n",
        "    def forward(\n",
        "        self, Y: torch.Tensor, Yvar: Optional[torch.Tensor] = None, **tkwargs\n",
        "    ) -> Tuple[torch.Tensor, Optional[torch.Tensor]]:\n",
        "        r\"\"\"\n",
        "        Perform PCA on data Y and transforms it to a lower-dimensional representation in terms of principal components.\n",
        "        Args:\n",
        "            Y: `batch_shape x num_samples x output_dim` tensor of metric observations;\n",
        "                assume that it is centered already, since we would normally chain the PCATransform() after a Standardize()\n",
        "            Yvar: (optional) `batch_shape x num_samples x output_dim` tensor of metric noises (variance)\n",
        "        Returns:\n",
        "            Y_transformed: `batch_shape x num_samples x PC_dim` tensor of PC values\n",
        "            Yvar_transformed: `batch_shape x num_samples x PC_dim` tensor of estimated PC variances\n",
        "        \"\"\"\n",
        "\n",
        "        if self.training:\n",
        "\n",
        "            # TODO: use pytorch's SVD rather than sklearn to perform PCA\n",
        "            # Reason: axes_learned depends on the training targets (Y);\n",
        "            # any quantity that depends on the posterior in the metrics space will have its gradient\n",
        "            # d f(metric posterior)\n",
        "            # dependent on d (axes_learned) / d (training targets)\n",
        "            # but this step is done in sklearn, so torch gradient computation can't propagate through\n",
        "            # (we can of course use the sklearn results to check correctness)\n",
        "\n",
        "            pca = PCA()\n",
        "            _ = pca.fit_transform(Y)\n",
        "            explained_variance = pca.explained_variance_ratio_\n",
        "\n",
        "            if self.num_axes is None:\n",
        "                # decide the number of principal axes to keep (that makes explained variance exceed the specified threshold)\n",
        "                exceed_thres = np.cumsum(explained_variance) > self.variance_explained_threshold\n",
        "                self.num_axes = len(exceed_thres) - sum(exceed_thres) + 1\n",
        "\n",
        "            axes_learned = pca.components_[: self.num_axes, :]\n",
        "\n",
        "            # print(f\"PCs from sklearn: {Y_transformed_full[:, :self.num_axes]}\")\n",
        "            # print(\"explained variance\", explained_variance)\n",
        "\n",
        "            self.PCA_explained_variance = sum(explained_variance[: self.num_axes])\n",
        "\n",
        "            print(f\"num_axes = {self.num_axes}, explains {self.PCA_explained_variance} variance\")\n",
        "\n",
        "            self.axes_learned = torch.tensor(axes_learned, **tkwargs)\n",
        "            # print(\"axes learned: \", self.axes_learned)\n",
        "            # print(\"self.axes_learned norms\", torch.linalg.norm(self.axes_learned, dim=1))\n",
        "\n",
        "        Y_transformed = torch.matmul(Y, torch.transpose(self.axes_learned, -2, -1)).to(**tkwargs)\n",
        "\n",
        "        # if Yvar is given, the variance of PCs is lower bounded by the linear combination of Yvar terms\n",
        "        # TODO: check correctness\n",
        "        if Yvar is not None:\n",
        "            Yvar_transformed = torch.matmul(Yvar, torch.square(torch.transpose(self.axes_learned, -2, -1))).to(\n",
        "                **tkwargs\n",
        "            )\n",
        "\n",
        "        # print('Y transformed shape', Y_transformed.shape)\n",
        "        # print(f\"PCs, transformed from Y: {Y_transformed}\")\n",
        "\n",
        "        return Y_transformed, Yvar_transformed if Yvar is not None else None\n",
        "\n",
        "    def untransform(\n",
        "        self, Y: torch.Tensor, Yvar: Optional[torch.Tensor] = None, **tkwargs\n",
        "    ) -> Tuple[torch.Tensor, Optional[torch.Tensor]]:\n",
        "        r\"\"\"\n",
        "        Transform PC back to metrics according to self.axes_learned.\n",
        "        Args:\n",
        "            Y: `num_samples x PC_dim` tensor of PC values\n",
        "            Yvar: `num_samples x PC_dim` tensor of PC variances\n",
        "        Returns:\n",
        "            Y_untransformed: `num_samples x output_dim` tensor of metric values\n",
        "            Yvar_untransformed: `num_samples x output_dim` tensor of metric variances\n",
        "        \"\"\"\n",
        "\n",
        "        Y_untransformed = torch.matmul(Y, self.axes_learned)\n",
        "        if Yvar is not None:\n",
        "            Yvar_untransformed = torch.matmul(Yvar, torch.square(self.axes_learned))\n",
        "\n",
        "        print(f\"Y, transformed from PCs: {Y_untransformed}\")\n",
        "\n",
        "        return (\n",
        "            Y_untransformed,\n",
        "            Yvar_untransformed if Yvar is not None else None,\n",
        "        )\n",
        "\n",
        "    def untransform_posterior(self, posterior):\n",
        "        r\"\"\"\n",
        "        Create posterior distribution in the space of metrics.\n",
        "        Args:\n",
        "            posterior: posterior in the space of PCs\n",
        "        Returns:\n",
        "            untransformed_posterior: posterior in the space of metrics\n",
        "        \"\"\"\n",
        "\n",
        "        untransformed_posterior = ModifiedTransformedPosterior(\n",
        "            posterior=posterior,\n",
        "            sample_transform=lambda x: x.matmul(self.axes_learned),\n",
        "            mean_transform=lambda x, v: x.matmul(self.axes_learned),\n",
        "            variance_transform=lambda x, v: x.matmul(self.axes_learned),\n",
        "        )\n",
        "\n",
        "        print('self.axes_learned.shape', self.axes_learned.shape)\n",
        "\n",
        "        print('untransformed_posterior.rsample().shape', untransformed_posterior.rsample().shape)\n",
        "\n",
        "        return untransformed_posterior"
      ]
    },
    {
      "cell_type": "code",
      "execution_count": 56,
      "metadata": {
        "collapsed": false,
        "customInput": null,
        "customOutput": null,
        "executionStartTime": 1673038125217,
        "executionStopTime": 1673038125278,
        "originalKey": "868e0dfd-d87a-47d8-8adf-f1e35d81e24c",
        "requestMsgId": "a8b39de1-9877-4bfa-95b7-955fe42f04c6",
        "showInput": true
      },
      "outputs": [],
      "source": [
        "# get PCAOutcomeTranform axes from\n",
        "# model.outcome_transform[\"pca\"].axes_learned\n",
        "# then plug into PCAInputTransform as argument\n",
        "\n",
        "from torch.nn import Module\n",
        "\n",
        "\n",
        "class PCAInputTransform(InputTransform, Module):\n",
        "    def __init__(\n",
        "        self,\n",
        "        axes: torch.Tensor,\n",
        "        transform_on_train: bool = True,\n",
        "        transform_on_eval: bool = True,\n",
        "        transform_on_fantasize: bool = True,\n",
        "    ):\n",
        "        r\"\"\"\n",
        "        Initialize PCAInputTransform() instance.\n",
        "        Args:\n",
        "            axes: `num_axes x input_dim` tensor with norm-1 orthogonal rows\n",
        "                (in the case of PE, these are the principal axes learned from the previous stage of fitting outcome model)\n",
        "        \"\"\"\n",
        "        super().__init__()\n",
        "        self.axes = axes\n",
        "        self.transform_on_train = transform_on_train\n",
        "        self.transform_on_eval = transform_on_eval\n",
        "        self.transform_on_fantasize = transform_on_fantasize\n",
        "\n",
        "    def transform(self, X: torch.Tensor) -> torch.Tensor:\n",
        "        r\"\"\"\n",
        "        Transform the input X into latent representations using self.axes.\n",
        "        Args:\n",
        "            X: `num_samples x input_dim` tensor of input data\n",
        "        \"\"\"\n",
        "\n",
        "        transformed_X = torch.matmul(X, torch.transpose(self.axes, -2, -1))\n",
        "        # print('X shape, transformed_X shape', X.shape, transformed_X.shape)\n",
        "\n",
        "        return transformed_X\n",
        "\n",
        "    def untransform(self, X_tf: torch.Tensor) -> torch.Tensor:\n",
        "        r\"\"\"\n",
        "        Untransform a latent representation back to input space.\n",
        "        Args:\n",
        "            X_tf: `num_samples x num_axes` tensor of latent representations\n",
        "        \"\"\"\n",
        "\n",
        "        untransformed_X = torch.matmul(X_tf, self.axes)\n",
        "\n",
        "        return untransformed_X"
      ]
    },
    {
      "cell_type": "markdown",
      "metadata": {
        "customInput": null,
        "originalKey": "09ba5d3e-af32-470f-95e5-7feb63decde8",
        "showInput": false
      },
      "source": [
        "# Load QuickBO data"
      ]
    },
    {
      "cell_type": "code",
      "execution_count": 57,
      "metadata": {
        "collapsed": false,
        "customInput": null,
        "customOutput": null,
        "executionStartTime": 1673038127571,
        "executionStopTime": 1673038131304,
        "originalKey": "017618f1-95d1-463f-9a0a-621f26d09f92",
        "requestMsgId": "d429a665-d17c-43af-8435-cee9b39f5d44",
        "showInput": true
      },
      "outputs": [
        {
          "name": "stderr",
          "output_type": "stream",
          "text": [
            "I0106 124848.764 db.py:50] DB ('xdb.metricdj', None, True): Connection bad, discarding: (2006, 'MySQL server has gone away')\n"
          ]
        },
        {
          "name": "stderr",
          "output_type": "stream",
          "text": [
            "I0106 124848.772 db.py:61] DB ('xdb.metricdj', None, True): Constructing a new database connection\n"
          ]
        },
        {
          "name": "stderr",
          "output_type": "stream",
          "text": [
            "I0106 124849.290 mysql.py:61] 1 row(s) returned\n"
          ]
        },
        {
          "name": "stderr",
          "output_type": "stream",
          "text": [
            "I0106 124849.392 mysql.py:61] 1 row(s) returned\n"
          ]
        },
        {
          "name": "stderr",
          "output_type": "stream",
          "text": [
            "I0106 124849.413 mysql.py:61] 1 row(s) returned\n"
          ]
        },
        {
          "name": "stderr",
          "output_type": "stream",
          "text": [
            "I0106 124849.461 mysql.py:61] 1 row(s) returned\n"
          ]
        },
        {
          "name": "stderr",
          "output_type": "stream",
          "text": [
            "I0106 124849.489 mysql.py:61] 1 row(s) returned\n"
          ]
        }
      ],
      "source": [
        "experiment = load_experiment(\n",
        "    \"feed_integrity_control_panel_vm_tuning_quickbo\",\n",
        "    decoder=PTS_REGISTRY_BUNDLE.decoder,\n",
        ")"
      ]
    },
    {
      "cell_type": "code",
      "execution_count": 58,
      "metadata": {
        "collapsed": false,
        "customInput": null,
        "customOutput": null,
        "executionStartTime": 1673038131408,
        "executionStopTime": 1673038131476,
        "originalKey": "ba317bbd-6d8a-4ffa-ba56-acc5ba0bbbc7",
        "requestMsgId": "20e1e8a1-c9e6-48ad-846a-d8b68364e19c",
        "showInput": true
      },
      "outputs": [
        {
          "data": {
            "text/plain": [
              "{0: BatchTrial(experiment_name='feed_integrity_control_panel_vm_tuning_quickbo', index=0, status=TrialStatus.COMPLETED),\n",
              " 1: BatchTrial(experiment_name='feed_integrity_control_panel_vm_tuning_quickbo', index=1, status=TrialStatus.COMPLETED),\n",
              " 2: BatchTrial(experiment_name='feed_integrity_control_panel_vm_tuning_quickbo', index=2, status=TrialStatus.COMPLETED),\n",
              " 3: BatchTrial(experiment_name='feed_integrity_control_panel_vm_tuning_quickbo', index=3, status=TrialStatus.COMPLETED)}"
            ]
          },
          "execution_count": 58,
          "metadata": {
            "bento_obj_id": "140135548431936"
          },
          "output_type": "execute_result"
        }
      ],
      "source": [
        "experiment.trials"
      ]
    },
    {
      "cell_type": "code",
      "execution_count": 59,
      "metadata": {
        "collapsed": false,
        "customInput": null,
        "customOutput": null,
        "executionStartTime": 1673038131508,
        "executionStopTime": 1673038131581,
        "originalKey": "4f5ddc37-1ab4-468e-ac4b-83fd21fe849c",
        "requestMsgId": "97a3f229-b498-4da3-8e11-33f7501fd5eb",
        "showInput": true
      },
      "outputs": [],
      "source": [
        "# 15 metrics, {8, 7, 10, 10} arms each for trial {0, 1, 2, 3}\n",
        "# I should pivot table, then relativize, then use the Standardize() transform in GP on both the input and output ranges\n",
        "# with the caveat that aggregating together data from different trials may have some temporal heterogeneity effect"
      ]
    },
    {
      "cell_type": "code",
      "execution_count": 59,
      "metadata": {
        "collapsed": false,
        "customInput": null,
        "customOutput": null,
        "executionStartTime": 1673038131601,
        "executionStopTime": 1673038131625,
        "originalKey": "d056f6af-3e16-4b66-afad-df01e1b38e89",
        "requestMsgId": "b56f78e0-c564-4f54-aa04-fc2825ba31ac",
        "showInput": true
      },
      "outputs": [],
      "source": []
    },
    {
      "cell_type": "code",
      "execution_count": 60,
      "metadata": {
        "collapsed": false,
        "customInput": null,
        "customOutput": null,
        "executionStartTime": 1673038131656,
        "executionStopTime": 1673038131788,
        "originalKey": "5543d265-0a40-4c1e-ac58-922b5a62aa23",
        "requestMsgId": "c077e252-7a8e-4c34-aac9-c558f042476c",
        "showInput": true
      },
      "outputs": [],
      "source": [
        "data0 = experiment.lookup_data(trial_indices=[0])\n",
        "data1 = experiment.lookup_data(trial_indices=[1])\n",
        "data2 = experiment.lookup_data(trial_indices=[2])\n",
        "data3 = experiment.lookup_data(trial_indices=[3])"
      ]
    },
    {
      "cell_type": "code",
      "execution_count": 61,
      "metadata": {
        "collapsed": false,
        "customInput": null,
        "customOutput": null,
        "executionStartTime": 1673038131931,
        "executionStopTime": 1673038132182,
        "originalKey": "2957b4b1-ca3c-4f2e-b344-75c9ec895c7f",
        "requestMsgId": "19882d5e-7b78-4d9f-aef1-be30c302b1b2",
        "showInput": true
      },
      "outputs": [
        {
          "data": {
            "application/vnd.dataresource+json": {
              "data": [
                {
                  "arm_name": "0_0",
                  "end_time": "2022-08-10T00:00:00.000Z",
                  "frac_nonnull": 1,
                  "index": 0,
                  "mean": 0.0234742739,
                  "metric_name": "community_integrity:cep:viewer:holistic_prevalence_world__severity_weighted_prevalence__volume_CONDITIONAL_MEAN",
                  "n": 15283233,
                  "sem": 0.000018505,
                  "start_time": "2022-07-28T00:00:00.000Z",
                  "trial_index": 0
                },
                {
                  "arm_name": "0_0",
                  "end_time": "2022-08-10T00:00:00.000Z",
                  "frac_nonnull": 0.5944250801,
                  "index": 1,
                  "mean": 42.9535200126,
                  "metric_name": "core_app:ecosystem:sessions:core_session_count_cap15:fb_major_apps_REGRESSION_ADJUSTED_MEAN",
                  "n": 15283233,
                  "sem": 0.0090154128,
                  "start_time": "2022-07-28T00:00:00.000Z",
                  "trial_index": 0
                },
                {
                  "arm_name": "0_0",
                  "end_time": "2022-08-10T00:00:00.000Z",
                  "frac_nonnull": 0.0860017642,
                  "index": 2,
                  "mean": 6.18791888,
                  "metric_name": "core_growth:visitation:dap:overall_facebook:us_ca_REGRESSION_ADJUSTED_NO_WINSORIZATION_CONDITIONAL_MEAN",
                  "n": 15283233,
                  "sem": 0.002690938,
                  "start_time": "2022-07-28T00:00:00.000Z",
                  "trial_index": 0
                },
                {
                  "arm_name": "0_0",
                  "end_time": "2022-08-10T00:00:00.000Z",
                  "frac_nonnull": 0.7233105718,
                  "index": 3,
                  "mean": 5.253059944,
                  "metric_name": "core_growth:visitation:dap:overall_facebook_REGRESSION_ADJUSTED_MEAN",
                  "n": 15283233,
                  "sem": 0.0008096148,
                  "start_time": "2022-07-28T00:00:00.000Z",
                  "trial_index": 0
                },
                {
                  "arm_name": "0_0",
                  "end_time": "2022-08-10T00:00:00.000Z",
                  "frac_nonnull": 0.5230082536,
                  "index": 4,
                  "mean": 144.3511325338,
                  "metric_name": "news_feed:distinct_vpv:feed:num_vpv_given:friend_reshare",
                  "n": 15283233,
                  "sem": 0.0712516348,
                  "start_time": "2022-07-28T00:00:00.000Z",
                  "trial_index": 0
                },
                {
                  "arm_name": "0_0",
                  "end_time": "2022-08-10T00:00:00.000Z",
                  "frac_nonnull": 0.6007616975,
                  "index": 5,
                  "mean": 771.1197606522,
                  "metric_name": "news_feed:distinct_vpv:feed:num_vpv_given:overall",
                  "n": 15283233,
                  "sem": 0.278730593,
                  "start_time": "2022-07-28T00:00:00.000Z",
                  "trial_index": 0
                },
                {
                  "arm_name": "0_0",
                  "end_time": "2022-08-10T00:00:00.000Z",
                  "frac_nonnull": 0.468572978,
                  "index": 6,
                  "mean": 96.0093030236,
                  "metric_name": "news_feed:msi:given:feed:overall",
                  "n": 15283233,
                  "sem": 0.0767441331,
                  "start_time": "2022-07-28T00:00:00.000Z",
                  "trial_index": 0
                },
                {
                  "arm_name": "0_0",
                  "end_time": "2022-08-10T00:00:00.000Z",
                  "frac_nonnull": 1,
                  "index": 7,
                  "mean": 0.4410132753,
                  "metric_name": "news_feed_integrity:misinfo_frx:viewer:frx_per_vpv:overall",
                  "n": 15283233,
                  "sem": 0.0002926007,
                  "start_time": "2022-07-28T00:00:00.000Z",
                  "trial_index": 0
                },
                {
                  "arm_name": "0_0",
                  "end_time": "2022-08-10T00:00:00.000Z",
                  "frac_nonnull": 0.5524545101,
                  "index": 8,
                  "mean": 43.4409635813,
                  "metric_name": "news_feed_integrity:quality_sessions:discounted:survey_based",
                  "n": 15283233,
                  "sem": 0.0154373952,
                  "start_time": "2022-07-28T00:00:00.000Z",
                  "trial_index": 0
                },
                {
                  "arm_name": "0_0",
                  "end_time": "2022-08-08T00:00:00.000Z",
                  "frac_nonnull": 0.6105606355,
                  "index": 9,
                  "mean": 0.0526485724,
                  "metric_name": "news_feed_integrity:responsible_ranking:upf_trips_proxy_metric:civic_combined",
                  "n": 14993397,
                  "sem": 0.0000142092,
                  "start_time": "2022-07-28T00:00:00.000Z",
                  "trial_index": 0
                },
                {
                  "arm_name": "0_0",
                  "end_time": "2022-08-08T00:00:00.000Z",
                  "frac_nonnull": 0.6105606355,
                  "index": 10,
                  "mean": 0.0938198679,
                  "metric_name": "news_feed_integrity:responsible_ranking:upf_trips_proxy_metric:integrity_bucket",
                  "n": 14993397,
                  "sem": 0.0000237092,
                  "start_time": "2022-07-28T00:00:00.000Z",
                  "trial_index": 0
                },
                {
                  "arm_name": "0_0",
                  "end_time": "2022-08-08T00:00:00.000Z",
                  "frac_nonnull": 0.6105606355,
                  "index": 11,
                  "mean": 0.1120315664,
                  "metric_name": "news_feed_integrity:responsible_ranking:upf_trips_proxy_metric:tone_bucket",
                  "n": 14993397,
                  "sem": 0.0000297045,
                  "start_time": "2022-07-28T00:00:00.000Z",
                  "trial_index": 0
                },
                {
                  "arm_name": "0_0",
                  "end_time": "2022-08-10T00:00:00.000Z",
                  "frac_nonnull": 0.1835764069,
                  "index": 12,
                  "mean": 0.601790801,
                  "metric_name": "sharing:post_production:original_broadcast_feed_post",
                  "n": 15283233,
                  "sem": 0.0007730537,
                  "start_time": "2022-07-28T00:00:00.000Z",
                  "trial_index": 0
                },
                {
                  "arm_name": "0_0",
                  "end_time": "2022-08-10T00:00:00.000Z",
                  "frac_nonnull": 0.1855650568,
                  "index": 13,
                  "mean": 1.0828304521,
                  "metric_name": "sharing:post_production:original_broadcast_story_post",
                  "n": 15283233,
                  "sem": 0.0010167814,
                  "start_time": "2022-07-28T00:00:00.000Z",
                  "trial_index": 0
                },
                {
                  "arm_name": "0_0",
                  "end_time": "2022-08-10T00:00:00.000Z",
                  "frac_nonnull": 0.1896384096,
                  "index": 14,
                  "mean": 1.8916542972,
                  "metric_name": "sharing:post_production:reshare_broadcast_post",
                  "n": 15283233,
                  "sem": 0.0025093767,
                  "start_time": "2022-07-28T00:00:00.000Z",
                  "trial_index": 0
                },
                {
                  "arm_name": "0_1",
                  "end_time": "2022-08-10T00:00:00.000Z",
                  "frac_nonnull": 1,
                  "index": 15,
                  "mean": 0.0234631702,
                  "metric_name": "community_integrity:cep:viewer:holistic_prevalence_world__severity_weighted_prevalence__volume_CONDITIONAL_MEAN",
                  "n": 15289990,
                  "sem": 0.0000183635,
                  "start_time": "2022-07-28T00:00:00.000Z",
                  "trial_index": 0
                },
                {
                  "arm_name": "0_1",
                  "end_time": "2022-08-10T00:00:00.000Z",
                  "frac_nonnull": 0.5943576157,
                  "index": 16,
                  "mean": 42.9460772923,
                  "metric_name": "core_app:ecosystem:sessions:core_session_count_cap15:fb_major_apps_REGRESSION_ADJUSTED_MEAN",
                  "n": 15289990,
                  "sem": 0.0090126549,
                  "start_time": "2022-07-28T00:00:00.000Z",
                  "trial_index": 0
                },
                {
                  "arm_name": "0_1",
                  "end_time": "2022-08-10T00:00:00.000Z",
                  "frac_nonnull": 0.0861003833,
                  "index": 17,
                  "mean": 6.1859679746,
                  "metric_name": "core_growth:visitation:dap:overall_facebook:us_ca_REGRESSION_ADJUSTED_NO_WINSORIZATION_CONDITIONAL_MEAN",
                  "n": 15289990,
                  "sem": 0.0026910448,
                  "start_time": "2022-07-28T00:00:00.000Z",
                  "trial_index": 0
                },
                {
                  "arm_name": "0_1",
                  "end_time": "2022-08-10T00:00:00.000Z",
                  "frac_nonnull": 0.7232989688,
                  "index": 18,
                  "mean": 5.2530734666,
                  "metric_name": "core_growth:visitation:dap:overall_facebook_REGRESSION_ADJUSTED_MEAN",
                  "n": 15289990,
                  "sem": 0.0008095639,
                  "start_time": "2022-07-28T00:00:00.000Z",
                  "trial_index": 0
                },
                {
                  "arm_name": "0_1",
                  "end_time": "2022-08-10T00:00:00.000Z",
                  "frac_nonnull": 0.5203189799,
                  "index": 19,
                  "mean": 124.9564059447,
                  "metric_name": "news_feed:distinct_vpv:feed:num_vpv_given:friend_reshare",
                  "n": 15289990,
                  "sem": 0.0644851981,
                  "start_time": "2022-07-28T00:00:00.000Z",
                  "trial_index": 0
                },
                {
                  "arm_name": "0_1",
                  "end_time": "2022-08-10T00:00:00.000Z",
                  "frac_nonnull": 0.6007230221,
                  "index": 20,
                  "mean": 776.2340502565,
                  "metric_name": "news_feed:distinct_vpv:feed:num_vpv_given:overall",
                  "n": 15289990,
                  "sem": 0.2802559211,
                  "start_time": "2022-07-28T00:00:00.000Z",
                  "trial_index": 0
                },
                {
                  "arm_name": "0_1",
                  "end_time": "2022-08-10T00:00:00.000Z",
                  "frac_nonnull": 0.4688332039,
                  "index": 21,
                  "mean": 95.2948558407,
                  "metric_name": "news_feed:msi:given:feed:overall",
                  "n": 15289990,
                  "sem": 0.0763431035,
                  "start_time": "2022-07-28T00:00:00.000Z",
                  "trial_index": 0
                },
                {
                  "arm_name": "0_1",
                  "end_time": "2022-08-10T00:00:00.000Z",
                  "frac_nonnull": 1,
                  "index": 22,
                  "mean": 0.4268038487,
                  "metric_name": "news_feed_integrity:misinfo_frx:viewer:frx_per_vpv:overall",
                  "n": 15289990,
                  "sem": 0.0002864609,
                  "start_time": "2022-07-28T00:00:00.000Z",
                  "trial_index": 0
                },
                {
                  "arm_name": "0_1",
                  "end_time": "2022-08-10T00:00:00.000Z",
                  "frac_nonnull": 0.5523938865,
                  "index": 23,
                  "mean": 43.4368308249,
                  "metric_name": "news_feed_integrity:quality_sessions:discounted:survey_based",
                  "n": 15289990,
                  "sem": 0.0154338171,
                  "start_time": "2022-07-28T00:00:00.000Z",
                  "trial_index": 0
                },
                {
                  "arm_name": "0_1",
                  "end_time": "2022-08-08T00:00:00.000Z",
                  "frac_nonnull": 0.6105739177,
                  "index": 24,
                  "mean": 0.0526218804,
                  "metric_name": "news_feed_integrity:responsible_ranking:upf_trips_proxy_metric:civic_combined",
                  "n": 15000495,
                  "sem": 0.0000141969,
                  "start_time": "2022-07-28T00:00:00.000Z",
                  "trial_index": 0
                },
                {
                  "arm_name": "0_1",
                  "end_time": "2022-08-08T00:00:00.000Z",
                  "frac_nonnull": 0.6105739177,
                  "index": 25,
                  "mean": 0.0938625889,
                  "metric_name": "news_feed_integrity:responsible_ranking:upf_trips_proxy_metric:integrity_bucket",
                  "n": 15000495,
                  "sem": 0.0000237219,
                  "start_time": "2022-07-28T00:00:00.000Z",
                  "trial_index": 0
                },
                {
                  "arm_name": "0_1",
                  "end_time": "2022-08-08T00:00:00.000Z",
                  "frac_nonnull": 0.6105739177,
                  "index": 26,
                  "mean": 0.1120321145,
                  "metric_name": "news_feed_integrity:responsible_ranking:upf_trips_proxy_metric:tone_bucket",
                  "n": 15000495,
                  "sem": 0.000029704,
                  "start_time": "2022-07-28T00:00:00.000Z",
                  "trial_index": 0
                },
                {
                  "arm_name": "0_1",
                  "end_time": "2022-08-10T00:00:00.000Z",
                  "frac_nonnull": 0.1837320364,
                  "index": 27,
                  "mean": 0.6042401867,
                  "metric_name": "sharing:post_production:original_broadcast_feed_post",
                  "n": 15289990,
                  "sem": 0.0007804788,
                  "start_time": "2022-07-28T00:00:00.000Z",
                  "trial_index": 0
                },
                {
                  "arm_name": "0_1",
                  "end_time": "2022-08-10T00:00:00.000Z",
                  "frac_nonnull": 0.1856995328,
                  "index": 28,
                  "mean": 1.0857353483,
                  "metric_name": "sharing:post_production:original_broadcast_story_post",
                  "n": 15289990,
                  "sem": 0.0010210792,
                  "start_time": "2022-07-28T00:00:00.000Z",
                  "trial_index": 0
                },
                {
                  "arm_name": "0_1",
                  "end_time": "2022-08-10T00:00:00.000Z",
                  "frac_nonnull": 0.1886899207,
                  "index": 29,
                  "mean": 1.8425556716,
                  "metric_name": "sharing:post_production:reshare_broadcast_post",
                  "n": 15289990,
                  "sem": 0.002472118,
                  "start_time": "2022-07-28T00:00:00.000Z",
                  "trial_index": 0
                },
                {
                  "arm_name": "0_2",
                  "end_time": "2022-08-10T00:00:00.000Z",
                  "frac_nonnull": 1,
                  "index": 30,
                  "mean": 0.0234758659,
                  "metric_name": "community_integrity:cep:viewer:holistic_prevalence_world__severity_weighted_prevalence__volume_CONDITIONAL_MEAN",
                  "n": 15287970,
                  "sem": 0.0000183658,
                  "start_time": "2022-07-28T00:00:00.000Z",
                  "trial_index": 0
                },
                {
                  "arm_name": "0_2",
                  "end_time": "2022-08-10T00:00:00.000Z",
                  "frac_nonnull": 0.5943156613,
                  "index": 31,
                  "mean": 42.9840239949,
                  "metric_name": "core_app:ecosystem:sessions:core_session_count_cap15:fb_major_apps_REGRESSION_ADJUSTED_MEAN",
                  "n": 15287970,
                  "sem": 0.0090161789,
                  "start_time": "2022-07-28T00:00:00.000Z",
                  "trial_index": 0
                },
                {
                  "arm_name": "0_2",
                  "end_time": "2022-08-10T00:00:00.000Z",
                  "frac_nonnull": 0.085925077,
                  "index": 32,
                  "mean": 6.1840324242,
                  "metric_name": "core_growth:visitation:dap:overall_facebook:us_ca_REGRESSION_ADJUSTED_NO_WINSORIZATION_CONDITIONAL_MEAN",
                  "n": 15287970,
                  "sem": 0.0026920247,
                  "start_time": "2022-07-28T00:00:00.000Z",
                  "trial_index": 0
                },
                {
                  "arm_name": "0_2",
                  "end_time": "2022-08-10T00:00:00.000Z",
                  "frac_nonnull": 0.7232903387,
                  "index": 33,
                  "mean": 5.2539176942,
                  "metric_name": "core_growth:visitation:dap:overall_facebook_REGRESSION_ADJUSTED_MEAN",
                  "n": 15287970,
                  "sem": 0.0008094936,
                  "start_time": "2022-07-28T00:00:00.000Z",
                  "trial_index": 0
                },
                {
                  "arm_name": "0_2",
                  "end_time": "2022-08-10T00:00:00.000Z",
                  "frac_nonnull": 0.5224167107,
                  "index": 34,
                  "mean": 130.9793869507,
                  "metric_name": "news_feed:distinct_vpv:feed:num_vpv_given:friend_reshare",
                  "n": 15287970,
                  "sem": 0.0655340818,
                  "start_time": "2022-07-28T00:00:00.000Z",
                  "trial_index": 0
                },
                {
                  "arm_name": "0_2",
                  "end_time": "2022-08-10T00:00:00.000Z",
                  "frac_nonnull": 0.600656006,
                  "index": 35,
                  "mean": 773.9690557469,
                  "metric_name": "news_feed:distinct_vpv:feed:num_vpv_given:overall",
                  "n": 15287970,
                  "sem": 0.2798344807,
                  "start_time": "2022-07-28T00:00:00.000Z",
                  "trial_index": 0
                },
                {
                  "arm_name": "0_2",
                  "end_time": "2022-08-10T00:00:00.000Z",
                  "frac_nonnull": 0.4685789546,
                  "index": 36,
                  "mean": 95.4314814701,
                  "metric_name": "news_feed:msi:given:feed:overall",
                  "n": 15287970,
                  "sem": 0.0763904762,
                  "start_time": "2022-07-28T00:00:00.000Z",
                  "trial_index": 0
                },
                {
                  "arm_name": "0_2",
                  "end_time": "2022-08-10T00:00:00.000Z",
                  "frac_nonnull": 1,
                  "index": 37,
                  "mean": 0.4415133165,
                  "metric_name": "news_feed_integrity:misinfo_frx:viewer:frx_per_vpv:overall",
                  "n": 15287970,
                  "sem": 0.0002947379,
                  "start_time": "2022-07-28T00:00:00.000Z",
                  "trial_index": 0
                },
                {
                  "arm_name": "0_2",
                  "end_time": "2022-08-10T00:00:00.000Z",
                  "frac_nonnull": 0.552376411,
                  "index": 38,
                  "mean": 43.4830552945,
                  "metric_name": "news_feed_integrity:quality_sessions:discounted:survey_based",
                  "n": 15287970,
                  "sem": 0.0154443208,
                  "start_time": "2022-07-28T00:00:00.000Z",
                  "trial_index": 0
                },
                {
                  "arm_name": "0_2",
                  "end_time": "2022-08-08T00:00:00.000Z",
                  "frac_nonnull": 0.6104515161,
                  "index": 39,
                  "mean": 0.0526932045,
                  "metric_name": "news_feed_integrity:responsible_ranking:upf_trips_proxy_metric:civic_combined",
                  "n": 14998934,
                  "sem": 0.0000142249,
                  "start_time": "2022-07-28T00:00:00.000Z",
                  "trial_index": 0
                },
                {
                  "arm_name": "0_2",
                  "end_time": "2022-08-08T00:00:00.000Z",
                  "frac_nonnull": 0.6104515161,
                  "index": 40,
                  "mean": 0.093902779,
                  "metric_name": "news_feed_integrity:responsible_ranking:upf_trips_proxy_metric:integrity_bucket",
                  "n": 14998934,
                  "sem": 0.0000237365,
                  "start_time": "2022-07-28T00:00:00.000Z",
                  "trial_index": 0
                },
                {
                  "arm_name": "0_2",
                  "end_time": "2022-08-08T00:00:00.000Z",
                  "frac_nonnull": 0.6104515161,
                  "index": 41,
                  "mean": 0.11216702,
                  "metric_name": "news_feed_integrity:responsible_ranking:upf_trips_proxy_metric:tone_bucket",
                  "n": 14998934,
                  "sem": 0.0000297596,
                  "start_time": "2022-07-28T00:00:00.000Z",
                  "trial_index": 0
                },
                {
                  "arm_name": "0_2",
                  "end_time": "2022-08-10T00:00:00.000Z",
                  "frac_nonnull": 0.1832859431,
                  "index": 42,
                  "mean": 0.6010995304,
                  "metric_name": "sharing:post_production:original_broadcast_feed_post",
                  "n": 15287970,
                  "sem": 0.0007760039,
                  "start_time": "2022-07-28T00:00:00.000Z",
                  "trial_index": 0
                },
                {
                  "arm_name": "0_2",
                  "end_time": "2022-08-10T00:00:00.000Z",
                  "frac_nonnull": 0.1853943329,
                  "index": 43,
                  "mean": 1.0830092503,
                  "metric_name": "sharing:post_production:original_broadcast_story_post",
                  "n": 15287970,
                  "sem": 0.0010167832,
                  "start_time": "2022-07-28T00:00:00.000Z",
                  "trial_index": 0
                },
                {
                  "arm_name": "0_2",
                  "end_time": "2022-08-10T00:00:00.000Z",
                  "frac_nonnull": 0.1893900237,
                  "index": 44,
                  "mean": 1.8972600673,
                  "metric_name": "sharing:post_production:reshare_broadcast_post",
                  "n": 15287970,
                  "sem": 0.0025283887,
                  "start_time": "2022-07-28T00:00:00.000Z",
                  "trial_index": 0
                },
                {
                  "arm_name": "0_3",
                  "end_time": "2022-08-10T00:00:00.000Z",
                  "frac_nonnull": 1,
                  "index": 45,
                  "mean": 0.0234764266,
                  "metric_name": "community_integrity:cep:viewer:holistic_prevalence_world__severity_weighted_prevalence__volume_CONDITIONAL_MEAN",
                  "n": 15284115,
                  "sem": 0.0000184819,
                  "start_time": "2022-07-28T00:00:00.000Z",
                  "trial_index": 0
                },
                {
                  "arm_name": "0_3",
                  "end_time": "2022-08-10T00:00:00.000Z",
                  "frac_nonnull": 0.5941572672,
                  "index": 46,
                  "mean": 42.9644921905,
                  "metric_name": "core_app:ecosystem:sessions:core_session_count_cap15:fb_major_apps_REGRESSION_ADJUSTED_MEAN",
                  "n": 15284115,
                  "sem": 0.0090143388,
                  "start_time": "2022-07-28T00:00:00.000Z",
                  "trial_index": 0
                },
                {
                  "arm_name": "0_3",
                  "end_time": "2022-08-10T00:00:00.000Z",
                  "frac_nonnull": 0.0860940264,
                  "index": 47,
                  "mean": 6.1833298083,
                  "metric_name": "core_growth:visitation:dap:overall_facebook:us_ca_REGRESSION_ADJUSTED_NO_WINSORIZATION_CONDITIONAL_MEAN",
                  "n": 15284115,
                  "sem": 0.0026918222,
                  "start_time": "2022-07-28T00:00:00.000Z",
                  "trial_index": 0
                },
                {
                  "arm_name": "0_3",
                  "end_time": "2022-08-10T00:00:00.000Z",
                  "frac_nonnull": 0.7231240409,
                  "index": 48,
                  "mean": 5.2532373516,
                  "metric_name": "core_growth:visitation:dap:overall_facebook_REGRESSION_ADJUSTED_MEAN",
                  "n": 15284115,
                  "sem": 0.0008095137,
                  "start_time": "2022-07-28T00:00:00.000Z",
                  "trial_index": 0
                },
                {
                  "arm_name": "0_3",
                  "end_time": "2022-08-10T00:00:00.000Z",
                  "frac_nonnull": 0.5239163668,
                  "index": 49,
                  "mean": 135.917338799,
                  "metric_name": "news_feed:distinct_vpv:feed:num_vpv_given:friend_reshare",
                  "n": 15284115,
                  "sem": 0.0677924578,
                  "start_time": "2022-07-28T00:00:00.000Z",
                  "trial_index": 0
                },
                {
                  "arm_name": "0_3",
                  "end_time": "2022-08-10T00:00:00.000Z",
                  "frac_nonnull": 0.6005586846,
                  "index": 50,
                  "mean": 773.0315600572,
                  "metric_name": "news_feed:distinct_vpv:feed:num_vpv_given:overall",
                  "n": 15284115,
                  "sem": 0.2793378726,
                  "start_time": "2022-07-28T00:00:00.000Z",
                  "trial_index": 0
                },
                {
                  "arm_name": "0_3",
                  "end_time": "2022-08-10T00:00:00.000Z",
                  "frac_nonnull": 0.4683368975,
                  "index": 51,
                  "mean": 95.5753750194,
                  "metric_name": "news_feed:msi:given:feed:overall",
                  "n": 15284115,
                  "sem": 0.0764671795,
                  "start_time": "2022-07-28T00:00:00.000Z",
                  "trial_index": 0
                },
                {
                  "arm_name": "0_3",
                  "end_time": "2022-08-10T00:00:00.000Z",
                  "frac_nonnull": 1,
                  "index": 52,
                  "mean": 0.4353381487,
                  "metric_name": "news_feed_integrity:misinfo_frx:viewer:frx_per_vpv:overall",
                  "n": 15284115,
                  "sem": 0.000290725,
                  "start_time": "2022-07-28T00:00:00.000Z",
                  "trial_index": 0
                },
                {
                  "arm_name": "0_3",
                  "end_time": "2022-08-10T00:00:00.000Z",
                  "frac_nonnull": 0.5521461334,
                  "index": 53,
                  "mean": 43.4647469758,
                  "metric_name": "news_feed_integrity:quality_sessions:discounted:survey_based",
                  "n": 15284115,
                  "sem": 0.015444094,
                  "start_time": "2022-07-28T00:00:00.000Z",
                  "trial_index": 0
                },
                {
                  "arm_name": "0_3",
                  "end_time": "2022-08-08T00:00:00.000Z",
                  "frac_nonnull": 0.6102438032,
                  "index": 54,
                  "mean": 0.0526560381,
                  "metric_name": "news_feed_integrity:responsible_ranking:upf_trips_proxy_metric:civic_combined",
                  "n": 14995251,
                  "sem": 0.0000142201,
                  "start_time": "2022-07-28T00:00:00.000Z",
                  "trial_index": 0
                },
                {
                  "arm_name": "0_3",
                  "end_time": "2022-08-08T00:00:00.000Z",
                  "frac_nonnull": 0.6102438032,
                  "index": 55,
                  "mean": 0.0938310186,
                  "metric_name": "news_feed_integrity:responsible_ranking:upf_trips_proxy_metric:integrity_bucket",
                  "n": 14995251,
                  "sem": 0.0000237271,
                  "start_time": "2022-07-28T00:00:00.000Z",
                  "trial_index": 0
                },
                {
                  "arm_name": "0_3",
                  "end_time": "2022-08-08T00:00:00.000Z",
                  "frac_nonnull": 0.6102438032,
                  "index": 56,
                  "mean": 0.1120714926,
                  "metric_name": "news_feed_integrity:responsible_ranking:upf_trips_proxy_metric:tone_bucket",
                  "n": 14995251,
                  "sem": 0.0000297418,
                  "start_time": "2022-07-28T00:00:00.000Z",
                  "trial_index": 0
                },
                {
                  "arm_name": "0_3",
                  "end_time": "2022-08-10T00:00:00.000Z",
                  "frac_nonnull": 0.1834780751,
                  "index": 57,
                  "mean": 0.6025190496,
                  "metric_name": "sharing:post_production:original_broadcast_feed_post",
                  "n": 15284115,
                  "sem": 0.0007749319,
                  "start_time": "2022-07-28T00:00:00.000Z",
                  "trial_index": 0
                },
                {
                  "arm_name": "0_3",
                  "end_time": "2022-08-10T00:00:00.000Z",
                  "frac_nonnull": 0.1853549257,
                  "index": 58,
                  "mean": 1.0838973392,
                  "metric_name": "sharing:post_production:original_broadcast_story_post",
                  "n": 15284115,
                  "sem": 0.0010180272,
                  "start_time": "2022-07-28T00:00:00.000Z",
                  "trial_index": 0
                },
                {
                  "arm_name": "0_3",
                  "end_time": "2022-08-10T00:00:00.000Z",
                  "frac_nonnull": 0.1895265771,
                  "index": 59,
                  "mean": 1.8799604957,
                  "metric_name": "sharing:post_production:reshare_broadcast_post",
                  "n": 15284115,
                  "sem": 0.0025070415,
                  "start_time": "2022-07-28T00:00:00.000Z",
                  "trial_index": 0
                }
              ],
              "schema": {
                "fields": [
                  {
                    "name": "index",
                    "type": "integer"
                  },
                  {
                    "name": "arm_name",
                    "type": "string"
                  },
                  {
                    "name": "metric_name",
                    "type": "string"
                  },
                  {
                    "name": "mean",
                    "type": "number"
                  },
                  {
                    "name": "sem",
                    "type": "number"
                  },
                  {
                    "name": "trial_index",
                    "type": "integer"
                  },
                  {
                    "name": "start_time",
                    "type": "datetime"
                  },
                  {
                    "name": "end_time",
                    "type": "datetime"
                  },
                  {
                    "name": "n",
                    "type": "integer"
                  },
                  {
                    "name": "frac_nonnull",
                    "type": "number"
                  }
                ],
                "pandas_version": "0.20.0",
                "primaryKey": [
                  "index"
                ]
              }
            },
            "text/html": [
              "<div>\n",
              "<style scoped>\n",
              "    .dataframe tbody tr th:only-of-type {\n",
              "        vertical-align: middle;\n",
              "    }\n",
              "\n",
              "    .dataframe tbody tr th {\n",
              "        vertical-align: top;\n",
              "    }\n",
              "\n",
              "    .dataframe thead th {\n",
              "        text-align: right;\n",
              "    }\n",
              "</style>\n",
              "<table border=\"1\" class=\"dataframe\">\n",
              "  <thead>\n",
              "    <tr style=\"text-align: right;\">\n",
              "      <th></th>\n",
              "      <th>arm_name</th>\n",
              "      <th>metric_name</th>\n",
              "      <th>mean</th>\n",
              "      <th>sem</th>\n",
              "      <th>trial_index</th>\n",
              "      <th>start_time</th>\n",
              "      <th>end_time</th>\n",
              "      <th>n</th>\n",
              "      <th>frac_nonnull</th>\n",
              "    </tr>\n",
              "  </thead>\n",
              "  <tbody>\n",
              "    <tr>\n",
              "      <th>0</th>\n",
              "      <td>0_0</td>\n",
              "      <td>community_integrity:cep:viewer:holistic_preval...</td>\n",
              "      <td>0.023474</td>\n",
              "      <td>0.000019</td>\n",
              "      <td>0</td>\n",
              "      <td>2022-07-28</td>\n",
              "      <td>2022-08-10</td>\n",
              "      <td>15283233</td>\n",
              "      <td>1.000000</td>\n",
              "    </tr>\n",
              "    <tr>\n",
              "      <th>1</th>\n",
              "      <td>0_0</td>\n",
              "      <td>core_app:ecosystem:sessions:core_session_count...</td>\n",
              "      <td>42.953520</td>\n",
              "      <td>0.009015</td>\n",
              "      <td>0</td>\n",
              "      <td>2022-07-28</td>\n",
              "      <td>2022-08-10</td>\n",
              "      <td>15283233</td>\n",
              "      <td>0.594425</td>\n",
              "    </tr>\n",
              "    <tr>\n",
              "      <th>2</th>\n",
              "      <td>0_0</td>\n",
              "      <td>core_growth:visitation:dap:overall_facebook:us...</td>\n",
              "      <td>6.187919</td>\n",
              "      <td>0.002691</td>\n",
              "      <td>0</td>\n",
              "      <td>2022-07-28</td>\n",
              "      <td>2022-08-10</td>\n",
              "      <td>15283233</td>\n",
              "      <td>0.086002</td>\n",
              "    </tr>\n",
              "    <tr>\n",
              "      <th>3</th>\n",
              "      <td>0_0</td>\n",
              "      <td>core_growth:visitation:dap:overall_facebook_RE...</td>\n",
              "      <td>5.253060</td>\n",
              "      <td>0.000810</td>\n",
              "      <td>0</td>\n",
              "      <td>2022-07-28</td>\n",
              "      <td>2022-08-10</td>\n",
              "      <td>15283233</td>\n",
              "      <td>0.723311</td>\n",
              "    </tr>\n",
              "    <tr>\n",
              "      <th>4</th>\n",
              "      <td>0_0</td>\n",
              "      <td>news_feed:distinct_vpv:feed:num_vpv_given:frie...</td>\n",
              "      <td>144.351133</td>\n",
              "      <td>0.071252</td>\n",
              "      <td>0</td>\n",
              "      <td>2022-07-28</td>\n",
              "      <td>2022-08-10</td>\n",
              "      <td>15283233</td>\n",
              "      <td>0.523008</td>\n",
              "    </tr>\n",
              "    <tr>\n",
              "      <th>...</th>\n",
              "      <td>...</td>\n",
              "      <td>...</td>\n",
              "      <td>...</td>\n",
              "      <td>...</td>\n",
              "      <td>...</td>\n",
              "      <td>...</td>\n",
              "      <td>...</td>\n",
              "      <td>...</td>\n",
              "      <td>...</td>\n",
              "    </tr>\n",
              "    <tr>\n",
              "      <th>115</th>\n",
              "      <td>status_quo</td>\n",
              "      <td>news_feed_integrity:responsible_ranking:upf_tr...</td>\n",
              "      <td>0.093951</td>\n",
              "      <td>0.000015</td>\n",
              "      <td>0</td>\n",
              "      <td>2022-07-28</td>\n",
              "      <td>2022-08-08</td>\n",
              "      <td>39644461</td>\n",
              "      <td>0.610402</td>\n",
              "    </tr>\n",
              "    <tr>\n",
              "      <th>116</th>\n",
              "      <td>status_quo</td>\n",
              "      <td>news_feed_integrity:responsible_ranking:upf_tr...</td>\n",
              "      <td>0.112255</td>\n",
              "      <td>0.000018</td>\n",
              "      <td>0</td>\n",
              "      <td>2022-07-28</td>\n",
              "      <td>2022-08-08</td>\n",
              "      <td>39644461</td>\n",
              "      <td>0.610402</td>\n",
              "    </tr>\n",
              "    <tr>\n",
              "      <th>117</th>\n",
              "      <td>status_quo</td>\n",
              "      <td>sharing:post_production:original_broadcast_fee...</td>\n",
              "      <td>0.600978</td>\n",
              "      <td>0.000580</td>\n",
              "      <td>0</td>\n",
              "      <td>2022-07-28</td>\n",
              "      <td>2022-08-10</td>\n",
              "      <td>40406206</td>\n",
              "      <td>0.183274</td>\n",
              "    </tr>\n",
              "    <tr>\n",
              "      <th>118</th>\n",
              "      <td>status_quo</td>\n",
              "      <td>sharing:post_production:original_broadcast_sto...</td>\n",
              "      <td>1.083311</td>\n",
              "      <td>0.000768</td>\n",
              "      <td>0</td>\n",
              "      <td>2022-07-28</td>\n",
              "      <td>2022-08-10</td>\n",
              "      <td>40406206</td>\n",
              "      <td>0.185415</td>\n",
              "    </tr>\n",
              "    <tr>\n",
              "      <th>119</th>\n",
              "      <td>status_quo</td>\n",
              "      <td>sharing:post_production:reshare_broadcast_post</td>\n",
              "      <td>1.898595</td>\n",
              "      <td>0.002042</td>\n",
              "      <td>0</td>\n",
              "      <td>2022-07-28</td>\n",
              "      <td>2022-08-10</td>\n",
              "      <td>40406206</td>\n",
              "      <td>0.189149</td>\n",
              "    </tr>\n",
              "  </tbody>\n",
              "</table>\n",
              "<p>120 rows × 9 columns</p>\n",
              "</div>"
            ],
            "text/plain": [
              "       arm_name  ... frac_nonnull\n",
              "0           0_0  ...     1.000000\n",
              "1           0_0  ...     0.594425\n",
              "2           0_0  ...     0.086002\n",
              "3           0_0  ...     0.723311\n",
              "4           0_0  ...     0.523008\n",
              "..          ...  ...          ...\n",
              "115  status_quo  ...     0.610402\n",
              "116  status_quo  ...     0.610402\n",
              "117  status_quo  ...     0.183274\n",
              "118  status_quo  ...     0.185415\n",
              "119  status_quo  ...     0.189149\n",
              "\n",
              "[120 rows x 9 columns]"
            ]
          },
          "execution_count": 61,
          "metadata": {
            "bento_obj_id": "140134931269712"
          },
          "output_type": "execute_result"
        }
      ],
      "source": [
        "data0.df"
      ]
    },
    {
      "cell_type": "code",
      "execution_count": 62,
      "metadata": {
        "collapsed": false,
        "customInput": null,
        "customOutput": null,
        "executionStartTime": 1673038132199,
        "executionStopTime": 1673038132236,
        "originalKey": "ad94aea0-4165-426a-a106-ef2d7033a0c4",
        "requestMsgId": "d2fb6604-ea0f-4028-9f18-c5a5d4c75251",
        "showInput": true
      },
      "outputs": [],
      "source": [
        "# TODO: understand code from Qing\n",
        "\n",
        "from ax.core.data import Data\n",
        "from ax.utils.stats.statstools import relativize_data\n",
        "\n",
        "\n",
        "def transform_batch_data_to_new_sq(data0, data1, sq_name):\n",
        "\n",
        "    # The idea is to use the status quo output in data1 as a \"new baseline\"\n",
        "    # almost like a coordinate transformation where you change the origin and axes scales\n",
        "    # the resulting data is not relativized, but can be relativized with respect to data1 status quo\n",
        "\n",
        "    # first relativize data0 wrt sq arm 0\n",
        "    rel_data = relativize_data(\n",
        "        data=data0,\n",
        "        status_quo_name=sq_name,\n",
        "        as_percent=False,\n",
        "        include_sq=True,  # it makes sense to keep it because after coord-transform the sq arm is unlike to be 0's\n",
        "    )\n",
        "    df0_t = rel_data.df.copy()\n",
        "    metric_names = data1.df[\"metric_name\"].unique()\n",
        "    df0_t = df0_t[df0_t[\"metric_name\"].isin(metric_names)]  # take the intersection of df0 and df1 metrics\n",
        "\n",
        "    for metric_name in data1.df[\"metric_name\"].unique():\n",
        "        # get metric value for data1 status quo arm\n",
        "        sq1 = data1.df[(data1.df[\"metric_name\"] == metric_name) & (data1.df[\"arm_name\"] == sq_name)][\"mean\"].item()\n",
        "        # get the row in df0_t corresponding to the current metric\n",
        "        indx = df0_t[\"metric_name\"] == metric_name\n",
        "        # scale the metric mean to a new value\n",
        "        # such that if we relativize this new value wrt sq1, we still get (m0-sq0)/sq0\n",
        "        df0_t.loc[indx, \"mean\"] = sq1 * (1 + df0_t.loc[indx, \"mean\"])\n",
        "        # scale the metric SEM by the mean of sq1\n",
        "        df0_t.loc[indx, \"sem\"] *= sq1\n",
        "\n",
        "    return Data(df0_t)"
      ]
    },
    {
      "cell_type": "code",
      "execution_count": 63,
      "metadata": {
        "collapsed": false,
        "customInput": null,
        "customOutput": null,
        "executionStartTime": 1673038133293,
        "executionStopTime": 1673038134077,
        "originalKey": "921c2d01-53ba-4e58-9b58-cffd84313f98",
        "requestMsgId": "92ec603b-c49b-46c7-b360-8ef67bce27cd",
        "showInput": true
      },
      "outputs": [],
      "source": [
        "data1t = transform_batch_data_to_new_sq(data1, data0, \"status_quo\")\n",
        "data2t = transform_batch_data_to_new_sq(data2, data0, \"status_quo\")\n",
        "data3t = transform_batch_data_to_new_sq(data3, data0, \"status_quo\")\n",
        "\n",
        "\n",
        "all_data = Data.from_multiple_data([data0, data1t, data2t, data3t])"
      ]
    },
    {
      "cell_type": "code",
      "execution_count": 64,
      "metadata": {
        "collapsed": false,
        "customInput": null,
        "customOutput": null,
        "executionStartTime": 1673038134179,
        "executionStopTime": 1673038134287,
        "originalKey": "3fd984a5-72f7-4d91-a017-ff092f816213",
        "requestMsgId": "2603d2f0-3463-4ada-8714-58e12a5577ef",
        "showInput": false
      },
      "outputs": [
        {
          "data": {
            "application/vnd.dataresource+json": {
              "data": [
                {
                  "arm_name": "0_0",
                  "end_time": "2022-08-10T00:00:00.000Z",
                  "frac_nonnull": 1,
                  "index": 0,
                  "mean": 0.0234742739,
                  "metric_name": "community_integrity:cep:viewer:holistic_prevalence_world__severity_weighted_prevalence__volume_CONDITIONAL_MEAN",
                  "n": 15283233,
                  "sem": 0.000018505,
                  "start_time": "2022-07-28T00:00:00.000Z",
                  "trial_index": 0
                },
                {
                  "arm_name": "0_0",
                  "end_time": "2022-08-10T00:00:00.000Z",
                  "frac_nonnull": 0.5944250801,
                  "index": 1,
                  "mean": 42.9535200126,
                  "metric_name": "core_app:ecosystem:sessions:core_session_count_cap15:fb_major_apps_REGRESSION_ADJUSTED_MEAN",
                  "n": 15283233,
                  "sem": 0.0090154128,
                  "start_time": "2022-07-28T00:00:00.000Z",
                  "trial_index": 0
                },
                {
                  "arm_name": "0_0",
                  "end_time": "2022-08-10T00:00:00.000Z",
                  "frac_nonnull": 0.0860017642,
                  "index": 2,
                  "mean": 6.18791888,
                  "metric_name": "core_growth:visitation:dap:overall_facebook:us_ca_REGRESSION_ADJUSTED_NO_WINSORIZATION_CONDITIONAL_MEAN",
                  "n": 15283233,
                  "sem": 0.002690938,
                  "start_time": "2022-07-28T00:00:00.000Z",
                  "trial_index": 0
                },
                {
                  "arm_name": "0_0",
                  "end_time": "2022-08-10T00:00:00.000Z",
                  "frac_nonnull": 0.7233105718,
                  "index": 3,
                  "mean": 5.253059944,
                  "metric_name": "core_growth:visitation:dap:overall_facebook_REGRESSION_ADJUSTED_MEAN",
                  "n": 15283233,
                  "sem": 0.0008096148,
                  "start_time": "2022-07-28T00:00:00.000Z",
                  "trial_index": 0
                },
                {
                  "arm_name": "0_0",
                  "end_time": "2022-08-10T00:00:00.000Z",
                  "frac_nonnull": 0.5230082536,
                  "index": 4,
                  "mean": 144.3511325338,
                  "metric_name": "news_feed:distinct_vpv:feed:num_vpv_given:friend_reshare",
                  "n": 15283233,
                  "sem": 0.0712516348,
                  "start_time": "2022-07-28T00:00:00.000Z",
                  "trial_index": 0
                },
                {
                  "arm_name": "0_0",
                  "end_time": "2022-08-10T00:00:00.000Z",
                  "frac_nonnull": 0.6007616975,
                  "index": 5,
                  "mean": 771.1197606522,
                  "metric_name": "news_feed:distinct_vpv:feed:num_vpv_given:overall",
                  "n": 15283233,
                  "sem": 0.278730593,
                  "start_time": "2022-07-28T00:00:00.000Z",
                  "trial_index": 0
                },
                {
                  "arm_name": "0_0",
                  "end_time": "2022-08-10T00:00:00.000Z",
                  "frac_nonnull": 0.468572978,
                  "index": 6,
                  "mean": 96.0093030236,
                  "metric_name": "news_feed:msi:given:feed:overall",
                  "n": 15283233,
                  "sem": 0.0767441331,
                  "start_time": "2022-07-28T00:00:00.000Z",
                  "trial_index": 0
                },
                {
                  "arm_name": "0_0",
                  "end_time": "2022-08-10T00:00:00.000Z",
                  "frac_nonnull": 1,
                  "index": 7,
                  "mean": 0.4410132753,
                  "metric_name": "news_feed_integrity:misinfo_frx:viewer:frx_per_vpv:overall",
                  "n": 15283233,
                  "sem": 0.0002926007,
                  "start_time": "2022-07-28T00:00:00.000Z",
                  "trial_index": 0
                },
                {
                  "arm_name": "0_0",
                  "end_time": "2022-08-10T00:00:00.000Z",
                  "frac_nonnull": 0.5524545101,
                  "index": 8,
                  "mean": 43.4409635813,
                  "metric_name": "news_feed_integrity:quality_sessions:discounted:survey_based",
                  "n": 15283233,
                  "sem": 0.0154373952,
                  "start_time": "2022-07-28T00:00:00.000Z",
                  "trial_index": 0
                },
                {
                  "arm_name": "0_0",
                  "end_time": "2022-08-08T00:00:00.000Z",
                  "frac_nonnull": 0.6105606355,
                  "index": 9,
                  "mean": 0.0526485724,
                  "metric_name": "news_feed_integrity:responsible_ranking:upf_trips_proxy_metric:civic_combined",
                  "n": 14993397,
                  "sem": 0.0000142092,
                  "start_time": "2022-07-28T00:00:00.000Z",
                  "trial_index": 0
                },
                {
                  "arm_name": "0_0",
                  "end_time": "2022-08-08T00:00:00.000Z",
                  "frac_nonnull": 0.6105606355,
                  "index": 10,
                  "mean": 0.0938198679,
                  "metric_name": "news_feed_integrity:responsible_ranking:upf_trips_proxy_metric:integrity_bucket",
                  "n": 14993397,
                  "sem": 0.0000237092,
                  "start_time": "2022-07-28T00:00:00.000Z",
                  "trial_index": 0
                },
                {
                  "arm_name": "0_0",
                  "end_time": "2022-08-08T00:00:00.000Z",
                  "frac_nonnull": 0.6105606355,
                  "index": 11,
                  "mean": 0.1120315664,
                  "metric_name": "news_feed_integrity:responsible_ranking:upf_trips_proxy_metric:tone_bucket",
                  "n": 14993397,
                  "sem": 0.0000297045,
                  "start_time": "2022-07-28T00:00:00.000Z",
                  "trial_index": 0
                },
                {
                  "arm_name": "0_0",
                  "end_time": "2022-08-10T00:00:00.000Z",
                  "frac_nonnull": 0.1835764069,
                  "index": 12,
                  "mean": 0.601790801,
                  "metric_name": "sharing:post_production:original_broadcast_feed_post",
                  "n": 15283233,
                  "sem": 0.0007730537,
                  "start_time": "2022-07-28T00:00:00.000Z",
                  "trial_index": 0
                },
                {
                  "arm_name": "0_0",
                  "end_time": "2022-08-10T00:00:00.000Z",
                  "frac_nonnull": 0.1855650568,
                  "index": 13,
                  "mean": 1.0828304521,
                  "metric_name": "sharing:post_production:original_broadcast_story_post",
                  "n": 15283233,
                  "sem": 0.0010167814,
                  "start_time": "2022-07-28T00:00:00.000Z",
                  "trial_index": 0
                },
                {
                  "arm_name": "0_0",
                  "end_time": "2022-08-10T00:00:00.000Z",
                  "frac_nonnull": 0.1896384096,
                  "index": 14,
                  "mean": 1.8916542972,
                  "metric_name": "sharing:post_production:reshare_broadcast_post",
                  "n": 15283233,
                  "sem": 0.0025093767,
                  "start_time": "2022-07-28T00:00:00.000Z",
                  "trial_index": 0
                },
                {
                  "arm_name": "0_1",
                  "end_time": "2022-08-10T00:00:00.000Z",
                  "frac_nonnull": 1,
                  "index": 15,
                  "mean": 0.0234631702,
                  "metric_name": "community_integrity:cep:viewer:holistic_prevalence_world__severity_weighted_prevalence__volume_CONDITIONAL_MEAN",
                  "n": 15289990,
                  "sem": 0.0000183635,
                  "start_time": "2022-07-28T00:00:00.000Z",
                  "trial_index": 0
                },
                {
                  "arm_name": "0_1",
                  "end_time": "2022-08-10T00:00:00.000Z",
                  "frac_nonnull": 0.5943576157,
                  "index": 16,
                  "mean": 42.9460772923,
                  "metric_name": "core_app:ecosystem:sessions:core_session_count_cap15:fb_major_apps_REGRESSION_ADJUSTED_MEAN",
                  "n": 15289990,
                  "sem": 0.0090126549,
                  "start_time": "2022-07-28T00:00:00.000Z",
                  "trial_index": 0
                },
                {
                  "arm_name": "0_1",
                  "end_time": "2022-08-10T00:00:00.000Z",
                  "frac_nonnull": 0.0861003833,
                  "index": 17,
                  "mean": 6.1859679746,
                  "metric_name": "core_growth:visitation:dap:overall_facebook:us_ca_REGRESSION_ADJUSTED_NO_WINSORIZATION_CONDITIONAL_MEAN",
                  "n": 15289990,
                  "sem": 0.0026910448,
                  "start_time": "2022-07-28T00:00:00.000Z",
                  "trial_index": 0
                },
                {
                  "arm_name": "0_1",
                  "end_time": "2022-08-10T00:00:00.000Z",
                  "frac_nonnull": 0.7232989688,
                  "index": 18,
                  "mean": 5.2530734666,
                  "metric_name": "core_growth:visitation:dap:overall_facebook_REGRESSION_ADJUSTED_MEAN",
                  "n": 15289990,
                  "sem": 0.0008095639,
                  "start_time": "2022-07-28T00:00:00.000Z",
                  "trial_index": 0
                },
                {
                  "arm_name": "0_1",
                  "end_time": "2022-08-10T00:00:00.000Z",
                  "frac_nonnull": 0.5203189799,
                  "index": 19,
                  "mean": 124.9564059447,
                  "metric_name": "news_feed:distinct_vpv:feed:num_vpv_given:friend_reshare",
                  "n": 15289990,
                  "sem": 0.0644851981,
                  "start_time": "2022-07-28T00:00:00.000Z",
                  "trial_index": 0
                },
                {
                  "arm_name": "0_1",
                  "end_time": "2022-08-10T00:00:00.000Z",
                  "frac_nonnull": 0.6007230221,
                  "index": 20,
                  "mean": 776.2340502565,
                  "metric_name": "news_feed:distinct_vpv:feed:num_vpv_given:overall",
                  "n": 15289990,
                  "sem": 0.2802559211,
                  "start_time": "2022-07-28T00:00:00.000Z",
                  "trial_index": 0
                },
                {
                  "arm_name": "0_1",
                  "end_time": "2022-08-10T00:00:00.000Z",
                  "frac_nonnull": 0.4688332039,
                  "index": 21,
                  "mean": 95.2948558407,
                  "metric_name": "news_feed:msi:given:feed:overall",
                  "n": 15289990,
                  "sem": 0.0763431035,
                  "start_time": "2022-07-28T00:00:00.000Z",
                  "trial_index": 0
                },
                {
                  "arm_name": "0_1",
                  "end_time": "2022-08-10T00:00:00.000Z",
                  "frac_nonnull": 1,
                  "index": 22,
                  "mean": 0.4268038487,
                  "metric_name": "news_feed_integrity:misinfo_frx:viewer:frx_per_vpv:overall",
                  "n": 15289990,
                  "sem": 0.0002864609,
                  "start_time": "2022-07-28T00:00:00.000Z",
                  "trial_index": 0
                },
                {
                  "arm_name": "0_1",
                  "end_time": "2022-08-10T00:00:00.000Z",
                  "frac_nonnull": 0.5523938865,
                  "index": 23,
                  "mean": 43.4368308249,
                  "metric_name": "news_feed_integrity:quality_sessions:discounted:survey_based",
                  "n": 15289990,
                  "sem": 0.0154338171,
                  "start_time": "2022-07-28T00:00:00.000Z",
                  "trial_index": 0
                },
                {
                  "arm_name": "0_1",
                  "end_time": "2022-08-08T00:00:00.000Z",
                  "frac_nonnull": 0.6105739177,
                  "index": 24,
                  "mean": 0.0526218804,
                  "metric_name": "news_feed_integrity:responsible_ranking:upf_trips_proxy_metric:civic_combined",
                  "n": 15000495,
                  "sem": 0.0000141969,
                  "start_time": "2022-07-28T00:00:00.000Z",
                  "trial_index": 0
                },
                {
                  "arm_name": "0_1",
                  "end_time": "2022-08-08T00:00:00.000Z",
                  "frac_nonnull": 0.6105739177,
                  "index": 25,
                  "mean": 0.0938625889,
                  "metric_name": "news_feed_integrity:responsible_ranking:upf_trips_proxy_metric:integrity_bucket",
                  "n": 15000495,
                  "sem": 0.0000237219,
                  "start_time": "2022-07-28T00:00:00.000Z",
                  "trial_index": 0
                },
                {
                  "arm_name": "0_1",
                  "end_time": "2022-08-08T00:00:00.000Z",
                  "frac_nonnull": 0.6105739177,
                  "index": 26,
                  "mean": 0.1120321145,
                  "metric_name": "news_feed_integrity:responsible_ranking:upf_trips_proxy_metric:tone_bucket",
                  "n": 15000495,
                  "sem": 0.000029704,
                  "start_time": "2022-07-28T00:00:00.000Z",
                  "trial_index": 0
                },
                {
                  "arm_name": "0_1",
                  "end_time": "2022-08-10T00:00:00.000Z",
                  "frac_nonnull": 0.1837320364,
                  "index": 27,
                  "mean": 0.6042401867,
                  "metric_name": "sharing:post_production:original_broadcast_feed_post",
                  "n": 15289990,
                  "sem": 0.0007804788,
                  "start_time": "2022-07-28T00:00:00.000Z",
                  "trial_index": 0
                },
                {
                  "arm_name": "0_1",
                  "end_time": "2022-08-10T00:00:00.000Z",
                  "frac_nonnull": 0.1856995328,
                  "index": 28,
                  "mean": 1.0857353483,
                  "metric_name": "sharing:post_production:original_broadcast_story_post",
                  "n": 15289990,
                  "sem": 0.0010210792,
                  "start_time": "2022-07-28T00:00:00.000Z",
                  "trial_index": 0
                },
                {
                  "arm_name": "0_1",
                  "end_time": "2022-08-10T00:00:00.000Z",
                  "frac_nonnull": 0.1886899207,
                  "index": 29,
                  "mean": 1.8425556716,
                  "metric_name": "sharing:post_production:reshare_broadcast_post",
                  "n": 15289990,
                  "sem": 0.002472118,
                  "start_time": "2022-07-28T00:00:00.000Z",
                  "trial_index": 0
                },
                {
                  "arm_name": "0_2",
                  "end_time": "2022-08-10T00:00:00.000Z",
                  "frac_nonnull": 1,
                  "index": 30,
                  "mean": 0.0234758659,
                  "metric_name": "community_integrity:cep:viewer:holistic_prevalence_world__severity_weighted_prevalence__volume_CONDITIONAL_MEAN",
                  "n": 15287970,
                  "sem": 0.0000183658,
                  "start_time": "2022-07-28T00:00:00.000Z",
                  "trial_index": 0
                },
                {
                  "arm_name": "0_2",
                  "end_time": "2022-08-10T00:00:00.000Z",
                  "frac_nonnull": 0.5943156613,
                  "index": 31,
                  "mean": 42.9840239949,
                  "metric_name": "core_app:ecosystem:sessions:core_session_count_cap15:fb_major_apps_REGRESSION_ADJUSTED_MEAN",
                  "n": 15287970,
                  "sem": 0.0090161789,
                  "start_time": "2022-07-28T00:00:00.000Z",
                  "trial_index": 0
                },
                {
                  "arm_name": "0_2",
                  "end_time": "2022-08-10T00:00:00.000Z",
                  "frac_nonnull": 0.085925077,
                  "index": 32,
                  "mean": 6.1840324242,
                  "metric_name": "core_growth:visitation:dap:overall_facebook:us_ca_REGRESSION_ADJUSTED_NO_WINSORIZATION_CONDITIONAL_MEAN",
                  "n": 15287970,
                  "sem": 0.0026920247,
                  "start_time": "2022-07-28T00:00:00.000Z",
                  "trial_index": 0
                },
                {
                  "arm_name": "0_2",
                  "end_time": "2022-08-10T00:00:00.000Z",
                  "frac_nonnull": 0.7232903387,
                  "index": 33,
                  "mean": 5.2539176942,
                  "metric_name": "core_growth:visitation:dap:overall_facebook_REGRESSION_ADJUSTED_MEAN",
                  "n": 15287970,
                  "sem": 0.0008094936,
                  "start_time": "2022-07-28T00:00:00.000Z",
                  "trial_index": 0
                },
                {
                  "arm_name": "0_2",
                  "end_time": "2022-08-10T00:00:00.000Z",
                  "frac_nonnull": 0.5224167107,
                  "index": 34,
                  "mean": 130.9793869507,
                  "metric_name": "news_feed:distinct_vpv:feed:num_vpv_given:friend_reshare",
                  "n": 15287970,
                  "sem": 0.0655340818,
                  "start_time": "2022-07-28T00:00:00.000Z",
                  "trial_index": 0
                },
                {
                  "arm_name": "0_2",
                  "end_time": "2022-08-10T00:00:00.000Z",
                  "frac_nonnull": 0.600656006,
                  "index": 35,
                  "mean": 773.9690557469,
                  "metric_name": "news_feed:distinct_vpv:feed:num_vpv_given:overall",
                  "n": 15287970,
                  "sem": 0.2798344807,
                  "start_time": "2022-07-28T00:00:00.000Z",
                  "trial_index": 0
                },
                {
                  "arm_name": "0_2",
                  "end_time": "2022-08-10T00:00:00.000Z",
                  "frac_nonnull": 0.4685789546,
                  "index": 36,
                  "mean": 95.4314814701,
                  "metric_name": "news_feed:msi:given:feed:overall",
                  "n": 15287970,
                  "sem": 0.0763904762,
                  "start_time": "2022-07-28T00:00:00.000Z",
                  "trial_index": 0
                },
                {
                  "arm_name": "0_2",
                  "end_time": "2022-08-10T00:00:00.000Z",
                  "frac_nonnull": 1,
                  "index": 37,
                  "mean": 0.4415133165,
                  "metric_name": "news_feed_integrity:misinfo_frx:viewer:frx_per_vpv:overall",
                  "n": 15287970,
                  "sem": 0.0002947379,
                  "start_time": "2022-07-28T00:00:00.000Z",
                  "trial_index": 0
                },
                {
                  "arm_name": "0_2",
                  "end_time": "2022-08-10T00:00:00.000Z",
                  "frac_nonnull": 0.552376411,
                  "index": 38,
                  "mean": 43.4830552945,
                  "metric_name": "news_feed_integrity:quality_sessions:discounted:survey_based",
                  "n": 15287970,
                  "sem": 0.0154443208,
                  "start_time": "2022-07-28T00:00:00.000Z",
                  "trial_index": 0
                },
                {
                  "arm_name": "0_2",
                  "end_time": "2022-08-08T00:00:00.000Z",
                  "frac_nonnull": 0.6104515161,
                  "index": 39,
                  "mean": 0.0526932045,
                  "metric_name": "news_feed_integrity:responsible_ranking:upf_trips_proxy_metric:civic_combined",
                  "n": 14998934,
                  "sem": 0.0000142249,
                  "start_time": "2022-07-28T00:00:00.000Z",
                  "trial_index": 0
                },
                {
                  "arm_name": "0_2",
                  "end_time": "2022-08-08T00:00:00.000Z",
                  "frac_nonnull": 0.6104515161,
                  "index": 40,
                  "mean": 0.093902779,
                  "metric_name": "news_feed_integrity:responsible_ranking:upf_trips_proxy_metric:integrity_bucket",
                  "n": 14998934,
                  "sem": 0.0000237365,
                  "start_time": "2022-07-28T00:00:00.000Z",
                  "trial_index": 0
                },
                {
                  "arm_name": "0_2",
                  "end_time": "2022-08-08T00:00:00.000Z",
                  "frac_nonnull": 0.6104515161,
                  "index": 41,
                  "mean": 0.11216702,
                  "metric_name": "news_feed_integrity:responsible_ranking:upf_trips_proxy_metric:tone_bucket",
                  "n": 14998934,
                  "sem": 0.0000297596,
                  "start_time": "2022-07-28T00:00:00.000Z",
                  "trial_index": 0
                },
                {
                  "arm_name": "0_2",
                  "end_time": "2022-08-10T00:00:00.000Z",
                  "frac_nonnull": 0.1832859431,
                  "index": 42,
                  "mean": 0.6010995304,
                  "metric_name": "sharing:post_production:original_broadcast_feed_post",
                  "n": 15287970,
                  "sem": 0.0007760039,
                  "start_time": "2022-07-28T00:00:00.000Z",
                  "trial_index": 0
                },
                {
                  "arm_name": "0_2",
                  "end_time": "2022-08-10T00:00:00.000Z",
                  "frac_nonnull": 0.1853943329,
                  "index": 43,
                  "mean": 1.0830092503,
                  "metric_name": "sharing:post_production:original_broadcast_story_post",
                  "n": 15287970,
                  "sem": 0.0010167832,
                  "start_time": "2022-07-28T00:00:00.000Z",
                  "trial_index": 0
                },
                {
                  "arm_name": "0_2",
                  "end_time": "2022-08-10T00:00:00.000Z",
                  "frac_nonnull": 0.1893900237,
                  "index": 44,
                  "mean": 1.8972600673,
                  "metric_name": "sharing:post_production:reshare_broadcast_post",
                  "n": 15287970,
                  "sem": 0.0025283887,
                  "start_time": "2022-07-28T00:00:00.000Z",
                  "trial_index": 0
                },
                {
                  "arm_name": "0_3",
                  "end_time": "2022-08-10T00:00:00.000Z",
                  "frac_nonnull": 1,
                  "index": 45,
                  "mean": 0.0234764266,
                  "metric_name": "community_integrity:cep:viewer:holistic_prevalence_world__severity_weighted_prevalence__volume_CONDITIONAL_MEAN",
                  "n": 15284115,
                  "sem": 0.0000184819,
                  "start_time": "2022-07-28T00:00:00.000Z",
                  "trial_index": 0
                },
                {
                  "arm_name": "0_3",
                  "end_time": "2022-08-10T00:00:00.000Z",
                  "frac_nonnull": 0.5941572672,
                  "index": 46,
                  "mean": 42.9644921905,
                  "metric_name": "core_app:ecosystem:sessions:core_session_count_cap15:fb_major_apps_REGRESSION_ADJUSTED_MEAN",
                  "n": 15284115,
                  "sem": 0.0090143388,
                  "start_time": "2022-07-28T00:00:00.000Z",
                  "trial_index": 0
                },
                {
                  "arm_name": "0_3",
                  "end_time": "2022-08-10T00:00:00.000Z",
                  "frac_nonnull": 0.0860940264,
                  "index": 47,
                  "mean": 6.1833298083,
                  "metric_name": "core_growth:visitation:dap:overall_facebook:us_ca_REGRESSION_ADJUSTED_NO_WINSORIZATION_CONDITIONAL_MEAN",
                  "n": 15284115,
                  "sem": 0.0026918222,
                  "start_time": "2022-07-28T00:00:00.000Z",
                  "trial_index": 0
                },
                {
                  "arm_name": "0_3",
                  "end_time": "2022-08-10T00:00:00.000Z",
                  "frac_nonnull": 0.7231240409,
                  "index": 48,
                  "mean": 5.2532373516,
                  "metric_name": "core_growth:visitation:dap:overall_facebook_REGRESSION_ADJUSTED_MEAN",
                  "n": 15284115,
                  "sem": 0.0008095137,
                  "start_time": "2022-07-28T00:00:00.000Z",
                  "trial_index": 0
                },
                {
                  "arm_name": "0_3",
                  "end_time": "2022-08-10T00:00:00.000Z",
                  "frac_nonnull": 0.5239163668,
                  "index": 49,
                  "mean": 135.917338799,
                  "metric_name": "news_feed:distinct_vpv:feed:num_vpv_given:friend_reshare",
                  "n": 15284115,
                  "sem": 0.0677924578,
                  "start_time": "2022-07-28T00:00:00.000Z",
                  "trial_index": 0
                },
                {
                  "arm_name": "0_3",
                  "end_time": "2022-08-10T00:00:00.000Z",
                  "frac_nonnull": 0.6005586846,
                  "index": 50,
                  "mean": 773.0315600572,
                  "metric_name": "news_feed:distinct_vpv:feed:num_vpv_given:overall",
                  "n": 15284115,
                  "sem": 0.2793378726,
                  "start_time": "2022-07-28T00:00:00.000Z",
                  "trial_index": 0
                },
                {
                  "arm_name": "0_3",
                  "end_time": "2022-08-10T00:00:00.000Z",
                  "frac_nonnull": 0.4683368975,
                  "index": 51,
                  "mean": 95.5753750194,
                  "metric_name": "news_feed:msi:given:feed:overall",
                  "n": 15284115,
                  "sem": 0.0764671795,
                  "start_time": "2022-07-28T00:00:00.000Z",
                  "trial_index": 0
                },
                {
                  "arm_name": "0_3",
                  "end_time": "2022-08-10T00:00:00.000Z",
                  "frac_nonnull": 1,
                  "index": 52,
                  "mean": 0.4353381487,
                  "metric_name": "news_feed_integrity:misinfo_frx:viewer:frx_per_vpv:overall",
                  "n": 15284115,
                  "sem": 0.000290725,
                  "start_time": "2022-07-28T00:00:00.000Z",
                  "trial_index": 0
                },
                {
                  "arm_name": "0_3",
                  "end_time": "2022-08-10T00:00:00.000Z",
                  "frac_nonnull": 0.5521461334,
                  "index": 53,
                  "mean": 43.4647469758,
                  "metric_name": "news_feed_integrity:quality_sessions:discounted:survey_based",
                  "n": 15284115,
                  "sem": 0.015444094,
                  "start_time": "2022-07-28T00:00:00.000Z",
                  "trial_index": 0
                },
                {
                  "arm_name": "0_3",
                  "end_time": "2022-08-08T00:00:00.000Z",
                  "frac_nonnull": 0.6102438032,
                  "index": 54,
                  "mean": 0.0526560381,
                  "metric_name": "news_feed_integrity:responsible_ranking:upf_trips_proxy_metric:civic_combined",
                  "n": 14995251,
                  "sem": 0.0000142201,
                  "start_time": "2022-07-28T00:00:00.000Z",
                  "trial_index": 0
                },
                {
                  "arm_name": "0_3",
                  "end_time": "2022-08-08T00:00:00.000Z",
                  "frac_nonnull": 0.6102438032,
                  "index": 55,
                  "mean": 0.0938310186,
                  "metric_name": "news_feed_integrity:responsible_ranking:upf_trips_proxy_metric:integrity_bucket",
                  "n": 14995251,
                  "sem": 0.0000237271,
                  "start_time": "2022-07-28T00:00:00.000Z",
                  "trial_index": 0
                },
                {
                  "arm_name": "0_3",
                  "end_time": "2022-08-08T00:00:00.000Z",
                  "frac_nonnull": 0.6102438032,
                  "index": 56,
                  "mean": 0.1120714926,
                  "metric_name": "news_feed_integrity:responsible_ranking:upf_trips_proxy_metric:tone_bucket",
                  "n": 14995251,
                  "sem": 0.0000297418,
                  "start_time": "2022-07-28T00:00:00.000Z",
                  "trial_index": 0
                },
                {
                  "arm_name": "0_3",
                  "end_time": "2022-08-10T00:00:00.000Z",
                  "frac_nonnull": 0.1834780751,
                  "index": 57,
                  "mean": 0.6025190496,
                  "metric_name": "sharing:post_production:original_broadcast_feed_post",
                  "n": 15284115,
                  "sem": 0.0007749319,
                  "start_time": "2022-07-28T00:00:00.000Z",
                  "trial_index": 0
                },
                {
                  "arm_name": "0_3",
                  "end_time": "2022-08-10T00:00:00.000Z",
                  "frac_nonnull": 0.1853549257,
                  "index": 58,
                  "mean": 1.0838973392,
                  "metric_name": "sharing:post_production:original_broadcast_story_post",
                  "n": 15284115,
                  "sem": 0.0010180272,
                  "start_time": "2022-07-28T00:00:00.000Z",
                  "trial_index": 0
                },
                {
                  "arm_name": "0_3",
                  "end_time": "2022-08-10T00:00:00.000Z",
                  "frac_nonnull": 0.1895265771,
                  "index": 59,
                  "mean": 1.8799604957,
                  "metric_name": "sharing:post_production:reshare_broadcast_post",
                  "n": 15284115,
                  "sem": 0.0025070415,
                  "start_time": "2022-07-28T00:00:00.000Z",
                  "trial_index": 0
                }
              ],
              "schema": {
                "fields": [
                  {
                    "name": "index",
                    "type": "integer"
                  },
                  {
                    "name": "arm_name",
                    "type": "string"
                  },
                  {
                    "name": "metric_name",
                    "type": "string"
                  },
                  {
                    "name": "mean",
                    "type": "number"
                  },
                  {
                    "name": "sem",
                    "type": "number"
                  },
                  {
                    "name": "trial_index",
                    "type": "integer"
                  },
                  {
                    "name": "start_time",
                    "type": "datetime"
                  },
                  {
                    "name": "end_time",
                    "type": "datetime"
                  },
                  {
                    "name": "n",
                    "type": "integer"
                  },
                  {
                    "name": "frac_nonnull",
                    "type": "number"
                  }
                ],
                "pandas_version": "0.20.0",
                "primaryKey": [
                  "index"
                ]
              }
            },
            "text/html": [
              "<div>\n",
              "<style scoped>\n",
              "    .dataframe tbody tr th:only-of-type {\n",
              "        vertical-align: middle;\n",
              "    }\n",
              "\n",
              "    .dataframe tbody tr th {\n",
              "        vertical-align: top;\n",
              "    }\n",
              "\n",
              "    .dataframe thead th {\n",
              "        text-align: right;\n",
              "    }\n",
              "</style>\n",
              "<table border=\"1\" class=\"dataframe\">\n",
              "  <thead>\n",
              "    <tr style=\"text-align: right;\">\n",
              "      <th></th>\n",
              "      <th>arm_name</th>\n",
              "      <th>metric_name</th>\n",
              "      <th>mean</th>\n",
              "      <th>sem</th>\n",
              "      <th>trial_index</th>\n",
              "      <th>start_time</th>\n",
              "      <th>end_time</th>\n",
              "      <th>n</th>\n",
              "      <th>frac_nonnull</th>\n",
              "    </tr>\n",
              "  </thead>\n",
              "  <tbody>\n",
              "    <tr>\n",
              "      <th>0</th>\n",
              "      <td>0_0</td>\n",
              "      <td>community_integrity:cep:viewer:holistic_preval...</td>\n",
              "      <td>0.023474</td>\n",
              "      <td>0.000019</td>\n",
              "      <td>0</td>\n",
              "      <td>2022-07-28</td>\n",
              "      <td>2022-08-10</td>\n",
              "      <td>15283233</td>\n",
              "      <td>1.000000</td>\n",
              "    </tr>\n",
              "    <tr>\n",
              "      <th>1</th>\n",
              "      <td>0_0</td>\n",
              "      <td>core_app:ecosystem:sessions:core_session_count...</td>\n",
              "      <td>42.953520</td>\n",
              "      <td>0.009015</td>\n",
              "      <td>0</td>\n",
              "      <td>2022-07-28</td>\n",
              "      <td>2022-08-10</td>\n",
              "      <td>15283233</td>\n",
              "      <td>0.594425</td>\n",
              "    </tr>\n",
              "    <tr>\n",
              "      <th>2</th>\n",
              "      <td>0_0</td>\n",
              "      <td>core_growth:visitation:dap:overall_facebook:us...</td>\n",
              "      <td>6.187919</td>\n",
              "      <td>0.002691</td>\n",
              "      <td>0</td>\n",
              "      <td>2022-07-28</td>\n",
              "      <td>2022-08-10</td>\n",
              "      <td>15283233</td>\n",
              "      <td>0.086002</td>\n",
              "    </tr>\n",
              "    <tr>\n",
              "      <th>3</th>\n",
              "      <td>0_0</td>\n",
              "      <td>core_growth:visitation:dap:overall_facebook_RE...</td>\n",
              "      <td>5.253060</td>\n",
              "      <td>0.000810</td>\n",
              "      <td>0</td>\n",
              "      <td>2022-07-28</td>\n",
              "      <td>2022-08-10</td>\n",
              "      <td>15283233</td>\n",
              "      <td>0.723311</td>\n",
              "    </tr>\n",
              "    <tr>\n",
              "      <th>4</th>\n",
              "      <td>0_0</td>\n",
              "      <td>news_feed:distinct_vpv:feed:num_vpv_given:frie...</td>\n",
              "      <td>144.351133</td>\n",
              "      <td>0.071252</td>\n",
              "      <td>0</td>\n",
              "      <td>2022-07-28</td>\n",
              "      <td>2022-08-10</td>\n",
              "      <td>15283233</td>\n",
              "      <td>0.523008</td>\n",
              "    </tr>\n",
              "    <tr>\n",
              "      <th>...</th>\n",
              "      <td>...</td>\n",
              "      <td>...</td>\n",
              "      <td>...</td>\n",
              "      <td>...</td>\n",
              "      <td>...</td>\n",
              "      <td>...</td>\n",
              "      <td>...</td>\n",
              "      <td>...</td>\n",
              "      <td>...</td>\n",
              "    </tr>\n",
              "    <tr>\n",
              "      <th>520</th>\n",
              "      <td>3_2</td>\n",
              "      <td>sharing:post_production:reshare_broadcast_post</td>\n",
              "      <td>1.876236</td>\n",
              "      <td>0.003962</td>\n",
              "      <td>3</td>\n",
              "      <td>2022-08-05</td>\n",
              "      <td>2022-08-10</td>\n",
              "      <td>10300168</td>\n",
              "      <td>0.165203</td>\n",
              "    </tr>\n",
              "    <tr>\n",
              "      <th>521</th>\n",
              "      <td>3_3</td>\n",
              "      <td>sharing:post_production:reshare_broadcast_post</td>\n",
              "      <td>1.853779</td>\n",
              "      <td>0.003916</td>\n",
              "      <td>3</td>\n",
              "      <td>2022-08-05</td>\n",
              "      <td>2022-08-10</td>\n",
              "      <td>10288358</td>\n",
              "      <td>0.165134</td>\n",
              "    </tr>\n",
              "    <tr>\n",
              "      <th>522</th>\n",
              "      <td>3_4</td>\n",
              "      <td>sharing:post_production:reshare_broadcast_post</td>\n",
              "      <td>1.873537</td>\n",
              "      <td>0.003966</td>\n",
              "      <td>3</td>\n",
              "      <td>2022-08-05</td>\n",
              "      <td>2022-08-10</td>\n",
              "      <td>10290453</td>\n",
              "      <td>0.165329</td>\n",
              "    </tr>\n",
              "    <tr>\n",
              "      <th>523</th>\n",
              "      <td>3_5</td>\n",
              "      <td>sharing:post_production:reshare_broadcast_post</td>\n",
              "      <td>1.874318</td>\n",
              "      <td>0.003980</td>\n",
              "      <td>3</td>\n",
              "      <td>2022-08-05</td>\n",
              "      <td>2022-08-10</td>\n",
              "      <td>10288659</td>\n",
              "      <td>0.165298</td>\n",
              "    </tr>\n",
              "    <tr>\n",
              "      <th>524</th>\n",
              "      <td>status_quo</td>\n",
              "      <td>sharing:post_production:reshare_broadcast_post</td>\n",
              "      <td>1.898595</td>\n",
              "      <td>0.000000</td>\n",
              "      <td>3</td>\n",
              "      <td>2022-08-05</td>\n",
              "      <td>2022-08-10</td>\n",
              "      <td>30869149</td>\n",
              "      <td>0.165441</td>\n",
              "    </tr>\n",
              "  </tbody>\n",
              "</table>\n",
              "<p>525 rows × 9 columns</p>\n",
              "</div>"
            ],
            "text/plain": [
              "       arm_name  ... frac_nonnull\n",
              "0           0_0  ...     1.000000\n",
              "1           0_0  ...     0.594425\n",
              "2           0_0  ...     0.086002\n",
              "3           0_0  ...     0.723311\n",
              "4           0_0  ...     0.523008\n",
              "..          ...  ...          ...\n",
              "520         3_2  ...     0.165203\n",
              "521         3_3  ...     0.165134\n",
              "522         3_4  ...     0.165329\n",
              "523         3_5  ...     0.165298\n",
              "524  status_quo  ...     0.165441\n",
              "\n",
              "[525 rows x 9 columns]"
            ]
          },
          "execution_count": 64,
          "metadata": {
            "bento_obj_id": "140135444680368"
          },
          "output_type": "execute_result"
        }
      ],
      "source": [
        "all_data.df"
      ]
    },
    {
      "cell_type": "code",
      "execution_count": 65,
      "metadata": {
        "collapsed": false,
        "customInput": null,
        "customOutput": null,
        "executionStartTime": 1673038135260,
        "executionStopTime": 1673038135329,
        "originalKey": "34878903-4fd4-48bf-a9b8-8d2b6c730442",
        "requestMsgId": "bf6ad7bf-9b7d-42c5-a8e4-a7b2585f3d51",
        "showInput": true
      },
      "outputs": [],
      "source": [
        "df_rel = pd.pivot_table(all_data.df, values=[\"mean\"], index=[\"trial_index\", \"arm_name\"], columns=[\"metric_name\"])\n",
        "# df_rel"
      ]
    },
    {
      "cell_type": "code",
      "execution_count": 66,
      "metadata": {
        "collapsed": false,
        "customInput": null,
        "customOutput": null,
        "executionStartTime": 1673038135361,
        "executionStopTime": 1673038135476,
        "originalKey": "41b37503-f0fd-4f9f-93d8-dd18b7517271",
        "requestMsgId": "fd92aa9a-7538-40a4-b0ba-9125b88c3c11",
        "showInput": true
      },
      "outputs": [
        {
          "data": {
            "text/plain": [
              "(35, 15)"
            ]
          },
          "execution_count": 66,
          "metadata": {
            "bento_obj_id": "140135572163520"
          },
          "output_type": "execute_result"
        }
      ],
      "source": [
        "df_rel.shape"
      ]
    },
    {
      "cell_type": "code",
      "execution_count": 67,
      "metadata": {
        "collapsed": false,
        "customInput": null,
        "customOutput": null,
        "executionStartTime": 1673038136299,
        "executionStopTime": 1673038136311,
        "originalKey": "8b9c0dc6-48e9-47a4-983a-d805af101bfe",
        "requestMsgId": "0f344be0-1b5f-4554-943c-b5cf111de3d2",
        "showInput": true
      },
      "outputs": [],
      "source": [
        "# drop the 4 status-quo arms because they have NaN input\n",
        "df_rel = df_rel.reset_index(level=0, drop=True).drop(\"status_quo\")"
      ]
    },
    {
      "cell_type": "code",
      "execution_count": 68,
      "metadata": {
        "collapsed": false,
        "customInput": null,
        "customOutput": null,
        "executionStartTime": 1673038136398,
        "executionStopTime": 1673038136522,
        "originalKey": "6da6e458-dad6-473b-b0c9-1f0b31a4218f",
        "requestMsgId": "613043b8-5fe2-409e-b3a2-8c48efbd4179",
        "showInput": true
      },
      "outputs": [
        {
          "data": {
            "text/plain": [
              "(31, 15)"
            ]
          },
          "execution_count": 68,
          "metadata": {
            "bento_obj_id": "140135467959744"
          },
          "output_type": "execute_result"
        }
      ],
      "source": [
        "df_rel.shape"
      ]
    },
    {
      "cell_type": "code",
      "execution_count": 69,
      "metadata": {
        "collapsed": false,
        "customInput": null,
        "customOutput": null,
        "executionStartTime": 1673038136611,
        "executionStopTime": 1673038136812,
        "originalKey": "5a3e4a67-483e-4ee9-8530-27920a317bb5",
        "requestMsgId": "64fb36c6-a10f-4311-91bb-0ee925524d4f",
        "showInput": true
      },
      "outputs": [],
      "source": [
        "# get design data\n",
        "X = pd.DataFrame(experiment.arms_by_name[arm_name].parameters for arm_name in [df_rel.index[i] for i in range(len(df_rel))])\n",
        "X = torch.tensor(X.values, dtype = torch.double)"
      ]
    },
    {
      "cell_type": "code",
      "execution_count": 70,
      "metadata": {
        "collapsed": false,
        "customInput": null,
        "customOutput": null,
        "executionStartTime": 1673038136887,
        "executionStopTime": 1673038136905,
        "originalKey": "956bea08-b61b-4b51-afe1-69ab76ce197f",
        "requestMsgId": "1a696007-02be-414d-9b75-909761e8835f",
        "showInput": true
      },
      "outputs": [],
      "source": [
        "Y = torch.tensor(df_rel.values, dtype = torch.double)"
      ]
    },
    {
      "cell_type": "code",
      "execution_count": 71,
      "metadata": {
        "collapsed": false,
        "customInput": null,
        "customOutput": null,
        "executionStartTime": 1673038137008,
        "executionStopTime": 1673038137110,
        "originalKey": "ff8f077c-7c58-4b73-84b0-0a9264b86fff",
        "requestMsgId": "c8e15710-0b16-4acb-addf-c2d9a9c3c55f",
        "showInput": true
      },
      "outputs": [
        {
          "name": "stdout",
          "output_type": "stream",
          "text": [
            "torch.Size([31, 3]) torch.Size([31, 15])\n"
          ]
        }
      ],
      "source": [
        "print(X.shape, Y.shape)"
      ]
    },
    {
      "cell_type": "code",
      "execution_count": 72,
      "metadata": {
        "collapsed": false,
        "customInput": null,
        "customOutput": null,
        "executionStartTime": 1673038138601,
        "executionStopTime": 1673038141883,
        "originalKey": "2622d1d6-6944-4e15-b35b-dbf358842847",
        "requestMsgId": "2a363a2c-4efe-4b61-a6b3-95419c8c6db0",
        "showInput": true
      },
      "outputs": [
        {
          "data": {
            "image/png": "[encoded data removed]",
            "text/plain": [
              "<Figure size 792x648 with 2 Axes>"
            ]
          },
          "metadata": {
            "bento_obj_id": "140134947054400",
            "needs_background": "light"
          },
          "output_type": "display_data"
        }
      ],
      "source": [
        "# plot empirical correlation of generated metrics\n",
        "metric_corr = np.corrcoef(Y.numpy(), rowvar=False)\n",
        "\n",
        "mask = np.triu(np.ones_like(metric_corr, dtype=bool))\n",
        "f, ax = plt.subplots(figsize=(11, 9))\n",
        "# cmap = sns.diverging_palette(250, 20, as_cmap=True)\n",
        "cmap = sns.diverging_palette(300, 145, s=60, as_cmap=True)\n",
        "\n",
        "sns.heatmap(\n",
        "    metric_corr,\n",
        "    mask=mask,\n",
        "    cmap=cmap,\n",
        "    annot=True,\n",
        "    center=0,\n",
        "    square=True,\n",
        "    linewidths=0.5,\n",
        "    cbar_kws={\"shrink\": 0.5},\n",
        "    annot_kws={\"fontsize\": 10},\n",
        ")\n",
        "plt.title(\"Correlation between metrics\")\n",
        "\n",
        "plt.savefig('A_exam_feed_integrity_control_panel_vm_tuning_heatmap.pdf')"
      ]
    },
    {
      "cell_type": "code",
      "execution_count": 73,
      "metadata": {
        "collapsed": false,
        "customInput": null,
        "customOutput": null,
        "executionStartTime": 1673038141906,
        "executionStopTime": 1673038142765,
        "originalKey": "5ded6f16-6f5b-4a42-8e92-5df0225664c5",
        "requestMsgId": "3655e5c3-7aff-4a8f-bac5-60df91a5f15b",
        "showInput": true
      },
      "outputs": [
        {
          "data": {
            "text/plain": [
              "Text(0.5, 1.0, 'PCA explained variance')"
            ]
          },
          "execution_count": 73,
          "metadata": {
            "bento_obj_id": "140134992978560"
          },
          "output_type": "execute_result"
        },
        {
          "data": {
            "image/png": "[encoded data removed]",
            "text/plain": [
              "<Figure size 432x288 with 1 Axes>"
            ]
          },
          "metadata": {
            "bento_obj_id": "140135023335984",
            "needs_background": "light"
          },
          "output_type": "display_data"
        }
      ],
      "source": [
        "U, S, V = torch.svd(Y - torch.mean(Y, axis = 0))\n",
        "\n",
        "plt.plot(list(range(1, 16)), torch.cumsum(torch.square(S) / torch.sum(torch.square(S)), dim=0))\n",
        "plt.hlines(0.9, 1, 16, linestyles = '--')\n",
        "plt.xlabel('Number of principal components')\n",
        "plt.ylabel('Variance explained')\n",
        "plt.title('PCA explained variance')"
      ]
    },
    {
      "cell_type": "markdown",
      "metadata": {
        "customInput": null,
        "originalKey": "11a1d798-349f-4741-954a-bd8e98cf91ee",
        "showInput": false
      },
      "source": [
        "# Fit outcome model using different methods"
      ]
    },
    {
      "cell_type": "code",
      "execution_count": 86,
      "metadata": {
        "collapsed": false,
        "customInput": null,
        "customOutput": null,
        "executionStartTime": 1673038678424,
        "executionStopTime": 1673038679200,
        "originalKey": "d350750b-f458-4bd2-b9f3-04d202adbd89",
        "requestMsgId": "26c8d1c0-d3a8-4e41-90ce-3eaaf4be2c81",
        "showInput": true
      },
      "outputs": [
        {
          "name": "stdout",
          "output_type": "stream",
          "text": [
            "num_axes = 2, explains 0.9998339199495703 variance\n"
          ]
        },
        {
          "name": "stdout",
          "output_type": "stream",
          "text": [
            "0.7516796588897705 seconds\n"
          ]
        }
      ],
      "source": [
        "pca_transform = PCAOutcomeTransform(variance_explained_threshold = 0.999)\n",
        "\n",
        "pca_model = SingleTaskGP(\n",
        "    X,\n",
        "    Y,\n",
        "    likelihood=GaussianLikelihood(\n",
        "        noise_prior=GammaPrior(3, 6)\n",
        "    ),  # TODO: GammaPrior(3,6) could be better for Ax experiments, QIng has a note\n",
        "    input_transform=Normalize(3),\n",
        "    outcome_transform=ChainedOutcomeTransform(\n",
        "        **{\"standardize\": Standardize(Y.shape[-1], min_stdv = 100000), \"pca\": pca_transform}\n",
        "    ),\n",
        ")\n",
        "\n",
        "# NOTE\n",
        "# relativize -- sq also has variance, brings further noise into GP modeling\n",
        "# absolute values -- just dealing with the observed standard errors of the arms\n",
        "\n",
        "start = time.time()\n",
        "pca_model_mll = ExactMarginalLogLikelihood(pca_model.likelihood, pca_model)\n",
        "fit_gpytorch_scipy(pca_model_mll)\n",
        "print(f\"{time.time() - start} seconds\")"
      ]
    },
    {
      "cell_type": "code",
      "execution_count": 87,
      "metadata": {
        "collapsed": false,
        "customInput": null,
        "customOutput": null,
        "executionStartTime": 1673038691439,
        "executionStopTime": 1673038701237,
        "originalKey": "b4a2b3f2-5b92-41d4-ac58-9c1b64857cd6",
        "requestMsgId": "485daaa6-88cf-43ab-bb9b-1ce31c177459",
        "showInput": true
      },
      "outputs": [
        {
          "name": "stdout",
          "output_type": "stream",
          "text": [
            "9.725991487503052 seconds\n"
          ]
        }
      ],
      "source": [
        "st_model = SingleTaskGP(\n",
        "    X,\n",
        "    Y,\n",
        "    likelihood=GaussianLikelihood(noise_prior=GammaPrior(3, 6)), # TODO: GammaPrior(3,6) could be better for Ax experiments, QIng has a note\n",
        "    input_transform=Normalize(3),\n",
        "    outcome_transform=Standardize(Y.shape[-1], min_stdv = 100000),\n",
        ")\n",
        "\n",
        "# NOTE\n",
        "# relativize -- sq also has variance, brings further noise into GP modeling\n",
        "# absolute values -- just dealing with the observed standard errors of the arms\n",
        "\n",
        "start = time.time()\n",
        "st_model_mll = ExactMarginalLogLikelihood(st_model.likelihood, st_model)\n",
        "fit_gpytorch_scipy(st_model_mll)\n",
        "print(f\"{time.time() - start} seconds\")"
      ]
    },
    {
      "cell_type": "code",
      "execution_count": null,
      "metadata": {
        "customInput": null,
        "originalKey": "8d1455f0-39b1-482d-92c7-9eec4ff85a81",
        "showInput": true
      },
      "outputs": [],
      "source": []
    },
    {
      "cell_type": "code",
      "execution_count": 24,
      "metadata": {
        "collapsed": true,
        "customInput": null,
        "customOutput": null,
        "executionStartTime": 1671575273772,
        "executionStopTime": 1671575276665,
        "originalKey": "c1e810c5-a9c4-4868-80a9-4ed2f8a54e05",
        "requestMsgId": "c1e810c5-a9c4-4868-80a9-4ed2f8a54e05",
        "showInput": true
      },
      "outputs": [
        {
          "ename": "KeyboardInterrupt",
          "evalue": "",
          "output_type": "error",
          "traceback": [
            "\u001b[0;31m---------------------------------------------------------------------------\u001b[0m",
            "\u001b[0;31mKeyboardInterrupt\u001b[0m                         Traceback (most recent call last)",
            "\u001b[0;32m<ipython-input-24-6b5d2ddcc052>\u001b[0m in \u001b[0;36m<module>\u001b[0;34m\u001b[0m\n\u001b[1;32m     13\u001b[0m \u001b[0mstart\u001b[0m \u001b[0;34m=\u001b[0m \u001b[0mtime\u001b[0m\u001b[0;34m.\u001b[0m\u001b[0mtime\u001b[0m\u001b[0;34m(\u001b[0m\u001b[0;34m)\u001b[0m\u001b[0;34m\u001b[0m\u001b[0;34m\u001b[0m\u001b[0m\n\u001b[1;32m     14\u001b[0m \u001b[0micm_model_mll\u001b[0m \u001b[0;34m=\u001b[0m \u001b[0mExactMarginalLogLikelihood\u001b[0m\u001b[0;34m(\u001b[0m\u001b[0micm_model\u001b[0m\u001b[0;34m.\u001b[0m\u001b[0mlikelihood\u001b[0m\u001b[0;34m,\u001b[0m \u001b[0micm_model\u001b[0m\u001b[0;34m)\u001b[0m\u001b[0;34m\u001b[0m\u001b[0;34m\u001b[0m\u001b[0m\n\u001b[0;32m---> 15\u001b[0;31m \u001b[0mfit_gpytorch_scipy\u001b[0m\u001b[0;34m(\u001b[0m\u001b[0micm_model_mll\u001b[0m\u001b[0;34m)\u001b[0m\u001b[0;34m\u001b[0m\u001b[0;34m\u001b[0m\u001b[0m\n\u001b[0m\u001b[1;32m     16\u001b[0m \u001b[0mprint\u001b[0m\u001b[0;34m(\u001b[0m\u001b[0;34mf\"{time.time() - start} seconds\"\u001b[0m\u001b[0;34m)\u001b[0m\u001b[0;34m\u001b[0m\u001b[0;34m\u001b[0m\u001b[0m\n",
            "\u001b[0;32m/mnt/xarfuse/uid-558512/45f3ae7b-seed-nspid4026531836_cgpid71974536-ns-4026531840/botorch/optim/fit.py\u001b[0m in \u001b[0;36mfit_gpytorch_scipy\u001b[0;34m(mll, bounds, method, options, track_iterations, approx_mll, scipy_objective, module_to_array_func, module_from_array_func, **kwargs)\u001b[0m\n\u001b[1;32m    268\u001b[0m         )\n\u001b[1;32m    269\u001b[0m \u001b[0;34m\u001b[0m\u001b[0m\n\u001b[0;32m--> 270\u001b[0;31m     result = minimize(\n\u001b[0m\u001b[1;32m    271\u001b[0m         \u001b[0mwrapper\u001b[0m\u001b[0;34m,\u001b[0m\u001b[0;34m\u001b[0m\u001b[0;34m\u001b[0m\u001b[0m\n\u001b[1;32m    272\u001b[0m         \u001b[0mx0\u001b[0m\u001b[0;34m,\u001b[0m\u001b[0;34m\u001b[0m\u001b[0;34m\u001b[0m\u001b[0m\n",
            "\u001b[0;32m/mnt/xarfuse/uid-558512/45f3ae7b-seed-nspid4026531836_cgpid71974536-ns-4026531840/scipy/optimize/_minimize.py\u001b[0m in \u001b[0;36mminimize\u001b[0;34m(fun, x0, args, method, jac, hess, hessp, bounds, constraints, tol, callback, options)\u001b[0m\n\u001b[1;32m    621\u001b[0m                                   **options)\n\u001b[1;32m    622\u001b[0m     \u001b[0;32melif\u001b[0m \u001b[0mmeth\u001b[0m \u001b[0;34m==\u001b[0m \u001b[0;34m'l-bfgs-b'\u001b[0m\u001b[0;34m:\u001b[0m\u001b[0;34m\u001b[0m\u001b[0;34m\u001b[0m\u001b[0m\n\u001b[0;32m--> 623\u001b[0;31m         return _minimize_lbfgsb(fun, x0, args, jac, bounds,\n\u001b[0m\u001b[1;32m    624\u001b[0m                                 callback=callback, **options)\n\u001b[1;32m    625\u001b[0m     \u001b[0;32melif\u001b[0m \u001b[0mmeth\u001b[0m \u001b[0;34m==\u001b[0m \u001b[0;34m'tnc'\u001b[0m\u001b[0;34m:\u001b[0m\u001b[0;34m\u001b[0m\u001b[0;34m\u001b[0m\u001b[0m\n",
            "\u001b[0;32m/mnt/xarfuse/uid-558512/45f3ae7b-seed-nspid4026531836_cgpid71974536-ns-4026531840/scipy/optimize/lbfgsb.py\u001b[0m in \u001b[0;36m_minimize_lbfgsb\u001b[0;34m(fun, x0, args, jac, bounds, disp, maxcor, ftol, gtol, eps, maxfun, maxiter, iprint, callback, maxls, finite_diff_rel_step, **unknown_options)\u001b[0m\n\u001b[1;32m    358\u001b[0m             \u001b[0;31m# until the completion of the current minimization iteration.\u001b[0m\u001b[0;34m\u001b[0m\u001b[0;34m\u001b[0m\u001b[0;34m\u001b[0m\u001b[0m\n\u001b[1;32m    359\u001b[0m             \u001b[0;31m# Overwrite f and g:\u001b[0m\u001b[0;34m\u001b[0m\u001b[0;34m\u001b[0m\u001b[0;34m\u001b[0m\u001b[0m\n\u001b[0;32m--> 360\u001b[0;31m             \u001b[0mf\u001b[0m\u001b[0;34m,\u001b[0m \u001b[0mg\u001b[0m \u001b[0;34m=\u001b[0m \u001b[0mfunc_and_grad\u001b[0m\u001b[0;34m(\u001b[0m\u001b[0mx\u001b[0m\u001b[0;34m)\u001b[0m\u001b[0;34m\u001b[0m\u001b[0;34m\u001b[0m\u001b[0m\n\u001b[0m\u001b[1;32m    361\u001b[0m         \u001b[0;32melif\u001b[0m \u001b[0mtask_str\u001b[0m\u001b[0;34m.\u001b[0m\u001b[0mstartswith\u001b[0m\u001b[0;34m(\u001b[0m\u001b[0;34mb'NEW_X'\u001b[0m\u001b[0;34m)\u001b[0m\u001b[0;34m:\u001b[0m\u001b[0;34m\u001b[0m\u001b[0;34m\u001b[0m\u001b[0m\n\u001b[1;32m    362\u001b[0m             \u001b[0;31m# new iteration\u001b[0m\u001b[0;34m\u001b[0m\u001b[0;34m\u001b[0m\u001b[0;34m\u001b[0m\u001b[0m\n",
            "\u001b[0;32m/mnt/xarfuse/uid-558512/45f3ae7b-seed-nspid4026531836_cgpid71974536-ns-4026531840/scipy/optimize/_differentiable_functions.py\u001b[0m in \u001b[0;36mfun_and_grad\u001b[0;34m(self, x)\u001b[0m\n\u001b[1;32m    265\u001b[0m         \u001b[0;32mif\u001b[0m \u001b[0;32mnot\u001b[0m \u001b[0mnp\u001b[0m\u001b[0;34m.\u001b[0m\u001b[0marray_equal\u001b[0m\u001b[0;34m(\u001b[0m\u001b[0mx\u001b[0m\u001b[0;34m,\u001b[0m \u001b[0mself\u001b[0m\u001b[0;34m.\u001b[0m\u001b[0mx\u001b[0m\u001b[0;34m)\u001b[0m\u001b[0;34m:\u001b[0m\u001b[0;34m\u001b[0m\u001b[0;34m\u001b[0m\u001b[0m\n\u001b[1;32m    266\u001b[0m             \u001b[0mself\u001b[0m\u001b[0;34m.\u001b[0m\u001b[0m_update_x_impl\u001b[0m\u001b[0;34m(\u001b[0m\u001b[0mx\u001b[0m\u001b[0;34m)\u001b[0m\u001b[0;34m\u001b[0m\u001b[0;34m\u001b[0m\u001b[0m\n\u001b[0;32m--> 267\u001b[0;31m         \u001b[0mself\u001b[0m\u001b[0;34m.\u001b[0m\u001b[0m_update_fun\u001b[0m\u001b[0;34m(\u001b[0m\u001b[0;34m)\u001b[0m\u001b[0;34m\u001b[0m\u001b[0;34m\u001b[0m\u001b[0m\n\u001b[0m\u001b[1;32m    268\u001b[0m         \u001b[0mself\u001b[0m\u001b[0;34m.\u001b[0m\u001b[0m_update_grad\u001b[0m\u001b[0;34m(\u001b[0m\u001b[0;34m)\u001b[0m\u001b[0;34m\u001b[0m\u001b[0;34m\u001b[0m\u001b[0m\n\u001b[1;32m    269\u001b[0m         \u001b[0;32mreturn\u001b[0m \u001b[0mself\u001b[0m\u001b[0;34m.\u001b[0m\u001b[0mf\u001b[0m\u001b[0;34m,\u001b[0m \u001b[0mself\u001b[0m\u001b[0;34m.\u001b[0m\u001b[0mg\u001b[0m\u001b[0;34m\u001b[0m\u001b[0;34m\u001b[0m\u001b[0m\n",
            "\u001b[0;32m/mnt/xarfuse/uid-558512/45f3ae7b-seed-nspid4026531836_cgpid71974536-ns-4026531840/scipy/optimize/_differentiable_functions.py\u001b[0m in \u001b[0;36m_update_fun\u001b[0;34m(self)\u001b[0m\n\u001b[1;32m    231\u001b[0m     \u001b[0;32mdef\u001b[0m \u001b[0m_update_fun\u001b[0m\u001b[0;34m(\u001b[0m\u001b[0mself\u001b[0m\u001b[0;34m)\u001b[0m\u001b[0;34m:\u001b[0m\u001b[0;34m\u001b[0m\u001b[0;34m\u001b[0m\u001b[0m\n\u001b[1;32m    232\u001b[0m         \u001b[0;32mif\u001b[0m \u001b[0;32mnot\u001b[0m \u001b[0mself\u001b[0m\u001b[0;34m.\u001b[0m\u001b[0mf_updated\u001b[0m\u001b[0;34m:\u001b[0m\u001b[0;34m\u001b[0m\u001b[0;34m\u001b[0m\u001b[0m\n\u001b[0;32m--> 233\u001b[0;31m             \u001b[0mself\u001b[0m\u001b[0;34m.\u001b[0m\u001b[0m_update_fun_impl\u001b[0m\u001b[0;34m(\u001b[0m\u001b[0;34m)\u001b[0m\u001b[0;34m\u001b[0m\u001b[0;34m\u001b[0m\u001b[0m\n\u001b[0m\u001b[1;32m    234\u001b[0m             \u001b[0mself\u001b[0m\u001b[0;34m.\u001b[0m\u001b[0mf_updated\u001b[0m \u001b[0;34m=\u001b[0m \u001b[0;32mTrue\u001b[0m\u001b[0;34m\u001b[0m\u001b[0;34m\u001b[0m\u001b[0m\n\u001b[1;32m    235\u001b[0m \u001b[0;34m\u001b[0m\u001b[0m\n",
            "\u001b[0;32m/mnt/xarfuse/uid-558512/45f3ae7b-seed-nspid4026531836_cgpid71974536-ns-4026531840/scipy/optimize/_differentiable_functions.py\u001b[0m in \u001b[0;36mupdate_fun\u001b[0;34m()\u001b[0m\n\u001b[1;32m    135\u001b[0m \u001b[0;34m\u001b[0m\u001b[0m\n\u001b[1;32m    136\u001b[0m         \u001b[0;32mdef\u001b[0m \u001b[0mupdate_fun\u001b[0m\u001b[0;34m(\u001b[0m\u001b[0;34m)\u001b[0m\u001b[0;34m:\u001b[0m\u001b[0;34m\u001b[0m\u001b[0;34m\u001b[0m\u001b[0m\n\u001b[0;32m--> 137\u001b[0;31m             \u001b[0mself\u001b[0m\u001b[0;34m.\u001b[0m\u001b[0mf\u001b[0m \u001b[0;34m=\u001b[0m \u001b[0mfun_wrapped\u001b[0m\u001b[0;34m(\u001b[0m\u001b[0mself\u001b[0m\u001b[0;34m.\u001b[0m\u001b[0mx\u001b[0m\u001b[0;34m)\u001b[0m\u001b[0;34m\u001b[0m\u001b[0;34m\u001b[0m\u001b[0m\n\u001b[0m\u001b[1;32m    138\u001b[0m \u001b[0;34m\u001b[0m\u001b[0m\n\u001b[1;32m    139\u001b[0m         \u001b[0mself\u001b[0m\u001b[0;34m.\u001b[0m\u001b[0m_update_fun_impl\u001b[0m \u001b[0;34m=\u001b[0m \u001b[0mupdate_fun\u001b[0m\u001b[0;34m\u001b[0m\u001b[0;34m\u001b[0m\u001b[0m\n",
            "\u001b[0;32m/mnt/xarfuse/uid-558512/45f3ae7b-seed-nspid4026531836_cgpid71974536-ns-4026531840/scipy/optimize/_differentiable_functions.py\u001b[0m in \u001b[0;36mfun_wrapped\u001b[0;34m(x)\u001b[0m\n\u001b[1;32m    132\u001b[0m             \u001b[0;31m# Overwriting results in undefined behaviour because\u001b[0m\u001b[0;34m\u001b[0m\u001b[0;34m\u001b[0m\u001b[0;34m\u001b[0m\u001b[0m\n\u001b[1;32m    133\u001b[0m             \u001b[0;31m# fun(self.x) will change self.x, with the two no longer linked.\u001b[0m\u001b[0;34m\u001b[0m\u001b[0;34m\u001b[0m\u001b[0;34m\u001b[0m\u001b[0m\n\u001b[0;32m--> 134\u001b[0;31m             \u001b[0;32mreturn\u001b[0m \u001b[0mfun\u001b[0m\u001b[0;34m(\u001b[0m\u001b[0mnp\u001b[0m\u001b[0;34m.\u001b[0m\u001b[0mcopy\u001b[0m\u001b[0;34m(\u001b[0m\u001b[0mx\u001b[0m\u001b[0;34m)\u001b[0m\u001b[0;34m,\u001b[0m \u001b[0;34m*\u001b[0m\u001b[0margs\u001b[0m\u001b[0;34m)\u001b[0m\u001b[0;34m\u001b[0m\u001b[0;34m\u001b[0m\u001b[0m\n\u001b[0m\u001b[1;32m    135\u001b[0m \u001b[0;34m\u001b[0m\u001b[0m\n\u001b[1;32m    136\u001b[0m         \u001b[0;32mdef\u001b[0m \u001b[0mupdate_fun\u001b[0m\u001b[0;34m(\u001b[0m\u001b[0;34m)\u001b[0m\u001b[0;34m:\u001b[0m\u001b[0;34m\u001b[0m\u001b[0;34m\u001b[0m\u001b[0m\n",
            "\u001b[0;32m/mnt/xarfuse/uid-558512/45f3ae7b-seed-nspid4026531836_cgpid71974536-ns-4026531840/scipy/optimize/optimize.py\u001b[0m in \u001b[0;36m__call__\u001b[0;34m(self, x, *args)\u001b[0m\n\u001b[1;32m     72\u001b[0m     \u001b[0;32mdef\u001b[0m \u001b[0m__call__\u001b[0m\u001b[0;34m(\u001b[0m\u001b[0mself\u001b[0m\u001b[0;34m,\u001b[0m \u001b[0mx\u001b[0m\u001b[0;34m,\u001b[0m \u001b[0;34m*\u001b[0m\u001b[0margs\u001b[0m\u001b[0;34m)\u001b[0m\u001b[0;34m:\u001b[0m\u001b[0;34m\u001b[0m\u001b[0;34m\u001b[0m\u001b[0m\n\u001b[1;32m     73\u001b[0m         \u001b[0;34m\"\"\" returns the the function value \"\"\"\u001b[0m\u001b[0;34m\u001b[0m\u001b[0;34m\u001b[0m\u001b[0m\n\u001b[0;32m---> 74\u001b[0;31m         \u001b[0mself\u001b[0m\u001b[0;34m.\u001b[0m\u001b[0m_compute_if_needed\u001b[0m\u001b[0;34m(\u001b[0m\u001b[0mx\u001b[0m\u001b[0;34m,\u001b[0m \u001b[0;34m*\u001b[0m\u001b[0margs\u001b[0m\u001b[0;34m)\u001b[0m\u001b[0;34m\u001b[0m\u001b[0;34m\u001b[0m\u001b[0m\n\u001b[0m\u001b[1;32m     75\u001b[0m         \u001b[0;32mreturn\u001b[0m \u001b[0mself\u001b[0m\u001b[0;34m.\u001b[0m\u001b[0m_value\u001b[0m\u001b[0;34m\u001b[0m\u001b[0;34m\u001b[0m\u001b[0m\n\u001b[1;32m     76\u001b[0m \u001b[0;34m\u001b[0m\u001b[0m\n",
            "\u001b[0;32m/mnt/xarfuse/uid-558512/45f3ae7b-seed-nspid4026531836_cgpid71974536-ns-4026531840/scipy/optimize/optimize.py\u001b[0m in \u001b[0;36m_compute_if_needed\u001b[0;34m(self, x, *args)\u001b[0m\n\u001b[1;32m     66\u001b[0m         \u001b[0;32mif\u001b[0m \u001b[0;32mnot\u001b[0m \u001b[0mnp\u001b[0m\u001b[0;34m.\u001b[0m\u001b[0mall\u001b[0m\u001b[0;34m(\u001b[0m\u001b[0mx\u001b[0m \u001b[0;34m==\u001b[0m \u001b[0mself\u001b[0m\u001b[0;34m.\u001b[0m\u001b[0mx\u001b[0m\u001b[0;34m)\u001b[0m \u001b[0;32mor\u001b[0m \u001b[0mself\u001b[0m\u001b[0;34m.\u001b[0m\u001b[0m_value\u001b[0m \u001b[0;32mis\u001b[0m \u001b[0;32mNone\u001b[0m \u001b[0;32mor\u001b[0m \u001b[0mself\u001b[0m\u001b[0;34m.\u001b[0m\u001b[0mjac\u001b[0m \u001b[0;32mis\u001b[0m \u001b[0;32mNone\u001b[0m\u001b[0;34m:\u001b[0m\u001b[0;34m\u001b[0m\u001b[0;34m\u001b[0m\u001b[0m\n\u001b[1;32m     67\u001b[0m             \u001b[0mself\u001b[0m\u001b[0;34m.\u001b[0m\u001b[0mx\u001b[0m \u001b[0;34m=\u001b[0m \u001b[0mnp\u001b[0m\u001b[0;34m.\u001b[0m\u001b[0masarray\u001b[0m\u001b[0;34m(\u001b[0m\u001b[0mx\u001b[0m\u001b[0;34m)\u001b[0m\u001b[0;34m.\u001b[0m\u001b[0mcopy\u001b[0m\u001b[0;34m(\u001b[0m\u001b[0;34m)\u001b[0m\u001b[0;34m\u001b[0m\u001b[0;34m\u001b[0m\u001b[0m\n\u001b[0;32m---> 68\u001b[0;31m             \u001b[0mfg\u001b[0m \u001b[0;34m=\u001b[0m \u001b[0mself\u001b[0m\u001b[0;34m.\u001b[0m\u001b[0mfun\u001b[0m\u001b[0;34m(\u001b[0m\u001b[0mx\u001b[0m\u001b[0;34m,\u001b[0m \u001b[0;34m*\u001b[0m\u001b[0margs\u001b[0m\u001b[0;34m)\u001b[0m\u001b[0;34m\u001b[0m\u001b[0;34m\u001b[0m\u001b[0m\n\u001b[0m\u001b[1;32m     69\u001b[0m             \u001b[0mself\u001b[0m\u001b[0;34m.\u001b[0m\u001b[0mjac\u001b[0m \u001b[0;34m=\u001b[0m \u001b[0mfg\u001b[0m\u001b[0;34m[\u001b[0m\u001b[0;36m1\u001b[0m\u001b[0;34m]\u001b[0m\u001b[0;34m\u001b[0m\u001b[0;34m\u001b[0m\u001b[0m\n\u001b[1;32m     70\u001b[0m             \u001b[0mself\u001b[0m\u001b[0;34m.\u001b[0m\u001b[0m_value\u001b[0m \u001b[0;34m=\u001b[0m \u001b[0mfg\u001b[0m\u001b[0;34m[\u001b[0m\u001b[0;36m0\u001b[0m\u001b[0;34m]\u001b[0m\u001b[0;34m\u001b[0m\u001b[0;34m\u001b[0m\u001b[0m\n",
            "\u001b[0;32m/mnt/xarfuse/uid-558512/45f3ae7b-seed-nspid4026531836_cgpid71974536-ns-4026531840/botorch/optim/fit.py\u001b[0m in \u001b[0;36mwrapper\u001b[0;34m(x)\u001b[0m\n\u001b[1;32m    256\u001b[0m     \u001b[0;32mdef\u001b[0m \u001b[0mwrapper\u001b[0m\u001b[0;34m(\u001b[0m\u001b[0mx\u001b[0m\u001b[0;34m:\u001b[0m \u001b[0mndarray\u001b[0m\u001b[0;34m)\u001b[0m \u001b[0;34m->\u001b[0m \u001b[0mTuple\u001b[0m\u001b[0;34m[\u001b[0m\u001b[0mfloat\u001b[0m\u001b[0;34m,\u001b[0m \u001b[0mndarray\u001b[0m\u001b[0;34m]\u001b[0m\u001b[0;34m:\u001b[0m\u001b[0;34m\u001b[0m\u001b[0;34m\u001b[0m\u001b[0m\n\u001b[1;32m    257\u001b[0m         \u001b[0;32mwith\u001b[0m \u001b[0mfast_computations\u001b[0m\u001b[0;34m(\u001b[0m\u001b[0mlog_prob\u001b[0m\u001b[0;34m=\u001b[0m\u001b[0mapprox_mll\u001b[0m\u001b[0;34m)\u001b[0m\u001b[0;34m:\u001b[0m\u001b[0;34m\u001b[0m\u001b[0;34m\u001b[0m\u001b[0m\n\u001b[0;32m--> 258\u001b[0;31m             \u001b[0;32mreturn\u001b[0m \u001b[0mscipy_objective\u001b[0m\u001b[0;34m(\u001b[0m\u001b[0mx\u001b[0m\u001b[0;34m=\u001b[0m\u001b[0mx\u001b[0m\u001b[0;34m,\u001b[0m \u001b[0mmll\u001b[0m\u001b[0;34m=\u001b[0m\u001b[0mmll\u001b[0m\u001b[0;34m,\u001b[0m \u001b[0mproperty_dict\u001b[0m\u001b[0;34m=\u001b[0m\u001b[0mproperty_dict\u001b[0m\u001b[0;34m)\u001b[0m\u001b[0;34m\u001b[0m\u001b[0;34m\u001b[0m\u001b[0m\n\u001b[0m\u001b[1;32m    259\u001b[0m \u001b[0;34m\u001b[0m\u001b[0m\n\u001b[1;32m    260\u001b[0m     \u001b[0;32mdef\u001b[0m \u001b[0mstore_iteration\u001b[0m\u001b[0;34m(\u001b[0m\u001b[0mxk\u001b[0m\u001b[0;34m)\u001b[0m\u001b[0;34m:\u001b[0m\u001b[0;34m\u001b[0m\u001b[0;34m\u001b[0m\u001b[0m\n",
            "\u001b[0;32m/mnt/xarfuse/uid-558512/45f3ae7b-seed-nspid4026531836_cgpid71974536-ns-4026531840/botorch/optim/numpy_converter.py\u001b[0m in \u001b[0;36m_scipy_objective_and_grad\u001b[0;34m(x, mll, property_dict)\u001b[0m\n\u001b[1;32m    181\u001b[0m     \u001b[0mmll\u001b[0m\u001b[0;34m.\u001b[0m\u001b[0mzero_grad\u001b[0m\u001b[0;34m(\u001b[0m\u001b[0;34m)\u001b[0m\u001b[0;34m\u001b[0m\u001b[0;34m\u001b[0m\u001b[0m\n\u001b[1;32m    182\u001b[0m     \u001b[0;32mtry\u001b[0m\u001b[0;34m:\u001b[0m  \u001b[0;31m# catch linear algebra errors in gpytorch\u001b[0m\u001b[0;34m\u001b[0m\u001b[0;34m\u001b[0m\u001b[0m\n\u001b[0;32m--> 183\u001b[0;31m         \u001b[0moutput\u001b[0m \u001b[0;34m=\u001b[0m \u001b[0mmll\u001b[0m\u001b[0;34m.\u001b[0m\u001b[0mmodel\u001b[0m\u001b[0;34m(\u001b[0m\u001b[0;34m*\u001b[0m\u001b[0mtrain_inputs\u001b[0m\u001b[0;34m)\u001b[0m\u001b[0;34m\u001b[0m\u001b[0;34m\u001b[0m\u001b[0m\n\u001b[0m\u001b[1;32m    184\u001b[0m         \u001b[0margs\u001b[0m \u001b[0;34m=\u001b[0m \u001b[0;34m[\u001b[0m\u001b[0moutput\u001b[0m\u001b[0;34m,\u001b[0m \u001b[0mtrain_targets\u001b[0m\u001b[0;34m]\u001b[0m \u001b[0;34m+\u001b[0m \u001b[0m_get_extra_mll_args\u001b[0m\u001b[0;34m(\u001b[0m\u001b[0mmll\u001b[0m\u001b[0;34m)\u001b[0m\u001b[0;34m\u001b[0m\u001b[0;34m\u001b[0m\u001b[0m\n\u001b[1;32m    185\u001b[0m         \u001b[0mloss\u001b[0m \u001b[0;34m=\u001b[0m \u001b[0;34m-\u001b[0m\u001b[0mmll\u001b[0m\u001b[0;34m(\u001b[0m\u001b[0;34m*\u001b[0m\u001b[0margs\u001b[0m\u001b[0;34m)\u001b[0m\u001b[0;34m.\u001b[0m\u001b[0msum\u001b[0m\u001b[0;34m(\u001b[0m\u001b[0;34m)\u001b[0m\u001b[0;34m\u001b[0m\u001b[0;34m\u001b[0m\u001b[0m\n",
            "\u001b[0;32m/mnt/xarfuse/uid-558512/45f3ae7b-seed-nspid4026531836_cgpid71974536-ns-4026531840/gpytorch/models/exact_gp.py\u001b[0m in \u001b[0;36m__call__\u001b[0;34m(self, *args, **kwargs)\u001b[0m\n\u001b[1;32m    256\u001b[0m                 \u001b[0;32mif\u001b[0m \u001b[0;32mnot\u001b[0m \u001b[0mall\u001b[0m\u001b[0;34m(\u001b[0m\u001b[0mtorch\u001b[0m\u001b[0;34m.\u001b[0m\u001b[0mequal\u001b[0m\u001b[0;34m(\u001b[0m\u001b[0mtrain_input\u001b[0m\u001b[0;34m,\u001b[0m \u001b[0minput\u001b[0m\u001b[0;34m)\u001b[0m \u001b[0;32mfor\u001b[0m \u001b[0mtrain_input\u001b[0m\u001b[0;34m,\u001b[0m \u001b[0minput\u001b[0m \u001b[0;32min\u001b[0m \u001b[0mzip\u001b[0m\u001b[0;34m(\u001b[0m\u001b[0mtrain_inputs\u001b[0m\u001b[0;34m,\u001b[0m \u001b[0minputs\u001b[0m\u001b[0;34m)\u001b[0m\u001b[0;34m)\u001b[0m\u001b[0;34m:\u001b[0m\u001b[0;34m\u001b[0m\u001b[0;34m\u001b[0m\u001b[0m\n\u001b[1;32m    257\u001b[0m                     \u001b[0;32mraise\u001b[0m \u001b[0mRuntimeError\u001b[0m\u001b[0;34m(\u001b[0m\u001b[0;34m\"You must train on the training inputs!\"\u001b[0m\u001b[0;34m)\u001b[0m\u001b[0;34m\u001b[0m\u001b[0;34m\u001b[0m\u001b[0m\n\u001b[0;32m--> 258\u001b[0;31m             \u001b[0mres\u001b[0m \u001b[0;34m=\u001b[0m \u001b[0msuper\u001b[0m\u001b[0;34m(\u001b[0m\u001b[0;34m)\u001b[0m\u001b[0;34m.\u001b[0m\u001b[0m__call__\u001b[0m\u001b[0;34m(\u001b[0m\u001b[0;34m*\u001b[0m\u001b[0minputs\u001b[0m\u001b[0;34m,\u001b[0m \u001b[0;34m**\u001b[0m\u001b[0mkwargs\u001b[0m\u001b[0;34m)\u001b[0m\u001b[0;34m\u001b[0m\u001b[0;34m\u001b[0m\u001b[0m\n\u001b[0m\u001b[1;32m    259\u001b[0m             \u001b[0;32mreturn\u001b[0m \u001b[0mres\u001b[0m\u001b[0;34m\u001b[0m\u001b[0;34m\u001b[0m\u001b[0m\n\u001b[1;32m    260\u001b[0m \u001b[0;34m\u001b[0m\u001b[0m\n",
            "\u001b[0;32m/mnt/xarfuse/uid-558512/45f3ae7b-seed-nspid4026531836_cgpid71974536-ns-4026531840/gpytorch/module.py\u001b[0m in \u001b[0;36m__call__\u001b[0;34m(self, *inputs, **kwargs)\u001b[0m\n\u001b[1;32m     28\u001b[0m \u001b[0;34m\u001b[0m\u001b[0m\n\u001b[1;32m     29\u001b[0m     \u001b[0;32mdef\u001b[0m \u001b[0m__call__\u001b[0m\u001b[0;34m(\u001b[0m\u001b[0mself\u001b[0m\u001b[0;34m,\u001b[0m \u001b[0;34m*\u001b[0m\u001b[0minputs\u001b[0m\u001b[0;34m,\u001b[0m \u001b[0;34m**\u001b[0m\u001b[0mkwargs\u001b[0m\u001b[0;34m)\u001b[0m\u001b[0;34m:\u001b[0m\u001b[0;34m\u001b[0m\u001b[0;34m\u001b[0m\u001b[0m\n\u001b[0;32m---> 30\u001b[0;31m         \u001b[0moutputs\u001b[0m \u001b[0;34m=\u001b[0m \u001b[0mself\u001b[0m\u001b[0;34m.\u001b[0m\u001b[0mforward\u001b[0m\u001b[0;34m(\u001b[0m\u001b[0;34m*\u001b[0m\u001b[0minputs\u001b[0m\u001b[0;34m,\u001b[0m \u001b[0;34m**\u001b[0m\u001b[0mkwargs\u001b[0m\u001b[0;34m)\u001b[0m\u001b[0;34m\u001b[0m\u001b[0;34m\u001b[0m\u001b[0m\n\u001b[0m\u001b[1;32m     31\u001b[0m         \u001b[0;32mif\u001b[0m \u001b[0misinstance\u001b[0m\u001b[0;34m(\u001b[0m\u001b[0moutputs\u001b[0m\u001b[0;34m,\u001b[0m \u001b[0mlist\u001b[0m\u001b[0;34m)\u001b[0m\u001b[0;34m:\u001b[0m\u001b[0;34m\u001b[0m\u001b[0;34m\u001b[0m\u001b[0m\n\u001b[1;32m     32\u001b[0m             \u001b[0;32mreturn\u001b[0m \u001b[0;34m[\u001b[0m\u001b[0m_validate_module_outputs\u001b[0m\u001b[0;34m(\u001b[0m\u001b[0moutput\u001b[0m\u001b[0;34m)\u001b[0m \u001b[0;32mfor\u001b[0m \u001b[0moutput\u001b[0m \u001b[0;32min\u001b[0m \u001b[0moutputs\u001b[0m\u001b[0;34m]\u001b[0m\u001b[0;34m\u001b[0m\u001b[0;34m\u001b[0m\u001b[0m\n",
            "\u001b[0;32m/mnt/xarfuse/uid-558512/45f3ae7b-seed-nspid4026531836_cgpid71974536-ns-4026531840/botorch/models/multitask.py\u001b[0m in \u001b[0;36mforward\u001b[0;34m(self, X)\u001b[0m\n\u001b[1;32m    515\u001b[0m             \u001b[0mX\u001b[0m \u001b[0;34m=\u001b[0m \u001b[0mself\u001b[0m\u001b[0;34m.\u001b[0m\u001b[0mtransform_inputs\u001b[0m\u001b[0;34m(\u001b[0m\u001b[0mX\u001b[0m\u001b[0;34m)\u001b[0m\u001b[0;34m\u001b[0m\u001b[0;34m\u001b[0m\u001b[0m\n\u001b[1;32m    516\u001b[0m \u001b[0;34m\u001b[0m\u001b[0m\n\u001b[0;32m--> 517\u001b[0;31m         \u001b[0mmean_x\u001b[0m \u001b[0;34m=\u001b[0m \u001b[0mself\u001b[0m\u001b[0;34m.\u001b[0m\u001b[0mmean_module\u001b[0m\u001b[0;34m(\u001b[0m\u001b[0mX\u001b[0m\u001b[0;34m)\u001b[0m\u001b[0;34m\u001b[0m\u001b[0;34m\u001b[0m\u001b[0m\n\u001b[0m\u001b[1;32m    518\u001b[0m         \u001b[0mcovar_x\u001b[0m \u001b[0;34m=\u001b[0m \u001b[0mself\u001b[0m\u001b[0;34m.\u001b[0m\u001b[0mcovar_module\u001b[0m\u001b[0;34m(\u001b[0m\u001b[0mX\u001b[0m\u001b[0;34m)\u001b[0m\u001b[0;34m\u001b[0m\u001b[0;34m\u001b[0m\u001b[0m\n\u001b[1;32m    519\u001b[0m         \u001b[0;32mreturn\u001b[0m \u001b[0mMultitaskMultivariateNormal\u001b[0m\u001b[0;34m(\u001b[0m\u001b[0mmean_x\u001b[0m\u001b[0;34m,\u001b[0m \u001b[0mcovar_x\u001b[0m\u001b[0;34m)\u001b[0m\u001b[0;34m\u001b[0m\u001b[0;34m\u001b[0m\u001b[0m\n",
            "\u001b[0;32m/mnt/xarfuse/uid-558512/45f3ae7b-seed-nspid4026531836_cgpid71974536-ns-4026531840/gpytorch/means/mean.py\u001b[0m in \u001b[0;36m__call__\u001b[0;34m(self, x)\u001b[0m\n\u001b[1;32m     20\u001b[0m             \u001b[0mx\u001b[0m \u001b[0;34m=\u001b[0m \u001b[0mx\u001b[0m\u001b[0;34m.\u001b[0m\u001b[0munsqueeze\u001b[0m\u001b[0;34m(\u001b[0m\u001b[0;36m1\u001b[0m\u001b[0;34m)\u001b[0m\u001b[0;34m\u001b[0m\u001b[0;34m\u001b[0m\u001b[0m\n\u001b[1;32m     21\u001b[0m \u001b[0;34m\u001b[0m\u001b[0m\n\u001b[0;32m---> 22\u001b[0;31m         \u001b[0mres\u001b[0m \u001b[0;34m=\u001b[0m \u001b[0msuper\u001b[0m\u001b[0;34m(\u001b[0m\u001b[0mMean\u001b[0m\u001b[0;34m,\u001b[0m \u001b[0mself\u001b[0m\u001b[0;34m)\u001b[0m\u001b[0;34m.\u001b[0m\u001b[0m__call__\u001b[0m\u001b[0;34m(\u001b[0m\u001b[0mx\u001b[0m\u001b[0;34m)\u001b[0m\u001b[0;34m\u001b[0m\u001b[0;34m\u001b[0m\u001b[0m\n\u001b[0m\u001b[1;32m     23\u001b[0m \u001b[0;34m\u001b[0m\u001b[0m\n\u001b[1;32m     24\u001b[0m         \u001b[0;32mreturn\u001b[0m \u001b[0mres\u001b[0m\u001b[0;34m\u001b[0m\u001b[0;34m\u001b[0m\u001b[0m\n",
            "\u001b[0;32m/mnt/xarfuse/uid-558512/45f3ae7b-seed-nspid4026531836_cgpid71974536-ns-4026531840/gpytorch/module.py\u001b[0m in \u001b[0;36m__call__\u001b[0;34m(self, *inputs, **kwargs)\u001b[0m\n\u001b[1;32m     28\u001b[0m \u001b[0;34m\u001b[0m\u001b[0m\n\u001b[1;32m     29\u001b[0m     \u001b[0;32mdef\u001b[0m \u001b[0m__call__\u001b[0m\u001b[0;34m(\u001b[0m\u001b[0mself\u001b[0m\u001b[0;34m,\u001b[0m \u001b[0;34m*\u001b[0m\u001b[0minputs\u001b[0m\u001b[0;34m,\u001b[0m \u001b[0;34m**\u001b[0m\u001b[0mkwargs\u001b[0m\u001b[0;34m)\u001b[0m\u001b[0;34m:\u001b[0m\u001b[0;34m\u001b[0m\u001b[0;34m\u001b[0m\u001b[0m\n\u001b[0;32m---> 30\u001b[0;31m         \u001b[0moutputs\u001b[0m \u001b[0;34m=\u001b[0m \u001b[0mself\u001b[0m\u001b[0;34m.\u001b[0m\u001b[0mforward\u001b[0m\u001b[0;34m(\u001b[0m\u001b[0;34m*\u001b[0m\u001b[0minputs\u001b[0m\u001b[0;34m,\u001b[0m \u001b[0;34m**\u001b[0m\u001b[0mkwargs\u001b[0m\u001b[0;34m)\u001b[0m\u001b[0;34m\u001b[0m\u001b[0;34m\u001b[0m\u001b[0m\n\u001b[0m\u001b[1;32m     31\u001b[0m         \u001b[0;32mif\u001b[0m \u001b[0misinstance\u001b[0m\u001b[0;34m(\u001b[0m\u001b[0moutputs\u001b[0m\u001b[0;34m,\u001b[0m \u001b[0mlist\u001b[0m\u001b[0;34m)\u001b[0m\u001b[0;34m:\u001b[0m\u001b[0;34m\u001b[0m\u001b[0;34m\u001b[0m\u001b[0m\n\u001b[1;32m     32\u001b[0m             \u001b[0;32mreturn\u001b[0m \u001b[0;34m[\u001b[0m\u001b[0m_validate_module_outputs\u001b[0m\u001b[0;34m(\u001b[0m\u001b[0moutput\u001b[0m\u001b[0;34m)\u001b[0m \u001b[0;32mfor\u001b[0m \u001b[0moutput\u001b[0m \u001b[0;32min\u001b[0m \u001b[0moutputs\u001b[0m\u001b[0;34m]\u001b[0m\u001b[0;34m\u001b[0m\u001b[0;34m\u001b[0m\u001b[0m\n",
            "\u001b[0;32m/mnt/xarfuse/uid-558512/45f3ae7b-seed-nspid4026531836_cgpid71974536-ns-4026531840/gpytorch/means/multitask_mean.py\u001b[0m in \u001b[0;36mforward\u001b[0;34m(self, input)\u001b[0m\n\u001b[1;32m     41\u001b[0m         \u001b[0mEvaluate\u001b[0m \u001b[0meach\u001b[0m \u001b[0mmean\u001b[0m \u001b[0;32min\u001b[0m \u001b[0mself\u001b[0m\u001b[0;34m.\u001b[0m\u001b[0mbase_means\u001b[0m \u001b[0mon\u001b[0m \u001b[0mthe\u001b[0m \u001b[0minput\u001b[0m \u001b[0mdata\u001b[0m\u001b[0;34m,\u001b[0m \u001b[0;32mand\u001b[0m \u001b[0;32mreturn\u001b[0m \u001b[0;32mas\u001b[0m \u001b[0man\u001b[0m\u001b[0;31m \u001b[0m\u001b[0;31m`\u001b[0m\u001b[0mn\u001b[0m \u001b[0mx\u001b[0m \u001b[0mt\u001b[0m\u001b[0;31m`\u001b[0m \u001b[0mmatrix\u001b[0m \u001b[0mof\u001b[0m \u001b[0mmeans\u001b[0m\u001b[0;34m.\u001b[0m\u001b[0;34m\u001b[0m\u001b[0;34m\u001b[0m\u001b[0m\n\u001b[1;32m     42\u001b[0m         \"\"\"\n\u001b[0;32m---> 43\u001b[0;31m         \u001b[0;32mreturn\u001b[0m \u001b[0mtorch\u001b[0m\u001b[0;34m.\u001b[0m\u001b[0mcat\u001b[0m\u001b[0;34m(\u001b[0m\u001b[0;34m[\u001b[0m\u001b[0msub_mean\u001b[0m\u001b[0;34m(\u001b[0m\u001b[0minput\u001b[0m\u001b[0;34m)\u001b[0m\u001b[0;34m.\u001b[0m\u001b[0munsqueeze\u001b[0m\u001b[0;34m(\u001b[0m\u001b[0;34m-\u001b[0m\u001b[0;36m1\u001b[0m\u001b[0;34m)\u001b[0m \u001b[0;32mfor\u001b[0m \u001b[0msub_mean\u001b[0m \u001b[0;32min\u001b[0m \u001b[0mself\u001b[0m\u001b[0;34m.\u001b[0m\u001b[0mbase_means\u001b[0m\u001b[0;34m]\u001b[0m\u001b[0;34m,\u001b[0m \u001b[0mdim\u001b[0m\u001b[0;34m=\u001b[0m\u001b[0;34m-\u001b[0m\u001b[0;36m1\u001b[0m\u001b[0;34m)\u001b[0m\u001b[0;34m\u001b[0m\u001b[0;34m\u001b[0m\u001b[0m\n\u001b[0m",
            "\u001b[0;31mKeyboardInterrupt\u001b[0m: "
          ]
        }
      ],
      "source": [
        "# MTGP with ICM kernel\n",
        "# took more than 12 minutes\n",
        "from botorch.models.multitask import KroneckerMultiTaskGP\n",
        "\n",
        "icm_model = KroneckerMultiTaskGP(\n",
        "    X,\n",
        "    Y,\n",
        "    outcome_transform=Standardize(Y.shape[-1], min_stdv = 1),\n",
        "    rank=1,\n",
        ")\n",
        "icm_mll = ExactMarginalLogLikelihood(icm_model.likelihood, icm_model)\n",
        "\n",
        "start = time.time()\n",
        "icm_model_mll = ExactMarginalLogLikelihood(icm_model.likelihood, icm_model)\n",
        "fit_gpytorch_scipy(icm_model_mll)\n",
        "print(f\"{time.time() - start} seconds\")"
      ]
    },
    {
      "cell_type": "code",
      "execution_count": 81,
      "metadata": {
        "collapsed": false,
        "customInput": null,
        "customOutput": null,
        "executionStartTime": 1668098139063,
        "executionStopTime": 1668098254606,
        "originalKey": "f06ef21d-ef18-4f08-a586-913e2836f745",
        "requestMsgId": "f06ef21d-ef18-4f08-a586-913e2836f745",
        "showInput": true
      },
      "outputs": [
        {
          "name": "stdout",
          "output_type": "stream",
          "text": [
            "115.4352285861969 seconds\n"
          ]
        }
      ],
      "source": [
        "# MTGP with LMC kernel\n",
        "from gpytorch.models import ExactGP\n",
        "from torch import Tensor\n",
        "from gpytorch.kernels import Kernel, LCMKernel, MaternKernel\n",
        "import gpytorch\n",
        "\n",
        "class MultitaskGPModel(GPyTorchModel, ExactGP):\n",
        "    def __init__(\n",
        "        self,\n",
        "        train_X: Tensor,\n",
        "        train_Y: Tensor,\n",
        "        likelihood: Likelihood,\n",
        "        num_tasks: int,\n",
        "        multitask_kernel: Kernel,\n",
        "        outcome_transform: OutcomeTransform = None,\n",
        "        input_transform: InputTransform = None,\n",
        "    ):\n",
        "\n",
        "        r\"\"\"\n",
        "        Initialize model class for multi-output GP models.\n",
        "\n",
        "        Args:\n",
        "            train_X: `num_samples x input_dim` tensor\n",
        "            train_Y: `num_samples x outcome_dim` tensor\n",
        "            likelihood: Gpytorch likelihood\n",
        "            num_tasks: number of outcomes\n",
        "            multitask_kernel: a multi-output kernel\n",
        "            outcome_transform: OutcomeTransform\n",
        "            input_transform: InputTransform\n",
        "\n",
        "        \"\"\"\n",
        "\n",
        "        with torch.no_grad():\n",
        "            transformed_X = self.transform_inputs(\n",
        "                X=train_X, input_transform=input_transform\n",
        "            )\n",
        "        if outcome_transform is not None:\n",
        "            train_Y, _ = outcome_transform(train_Y)\n",
        "        self._validate_tensor_args(X=transformed_X, Y=train_Y)\n",
        "        self._num_outputs = num_tasks\n",
        "\n",
        "        super().__init__(\n",
        "            train_inputs=train_X, train_targets=train_Y, likelihood=likelihood\n",
        "        )\n",
        "\n",
        "        self.mean_module = gpytorch.means.MultitaskMean(\n",
        "            gpytorch.means.ConstantMean(), num_tasks=num_tasks\n",
        "        )\n",
        "        self.covar_module = multitask_kernel\n",
        "\n",
        "    def forward(self, x: Tensor):\n",
        "        r\"\"\"\n",
        "        Return posterior distribution at new point x\n",
        "        \"\"\"\n",
        "        mean_x = self.mean_module(x)\n",
        "        covar_x = self.covar_module(x)\n",
        "        return gpytorch.distributions.MultitaskMultivariateNormal(mean_x, covar_x)\n",
        "\n",
        "\n",
        "def fit_LCM_model(\n",
        "    train_X: Tensor,\n",
        "    train_Y: Tensor,\n",
        "    num_tasks: int,\n",
        "    num_basis_kernels: int,\n",
        "    rank: int = 1,\n",
        "):\n",
        "    r\"\"\"\n",
        "    Fit LCM model with specified number of basis kernels and rank.\n",
        "    Args:\n",
        "        train_X: `num_samples x input_dim` tensor\n",
        "        train_Y: `num_samples x outcome_dim` tensor\n",
        "        num_tasks: number of outcomes\n",
        "        num_basis_kernels: number of basis kernels in LCM kernel\n",
        "        rank: rank of basis kernels, default to 1\n",
        "    Returns:\n",
        "        fitted model\n",
        "    \"\"\"\n",
        "    lcm_kernel = LCMKernel(\n",
        "        base_kernels=[MaternKernel()] * num_basis_kernels, num_tasks=num_tasks, rank=1\n",
        "    )\n",
        "    likelihood = gpytorch.likelihoods.MultitaskGaussianLikelihood(num_tasks=num_tasks)\n",
        "    lcm_model = MultitaskGPModel(\n",
        "        train_X, train_Y, likelihood, num_tasks=num_tasks, multitask_kernel=lcm_kernel\n",
        "    )\n",
        "\n",
        "    mll_lcm = ExactMarginalLogLikelihood(lcm_model.likelihood, lcm_model)\n",
        "    fit_gpytorch_model(mll_lcm)\n",
        "\n",
        "    return lcm_model\n",
        "\n",
        "\n",
        "lcm_kernel = LCMKernel(\n",
        "    base_kernels=[MaternKernel()],\n",
        "    num_tasks=Y.shape[-1],\n",
        "    rank=1,\n",
        ")\n",
        "lcm_likelihood = gpytorch.likelihoods.MultitaskGaussianLikelihood(\n",
        "    num_tasks=Y.shape[-1]\n",
        ")\n",
        "lcm_model = MultitaskGPModel(\n",
        "    X,\n",
        "    Y,\n",
        "    lcm_likelihood,\n",
        "    num_tasks=Y.shape[-1],\n",
        "    multitask_kernel=lcm_kernel,\n",
        "    outcome_transform=Standardize(Y.shape[-1], min_stdv=1),\n",
        ")\n",
        "lcm_model.to(torch.double)\n",
        "lcm_mll = ExactMarginalLogLikelihood(lcm_model.likelihood, lcm_model)\n",
        "\n",
        "start = time.time()\n",
        "lcm_model_mll = ExactMarginalLogLikelihood(lcm_model.likelihood, lcm_model)\n",
        "fit_gpytorch_scipy(lcm_model_mll)\n",
        "print(f\"{time.time() - start} seconds\")"
      ]
    },
    {
      "cell_type": "code",
      "execution_count": 88,
      "metadata": {
        "collapsed": true,
        "customInput": null,
        "customOutput": null,
        "executionStartTime": 1668098376515,
        "executionStopTime": 1668098376555,
        "originalKey": "bfe74e7e-da24-444e-8aa7-df3273294f89",
        "requestMsgId": "bfe74e7e-da24-444e-8aa7-df3273294f89",
        "showInput": true
      },
      "outputs": [
        {
          "data": {
            "text/plain": [
              "OrderedDict([('likelihood.raw_task_noises',\n",
              "              tensor([-15.1214, -14.3346, -16.5043, -16.4910,  -4.9332,  -3.2826,  -3.7722,\n",
              "                      -18.6045, -19.7381, -18.4397, -14.9829, -15.8647, -15.1115, -15.0365,\n",
              "                      -14.2762], dtype=torch.float64)),\n",
              "             ('likelihood.raw_noise', tensor([-36.9617], dtype=torch.float64)),\n",
              "             ('likelihood.raw_task_noises_constraint.lower_bound',\n",
              "              tensor(1.0000e-04, dtype=torch.float64)),\n",
              "             ('likelihood.raw_task_noises_constraint.upper_bound',\n",
              "              tensor(inf, dtype=torch.float64)),\n",
              "             ('likelihood.raw_noise_constraint.lower_bound',\n",
              "              tensor(1.0000e-04, dtype=torch.float64)),\n",
              "             ('likelihood.raw_noise_constraint.upper_bound',\n",
              "              tensor(inf, dtype=torch.float64)),\n",
              "             ('mean_module.base_means.0.raw_constant',\n",
              "              tensor(1.0977e-06, dtype=torch.float64)),\n",
              "             ('mean_module.base_means.1.raw_constant',\n",
              "              tensor(-2.4848e-05, dtype=torch.float64)),\n",
              "             ('mean_module.base_means.2.raw_constant',\n",
              "              tensor(-3.5774e-05, dtype=torch.float64)),\n",
              "             ('mean_module.base_means.3.raw_constant',\n",
              "              tensor(-2.3262e-08, dtype=torch.float64)),\n",
              "             ('mean_module.base_means.4.raw_constant',\n",
              "              tensor(-0.0674, dtype=torch.float64)),\n",
              "             ('mean_module.base_means.5.raw_constant',\n",
              "              tensor(0.2129, dtype=torch.float64)),\n",
              "             ('mean_module.base_means.6.raw_constant',\n",
              "              tensor(-0.0291, dtype=torch.float64)),\n",
              "             ('mean_module.base_means.7.raw_constant',\n",
              "              tensor(-0.0003, dtype=torch.float64)),\n",
              "             ('mean_module.base_means.8.raw_constant',\n",
              "              tensor(-0.0034, dtype=torch.float64)),\n",
              "             ('mean_module.base_means.9.raw_constant',\n",
              "              tensor(-5.2432e-06, dtype=torch.float64)),\n",
              "             ('mean_module.base_means.10.raw_constant',\n",
              "              tensor(1.6059e-06, dtype=torch.float64)),\n",
              "             ('mean_module.base_means.11.raw_constant',\n",
              "              tensor(2.1565e-06, dtype=torch.float64)),\n",
              "             ('mean_module.base_means.12.raw_constant',\n",
              "              tensor(4.5534e-05, dtype=torch.float64)),\n",
              "             ('mean_module.base_means.13.raw_constant',\n",
              "              tensor(8.4699e-06, dtype=torch.float64)),\n",
              "             ('mean_module.base_means.14.raw_constant',\n",
              "              tensor(-0.0035, dtype=torch.float64)),\n",
              "             ('covar_module.covar_module_list.0.task_covar_module.covar_factor',\n",
              "              tensor([[-7.9577e-06],\n",
              "                      [ 6.6578e-06],\n",
              "                      [ 6.4910e-04],\n",
              "                      [ 1.5269e-05],\n",
              "                      [ 1.1793e+00],\n",
              "                      [-1.2146e+00],\n",
              "                      [ 4.7161e-01],\n",
              "                      [ 5.6338e-03],\n",
              "                      [ 1.7571e-03],\n",
              "                      [ 1.1386e-05],\n",
              "                      [-2.2901e-05],\n",
              "                      [-8.7948e-06],\n",
              "                      [-7.9133e-04],\n",
              "                      [-1.2524e-04],\n",
              "                      [ 1.8534e-02]], dtype=torch.float64)),\n",
              "             ('covar_module.covar_module_list.0.task_covar_module.raw_var',\n",
              "              tensor([-14.9795, -13.6438, -14.9939, -14.9983,  -7.6090,  -1.4113,  -7.1525,\n",
              "                      -14.8298,  -8.5573, -15.0391, -15.0010, -14.9749, -15.2493, -15.0405,\n",
              "                       -9.0540], dtype=torch.float64)),\n",
              "             ('covar_module.covar_module_list.0.task_covar_module.raw_var_constraint.lower_bound',\n",
              "              tensor(0., dtype=torch.float64)),\n",
              "             ('covar_module.covar_module_list.0.task_covar_module.raw_var_constraint.upper_bound',\n",
              "              tensor(inf, dtype=torch.float64)),\n",
              "             ('covar_module.covar_module_list.0.data_covar_module.raw_lengthscale',\n",
              "              tensor([[18.6654]], dtype=torch.float64)),\n",
              "             ('covar_module.covar_module_list.0.data_covar_module.raw_lengthscale_constraint.lower_bound',\n",
              "              tensor(0., dtype=torch.float64)),\n",
              "             ('covar_module.covar_module_list.0.data_covar_module.raw_lengthscale_constraint.upper_bound',\n",
              "              tensor(inf, dtype=torch.float64))])"
            ]
          },
          "execution_count": 88,
          "metadata": {
            "bento_obj_id": "140464765834944"
          },
          "output_type": "execute_result"
        }
      ],
      "source": [
        "lcm_model.state_dict()"
      ]
    },
    {
      "cell_type": "markdown",
      "metadata": {
        "customInput": null,
        "originalKey": "3511e3f7-55e7-474b-903e-da11f26e6cca",
        "showInput": false
      },
      "source": [
        "# TODO: evaluate model fitting"
      ]
    },
    {
      "cell_type": "code",
      "execution_count": 67,
      "metadata": {
        "collapsed": false,
        "customInput": null,
        "customOutput": null,
        "executionStartTime": 1668096272444,
        "executionStopTime": 1668096272454,
        "originalKey": "34b481ce-ebde-40b4-a336-438b9f08e5f1",
        "requestMsgId": "34b481ce-ebde-40b4-a336-438b9f08e5f1",
        "showInput": true
      },
      "outputs": [],
      "source": [
        "# now check model fit, compute LOOCV\n",
        "# have a loop, vary the number of principal axes kept, and compute LOOCV for each\n",
        "# what is the relationship between explaining variance in the metrics vs having good model fit?\n",
        "# this is what the plot is trying to get at"
      ]
    },
    {
      "cell_type": "code",
      "execution_count": 88,
      "metadata": {
        "collapsed": false,
        "customInput": null,
        "customOutput": null,
        "executionStartTime": 1673038746132,
        "executionStopTime": 1673038746141,
        "originalKey": "725e1f40-1d69-4e19-999b-05240e87397b",
        "requestMsgId": "a7bfaa9a-fc6c-45fc-baa8-9efd588265f5",
        "showInput": true
      },
      "outputs": [],
      "source": [
        "# loocv() function that takes model_class and input / output transforms as arguments\n",
        "\n",
        "\n",
        "def loocv_new(\n",
        "    X_all: torch.Tensor,\n",
        "    Y_all: torch.Tensor,\n",
        "    model_cls,  # TODO: add type = Model\n",
        "    infer_noise: bool = True,\n",
        "    Y_var_all: torch.Tensor or float = None,\n",
        "    input_transform=None,  # TODO: add type\n",
        "    outcome_transform=None,\n",
        "    likelihood=None,\n",
        "    **tkwargs\n",
        "):\n",
        "\n",
        "    print(\"Full input data shape {}, output data shape {}\".format(X_all.shape, Y_all.shape))\n",
        "\n",
        "    predicted_Y_means = torch.Tensor()\n",
        "    predicted_Y_vars = torch.Tensor()\n",
        "\n",
        "    explained_var = []\n",
        "    num_axes = []\n",
        "\n",
        "    for i in range(X_all.shape[0]):\n",
        "\n",
        "        if i % 5 == 0:\n",
        "            print(\"loocv round {}\".format(i))\n",
        "\n",
        "        X_train = torch.cat((X_all[:i], X_all[i + 1 :])).detach()\n",
        "        Y_train = torch.cat((Y_all[:i], Y_all[i + 1 :])).detach()\n",
        "\n",
        "        if Y_var_all is not None:\n",
        "            if torch.is_tensor(Y_var_all):\n",
        "                Y_var_train = torch.cat((Y_var_all[:i], Y_var_all[i + 1 :]))\n",
        "            else:\n",
        "                Y_var_train = Y_var_all\n",
        "        else:\n",
        "            Y_var_train = None\n",
        "\n",
        "        X_test = X_all[i].unsqueeze(0)\n",
        "        print(X_train.shape, Y_train.shape, X_test.shape)\n",
        "\n",
        "                                        # TODO: PCA outcome transform only takes place once; self.training becomes False after first round. How to fix that?\n",
        "\n",
        "        model = model_cls(\n",
        "            X_train,\n",
        "            Y_train,\n",
        "                                                                                                                        # Yvar?\n",
        "            likelihood=likelihood,\n",
        "            input_transform=copy.deepcopy(input_transform),\n",
        "            outcome_transform=copy.deepcopy(outcome_transform),\n",
        "        )\n",
        "\n",
        "        if 'pca' in model.outcome_transform:\n",
        "\n",
        "            explained_var.append(model.outcome_transform[\"pca\"].PCA_explained_variance)\n",
        "            num_axes.append(model.outcome_transform[\"pca\"].num_axes)\n",
        "\n",
        "        mll = ExactMarginalLogLikelihood(model.likelihood, model)\n",
        "        fit_gpytorch_model(mll)\n",
        "\n",
        "        # print(\"model.posterior.event_shape\", model.posterior(X_test).event_shape)\n",
        "\n",
        "        Y_posterior_mean = model.posterior(X_test).mean\n",
        "        Y_posterior_variance = model.posterior(X_test).variance\n",
        "\n",
        "        # weird -- X_test is 1x3, posterior event shape is 1x15, but posterior mean shape is num_axes x 1 x 15\n",
        "\n",
        "        # print(\"Y_posterior_mean.shape\", Y_posterior_mean.shape)\n",
        "        # print(\"predicted_Y_means.shape\", predicted_Y_means.shape)\n",
        "\n",
        "        # use loo-fitted model to compute the posterior mean on held-out datapoint\n",
        "        predicted_Y_means = torch.cat((predicted_Y_means, Y_posterior_mean))\n",
        "        predicted_Y_vars = torch.cat((predicted_Y_vars, Y_posterior_variance))\n",
        "\n",
        "        # print(\"predicted_Y_means.shape afer torch.cat() new\", predicted_Y_means.shape)\n",
        "\n",
        "        # print(explained_var)\n",
        "        del model\n",
        "\n",
        "    # mean_explained_var = np.mean(explained_var)\n",
        "\n",
        "    # print(\"predicted_Y_means.shape\", predicted_Y_means.shape)\n",
        "\n",
        "    return predicted_Y_means, predicted_Y_vars, explained_var, num_axes"
      ]
    },
    {
      "cell_type": "code",
      "execution_count": 89,
      "metadata": {
        "collapsed": true,
        "customInput": null,
        "customOutput": null,
        "executionStartTime": 1673038755517,
        "executionStopTime": 1673038766330,
        "originalKey": "dbbc1969-acfc-4bda-86af-3a9c8028faae",
        "requestMsgId": "a453a926-b806-4f7c-9597-66c2777010eb",
        "showInput": true
      },
      "outputs": [
        {
          "name": "stdout",
          "output_type": "stream",
          "text": [
            "Full input data shape torch.Size([31, 3]), output data shape torch.Size([31, 15])\n",
            "loocv round 0\n",
            "torch.Size([30, 3]) torch.Size([30, 15]) torch.Size([1, 3])\n",
            "num_axes = 1, explains 0.9907098129257047 variance\n"
          ]
        },
        {
          "name": "stdout",
          "output_type": "stream",
          "text": [
            "self.axes_learned.shape torch.Size([1, 15])\n",
            "untransformed_posterior.rsample().shape torch.Size([1, 1, 15])\n",
            "self.axes_learned.shape torch.Size([1, 15])\n",
            "untransformed_posterior.rsample().shape torch.Size([1, 1, 15])\n",
            "torch.Size([30, 3]) torch.Size([30, 15]) torch.Size([1, 3])\n",
            "num_axes = 1, explains 0.9911037806218304 variance\n"
          ]
        },
        {
          "name": "stdout",
          "output_type": "stream",
          "text": [
            "self.axes_learned.shape torch.Size([1, 15])\n",
            "untransformed_posterior.rsample().shape torch.Size([1, 1, 15])\n",
            "self.axes_learned.shape torch.Size([1, 15])\n",
            "untransformed_posterior.rsample().shape torch.Size([1, 1, 15])\n",
            "torch.Size([30, 3]) torch.Size([30, 15]) torch.Size([1, 3])\n",
            "num_axes = 1, explains 0.9912566040091274 variance\n"
          ]
        },
        {
          "name": "stdout",
          "output_type": "stream",
          "text": [
            "self.axes_learned.shape torch.Size([1, 15])\n",
            "untransformed_posterior.rsample().shape torch.Size([1, 1, 15])\n",
            "self.axes_learned.shape torch.Size([1, 15])\n",
            "untransformed_posterior.rsample().shape torch.Size([1, 1, 15])\n",
            "torch.Size([30, 3]) torch.Size([30, 15]) torch.Size([1, 3])\n",
            "num_axes = 1, explains 0.9911178106431776 variance\n"
          ]
        },
        {
          "name": "stdout",
          "output_type": "stream",
          "text": [
            "self.axes_learned.shape torch.Size([1, 15])\n",
            "untransformed_posterior.rsample().shape torch.Size([1, 1, 15])\n",
            "self.axes_learned.shape torch.Size([1, 15])\n",
            "untransformed_posterior.rsample().shape torch.Size([1, 1, 15])\n",
            "torch.Size([30, 3]) torch.Size([30, 15]) torch.Size([1, 3])\n",
            "num_axes = 1, explains 0.9914076328398865 variance\n"
          ]
        },
        {
          "name": "stdout",
          "output_type": "stream",
          "text": [
            "self.axes_learned.shape torch.Size([1, 15])\n",
            "untransformed_posterior.rsample().shape torch.Size([1, 1, 15])\n",
            "self.axes_learned.shape torch.Size([1, 15])\n",
            "untransformed_posterior.rsample().shape torch.Size([1, 1, 15])\n",
            "loocv round 5\n",
            "torch.Size([30, 3]) torch.Size([30, 15]) torch.Size([1, 3])\n",
            "num_axes = 1, explains 0.9901297655703366 variance\n"
          ]
        },
        {
          "name": "stdout",
          "output_type": "stream",
          "text": [
            "self.axes_learned.shape torch.Size([1, 15])\n",
            "untransformed_posterior.rsample().shape torch.Size([1, 1, 15])\n",
            "self.axes_learned.shape torch.Size([1, 15])\n",
            "untransformed_posterior.rsample().shape torch.Size([1, 1, 15])\n",
            "torch.Size([30, 3]) torch.Size([30, 15]) torch.Size([1, 3])\n",
            "num_axes = 1, explains 0.9899620194288086 variance\n"
          ]
        },
        {
          "name": "stdout",
          "output_type": "stream",
          "text": [
            "self.axes_learned.shape torch.Size([1, 15])\n",
            "untransformed_posterior.rsample().shape torch.Size([1, 1, 15])\n",
            "self.axes_learned.shape torch.Size([1, 15])\n",
            "untransformed_posterior.rsample().shape torch.Size([1, 1, 15])\n",
            "torch.Size([30, 3]) torch.Size([30, 15]) torch.Size([1, 3])\n",
            "num_axes = 1, explains 0.9931468524345713 variance\n"
          ]
        },
        {
          "name": "stdout",
          "output_type": "stream",
          "text": [
            "self.axes_learned.shape torch.Size([1, 15])\n",
            "untransformed_posterior.rsample().shape torch.Size([1, 1, 15])\n",
            "self.axes_learned.shape torch.Size([1, 15])\n",
            "untransformed_posterior.rsample().shape torch.Size([1, 1, 15])\n",
            "torch.Size([30, 3]) torch.Size([30, 15]) torch.Size([1, 3])\n",
            "num_axes = 1, explains 0.9909480904195321 variance\n"
          ]
        },
        {
          "name": "stdout",
          "output_type": "stream",
          "text": [
            "self.axes_learned.shape torch.Size([1, 15])\n",
            "untransformed_posterior.rsample().shape torch.Size([1, 1, 15])\n",
            "self.axes_learned.shape torch.Size([1, 15])\n",
            "untransformed_posterior.rsample().shape torch.Size([1, 1, 15])\n",
            "torch.Size([30, 3]) torch.Size([30, 15]) torch.Size([1, 3])\n",
            "num_axes = 1, explains 0.9931076243098138 variance\n"
          ]
        },
        {
          "name": "stdout",
          "output_type": "stream",
          "text": [
            "self.axes_learned.shape torch.Size([1, 15])\n",
            "untransformed_posterior.rsample().shape torch.Size([1, 1, 15])\n",
            "self.axes_learned.shape torch.Size([1, 15])\n",
            "untransformed_posterior.rsample().shape torch.Size([1, 1, 15])\n",
            "loocv round 10\n",
            "torch.Size([30, 3]) torch.Size([30, 15]) torch.Size([1, 3])\n",
            "num_axes = 1, explains 0.9912187408800959 variance\n"
          ]
        },
        {
          "name": "stdout",
          "output_type": "stream",
          "text": [
            "self.axes_learned.shape torch.Size([1, 15])\n",
            "untransformed_posterior.rsample().shape torch.Size([1, 1, 15])\n",
            "self.axes_learned.shape torch.Size([1, 15])\n",
            "untransformed_posterior.rsample().shape torch.Size([1, 1, 15])\n",
            "torch.Size([30, 3]) torch.Size([30, 15]) torch.Size([1, 3])\n",
            "num_axes = 1, explains 0.9916933165297313 variance\n"
          ]
        },
        {
          "name": "stdout",
          "output_type": "stream",
          "text": [
            "self.axes_learned.shape torch.Size([1, 15])\n",
            "untransformed_posterior.rsample().shape torch.Size([1, 1, 15])\n",
            "self.axes_learned.shape torch.Size([1, 15])\n",
            "untransformed_posterior.rsample().shape torch.Size([1, 1, 15])\n",
            "torch.Size([30, 3]) torch.Size([30, 15]) torch.Size([1, 3])\n",
            "num_axes = 1, explains 0.9903404175281139 variance\n"
          ]
        },
        {
          "name": "stdout",
          "output_type": "stream",
          "text": [
            "self.axes_learned.shape torch.Size([1, 15])\n",
            "untransformed_posterior.rsample().shape torch.Size([1, 1, 15])\n",
            "self.axes_learned.shape torch.Size([1, 15])\n",
            "untransformed_posterior.rsample().shape torch.Size([1, 1, 15])\n",
            "torch.Size([30, 3]) torch.Size([30, 15]) torch.Size([1, 3])\n",
            "num_axes = 1, explains 0.9907535870479977 variance\n"
          ]
        },
        {
          "name": "stdout",
          "output_type": "stream",
          "text": [
            "self.axes_learned.shape torch.Size([1, 15])\n",
            "untransformed_posterior.rsample().shape torch.Size([1, 1, 15])\n",
            "self.axes_learned.shape torch.Size([1, 15])\n",
            "untransformed_posterior.rsample().shape torch.Size([1, 1, 15])\n",
            "torch.Size([30, 3]) torch.Size([30, 15]) torch.Size([1, 3])\n",
            "num_axes = 1, explains 0.9912089584611258 variance\n"
          ]
        },
        {
          "name": "stdout",
          "output_type": "stream",
          "text": [
            "self.axes_learned.shape torch.Size([1, 15])\n",
            "untransformed_posterior.rsample().shape torch.Size([1, 1, 15])\n",
            "self.axes_learned.shape torch.Size([1, 15])\n",
            "untransformed_posterior.rsample().shape torch.Size([1, 1, 15])\n",
            "loocv round 15\n",
            "torch.Size([30, 3]) torch.Size([30, 15]) torch.Size([1, 3])\n",
            "num_axes = 1, explains 0.9901633394825647 variance\n"
          ]
        },
        {
          "name": "stdout",
          "output_type": "stream",
          "text": [
            "self.axes_learned.shape torch.Size([1, 15])\n",
            "untransformed_posterior.rsample().shape torch.Size([1, 1, 15])\n",
            "self.axes_learned.shape torch.Size([1, 15])\n",
            "untransformed_posterior.rsample().shape torch.Size([1, 1, 15])\n",
            "torch.Size([30, 3]) torch.Size([30, 15]) torch.Size([1, 3])\n",
            "num_axes = 1, explains 0.9913131715894591 variance\n"
          ]
        },
        {
          "name": "stdout",
          "output_type": "stream",
          "text": [
            "self.axes_learned.shape torch.Size([1, 15])\n",
            "untransformed_posterior.rsample().shape torch.Size([1, 1, 15])\n",
            "self.axes_learned.shape torch.Size([1, 15])\n",
            "untransformed_posterior.rsample().shape torch.Size([1, 1, 15])\n",
            "torch.Size([30, 3]) torch.Size([30, 15]) torch.Size([1, 3])\n",
            "num_axes = 1, explains 0.9910805801516805 variance\n"
          ]
        },
        {
          "name": "stdout",
          "output_type": "stream",
          "text": [
            "self.axes_learned.shape torch.Size([1, 15])\n",
            "untransformed_posterior.rsample().shape torch.Size([1, 1, 15])\n",
            "self.axes_learned.shape torch.Size([1, 15])\n",
            "untransformed_posterior.rsample().shape torch.Size([1, 1, 15])\n",
            "torch.Size([30, 3]) torch.Size([30, 15]) torch.Size([1, 3])\n",
            "num_axes = 1, explains 0.9912337133275989 variance\n"
          ]
        },
        {
          "name": "stdout",
          "output_type": "stream",
          "text": [
            "self.axes_learned.shape torch.Size([1, 15])\n",
            "untransformed_posterior.rsample().shape torch.Size([1, 1, 15])\n",
            "self.axes_learned.shape torch.Size([1, 15])\n",
            "untransformed_posterior.rsample().shape torch.Size([1, 1, 15])\n",
            "torch.Size([30, 3]) torch.Size([30, 15]) torch.Size([1, 3])\n",
            "num_axes = 1, explains 0.9914993003578246 variance\n"
          ]
        },
        {
          "name": "stdout",
          "output_type": "stream",
          "text": [
            "self.axes_learned.shape torch.Size([1, 15])\n",
            "untransformed_posterior.rsample().shape torch.Size([1, 1, 15])\n",
            "self.axes_learned.shape torch.Size([1, 15])\n",
            "untransformed_posterior.rsample().shape torch.Size([1, 1, 15])\n",
            "loocv round 20\n",
            "torch.Size([30, 3]) torch.Size([30, 15]) torch.Size([1, 3])\n",
            "num_axes = 1, explains 0.9913639137284819 variance\n"
          ]
        },
        {
          "name": "stdout",
          "output_type": "stream",
          "text": [
            "self.axes_learned.shape torch.Size([1, 15])\n",
            "untransformed_posterior.rsample().shape torch.Size([1, 1, 15])\n",
            "self.axes_learned.shape torch.Size([1, 15])\n",
            "untransformed_posterior.rsample().shape torch.Size([1, 1, 15])\n",
            "torch.Size([30, 3]) torch.Size([30, 15]) torch.Size([1, 3])\n",
            "num_axes = 1, explains 0.9911928771790817 variance\n"
          ]
        },
        {
          "name": "stdout",
          "output_type": "stream",
          "text": [
            "self.axes_learned.shape torch.Size([1, 15])\n",
            "untransformed_posterior.rsample().shape torch.Size([1, 1, 15])\n",
            "self.axes_learned.shape torch.Size([1, 15])\n",
            "untransformed_posterior.rsample().shape torch.Size([1, 1, 15])\n",
            "torch.Size([30, 3]) torch.Size([30, 15]) torch.Size([1, 3])\n",
            "num_axes = 1, explains 0.9905008629478707 variance\n"
          ]
        },
        {
          "name": "stdout",
          "output_type": "stream",
          "text": [
            "self.axes_learned.shape torch.Size([1, 15])\n",
            "untransformed_posterior.rsample().shape torch.Size([1, 1, 15])\n",
            "self.axes_learned.shape torch.Size([1, 15])\n",
            "untransformed_posterior.rsample().shape torch.Size([1, 1, 15])\n",
            "torch.Size([30, 3]) torch.Size([30, 15]) torch.Size([1, 3])\n",
            "num_axes = 1, explains 0.9911210371162095 variance\n"
          ]
        },
        {
          "name": "stdout",
          "output_type": "stream",
          "text": [
            "self.axes_learned.shape torch.Size([1, 15])\n",
            "untransformed_posterior.rsample().shape torch.Size([1, 1, 15])\n",
            "self.axes_learned.shape torch.Size([1, 15])\n",
            "untransformed_posterior.rsample().shape torch.Size([1, 1, 15])\n",
            "torch.Size([30, 3]) torch.Size([30, 15]) torch.Size([1, 3])\n",
            "num_axes = 1, explains 0.9899151564619358 variance\n"
          ]
        },
        {
          "name": "stdout",
          "output_type": "stream",
          "text": [
            "self.axes_learned.shape torch.Size([1, 15])\n",
            "untransformed_posterior.rsample().shape torch.Size([1, 1, 15])\n",
            "self.axes_learned.shape torch.Size([1, 15])\n",
            "untransformed_posterior.rsample().shape torch.Size([1, 1, 15])\n",
            "loocv round 25\n",
            "torch.Size([30, 3]) torch.Size([30, 15]) torch.Size([1, 3])\n",
            "num_axes = 1, explains 0.9906791652345659 variance\n"
          ]
        },
        {
          "name": "stdout",
          "output_type": "stream",
          "text": [
            "self.axes_learned.shape torch.Size([1, 15])\n",
            "untransformed_posterior.rsample().shape torch.Size([1, 1, 15])\n",
            "self.axes_learned.shape torch.Size([1, 15])\n",
            "untransformed_posterior.rsample().shape torch.Size([1, 1, 15])\n",
            "torch.Size([30, 3]) torch.Size([30, 15]) torch.Size([1, 3])\n",
            "num_axes = 1, explains 0.9914213521419656 variance\n"
          ]
        },
        {
          "name": "stdout",
          "output_type": "stream",
          "text": [
            "self.axes_learned.shape torch.Size([1, 15])\n",
            "untransformed_posterior.rsample().shape torch.Size([1, 1, 15])\n",
            "self.axes_learned.shape torch.Size([1, 15])\n",
            "untransformed_posterior.rsample().shape torch.Size([1, 1, 15])\n",
            "torch.Size([30, 3]) torch.Size([30, 15]) torch.Size([1, 3])\n",
            "num_axes = 1, explains 0.9912680225135205 variance\n"
          ]
        },
        {
          "name": "stdout",
          "output_type": "stream",
          "text": [
            "self.axes_learned.shape torch.Size([1, 15])\n",
            "untransformed_posterior.rsample().shape torch.Size([1, 1, 15])\n",
            "self.axes_learned.shape torch.Size([1, 15])\n",
            "untransformed_posterior.rsample().shape torch.Size([1, 1, 15])\n",
            "torch.Size([30, 3]) torch.Size([30, 15]) torch.Size([1, 3])\n",
            "num_axes = 1, explains 0.9911449219515085 variance\n"
          ]
        },
        {
          "name": "stdout",
          "output_type": "stream",
          "text": [
            "self.axes_learned.shape torch.Size([1, 15])\n",
            "untransformed_posterior.rsample().shape torch.Size([1, 1, 15])\n",
            "self.axes_learned.shape torch.Size([1, 15])\n",
            "untransformed_posterior.rsample().shape torch.Size([1, 1, 15])\n",
            "torch.Size([30, 3]) torch.Size([30, 15]) torch.Size([1, 3])\n",
            "num_axes = 1, explains 0.9911169228937485 variance\n"
          ]
        },
        {
          "name": "stdout",
          "output_type": "stream",
          "text": [
            "self.axes_learned.shape torch.Size([1, 15])\n",
            "untransformed_posterior.rsample().shape torch.Size([1, 1, 15])\n",
            "self.axes_learned.shape torch.Size([1, 15])\n",
            "untransformed_posterior.rsample().shape torch.Size([1, 1, 15])\n",
            "loocv round 30\n",
            "torch.Size([30, 3]) torch.Size([30, 15]) torch.Size([1, 3])\n",
            "num_axes = 1, explains 0.9911933187268865 variance\n"
          ]
        },
        {
          "name": "stdout",
          "output_type": "stream",
          "text": [
            "self.axes_learned.shape torch.Size([1, 15])\n",
            "untransformed_posterior.rsample().shape torch.Size([1, 1, 15])\n",
            "self.axes_learned.shape torch.Size([1, 15])\n",
            "untransformed_posterior.rsample().shape torch.Size([1, 1, 15])\n"
          ]
        }
      ],
      "source": [
        "loocv_outcome_mean, loocv_outcome_variance, explained_var, num_axes = loocv_new(\n",
        "    X,\n",
        "    Y,\n",
        "    SingleTaskGP,\n",
        "    input_transform=InputStandardize(3),\n",
        "    outcome_transform=ChainedOutcomeTransform(\n",
        "        **{\"standardize\": Standardize(Y.shape[-1], min_stdv=100000), \"pca\": PCAOutcomeTransform()}\n",
        "    ),\n",
        "    # likelihood=GaussianLikelihood(noise_prior=GammaPrior(0.9, 10)),\n",
        ")"
      ]
    },
    {
      "cell_type": "code",
      "execution_count": 97,
      "metadata": {
        "collapsed": false,
        "customInput": null,
        "executionStartTime": 1673040932190,
        "executionStopTime": 1673040932288,
        "originalKey": "bba967d1-cc79-425f-b7d3-b0ca6c1cdb0d",
        "requestMsgId": "ab76980a-d1cd-47d2-9a7b-4a5675702553",
        "showInput": true
      },
      "outputs": [
        {
          "name": "stdout",
          "output_type": "stream",
          "text": [
            "tensor([6.5022e-10, 1.1728e-04, 7.2367e-06, 7.8902e-07, 6.8729e+00, 1.5691e+00,\n",
            "        3.4260e-02, 2.1566e-05, 4.2109e-04, 8.8598e-10, 1.9673e-09, 4.7682e-09,\n",
            "        1.5507e-06, 2.4094e-06, 2.4444e-04], dtype=torch.float64,\n",
            "       grad_fn=<MeanBackward1>)\n"
          ]
        }
      ],
      "source": [
        "# PCA\n",
        "mse_pca = torch.mean(torch.square(loocv_outcome_mean - Y), dim = 0)\n",
        "print(mse_pca)"
      ]
    },
    {
      "cell_type": "code",
      "execution_count": 98,
      "metadata": {
        "collapsed": false,
        "customInput": null,
        "executionStartTime": 1673040933466,
        "executionStopTime": 1673040933475,
        "originalKey": "9eb10b79-4d27-464f-b742-9d47bbb298cc",
        "requestMsgId": "7182ecf3-7f96-472f-a0ef-21c2362183ca",
        "showInput": true
      },
      "outputs": [
        {
          "name": "stdout",
          "output_type": "stream",
          "text": [
            "tensor([6.6854e-10, 8.9802e-05, 7.2111e-06, 7.3455e-07, 3.1503e+01, 2.7789e+00,\n",
            "        7.9485e-02, 3.5101e-05, 3.4196e-04, 8.3741e-10, 2.0275e-09, 4.2656e-09,\n",
            "        1.7585e-06, 2.2265e-06, 6.8536e-05], dtype=torch.float64,\n",
            "       grad_fn=<MeanBackward1>)\n"
          ]
        }
      ],
      "source": [
        "# Indep\n",
        "mse_indep = torch.mean(torch.square(loocv_outcome_mean_st - Y), dim = 0)\n",
        "print(mse_indep)"
      ]
    },
    {
      "cell_type": "code",
      "execution_count": 99,
      "metadata": {
        "collapsed": false,
        "customInput": null,
        "executionStartTime": 1673040934199,
        "executionStopTime": 1673040934260,
        "originalKey": "6e26ab7c-9c14-4c17-a344-3ac9df2f94dd",
        "requestMsgId": "b704cdce-ce5d-4cf8-9be4-b2c5dda9ab9d",
        "showInput": true
      },
      "outputs": [
        {
          "data": {
            "text/plain": [
              "tensor([ True, False, False, False,  True,  True,  True,  True, False, False,\n",
              "         True, False,  True, False, False])"
            ]
          },
          "execution_count": 99,
          "metadata": {
            "bento_obj_id": "140134946556160"
          },
          "output_type": "execute_result"
        }
      ],
      "source": [
        "torch.mean(torch.square(loocv_outcome_mean - Y), dim = 0) < torch.mean(torch.square(loocv_outcome_mean_st - Y), dim = 0)"
      ]
    },
    {
      "cell_type": "code",
      "execution_count": 100,
      "metadata": {
        "collapsed": false,
        "customInput": null,
        "executionStartTime": 1673040934354,
        "executionStopTime": 1673040934452,
        "originalKey": "8b8604f1-4c90-4264-9805-2bef25092b52",
        "requestMsgId": "4614b167-8956-4b50-a7c8-6973b015153a",
        "showInput": true
      },
      "outputs": [
        {
          "data": {
            "text/plain": [
              "tensor([0.9726, 1.3060, 1.0035, 1.0741, 0.2182, 0.5647, 0.4310, 0.6144, 1.2314,\n",
              "        1.0580, 0.9703, 1.1178, 0.8818, 1.0821, 3.5665], dtype=torch.float64,\n",
              "       grad_fn=<DivBackward0>)"
            ]
          },
          "execution_count": 100,
          "metadata": {
            "bento_obj_id": "140134969572224"
          },
          "output_type": "execute_result"
        }
      ],
      "source": [
        "mse_pca / mse_indep"
      ]
    },
    {
      "cell_type": "code",
      "execution_count": 50,
      "metadata": {
        "collapsed": false,
        "customInput": null,
        "customOutput": null,
        "executionStartTime": 1673024370092,
        "executionStopTime": 1673024370185,
        "originalKey": "f639edef-80f8-4475-8e02-ae66ffabe696",
        "requestMsgId": "f639edef-80f8-4475-8e02-ae66ffabe696",
        "showInput": true
      },
      "outputs": [
        {
          "data": {
            "text/plain": [
              "8.477056341416837"
            ]
          },
          "execution_count": 50,
          "metadata": {
            "bento_obj_id": "140135483221104"
          },
          "output_type": "execute_result"
        }
      ],
      "source": [
        "torch.sum(torch.mean(torch.square(loocv_outcome_mean - Y), dim = 0)).item()"
      ]
    },
    {
      "cell_type": "code",
      "execution_count": 52,
      "metadata": {
        "collapsed": false,
        "customInput": null,
        "executionStartTime": 1673024402938,
        "executionStopTime": 1673024403735,
        "originalKey": "aee61338-8829-4778-8ad1-f0e95b5a5516",
        "requestMsgId": "aee61338-8829-4778-8ad1-f0e95b5a5516",
        "showInput": true
      },
      "outputs": [
        {
          "data": {
            "text/plain": [
              "0.7517560039186845"
            ]
          },
          "execution_count": 52,
          "metadata": {
            "bento_obj_id": "140136814310960"
          },
          "output_type": "execute_result"
        }
      ],
      "source": [
        "torch.sum(torch.sqrt(torch.mean(torch.square(loocv_outcome_mean - Y))), dim = 0).item()"
      ]
    },
    {
      "cell_type": "code",
      "execution_count": null,
      "metadata": {
        "customInput": null,
        "originalKey": "e428e5cc-aa87-41ea-8334-17f09258979f",
        "showInput": true
      },
      "outputs": [],
      "source": []
    },
    {
      "cell_type": "code",
      "execution_count": 42,
      "metadata": {
        "collapsed": true,
        "customInput": null,
        "executionStartTime": 1671597001342,
        "executionStopTime": 1671597001357,
        "originalKey": "345ae4b9-8315-41a8-baa0-3bd783d21384",
        "requestMsgId": "345ae4b9-8315-41a8-baa0-3bd783d21384",
        "showInput": true
      },
      "outputs": [
        {
          "data": {
            "text/plain": [
              "[0.9158499456282487,\n",
              " 0.91315337953457,\n",
              " 0.9182127620450766,\n",
              " 0.9169798904496302,\n",
              " 0.9179392604460208,\n",
              " 0.9146492232424648,\n",
              " 0.9187640582040272,\n",
              " 0.9157203868902666,\n",
              " 0.9187682674017915,\n",
              " 0.920712547592058,\n",
              " 0.9243828771345184,\n",
              " 0.9154005814896449,\n",
              " 0.9133714025426254,\n",
              " 0.92193309097677,\n",
              " 0.9166385530771779,\n",
              " 0.9150014384713844,\n",
              " 0.9109195859990044,\n",
              " 0.9243410555611314,\n",
              " 0.9152023918650345,\n",
              " 0.9200581722030551,\n",
              " 0.9151951095175082,\n",
              " 0.9145898960425456,\n",
              " 0.9204339265915606,\n",
              " 0.919995953130135,\n",
              " 0.9138342606454363,\n",
              " 0.9180942368520791,\n",
              " 0.9192153728911955,\n",
              " 0.9184799688071913,\n",
              " 0.9180049825415025,\n",
              " 0.9166000471655898,\n",
              " 0.9170595873646257]"
            ]
          },
          "execution_count": 42,
          "metadata": {
            "bento_obj_id": "140137274227968"
          },
          "output_type": "execute_result"
        }
      ],
      "source": [
        "explained_var"
      ]
    },
    {
      "cell_type": "code",
      "execution_count": 46,
      "metadata": {
        "collapsed": true,
        "customInput": null,
        "executionStartTime": 1673019247951,
        "executionStopTime": 1673019248052,
        "originalKey": "96a968ff-d50f-4e8b-9226-bb1cbc600fca",
        "requestMsgId": "96a968ff-d50f-4e8b-9226-bb1cbc600fca",
        "showInput": true
      },
      "outputs": [
        {
          "data": {
            "text/plain": [
              "[1,\n",
              " 1,\n",
              " 1,\n",
              " 1,\n",
              " 1,\n",
              " 1,\n",
              " 1,\n",
              " 1,\n",
              " 1,\n",
              " 1,\n",
              " 1,\n",
              " 1,\n",
              " 1,\n",
              " 1,\n",
              " 1,\n",
              " 1,\n",
              " 1,\n",
              " 1,\n",
              " 1,\n",
              " 1,\n",
              " 1,\n",
              " 1,\n",
              " 1,\n",
              " 1,\n",
              " 1,\n",
              " 1,\n",
              " 1,\n",
              " 1,\n",
              " 1,\n",
              " 1,\n",
              " 1]"
            ]
          },
          "execution_count": 46,
          "metadata": {
            "bento_obj_id": "140135385084416"
          },
          "output_type": "execute_result"
        }
      ],
      "source": [
        "num_axes"
      ]
    },
    {
      "cell_type": "code",
      "execution_count": 91,
      "metadata": {
        "collapsed": false,
        "customInput": null,
        "executionStartTime": 1673038788212,
        "executionStopTime": 1673040845110,
        "originalKey": "634c9ecc-7579-4cbd-9c19-4a46ed8c617f",
        "requestMsgId": "7c679f46-2a85-4441-b3e6-c621bb87d91b",
        "showInput": true
      },
      "outputs": [
        {
          "name": "stdout",
          "output_type": "stream",
          "text": [
            "Full input data shape torch.Size([31, 3]), output data shape torch.Size([31, 15])\n",
            "loocv round 0\n",
            "torch.Size([30, 3]) torch.Size([30, 15]) torch.Size([1, 3])\n"
          ]
        },
        {
          "name": "stdout",
          "output_type": "stream",
          "text": [
            "torch.Size([30, 3]) torch.Size([30, 15]) torch.Size([1, 3])\n"
          ]
        },
        {
          "name": "stdout",
          "output_type": "stream",
          "text": [
            "torch.Size([30, 3]) torch.Size([30, 15]) torch.Size([1, 3])\n"
          ]
        },
        {
          "name": "stdout",
          "output_type": "stream",
          "text": [
            "torch.Size([30, 3]) torch.Size([30, 15]) torch.Size([1, 3])\n"
          ]
        },
        {
          "name": "stdout",
          "output_type": "stream",
          "text": [
            "torch.Size([30, 3]) torch.Size([30, 15]) torch.Size([1, 3])\n"
          ]
        },
        {
          "name": "stdout",
          "output_type": "stream",
          "text": [
            "loocv round 5\n",
            "torch.Size([30, 3]) torch.Size([30, 15]) torch.Size([1, 3])\n"
          ]
        },
        {
          "name": "stdout",
          "output_type": "stream",
          "text": [
            "torch.Size([30, 3]) torch.Size([30, 15]) torch.Size([1, 3])\n"
          ]
        },
        {
          "name": "stdout",
          "output_type": "stream",
          "text": [
            "torch.Size([30, 3]) torch.Size([30, 15]) torch.Size([1, 3])\n"
          ]
        },
        {
          "name": "stdout",
          "output_type": "stream",
          "text": [
            "torch.Size([30, 3]) torch.Size([30, 15]) torch.Size([1, 3])\n"
          ]
        },
        {
          "name": "stdout",
          "output_type": "stream",
          "text": [
            "torch.Size([30, 3]) torch.Size([30, 15]) torch.Size([1, 3])\n"
          ]
        },
        {
          "name": "stdout",
          "output_type": "stream",
          "text": [
            "loocv round 10\n",
            "torch.Size([30, 3]) torch.Size([30, 15]) torch.Size([1, 3])\n"
          ]
        },
        {
          "name": "stdout",
          "output_type": "stream",
          "text": [
            "torch.Size([30, 3]) torch.Size([30, 15]) torch.Size([1, 3])\n"
          ]
        },
        {
          "name": "stdout",
          "output_type": "stream",
          "text": [
            "torch.Size([30, 3]) torch.Size([30, 15]) torch.Size([1, 3])\n"
          ]
        },
        {
          "name": "stdout",
          "output_type": "stream",
          "text": [
            "torch.Size([30, 3]) torch.Size([30, 15]) torch.Size([1, 3])\n"
          ]
        },
        {
          "name": "stdout",
          "output_type": "stream",
          "text": [
            "torch.Size([30, 3]) torch.Size([30, 15]) torch.Size([1, 3])\n"
          ]
        },
        {
          "name": "stdout",
          "output_type": "stream",
          "text": [
            "loocv round 15\n",
            "torch.Size([30, 3]) torch.Size([30, 15]) torch.Size([1, 3])\n"
          ]
        },
        {
          "name": "stdout",
          "output_type": "stream",
          "text": [
            "torch.Size([30, 3]) torch.Size([30, 15]) torch.Size([1, 3])\n"
          ]
        },
        {
          "name": "stdout",
          "output_type": "stream",
          "text": [
            "torch.Size([30, 3]) torch.Size([30, 15]) torch.Size([1, 3])\n"
          ]
        },
        {
          "name": "stdout",
          "output_type": "stream",
          "text": [
            "torch.Size([30, 3]) torch.Size([30, 15]) torch.Size([1, 3])\n"
          ]
        },
        {
          "name": "stdout",
          "output_type": "stream",
          "text": [
            "torch.Size([30, 3]) torch.Size([30, 15]) torch.Size([1, 3])\n"
          ]
        },
        {
          "name": "stdout",
          "output_type": "stream",
          "text": [
            "loocv round 20\n",
            "torch.Size([30, 3]) torch.Size([30, 15]) torch.Size([1, 3])\n"
          ]
        },
        {
          "name": "stdout",
          "output_type": "stream",
          "text": [
            "torch.Size([30, 3]) torch.Size([30, 15]) torch.Size([1, 3])\n"
          ]
        },
        {
          "name": "stdout",
          "output_type": "stream",
          "text": [
            "torch.Size([30, 3]) torch.Size([30, 15]) torch.Size([1, 3])\n"
          ]
        },
        {
          "name": "stdout",
          "output_type": "stream",
          "text": [
            "torch.Size([30, 3]) torch.Size([30, 15]) torch.Size([1, 3])\n"
          ]
        },
        {
          "name": "stdout",
          "output_type": "stream",
          "text": [
            "torch.Size([30, 3]) torch.Size([30, 15]) torch.Size([1, 3])\n"
          ]
        },
        {
          "name": "stdout",
          "output_type": "stream",
          "text": [
            "loocv round 25\n",
            "torch.Size([30, 3]) torch.Size([30, 15]) torch.Size([1, 3])\n"
          ]
        },
        {
          "name": "stdout",
          "output_type": "stream",
          "text": [
            "torch.Size([30, 3]) torch.Size([30, 15]) torch.Size([1, 3])\n"
          ]
        },
        {
          "name": "stdout",
          "output_type": "stream",
          "text": [
            "torch.Size([30, 3]) torch.Size([30, 15]) torch.Size([1, 3])\n"
          ]
        },
        {
          "name": "stdout",
          "output_type": "stream",
          "text": [
            "torch.Size([30, 3]) torch.Size([30, 15]) torch.Size([1, 3])\n"
          ]
        },
        {
          "name": "stdout",
          "output_type": "stream",
          "text": [
            "torch.Size([30, 3]) torch.Size([30, 15]) torch.Size([1, 3])\n"
          ]
        },
        {
          "name": "stdout",
          "output_type": "stream",
          "text": [
            "loocv round 30\n",
            "torch.Size([30, 3]) torch.Size([30, 15]) torch.Size([1, 3])\n"
          ]
        }
      ],
      "source": [
        "loocv_outcome_mean_st, loocv_outcome_variance_st, mean_explained_var_st, _ = loocv_new(\n",
        "    X,\n",
        "    Y,\n",
        "    SingleTaskGP,\n",
        "    input_transform=InputStandardize(3),\n",
        "    outcome_transform=ChainedOutcomeTransform(\n",
        "        **{\"standardize\": Standardize(Y.shape[-1], min_stdv = 100000)}\n",
        "    ),\n",
        "    # likelihood=GaussianLikelihood(noise_prior=GammaPrior(0.9, 10)),\n",
        ")"
      ]
    },
    {
      "cell_type": "code",
      "execution_count": 92,
      "metadata": {
        "collapsed": false,
        "customInput": null,
        "executionStartTime": 1673040880569,
        "executionStopTime": 1673040880600,
        "originalKey": "8de6ee91-0b66-4b9b-a7a5-17ab31bbcfc0",
        "requestMsgId": "3b87619a-ebb1-4885-ad67-e5510aadbb74",
        "showInput": true
      },
      "outputs": [
        {
          "data": {
            "text/plain": [
              "tensor([6.6854e-10, 8.9802e-05, 7.2111e-06, 7.3455e-07, 3.1503e+01, 2.7789e+00,\n",
              "        7.9485e-02, 3.5101e-05, 3.4196e-04, 8.3741e-10, 2.0275e-09, 4.2656e-09,\n",
              "        1.7585e-06, 2.2265e-06, 6.8536e-05], dtype=torch.float64,\n",
              "       grad_fn=<MeanBackward1>)"
            ]
          },
          "execution_count": 92,
          "metadata": {
            "bento_obj_id": "140134992944480"
          },
          "output_type": "execute_result"
        }
      ],
      "source": [
        "torch.mean(torch.square(loocv_outcome_mean_st - Y), dim = 0)"
      ]
    },
    {
      "cell_type": "code",
      "execution_count": 49,
      "metadata": {
        "collapsed": false,
        "customInput": null,
        "executionStartTime": 1673024338371,
        "executionStopTime": 1673024338470,
        "originalKey": "878c23b0-da5d-48f5-96a9-cd7e86e17ab8",
        "requestMsgId": "878c23b0-da5d-48f5-96a9-cd7e86e17ab8",
        "showInput": true
      },
      "outputs": [
        {
          "data": {
            "text/plain": [
              "34.361849040600816"
            ]
          },
          "execution_count": 49,
          "metadata": {
            "bento_obj_id": "140135445507824"
          },
          "output_type": "execute_result"
        }
      ],
      "source": [
        "torch.sum(torch.mean(torch.square(loocv_outcome_mean_st - Y), dim = 0)).item()\n"
      ]
    },
    {
      "cell_type": "code",
      "execution_count": 53,
      "metadata": {
        "collapsed": false,
        "customInput": null,
        "executionStartTime": 1673024411387,
        "executionStopTime": 1673024411520,
        "originalKey": "c2af3a9e-96cd-4d5d-a7fb-28d334f650aa",
        "requestMsgId": "c2af3a9e-96cd-4d5d-a7fb-28d334f650aa",
        "showInput": true
      },
      "outputs": [
        {
          "data": {
            "text/plain": [
              "1.513535574752062"
            ]
          },
          "execution_count": 53,
          "metadata": {
            "bento_obj_id": "140136814616016"
          },
          "output_type": "execute_result"
        }
      ],
      "source": [
        "torch.sum(torch.sqrt(torch.mean(torch.square(loocv_outcome_mean_st - Y))), dim = 0).item()"
      ]
    },
    {
      "cell_type": "code",
      "execution_count": 54,
      "metadata": {
        "collapsed": false,
        "customInput": null,
        "executionStartTime": 1671598509470,
        "executionStopTime": 1671598509563,
        "originalKey": "1219cda0-ecb4-4ee5-91cf-462f4ff2e3f9",
        "requestMsgId": "1219cda0-ecb4-4ee5-91cf-462f4ff2e3f9",
        "showInput": true
      },
      "outputs": [
        {
          "data": {
            "text/plain": [
              "tensor(0.4298, dtype=torch.float64, grad_fn=<MeanBackward0>)"
            ]
          },
          "execution_count": 54,
          "metadata": {
            "bento_obj_id": "140136682899232"
          },
          "output_type": "execute_result"
        }
      ],
      "source": [
        "torch.mean(torch.square(loocv_outcome_mean_st - Y))"
      ]
    },
    {
      "cell_type": "code",
      "execution_count": 51,
      "metadata": {
        "collapsed": false,
        "customInput": null,
        "executionStartTime": 1671598244085,
        "executionStopTime": 1671598244092,
        "originalKey": "e16df856-c573-4477-a3e1-789cf39db194",
        "requestMsgId": "e16df856-c573-4477-a3e1-789cf39db194",
        "showInput": true
      },
      "outputs": [
        {
          "data": {
            "text/plain": [
              "0.42977626486503195"
            ]
          },
          "execution_count": 51,
          "metadata": {
            "bento_obj_id": "140137203000560"
          },
          "output_type": "execute_result"
        }
      ],
      "source": [
        "torch.mean(torch.square(loocv_outcome_mean_st - Y)).item()\n"
      ]
    },
    {
      "cell_type": "code",
      "execution_count": null,
      "metadata": {
        "customInput": null,
        "customOutput": null,
        "originalKey": "5039ab11-b199-40ed-89d2-161f32c1bfe8",
        "showInput": true
      },
      "outputs": [],
      "source": [
        "# also otuput var explained for different number of axes kept?"
      ]
    },
    {
      "cell_type": "code",
      "execution_count": 48,
      "metadata": {
        "collapsed": true,
        "customInput": null,
        "customOutput": null,
        "executionStartTime": 1671597918360,
        "executionStopTime": 1671598156989,
        "originalKey": "17be810e-335f-4ed0-a558-58c61e74d2be",
        "requestMsgId": "17be810e-335f-4ed0-a558-58c61e74d2be",
        "showInput": true
      },
      "outputs": [
        {
          "name": "stdout",
          "output_type": "stream",
          "text": [
            "PCA transform with 2 principal axes\n",
            "Full input data shape torch.Size([31, 3]), output data shape torch.Size([31, 15])\n",
            "loocv round 0\n",
            "torch.Size([30, 3]) torch.Size([30, 15]) torch.Size([1, 3])\n",
            "num_axes = 2, explains 0.6223068848578779 variance\n"
          ]
        },
        {
          "name": "stdout",
          "output_type": "stream",
          "text": [
            "self.axes_learned.shape torch.Size([2, 15])\n",
            "untransformed_posterior.rsample().shape torch.Size([1, 1, 15])\n",
            "self.axes_learned.shape torch.Size([2, 15])\n",
            "untransformed_posterior.rsample().shape torch.Size([1, 1, 15])\n",
            "torch.Size([30, 3]) torch.Size([30, 15]) torch.Size([1, 3])\n",
            "num_axes = 2, explains 0.6191985867588905 variance\n",
            "self.axes_learned.shape torch.Size([2, 15])\n",
            "untransformed_posterior.rsample().shape torch.Size([1, 1, 15])\n",
            "self.axes_learned.shape torch.Size([2, 15])\n",
            "untransformed_posterior.rsample().shape torch.Size([1, 1, 15])\n",
            "torch.Size([30, 3]) torch.Size([30, 15]) torch.Size([1, 3])\n",
            "num_axes = 2, explains 0.6256941757053145 variance\n"
          ]
        },
        {
          "name": "stdout",
          "output_type": "stream",
          "text": [
            "self.axes_learned.shape torch.Size([2, 15])\n",
            "untransformed_posterior.rsample().shape torch.Size([1, 1, 15])\n",
            "self.axes_learned.shape torch.Size([2, 15])\n",
            "untransformed_posterior.rsample().shape torch.Size([1, 1, 15])\n",
            "torch.Size([30, 3]) torch.Size([30, 15]) torch.Size([1, 3])\n",
            "num_axes = 2, explains 0.6293256527324057 variance\n"
          ]
        },
        {
          "name": "stdout",
          "output_type": "stream",
          "text": [
            "self.axes_learned.shape torch.Size([2, 15])\n",
            "untransformed_posterior.rsample().shape torch.Size([1, 1, 15])\n",
            "self.axes_learned.shape torch.Size([2, 15])\n",
            "untransformed_posterior.rsample().shape torch.Size([1, 1, 15])\n",
            "torch.Size([30, 3]) torch.Size([30, 15]) torch.Size([1, 3])\n",
            "num_axes = 2, explains 0.6292648228688607 variance\n"
          ]
        },
        {
          "name": "stdout",
          "output_type": "stream",
          "text": [
            "self.axes_learned.shape torch.Size([2, 15])\n",
            "untransformed_posterior.rsample().shape torch.Size([1, 1, 15])\n",
            "self.axes_learned.shape torch.Size([2, 15])\n",
            "untransformed_posterior.rsample().shape torch.Size([1, 1, 15])\n",
            "loocv round 5\n",
            "torch.Size([30, 3]) torch.Size([30, 15]) torch.Size([1, 3])\n",
            "num_axes = 2, explains 0.6257260328152745 variance\n"
          ]
        },
        {
          "name": "stdout",
          "output_type": "stream",
          "text": [
            "self.axes_learned.shape torch.Size([2, 15])\n",
            "untransformed_posterior.rsample().shape torch.Size([1, 1, 15])\n",
            "self.axes_learned.shape torch.Size([2, 15])\n",
            "untransformed_posterior.rsample().shape torch.Size([1, 1, 15])\n",
            "torch.Size([30, 3]) torch.Size([30, 15]) torch.Size([1, 3])\n",
            "num_axes = 2, explains 0.6248822665899069 variance\n"
          ]
        },
        {
          "name": "stdout",
          "output_type": "stream",
          "text": [
            "self.axes_learned.shape torch.Size([2, 15])\n",
            "untransformed_posterior.rsample().shape torch.Size([1, 1, 15])\n",
            "self.axes_learned.shape torch.Size([2, 15])\n",
            "untransformed_posterior.rsample().shape torch.Size([1, 1, 15])\n",
            "torch.Size([30, 3]) torch.Size([30, 15]) torch.Size([1, 3])\n",
            "num_axes = 2, explains 0.6268885900055903 variance\n",
            "self.axes_learned.shape torch.Size([2, 15])\n",
            "untransformed_posterior.rsample().shape torch.Size([1, 1, 15])\n",
            "self.axes_learned.shape torch.Size([2, 15])\n",
            "untransformed_posterior.rsample().shape torch.Size([1, 1, 15])\n",
            "torch.Size([30, 3]) torch.Size([30, 15]) torch.Size([1, 3])\n",
            "num_axes = 2, explains 0.6290390038806343 variance\n"
          ]
        },
        {
          "name": "stdout",
          "output_type": "stream",
          "text": [
            "self.axes_learned.shape torch.Size([2, 15])\n",
            "untransformed_posterior.rsample().shape torch.Size([1, 1, 15])\n",
            "self.axes_learned.shape torch.Size([2, 15])\n",
            "untransformed_posterior.rsample().shape torch.Size([1, 1, 15])\n",
            "torch.Size([30, 3]) torch.Size([30, 15]) torch.Size([1, 3])\n",
            "num_axes = 2, explains 0.634757209202826 variance\n"
          ]
        },
        {
          "name": "stdout",
          "output_type": "stream",
          "text": [
            "self.axes_learned.shape torch.Size([2, 15])\n",
            "untransformed_posterior.rsample().shape torch.Size([1, 1, 15])\n",
            "self.axes_learned.shape torch.Size([2, 15])\n",
            "untransformed_posterior.rsample().shape torch.Size([1, 1, 15])\n",
            "loocv round 10\n",
            "torch.Size([30, 3]) torch.Size([30, 15]) torch.Size([1, 3])\n",
            "num_axes = 2, explains 0.6330703139095091 variance\n"
          ]
        },
        {
          "name": "stdout",
          "output_type": "stream",
          "text": [
            "self.axes_learned.shape torch.Size([2, 15])\n",
            "untransformed_posterior.rsample().shape torch.Size([1, 1, 15])\n",
            "self.axes_learned.shape torch.Size([2, 15])\n",
            "untransformed_posterior.rsample().shape torch.Size([1, 1, 15])\n",
            "torch.Size([30, 3]) torch.Size([30, 15]) torch.Size([1, 3])\n",
            "num_axes = 2, explains 0.6262559716725699 variance\n"
          ]
        },
        {
          "name": "stdout",
          "output_type": "stream",
          "text": [
            "self.axes_learned.shape torch.Size([2, 15])\n",
            "untransformed_posterior.rsample().shape torch.Size([1, 1, 15])\n",
            "self.axes_learned.shape torch.Size([2, 15])\n",
            "untransformed_posterior.rsample().shape torch.Size([1, 1, 15])\n",
            "torch.Size([30, 3]) torch.Size([30, 15]) torch.Size([1, 3])\n",
            "num_axes = 2, explains 0.6224282458472185 variance\n",
            "self.axes_learned.shape torch.Size([2, 15])\n",
            "untransformed_posterior.rsample().shape torch.Size([1, 1, 15])\n",
            "self.axes_learned.shape torch.Size([2, 15])\n",
            "untransformed_posterior.rsample().shape torch.Size([1, 1, 15])\n",
            "torch.Size([30, 3]) torch.Size([30, 15]) torch.Size([1, 3])\n",
            "num_axes = 2, explains 0.635111910286942 variance\n"
          ]
        },
        {
          "name": "stdout",
          "output_type": "stream",
          "text": [
            "self.axes_learned.shape torch.Size([2, 15])\n",
            "untransformed_posterior.rsample().shape torch.Size([1, 1, 15])\n",
            "self.axes_learned.shape torch.Size([2, 15])\n",
            "untransformed_posterior.rsample().shape torch.Size([1, 1, 15])\n",
            "torch.Size([30, 3]) torch.Size([30, 15]) torch.Size([1, 3])\n",
            "num_axes = 2, explains 0.6299949856008984 variance\n",
            "self.axes_learned.shape torch.Size([2, 15])\n",
            "untransformed_posterior.rsample().shape torch.Size([1, 1, 15])\n",
            "self.axes_learned.shape torch.Size([2, 15])\n",
            "untransformed_posterior.rsample().shape torch.Size([1, 1, 15])\n",
            "loocv round 15\n",
            "torch.Size([30, 3]) torch.Size([30, 15]) torch.Size([1, 3])\n",
            "num_axes = 2, explains 0.6386558438433277 variance\n"
          ]
        },
        {
          "name": "stdout",
          "output_type": "stream",
          "text": [
            "self.axes_learned.shape torch.Size([2, 15])\n",
            "untransformed_posterior.rsample().shape torch.Size([1, 1, 15])\n",
            "self.axes_learned.shape torch.Size([2, 15])\n",
            "untransformed_posterior.rsample().shape torch.Size([1, 1, 15])\n",
            "torch.Size([30, 3]) torch.Size([30, 15]) torch.Size([1, 3])\n",
            "num_axes = 2, explains 0.601678686237831 variance\n",
            "self.axes_learned.shape torch.Size([2, 15])\n",
            "untransformed_posterior.rsample().shape torch.Size([1, 1, 15])\n",
            "self.axes_learned.shape torch.Size([2, 15])\n",
            "untransformed_posterior.rsample().shape torch.Size([1, 1, 15])\n",
            "torch.Size([30, 3]) torch.Size([30, 15]) torch.Size([1, 3])\n",
            "num_axes = 2, explains 0.6379045137998502 variance\n"
          ]
        },
        {
          "name": "stdout",
          "output_type": "stream",
          "text": [
            "self.axes_learned.shape torch.Size([2, 15])\n",
            "untransformed_posterior.rsample().shape torch.Size([1, 1, 15])\n",
            "self.axes_learned.shape torch.Size([2, 15])\n",
            "untransformed_posterior.rsample().shape torch.Size([1, 1, 15])\n",
            "torch.Size([30, 3]) torch.Size([30, 15]) torch.Size([1, 3])\n",
            "num_axes = 2, explains 0.6240095208194538 variance\n",
            "self.axes_learned.shape torch.Size([2, 15])\n",
            "untransformed_posterior.rsample().shape torch.Size([1, 1, 15])\n",
            "self.axes_learned.shape torch.Size([2, 15])\n",
            "untransformed_posterior.rsample().shape torch.Size([1, 1, 15])\n",
            "torch.Size([30, 3]) torch.Size([30, 15]) torch.Size([1, 3])\n",
            "num_axes = 2, explains 0.6345245846676479 variance\n"
          ]
        },
        {
          "name": "stdout",
          "output_type": "stream",
          "text": [
            "self.axes_learned.shape torch.Size([2, 15])\n",
            "untransformed_posterior.rsample().shape torch.Size([1, 1, 15])\n",
            "self.axes_learned.shape torch.Size([2, 15])\n",
            "untransformed_posterior.rsample().shape torch.Size([1, 1, 15])\n",
            "loocv round 20\n",
            "torch.Size([30, 3]) torch.Size([30, 15]) torch.Size([1, 3])\n",
            "num_axes = 2, explains 0.628422995650979 variance\n",
            "self.axes_learned.shape torch.Size([2, 15])\n",
            "untransformed_posterior.rsample().shape torch.Size([1, 1, 15])\n",
            "self.axes_learned.shape torch.Size([2, 15])\n",
            "untransformed_posterior.rsample().shape torch.Size([1, 1, 15])\n",
            "torch.Size([30, 3]) torch.Size([30, 15]) torch.Size([1, 3])\n",
            "num_axes = 2, explains 0.6208296880595892 variance\n"
          ]
        },
        {
          "name": "stdout",
          "output_type": "stream",
          "text": [
            "self.axes_learned.shape torch.Size([2, 15])\n",
            "untransformed_posterior.rsample().shape torch.Size([1, 1, 15])\n",
            "self.axes_learned.shape torch.Size([2, 15])\n",
            "untransformed_posterior.rsample().shape torch.Size([1, 1, 15])\n",
            "torch.Size([30, 3]) torch.Size([30, 15]) torch.Size([1, 3])\n",
            "num_axes = 2, explains 0.6432764577200026 variance\n",
            "self.axes_learned.shape torch.Size([2, 15])\n",
            "untransformed_posterior.rsample().shape torch.Size([1, 1, 15])\n",
            "self.axes_learned.shape torch.Size([2, 15])\n",
            "untransformed_posterior.rsample().shape torch.Size([1, 1, 15])\n",
            "torch.Size([30, 3]) torch.Size([30, 15]) torch.Size([1, 3])\n",
            "num_axes = 2, explains 0.6346283635866894 variance\n"
          ]
        },
        {
          "name": "stdout",
          "output_type": "stream",
          "text": [
            "self.axes_learned.shape torch.Size([2, 15])\n",
            "untransformed_posterior.rsample().shape torch.Size([1, 1, 15])\n",
            "self.axes_learned.shape torch.Size([2, 15])\n",
            "untransformed_posterior.rsample().shape torch.Size([1, 1, 15])\n",
            "torch.Size([30, 3]) torch.Size([30, 15]) torch.Size([1, 3])\n",
            "num_axes = 2, explains 0.6195144243574353 variance\n",
            "self.axes_learned.shape torch.Size([2, 15])\n",
            "untransformed_posterior.rsample().shape torch.Size([1, 1, 15])\n",
            "self.axes_learned.shape torch.Size([2, 15])\n",
            "untransformed_posterior.rsample().shape torch.Size([1, 1, 15])\n",
            "loocv round 25\n",
            "torch.Size([30, 3]) torch.Size([30, 15]) torch.Size([1, 3])\n",
            "num_axes = 2, explains 0.6238318953013595 variance\n"
          ]
        },
        {
          "name": "stdout",
          "output_type": "stream",
          "text": [
            "self.axes_learned.shape torch.Size([2, 15])\n",
            "untransformed_posterior.rsample().shape torch.Size([1, 1, 15])\n",
            "self.axes_learned.shape torch.Size([2, 15])\n",
            "untransformed_posterior.rsample().shape torch.Size([1, 1, 15])\n",
            "torch.Size([30, 3]) torch.Size([30, 15]) torch.Size([1, 3])\n",
            "num_axes = 2, explains 0.6436773422824966 variance\n",
            "self.axes_learned.shape torch.Size([2, 15])\n",
            "untransformed_posterior.rsample().shape torch.Size([1, 1, 15])\n",
            "self.axes_learned.shape torch.Size([2, 15])\n",
            "untransformed_posterior.rsample().shape torch.Size([1, 1, 15])\n",
            "torch.Size([30, 3]) torch.Size([30, 15]) torch.Size([1, 3])\n",
            "num_axes = 2, explains 0.6330520837023146 variance\n"
          ]
        },
        {
          "name": "stdout",
          "output_type": "stream",
          "text": [
            "self.axes_learned.shape torch.Size([2, 15])\n",
            "untransformed_posterior.rsample().shape torch.Size([1, 1, 15])\n",
            "self.axes_learned.shape torch.Size([2, 15])\n",
            "untransformed_posterior.rsample().shape torch.Size([1, 1, 15])\n",
            "torch.Size([30, 3]) torch.Size([30, 15]) torch.Size([1, 3])\n",
            "num_axes = 2, explains 0.6298943363681875 variance\n",
            "self.axes_learned.shape torch.Size([2, 15])\n",
            "untransformed_posterior.rsample().shape torch.Size([1, 1, 15])\n",
            "self.axes_learned.shape torch.Size([2, 15])\n",
            "untransformed_posterior.rsample().shape torch.Size([1, 1, 15])\n",
            "torch.Size([30, 3]) torch.Size([30, 15]) torch.Size([1, 3])\n",
            "num_axes = 2, explains 0.629360956772073 variance\n"
          ]
        },
        {
          "name": "stdout",
          "output_type": "stream",
          "text": [
            "self.axes_learned.shape torch.Size([2, 15])\n",
            "untransformed_posterior.rsample().shape torch.Size([1, 1, 15])\n",
            "self.axes_learned.shape torch.Size([2, 15])\n",
            "untransformed_posterior.rsample().shape torch.Size([1, 1, 15])\n",
            "loocv round 30\n",
            "torch.Size([30, 3]) torch.Size([30, 15]) torch.Size([1, 3])\n",
            "num_axes = 2, explains 0.6373337635869889 variance\n",
            "self.axes_learned.shape torch.Size([2, 15])\n",
            "untransformed_posterior.rsample().shape torch.Size([1, 1, 15])\n",
            "self.axes_learned.shape torch.Size([2, 15])\n",
            "untransformed_posterior.rsample().shape torch.Size([1, 1, 15])\n",
            "loocv_outcome_mean.shape, Y.shape torch.Size([31, 15]) torch.Size([31, 15])\n"
          ]
        },
        {
          "name": "stdout",
          "output_type": "stream",
          "text": [
            "torch.mean(torch.square(loocv_outcome_mean - Y)) tensor(3.1610, dtype=torch.float64, grad_fn=<MeanBackward0>)\n",
            "PCA transform with 3 principal axes\n",
            "Full input data shape torch.Size([31, 3]), output data shape torch.Size([31, 15])\n",
            "loocv round 0\n",
            "torch.Size([30, 3]) torch.Size([30, 15]) torch.Size([1, 3])\n",
            "num_axes = 3, explains 0.7424928548093062 variance\n"
          ]
        },
        {
          "name": "stdout",
          "output_type": "stream",
          "text": [
            "self.axes_learned.shape torch.Size([3, 15])\n",
            "untransformed_posterior.rsample().shape torch.Size([1, 1, 15])\n",
            "self.axes_learned.shape torch.Size([3, 15])\n",
            "untransformed_posterior.rsample().shape torch.Size([1, 1, 15])\n",
            "torch.Size([30, 3]) torch.Size([30, 15]) torch.Size([1, 3])\n",
            "num_axes = 3, explains 0.7420744226742355 variance\n"
          ]
        },
        {
          "name": "stdout",
          "output_type": "stream",
          "text": [
            "self.axes_learned.shape torch.Size([3, 15])\n",
            "untransformed_posterior.rsample().shape torch.Size([1, 1, 15])\n",
            "self.axes_learned.shape torch.Size([3, 15])\n",
            "untransformed_posterior.rsample().shape torch.Size([1, 1, 15])\n",
            "torch.Size([30, 3]) torch.Size([30, 15]) torch.Size([1, 3])\n",
            "num_axes = 3, explains 0.7450248830425981 variance\n"
          ]
        },
        {
          "name": "stdout",
          "output_type": "stream",
          "text": [
            "self.axes_learned.shape torch.Size([3, 15])\n",
            "untransformed_posterior.rsample().shape torch.Size([1, 1, 15])\n",
            "self.axes_learned.shape torch.Size([3, 15])\n",
            "untransformed_posterior.rsample().shape torch.Size([1, 1, 15])\n",
            "torch.Size([30, 3]) torch.Size([30, 15]) torch.Size([1, 3])\n",
            "num_axes = 3, explains 0.7475103364650539 variance\n"
          ]
        },
        {
          "name": "stdout",
          "output_type": "stream",
          "text": [
            "self.axes_learned.shape torch.Size([3, 15])\n",
            "untransformed_posterior.rsample().shape torch.Size([1, 1, 15])\n",
            "self.axes_learned.shape torch.Size([3, 15])\n",
            "untransformed_posterior.rsample().shape torch.Size([1, 1, 15])\n",
            "torch.Size([30, 3]) torch.Size([30, 15]) torch.Size([1, 3])\n",
            "num_axes = 3, explains 0.7475630221626339 variance\n"
          ]
        },
        {
          "name": "stdout",
          "output_type": "stream",
          "text": [
            "self.axes_learned.shape torch.Size([3, 15])\n",
            "untransformed_posterior.rsample().shape torch.Size([1, 1, 15])\n",
            "self.axes_learned.shape torch.Size([3, 15])\n",
            "untransformed_posterior.rsample().shape torch.Size([1, 1, 15])\n",
            "loocv round 5\n",
            "torch.Size([30, 3]) torch.Size([30, 15]) torch.Size([1, 3])\n",
            "num_axes = 3, explains 0.7464046318729054 variance\n"
          ]
        },
        {
          "name": "stdout",
          "output_type": "stream",
          "text": [
            "self.axes_learned.shape torch.Size([3, 15])\n",
            "untransformed_posterior.rsample().shape torch.Size([1, 1, 15])\n",
            "self.axes_learned.shape torch.Size([3, 15])\n",
            "untransformed_posterior.rsample().shape torch.Size([1, 1, 15])\n",
            "torch.Size([30, 3]) torch.Size([30, 15]) torch.Size([1, 3])\n",
            "num_axes = 3, explains 0.7453443914763995 variance\n"
          ]
        },
        {
          "name": "stdout",
          "output_type": "stream",
          "text": [
            "self.axes_learned.shape torch.Size([3, 15])\n",
            "untransformed_posterior.rsample().shape torch.Size([1, 1, 15])\n",
            "self.axes_learned.shape torch.Size([3, 15])\n",
            "untransformed_posterior.rsample().shape torch.Size([1, 1, 15])\n",
            "torch.Size([30, 3]) torch.Size([30, 15]) torch.Size([1, 3])\n",
            "num_axes = 3, explains 0.7451606942622226 variance\n"
          ]
        },
        {
          "name": "stdout",
          "output_type": "stream",
          "text": [
            "self.axes_learned.shape torch.Size([3, 15])\n",
            "untransformed_posterior.rsample().shape torch.Size([1, 1, 15])\n",
            "self.axes_learned.shape torch.Size([3, 15])\n",
            "untransformed_posterior.rsample().shape torch.Size([1, 1, 15])\n",
            "torch.Size([30, 3]) torch.Size([30, 15]) torch.Size([1, 3])\n",
            "num_axes = 3, explains 0.7481582056822771 variance\n"
          ]
        },
        {
          "name": "stdout",
          "output_type": "stream",
          "text": [
            "self.axes_learned.shape torch.Size([3, 15])\n",
            "untransformed_posterior.rsample().shape torch.Size([1, 1, 15])\n",
            "self.axes_learned.shape torch.Size([3, 15])\n",
            "untransformed_posterior.rsample().shape torch.Size([1, 1, 15])\n",
            "torch.Size([30, 3]) torch.Size([30, 15]) torch.Size([1, 3])\n",
            "num_axes = 3, explains 0.7558432539523553 variance\n"
          ]
        },
        {
          "name": "stdout",
          "output_type": "stream",
          "text": [
            "self.axes_learned.shape torch.Size([3, 15])\n",
            "untransformed_posterior.rsample().shape torch.Size([1, 1, 15])\n",
            "self.axes_learned.shape torch.Size([3, 15])\n",
            "untransformed_posterior.rsample().shape torch.Size([1, 1, 15])\n",
            "loocv round 10\n",
            "torch.Size([30, 3]) torch.Size([30, 15]) torch.Size([1, 3])\n",
            "num_axes = 3, explains 0.7526338461158026 variance\n"
          ]
        },
        {
          "name": "stdout",
          "output_type": "stream",
          "text": [
            "self.axes_learned.shape torch.Size([3, 15])\n",
            "untransformed_posterior.rsample().shape torch.Size([1, 1, 15])\n",
            "self.axes_learned.shape torch.Size([3, 15])\n",
            "untransformed_posterior.rsample().shape torch.Size([1, 1, 15])\n",
            "torch.Size([30, 3]) torch.Size([30, 15]) torch.Size([1, 3])\n",
            "num_axes = 3, explains 0.7495722824457033 variance\n"
          ]
        },
        {
          "name": "stdout",
          "output_type": "stream",
          "text": [
            "self.axes_learned.shape torch.Size([3, 15])\n",
            "untransformed_posterior.rsample().shape torch.Size([1, 1, 15])\n",
            "self.axes_learned.shape torch.Size([3, 15])\n",
            "untransformed_posterior.rsample().shape torch.Size([1, 1, 15])\n",
            "torch.Size([30, 3]) torch.Size([30, 15]) torch.Size([1, 3])\n",
            "num_axes = 3, explains 0.741781443674784 variance\n",
            "self.axes_learned.shape torch.Size([3, 15])\n",
            "untransformed_posterior.rsample().shape torch.Size([1, 1, 15])\n",
            "self.axes_learned.shape torch.Size([3, 15])\n",
            "untransformed_posterior.rsample().shape torch.Size([1, 1, 15])\n",
            "torch.Size([30, 3]) torch.Size([30, 15]) torch.Size([1, 3])\n",
            "num_axes = 3, explains 0.7504598312700523 variance\n"
          ]
        },
        {
          "name": "stdout",
          "output_type": "stream",
          "text": [
            "self.axes_learned.shape torch.Size([3, 15])\n",
            "untransformed_posterior.rsample().shape torch.Size([1, 1, 15])\n",
            "self.axes_learned.shape torch.Size([3, 15])\n",
            "untransformed_posterior.rsample().shape torch.Size([1, 1, 15])\n",
            "torch.Size([30, 3]) torch.Size([30, 15]) torch.Size([1, 3])\n",
            "num_axes = 3, explains 0.7472046862861519 variance\n"
          ]
        },
        {
          "name": "stdout",
          "output_type": "stream",
          "text": [
            "self.axes_learned.shape torch.Size([3, 15])\n",
            "untransformed_posterior.rsample().shape torch.Size([1, 1, 15])\n",
            "self.axes_learned.shape torch.Size([3, 15])\n",
            "untransformed_posterior.rsample().shape torch.Size([1, 1, 15])\n",
            "loocv round 15\n",
            "torch.Size([30, 3]) torch.Size([30, 15]) torch.Size([1, 3])\n",
            "num_axes = 3, explains 0.7354763393000308 variance\n"
          ]
        },
        {
          "name": "stdout",
          "output_type": "stream",
          "text": [
            "self.axes_learned.shape torch.Size([3, 15])\n",
            "untransformed_posterior.rsample().shape torch.Size([1, 1, 15])\n",
            "self.axes_learned.shape torch.Size([3, 15])\n",
            "untransformed_posterior.rsample().shape torch.Size([1, 1, 15])\n",
            "torch.Size([30, 3]) torch.Size([30, 15]) torch.Size([1, 3])\n",
            "num_axes = 3, explains 0.7272175281074843 variance\n"
          ]
        },
        {
          "name": "stdout",
          "output_type": "stream",
          "text": [
            "self.axes_learned.shape torch.Size([3, 15])\n",
            "untransformed_posterior.rsample().shape torch.Size([1, 1, 15])\n",
            "self.axes_learned.shape torch.Size([3, 15])\n",
            "untransformed_posterior.rsample().shape torch.Size([1, 1, 15])\n",
            "torch.Size([30, 3]) torch.Size([30, 15]) torch.Size([1, 3])\n",
            "num_axes = 3, explains 0.7585566513670344 variance\n"
          ]
        },
        {
          "name": "stdout",
          "output_type": "stream",
          "text": [
            "self.axes_learned.shape torch.Size([3, 15])\n",
            "untransformed_posterior.rsample().shape torch.Size([1, 1, 15])\n",
            "self.axes_learned.shape torch.Size([3, 15])\n",
            "untransformed_posterior.rsample().shape torch.Size([1, 1, 15])\n",
            "torch.Size([30, 3]) torch.Size([30, 15]) torch.Size([1, 3])\n",
            "num_axes = 3, explains 0.7418208264414835 variance\n"
          ]
        },
        {
          "name": "stdout",
          "output_type": "stream",
          "text": [
            "self.axes_learned.shape torch.Size([3, 15])\n",
            "untransformed_posterior.rsample().shape torch.Size([1, 1, 15])\n",
            "self.axes_learned.shape torch.Size([3, 15])\n",
            "untransformed_posterior.rsample().shape torch.Size([1, 1, 15])\n",
            "torch.Size([30, 3]) torch.Size([30, 15]) torch.Size([1, 3])\n",
            "num_axes = 3, explains 0.7550171379331202 variance\n",
            "self.axes_learned.shape torch.Size([3, 15])\n",
            "untransformed_posterior.rsample().shape torch.Size([1, 1, 15])\n"
          ]
        },
        {
          "name": "stdout",
          "output_type": "stream",
          "text": [
            "self.axes_learned.shape torch.Size([3, 15])\n",
            "untransformed_posterior.rsample().shape torch.Size([1, 1, 15])\n",
            "loocv round 20\n",
            "torch.Size([30, 3]) torch.Size([30, 15]) torch.Size([1, 3])\n",
            "num_axes = 3, explains 0.7416016166141985 variance\n"
          ]
        },
        {
          "name": "stdout",
          "output_type": "stream",
          "text": [
            "self.axes_learned.shape torch.Size([3, 15])\n",
            "untransformed_posterior.rsample().shape torch.Size([1, 1, 15])\n",
            "self.axes_learned.shape torch.Size([3, 15])\n",
            "untransformed_posterior.rsample().shape torch.Size([1, 1, 15])\n",
            "torch.Size([30, 3]) torch.Size([30, 15]) torch.Size([1, 3])\n",
            "num_axes = 3, explains 0.740838376080714 variance\n",
            "self.axes_learned.shape torch.Size([3, 15])\n",
            "untransformed_posterior.rsample().shape torch.Size([1, 1, 15])\n"
          ]
        },
        {
          "name": "stdout",
          "output_type": "stream",
          "text": [
            "self.axes_learned.shape torch.Size([3, 15])\n",
            "untransformed_posterior.rsample().shape torch.Size([1, 1, 15])\n",
            "torch.Size([30, 3]) torch.Size([30, 15]) torch.Size([1, 3])\n",
            "num_axes = 3, explains 0.7578023110206188 variance\n"
          ]
        },
        {
          "name": "stdout",
          "output_type": "stream",
          "text": [
            "self.axes_learned.shape torch.Size([3, 15])\n",
            "untransformed_posterior.rsample().shape torch.Size([1, 1, 15])\n",
            "self.axes_learned.shape torch.Size([3, 15])\n",
            "untransformed_posterior.rsample().shape torch.Size([1, 1, 15])\n",
            "torch.Size([30, 3]) torch.Size([30, 15]) torch.Size([1, 3])\n",
            "num_axes = 3, explains 0.7535760738064399 variance\n"
          ]
        },
        {
          "name": "stdout",
          "output_type": "stream",
          "text": [
            "self.axes_learned.shape torch.Size([3, 15])\n",
            "untransformed_posterior.rsample().shape torch.Size([1, 1, 15])\n",
            "self.axes_learned.shape torch.Size([3, 15])\n",
            "untransformed_posterior.rsample().shape torch.Size([1, 1, 15])\n",
            "torch.Size([30, 3]) torch.Size([30, 15]) torch.Size([1, 3])\n",
            "num_axes = 3, explains 0.7420982120946833 variance\n",
            "self.axes_learned.shape torch.Size([3, 15])\n",
            "untransformed_posterior.rsample().shape torch.Size([1, 1, 15])\n",
            "self.axes_learned.shape torch.Size([3, 15])\n",
            "untransformed_posterior.rsample().shape torch.Size([1, 1, 15])\n",
            "loocv round 25\n",
            "torch.Size([30, 3]) torch.Size([30, 15]) torch.Size([1, 3])\n",
            "num_axes = 3, explains 0.7472095002675018 variance\n"
          ]
        },
        {
          "name": "stdout",
          "output_type": "stream",
          "text": [
            "self.axes_learned.shape torch.Size([3, 15])\n",
            "untransformed_posterior.rsample().shape torch.Size([1, 1, 15])\n",
            "self.axes_learned.shape torch.Size([3, 15])\n",
            "untransformed_posterior.rsample().shape torch.Size([1, 1, 15])\n",
            "torch.Size([30, 3]) torch.Size([30, 15]) torch.Size([1, 3])\n",
            "num_axes = 3, explains 0.7474736930436563 variance\n"
          ]
        },
        {
          "name": "stdout",
          "output_type": "stream",
          "text": [
            "self.axes_learned.shape torch.Size([3, 15])\n",
            "untransformed_posterior.rsample().shape torch.Size([1, 1, 15])\n",
            "self.axes_learned.shape torch.Size([3, 15])\n",
            "untransformed_posterior.rsample().shape torch.Size([1, 1, 15])\n",
            "torch.Size([30, 3]) torch.Size([30, 15]) torch.Size([1, 3])\n",
            "num_axes = 3, explains 0.7517003453191151 variance\n"
          ]
        },
        {
          "name": "stdout",
          "output_type": "stream",
          "text": [
            "self.axes_learned.shape torch.Size([3, 15])\n",
            "untransformed_posterior.rsample().shape torch.Size([1, 1, 15])\n",
            "self.axes_learned.shape torch.Size([3, 15])\n",
            "untransformed_posterior.rsample().shape torch.Size([1, 1, 15])\n",
            "torch.Size([30, 3]) torch.Size([30, 15]) torch.Size([1, 3])\n",
            "num_axes = 3, explains 0.7479707749510679 variance\n"
          ]
        },
        {
          "name": "stdout",
          "output_type": "stream",
          "text": [
            "self.axes_learned.shape torch.Size([3, 15])\n",
            "untransformed_posterior.rsample().shape torch.Size([1, 1, 15])\n",
            "self.axes_learned.shape torch.Size([3, 15])\n",
            "untransformed_posterior.rsample().shape torch.Size([1, 1, 15])\n",
            "torch.Size([30, 3]) torch.Size([30, 15]) torch.Size([1, 3])\n",
            "num_axes = 3, explains 0.7467858417458505 variance\n"
          ]
        },
        {
          "name": "stdout",
          "output_type": "stream",
          "text": [
            "self.axes_learned.shape torch.Size([3, 15])\n",
            "untransformed_posterior.rsample().shape torch.Size([1, 1, 15])\n",
            "self.axes_learned.shape torch.Size([3, 15])\n",
            "untransformed_posterior.rsample().shape torch.Size([1, 1, 15])\n",
            "loocv round 30\n",
            "torch.Size([30, 3]) torch.Size([30, 15]) torch.Size([1, 3])\n",
            "num_axes = 3, explains 0.7514445047962293 variance\n"
          ]
        },
        {
          "name": "stdout",
          "output_type": "stream",
          "text": [
            "self.axes_learned.shape torch.Size([3, 15])\n",
            "untransformed_posterior.rsample().shape torch.Size([1, 1, 15])\n",
            "self.axes_learned.shape torch.Size([3, 15])\n",
            "untransformed_posterior.rsample().shape torch.Size([1, 1, 15])\n",
            "loocv_outcome_mean.shape, Y.shape torch.Size([31, 15]) torch.Size([31, 15])\n",
            "torch.mean(torch.square(loocv_outcome_mean - Y)) tensor(3.0257, dtype=torch.float64, grad_fn=<MeanBackward0>)\n",
            "PCA transform with 4 principal axes\n",
            "Full input data shape torch.Size([31, 3]), output data shape torch.Size([31, 15])\n",
            "loocv round 0\n",
            "torch.Size([30, 3]) torch.Size([30, 15]) torch.Size([1, 3])\n",
            "num_axes = 4, explains 0.8304812791622971 variance\n"
          ]
        },
        {
          "name": "stdout",
          "output_type": "stream",
          "text": [
            "self.axes_learned.shape torch.Size([4, 15])\n",
            "untransformed_posterior.rsample().shape torch.Size([1, 1, 15])\n",
            "self.axes_learned.shape torch.Size([4, 15])\n",
            "untransformed_posterior.rsample().shape torch.Size([1, 1, 15])\n",
            "torch.Size([30, 3]) torch.Size([30, 15]) torch.Size([1, 3])\n",
            "num_axes = 4, explains 0.8253977423565286 variance\n"
          ]
        },
        {
          "name": "stdout",
          "output_type": "stream",
          "text": [
            "self.axes_learned.shape torch.Size([4, 15])\n",
            "untransformed_posterior.rsample().shape torch.Size([1, 1, 15])\n",
            "self.axes_learned.shape torch.Size([4, 15])\n",
            "untransformed_posterior.rsample().shape torch.Size([1, 1, 15])\n",
            "torch.Size([30, 3]) torch.Size([30, 15]) torch.Size([1, 3])\n",
            "num_axes = 4, explains 0.8328899791594206 variance\n"
          ]
        },
        {
          "name": "stdout",
          "output_type": "stream",
          "text": [
            "self.axes_learned.shape torch.Size([4, 15])\n",
            "untransformed_posterior.rsample().shape torch.Size([1, 1, 15])\n",
            "self.axes_learned.shape torch.Size([4, 15])\n",
            "untransformed_posterior.rsample().shape torch.Size([1, 1, 15])\n",
            "torch.Size([30, 3]) torch.Size([30, 15]) torch.Size([1, 3])\n",
            "num_axes = 4, explains 0.8337871009283956 variance\n"
          ]
        },
        {
          "name": "stdout",
          "output_type": "stream",
          "text": [
            "self.axes_learned.shape torch.Size([4, 15])\n",
            "untransformed_posterior.rsample().shape torch.Size([1, 1, 15])\n",
            "self.axes_learned.shape torch.Size([4, 15])\n",
            "untransformed_posterior.rsample().shape torch.Size([1, 1, 15])\n",
            "torch.Size([30, 3]) torch.Size([30, 15]) torch.Size([1, 3])\n",
            "num_axes = 4, explains 0.8336883466032978 variance\n"
          ]
        },
        {
          "name": "stdout",
          "output_type": "stream",
          "text": [
            "self.axes_learned.shape torch.Size([4, 15])\n",
            "untransformed_posterior.rsample().shape torch.Size([1, 1, 15])\n",
            "self.axes_learned.shape torch.Size([4, 15])\n",
            "untransformed_posterior.rsample().shape torch.Size([1, 1, 15])\n",
            "loocv round 5\n",
            "torch.Size([30, 3]) torch.Size([30, 15]) torch.Size([1, 3])\n",
            "num_axes = 4, explains 0.828836060859758 variance\n"
          ]
        },
        {
          "name": "stdout",
          "output_type": "stream",
          "text": [
            "self.axes_learned.shape torch.Size([4, 15])\n",
            "untransformed_posterior.rsample().shape torch.Size([1, 1, 15])\n",
            "self.axes_learned.shape torch.Size([4, 15])\n",
            "untransformed_posterior.rsample().shape torch.Size([1, 1, 15])\n",
            "torch.Size([30, 3]) torch.Size([30, 15]) torch.Size([1, 3])\n",
            "num_axes = 4, explains 0.8317677211909102 variance\n"
          ]
        },
        {
          "name": "stdout",
          "output_type": "stream",
          "text": [
            "self.axes_learned.shape torch.Size([4, 15])\n",
            "untransformed_posterior.rsample().shape torch.Size([1, 1, 15])\n",
            "self.axes_learned.shape torch.Size([4, 15])\n",
            "untransformed_posterior.rsample().shape torch.Size([1, 1, 15])\n",
            "torch.Size([30, 3]) torch.Size([30, 15]) torch.Size([1, 3])\n",
            "num_axes = 4, explains 0.8322250801767282 variance\n"
          ]
        },
        {
          "name": "stdout",
          "output_type": "stream",
          "text": [
            "self.axes_learned.shape torch.Size([4, 15])\n",
            "untransformed_posterior.rsample().shape torch.Size([1, 1, 15])\n",
            "self.axes_learned.shape torch.Size([4, 15])\n",
            "untransformed_posterior.rsample().shape torch.Size([1, 1, 15])\n",
            "torch.Size([30, 3]) torch.Size([30, 15]) torch.Size([1, 3])\n",
            "num_axes = 4, explains 0.833864869194786 variance\n"
          ]
        },
        {
          "name": "stdout",
          "output_type": "stream",
          "text": [
            "self.axes_learned.shape torch.Size([4, 15])\n",
            "untransformed_posterior.rsample().shape torch.Size([1, 1, 15])\n",
            "self.axes_learned.shape torch.Size([4, 15])\n",
            "untransformed_posterior.rsample().shape torch.Size([1, 1, 15])\n",
            "torch.Size([30, 3]) torch.Size([30, 15]) torch.Size([1, 3])\n",
            "num_axes = 4, explains 0.8427625436280173 variance\n"
          ]
        },
        {
          "name": "stdout",
          "output_type": "stream",
          "text": [
            "self.axes_learned.shape torch.Size([4, 15])\n",
            "untransformed_posterior.rsample().shape torch.Size([1, 1, 15])\n",
            "self.axes_learned.shape torch.Size([4, 15])\n",
            "untransformed_posterior.rsample().shape torch.Size([1, 1, 15])\n",
            "loocv round 10\n",
            "torch.Size([30, 3]) torch.Size([30, 15]) torch.Size([1, 3])\n",
            "num_axes = 4, explains 0.8403994974362411 variance\n"
          ]
        },
        {
          "name": "stdout",
          "output_type": "stream",
          "text": [
            "self.axes_learned.shape torch.Size([4, 15])\n",
            "untransformed_posterior.rsample().shape torch.Size([1, 1, 15])\n",
            "self.axes_learned.shape torch.Size([4, 15])\n",
            "untransformed_posterior.rsample().shape torch.Size([1, 1, 15])\n",
            "torch.Size([30, 3]) torch.Size([30, 15]) torch.Size([1, 3])\n",
            "num_axes = 4, explains 0.8309036040603328 variance\n"
          ]
        },
        {
          "name": "stdout",
          "output_type": "stream",
          "text": [
            "self.axes_learned.shape torch.Size([4, 15])\n",
            "untransformed_posterior.rsample().shape torch.Size([1, 1, 15])\n",
            "self.axes_learned.shape torch.Size([4, 15])\n",
            "untransformed_posterior.rsample().shape torch.Size([1, 1, 15])\n",
            "torch.Size([30, 3]) torch.Size([30, 15]) torch.Size([1, 3])\n",
            "num_axes = 4, explains 0.8271353688004073 variance\n"
          ]
        },
        {
          "name": "stdout",
          "output_type": "stream",
          "text": [
            "self.axes_learned.shape torch.Size([4, 15])\n",
            "untransformed_posterior.rsample().shape torch.Size([1, 1, 15])\n",
            "self.axes_learned.shape torch.Size([4, 15])\n",
            "untransformed_posterior.rsample().shape torch.Size([1, 1, 15])\n",
            "torch.Size([30, 3]) torch.Size([30, 15]) torch.Size([1, 3])\n",
            "num_axes = 4, explains 0.8366656664822707 variance\n"
          ]
        },
        {
          "name": "stdout",
          "output_type": "stream",
          "text": [
            "self.axes_learned.shape torch.Size([4, 15])\n",
            "untransformed_posterior.rsample().shape torch.Size([1, 1, 15])\n",
            "self.axes_learned.shape torch.Size([4, 15])\n",
            "untransformed_posterior.rsample().shape torch.Size([1, 1, 15])\n",
            "torch.Size([30, 3]) torch.Size([30, 15]) torch.Size([1, 3])\n",
            "num_axes = 4, explains 0.8340711984495957 variance\n"
          ]
        },
        {
          "name": "stdout",
          "output_type": "stream",
          "text": [
            "self.axes_learned.shape torch.Size([4, 15])\n",
            "untransformed_posterior.rsample().shape torch.Size([1, 1, 15])\n",
            "self.axes_learned.shape torch.Size([4, 15])\n",
            "untransformed_posterior.rsample().shape torch.Size([1, 1, 15])\n",
            "loocv round 15\n",
            "torch.Size([30, 3]) torch.Size([30, 15]) torch.Size([1, 3])\n",
            "num_axes = 4, explains 0.8228065989901141 variance\n"
          ]
        },
        {
          "name": "stdout",
          "output_type": "stream",
          "text": [
            "self.axes_learned.shape torch.Size([4, 15])\n",
            "untransformed_posterior.rsample().shape torch.Size([1, 1, 15])\n",
            "self.axes_learned.shape torch.Size([4, 15])\n",
            "untransformed_posterior.rsample().shape torch.Size([1, 1, 15])\n",
            "torch.Size([30, 3]) torch.Size([30, 15]) torch.Size([1, 3])\n",
            "num_axes = 4, explains 0.8190831847843099 variance\n"
          ]
        },
        {
          "name": "stdout",
          "output_type": "stream",
          "text": [
            "self.axes_learned.shape torch.Size([4, 15])\n",
            "untransformed_posterior.rsample().shape torch.Size([1, 1, 15])\n",
            "self.axes_learned.shape torch.Size([4, 15])\n",
            "untransformed_posterior.rsample().shape torch.Size([1, 1, 15])\n",
            "torch.Size([30, 3]) torch.Size([30, 15]) torch.Size([1, 3])\n",
            "num_axes = 4, explains 0.8448128978766651 variance\n"
          ]
        },
        {
          "name": "stdout",
          "output_type": "stream",
          "text": [
            "self.axes_learned.shape torch.Size([4, 15])\n",
            "untransformed_posterior.rsample().shape torch.Size([1, 1, 15])\n",
            "self.axes_learned.shape torch.Size([4, 15])\n",
            "untransformed_posterior.rsample().shape torch.Size([1, 1, 15])\n",
            "torch.Size([30, 3]) torch.Size([30, 15]) torch.Size([1, 3])\n",
            "num_axes = 4, explains 0.828358753277986 variance\n"
          ]
        },
        {
          "name": "stdout",
          "output_type": "stream",
          "text": [
            "self.axes_learned.shape torch.Size([4, 15])\n",
            "untransformed_posterior.rsample().shape torch.Size([1, 1, 15])\n",
            "self.axes_learned.shape torch.Size([4, 15])\n",
            "untransformed_posterior.rsample().shape torch.Size([1, 1, 15])\n",
            "torch.Size([30, 3]) torch.Size([30, 15]) torch.Size([1, 3])\n",
            "num_axes = 4, explains 0.8406356595507131 variance\n"
          ]
        },
        {
          "name": "stdout",
          "output_type": "stream",
          "text": [
            "self.axes_learned.shape torch.Size([4, 15])\n",
            "untransformed_posterior.rsample().shape torch.Size([1, 1, 15])\n",
            "self.axes_learned.shape torch.Size([4, 15])\n",
            "untransformed_posterior.rsample().shape torch.Size([1, 1, 15])\n",
            "loocv round 20\n",
            "torch.Size([30, 3]) torch.Size([30, 15]) torch.Size([1, 3])\n",
            "num_axes = 4, explains 0.829310615483853 variance\n"
          ]
        },
        {
          "name": "stdout",
          "output_type": "stream",
          "text": [
            "self.axes_learned.shape torch.Size([4, 15])\n",
            "untransformed_posterior.rsample().shape torch.Size([1, 1, 15])\n",
            "self.axes_learned.shape torch.Size([4, 15])\n",
            "untransformed_posterior.rsample().shape torch.Size([1, 1, 15])\n",
            "torch.Size([30, 3]) torch.Size([30, 15]) torch.Size([1, 3])\n",
            "num_axes = 4, explains 0.8280923002480096 variance\n"
          ]
        },
        {
          "name": "stdout",
          "output_type": "stream",
          "text": [
            "self.axes_learned.shape torch.Size([4, 15])\n",
            "untransformed_posterior.rsample().shape torch.Size([1, 1, 15])\n",
            "self.axes_learned.shape torch.Size([4, 15])\n",
            "untransformed_posterior.rsample().shape torch.Size([1, 1, 15])\n",
            "torch.Size([30, 3]) torch.Size([30, 15]) torch.Size([1, 3])\n",
            "num_axes = 4, explains 0.8445551295566529 variance\n"
          ]
        },
        {
          "name": "stdout",
          "output_type": "stream",
          "text": [
            "self.axes_learned.shape torch.Size([4, 15])\n",
            "untransformed_posterior.rsample().shape torch.Size([1, 1, 15])\n",
            "self.axes_learned.shape torch.Size([4, 15])\n",
            "untransformed_posterior.rsample().shape torch.Size([1, 1, 15])\n",
            "torch.Size([30, 3]) torch.Size([30, 15]) torch.Size([1, 3])\n",
            "num_axes = 4, explains 0.8413411487178885 variance\n"
          ]
        },
        {
          "name": "stdout",
          "output_type": "stream",
          "text": [
            "self.axes_learned.shape torch.Size([4, 15])\n",
            "untransformed_posterior.rsample().shape torch.Size([1, 1, 15])\n",
            "self.axes_learned.shape torch.Size([4, 15])\n",
            "untransformed_posterior.rsample().shape torch.Size([1, 1, 15])\n",
            "torch.Size([30, 3]) torch.Size([30, 15]) torch.Size([1, 3])\n",
            "num_axes = 4, explains 0.827404743449491 variance\n"
          ]
        },
        {
          "name": "stdout",
          "output_type": "stream",
          "text": [
            "self.axes_learned.shape torch.Size([4, 15])\n",
            "untransformed_posterior.rsample().shape torch.Size([1, 1, 15])\n",
            "self.axes_learned.shape torch.Size([4, 15])\n",
            "untransformed_posterior.rsample().shape torch.Size([1, 1, 15])\n",
            "loocv round 25\n",
            "torch.Size([30, 3]) torch.Size([30, 15]) torch.Size([1, 3])\n",
            "num_axes = 4, explains 0.8345417727920627 variance\n"
          ]
        },
        {
          "name": "stdout",
          "output_type": "stream",
          "text": [
            "self.axes_learned.shape torch.Size([4, 15])\n",
            "untransformed_posterior.rsample().shape torch.Size([1, 1, 15])\n",
            "self.axes_learned.shape torch.Size([4, 15])\n",
            "untransformed_posterior.rsample().shape torch.Size([1, 1, 15])\n",
            "torch.Size([30, 3]) torch.Size([30, 15]) torch.Size([1, 3])\n",
            "num_axes = 4, explains 0.8342419198664913 variance\n"
          ]
        },
        {
          "name": "stdout",
          "output_type": "stream",
          "text": [
            "self.axes_learned.shape torch.Size([4, 15])\n",
            "untransformed_posterior.rsample().shape torch.Size([1, 1, 15])\n",
            "self.axes_learned.shape torch.Size([4, 15])\n",
            "untransformed_posterior.rsample().shape torch.Size([1, 1, 15])\n",
            "torch.Size([30, 3]) torch.Size([30, 15]) torch.Size([1, 3])\n",
            "num_axes = 4, explains 0.8370762677968056 variance\n"
          ]
        },
        {
          "name": "stdout",
          "output_type": "stream",
          "text": [
            "self.axes_learned.shape torch.Size([4, 15])\n",
            "untransformed_posterior.rsample().shape torch.Size([1, 1, 15])\n",
            "self.axes_learned.shape torch.Size([4, 15])\n",
            "untransformed_posterior.rsample().shape torch.Size([1, 1, 15])\n",
            "torch.Size([30, 3]) torch.Size([30, 15]) torch.Size([1, 3])\n",
            "num_axes = 4, explains 0.8347992807635342 variance\n"
          ]
        },
        {
          "name": "stdout",
          "output_type": "stream",
          "text": [
            "self.axes_learned.shape torch.Size([4, 15])\n",
            "untransformed_posterior.rsample().shape torch.Size([1, 1, 15])\n",
            "self.axes_learned.shape torch.Size([4, 15])\n",
            "untransformed_posterior.rsample().shape torch.Size([1, 1, 15])\n",
            "torch.Size([30, 3]) torch.Size([30, 15]) torch.Size([1, 3])\n",
            "num_axes = 4, explains 0.8324424672639055 variance\n"
          ]
        },
        {
          "name": "stdout",
          "output_type": "stream",
          "text": [
            "self.axes_learned.shape torch.Size([4, 15])\n",
            "untransformed_posterior.rsample().shape torch.Size([1, 1, 15])\n",
            "self.axes_learned.shape torch.Size([4, 15])\n",
            "untransformed_posterior.rsample().shape torch.Size([1, 1, 15])\n",
            "loocv round 30\n",
            "torch.Size([30, 3]) torch.Size([30, 15]) torch.Size([1, 3])\n",
            "num_axes = 4, explains 0.8343083240987752 variance\n"
          ]
        },
        {
          "name": "stdout",
          "output_type": "stream",
          "text": [
            "self.axes_learned.shape torch.Size([4, 15])\n",
            "untransformed_posterior.rsample().shape torch.Size([1, 1, 15])\n",
            "self.axes_learned.shape torch.Size([4, 15])\n",
            "untransformed_posterior.rsample().shape torch.Size([1, 1, 15])\n",
            "loocv_outcome_mean.shape, Y.shape torch.Size([31, 15]) torch.Size([31, 15])\n",
            "torch.mean(torch.square(loocv_outcome_mean - Y)) tensor(2.9485, dtype=torch.float64, grad_fn=<MeanBackward0>)\n",
            "PCA transform with 5 principal axes\n",
            "Full input data shape torch.Size([31, 3]), output data shape torch.Size([31, 15])\n",
            "loocv round 0\n",
            "torch.Size([30, 3]) torch.Size([30, 15]) torch.Size([1, 3])\n",
            "num_axes = 5, explains 0.8816088700998342 variance\n"
          ]
        },
        {
          "name": "stdout",
          "output_type": "stream",
          "text": [
            "self.axes_learned.shape torch.Size([5, 15])\n",
            "untransformed_posterior.rsample().shape torch.Size([1, 1, 15])\n",
            "self.axes_learned.shape torch.Size([5, 15])\n",
            "untransformed_posterior.rsample().shape torch.Size([1, 1, 15])\n",
            "torch.Size([30, 3]) torch.Size([30, 15]) torch.Size([1, 3])\n",
            "num_axes = 5, explains 0.87766266711813 variance\n"
          ]
        },
        {
          "name": "stdout",
          "output_type": "stream",
          "text": [
            "self.axes_learned.shape torch.Size([5, 15])\n",
            "untransformed_posterior.rsample().shape torch.Size([1, 1, 15])\n",
            "self.axes_learned.shape torch.Size([5, 15])\n",
            "untransformed_posterior.rsample().shape torch.Size([1, 1, 15])\n",
            "torch.Size([30, 3]) torch.Size([30, 15]) torch.Size([1, 3])\n",
            "num_axes = 5, explains 0.8837418764355983 variance\n"
          ]
        },
        {
          "name": "stdout",
          "output_type": "stream",
          "text": [
            "self.axes_learned.shape torch.Size([5, 15])\n",
            "untransformed_posterior.rsample().shape torch.Size([1, 1, 15])\n",
            "self.axes_learned.shape torch.Size([5, 15])\n",
            "untransformed_posterior.rsample().shape torch.Size([1, 1, 15])\n",
            "torch.Size([30, 3]) torch.Size([30, 15]) torch.Size([1, 3])\n",
            "num_axes = 5, explains 0.8844408320773518 variance\n"
          ]
        },
        {
          "name": "stdout",
          "output_type": "stream",
          "text": [
            "self.axes_learned.shape torch.Size([5, 15])\n",
            "untransformed_posterior.rsample().shape torch.Size([1, 1, 15])\n",
            "self.axes_learned.shape torch.Size([5, 15])\n",
            "untransformed_posterior.rsample().shape torch.Size([1, 1, 15])\n",
            "torch.Size([30, 3]) torch.Size([30, 15]) torch.Size([1, 3])\n",
            "num_axes = 5, explains 0.8843043280815543 variance\n"
          ]
        },
        {
          "name": "stdout",
          "output_type": "stream",
          "text": [
            "self.axes_learned.shape torch.Size([5, 15])\n",
            "untransformed_posterior.rsample().shape torch.Size([1, 1, 15])\n",
            "self.axes_learned.shape torch.Size([5, 15])\n",
            "untransformed_posterior.rsample().shape torch.Size([1, 1, 15])\n",
            "loocv round 5\n",
            "torch.Size([30, 3]) torch.Size([30, 15]) torch.Size([1, 3])\n",
            "num_axes = 5, explains 0.8803393350829479 variance\n"
          ]
        },
        {
          "name": "stdout",
          "output_type": "stream",
          "text": [
            "self.axes_learned.shape torch.Size([5, 15])\n",
            "untransformed_posterior.rsample().shape torch.Size([1, 1, 15])\n",
            "self.axes_learned.shape torch.Size([5, 15])\n",
            "untransformed_posterior.rsample().shape torch.Size([1, 1, 15])\n",
            "torch.Size([30, 3]) torch.Size([30, 15]) torch.Size([1, 3])\n",
            "num_axes = 5, explains 0.8836761743680766 variance\n"
          ]
        },
        {
          "name": "stdout",
          "output_type": "stream",
          "text": [
            "self.axes_learned.shape torch.Size([5, 15])\n",
            "untransformed_posterior.rsample().shape torch.Size([1, 1, 15])\n",
            "self.axes_learned.shape torch.Size([5, 15])\n",
            "untransformed_posterior.rsample().shape torch.Size([1, 1, 15])\n",
            "torch.Size([30, 3]) torch.Size([30, 15]) torch.Size([1, 3])\n",
            "num_axes = 5, explains 0.883224429961804 variance\n"
          ]
        },
        {
          "name": "stdout",
          "output_type": "stream",
          "text": [
            "self.axes_learned.shape torch.Size([5, 15])\n",
            "untransformed_posterior.rsample().shape torch.Size([1, 1, 15])\n",
            "self.axes_learned.shape torch.Size([5, 15])\n",
            "untransformed_posterior.rsample().shape torch.Size([1, 1, 15])\n",
            "torch.Size([30, 3]) torch.Size([30, 15]) torch.Size([1, 3])\n",
            "num_axes = 5, explains 0.8848408040883149 variance\n"
          ]
        },
        {
          "name": "stdout",
          "output_type": "stream",
          "text": [
            "self.axes_learned.shape torch.Size([5, 15])\n",
            "untransformed_posterior.rsample().shape torch.Size([1, 1, 15])\n",
            "self.axes_learned.shape torch.Size([5, 15])\n",
            "untransformed_posterior.rsample().shape torch.Size([1, 1, 15])\n",
            "torch.Size([30, 3]) torch.Size([30, 15]) torch.Size([1, 3])\n",
            "num_axes = 5, explains 0.888648600319794 variance\n"
          ]
        },
        {
          "name": "stdout",
          "output_type": "stream",
          "text": [
            "self.axes_learned.shape torch.Size([5, 15])\n",
            "untransformed_posterior.rsample().shape torch.Size([1, 1, 15])\n",
            "self.axes_learned.shape torch.Size([5, 15])\n",
            "untransformed_posterior.rsample().shape torch.Size([1, 1, 15])\n",
            "loocv round 10\n",
            "torch.Size([30, 3]) torch.Size([30, 15]) torch.Size([1, 3])\n",
            "num_axes = 5, explains 0.8906580643627924 variance\n"
          ]
        },
        {
          "name": "stdout",
          "output_type": "stream",
          "text": [
            "self.axes_learned.shape torch.Size([5, 15])\n",
            "untransformed_posterior.rsample().shape torch.Size([1, 1, 15])\n",
            "self.axes_learned.shape torch.Size([5, 15])\n",
            "untransformed_posterior.rsample().shape torch.Size([1, 1, 15])\n",
            "torch.Size([30, 3]) torch.Size([30, 15]) torch.Size([1, 3])\n",
            "num_axes = 5, explains 0.8836793512733202 variance\n"
          ]
        },
        {
          "name": "stdout",
          "output_type": "stream",
          "text": [
            "self.axes_learned.shape torch.Size([5, 15])\n",
            "untransformed_posterior.rsample().shape torch.Size([1, 1, 15])\n",
            "self.axes_learned.shape torch.Size([5, 15])\n",
            "untransformed_posterior.rsample().shape torch.Size([1, 1, 15])\n",
            "torch.Size([30, 3]) torch.Size([30, 15]) torch.Size([1, 3])\n",
            "num_axes = 5, explains 0.8790741737972095 variance\n"
          ]
        },
        {
          "name": "stdout",
          "output_type": "stream",
          "text": [
            "self.axes_learned.shape torch.Size([5, 15])\n",
            "untransformed_posterior.rsample().shape torch.Size([1, 1, 15])\n",
            "self.axes_learned.shape torch.Size([5, 15])\n",
            "untransformed_posterior.rsample().shape torch.Size([1, 1, 15])\n",
            "torch.Size([30, 3]) torch.Size([30, 15]) torch.Size([1, 3])\n",
            "num_axes = 5, explains 0.8873204296719464 variance\n"
          ]
        },
        {
          "name": "stdout",
          "output_type": "stream",
          "text": [
            "self.axes_learned.shape torch.Size([5, 15])\n",
            "untransformed_posterior.rsample().shape torch.Size([1, 1, 15])\n",
            "self.axes_learned.shape torch.Size([5, 15])\n",
            "untransformed_posterior.rsample().shape torch.Size([1, 1, 15])\n",
            "torch.Size([30, 3]) torch.Size([30, 15]) torch.Size([1, 3])\n",
            "num_axes = 5, explains 0.8830506965703718 variance\n"
          ]
        },
        {
          "name": "stdout",
          "output_type": "stream",
          "text": [
            "self.axes_learned.shape torch.Size([5, 15])\n",
            "untransformed_posterior.rsample().shape torch.Size([1, 1, 15])\n",
            "self.axes_learned.shape torch.Size([5, 15])\n",
            "untransformed_posterior.rsample().shape torch.Size([1, 1, 15])\n",
            "loocv round 15\n",
            "torch.Size([30, 3]) torch.Size([30, 15]) torch.Size([1, 3])\n",
            "num_axes = 5, explains 0.8791884368757712 variance\n"
          ]
        },
        {
          "name": "stdout",
          "output_type": "stream",
          "text": [
            "self.axes_learned.shape torch.Size([5, 15])\n",
            "untransformed_posterior.rsample().shape torch.Size([1, 1, 15])\n",
            "self.axes_learned.shape torch.Size([5, 15])\n",
            "untransformed_posterior.rsample().shape torch.Size([1, 1, 15])\n",
            "torch.Size([30, 3]) torch.Size([30, 15]) torch.Size([1, 3])\n",
            "num_axes = 5, explains 0.8739868012458971 variance\n"
          ]
        },
        {
          "name": "stdout",
          "output_type": "stream",
          "text": [
            "self.axes_learned.shape torch.Size([5, 15])\n",
            "untransformed_posterior.rsample().shape torch.Size([1, 1, 15])\n",
            "self.axes_learned.shape torch.Size([5, 15])\n",
            "untransformed_posterior.rsample().shape torch.Size([1, 1, 15])\n",
            "torch.Size([30, 3]) torch.Size([30, 15]) torch.Size([1, 3])\n",
            "num_axes = 5, explains 0.8908879191069398 variance\n"
          ]
        },
        {
          "name": "stdout",
          "output_type": "stream",
          "text": [
            "self.axes_learned.shape torch.Size([5, 15])\n",
            "untransformed_posterior.rsample().shape torch.Size([1, 1, 15])\n",
            "self.axes_learned.shape torch.Size([5, 15])\n",
            "untransformed_posterior.rsample().shape torch.Size([1, 1, 15])\n",
            "torch.Size([30, 3]) torch.Size([30, 15]) torch.Size([1, 3])\n",
            "num_axes = 5, explains 0.8799911871430631 variance\n"
          ]
        },
        {
          "name": "stdout",
          "output_type": "stream",
          "text": [
            "self.axes_learned.shape torch.Size([5, 15])\n",
            "untransformed_posterior.rsample().shape torch.Size([1, 1, 15])\n",
            "self.axes_learned.shape torch.Size([5, 15])\n",
            "untransformed_posterior.rsample().shape torch.Size([1, 1, 15])\n",
            "torch.Size([30, 3]) torch.Size([30, 15]) torch.Size([1, 3])\n",
            "num_axes = 5, explains 0.8855254253464779 variance\n"
          ]
        },
        {
          "name": "stdout",
          "output_type": "stream",
          "text": [
            "self.axes_learned.shape torch.Size([5, 15])\n",
            "untransformed_posterior.rsample().shape torch.Size([1, 1, 15])\n",
            "self.axes_learned.shape torch.Size([5, 15])\n",
            "untransformed_posterior.rsample().shape torch.Size([1, 1, 15])\n",
            "loocv round 20\n",
            "torch.Size([30, 3]) torch.Size([30, 15]) torch.Size([1, 3])\n",
            "num_axes = 5, explains 0.8826552429978758 variance\n"
          ]
        },
        {
          "name": "stdout",
          "output_type": "stream",
          "text": [
            "self.axes_learned.shape torch.Size([5, 15])\n",
            "untransformed_posterior.rsample().shape torch.Size([1, 1, 15])\n",
            "self.axes_learned.shape torch.Size([5, 15])\n",
            "untransformed_posterior.rsample().shape torch.Size([1, 1, 15])\n",
            "torch.Size([30, 3]) torch.Size([30, 15]) torch.Size([1, 3])\n",
            "num_axes = 5, explains 0.8797674797039495 variance\n"
          ]
        },
        {
          "name": "stdout",
          "output_type": "stream",
          "text": [
            "self.axes_learned.shape torch.Size([5, 15])\n",
            "untransformed_posterior.rsample().shape torch.Size([1, 1, 15])\n",
            "self.axes_learned.shape torch.Size([5, 15])\n",
            "untransformed_posterior.rsample().shape torch.Size([1, 1, 15])\n",
            "torch.Size([30, 3]) torch.Size([30, 15]) torch.Size([1, 3])\n",
            "num_axes = 5, explains 0.8878697766625532 variance\n"
          ]
        },
        {
          "name": "stdout",
          "output_type": "stream",
          "text": [
            "self.axes_learned.shape torch.Size([5, 15])\n",
            "untransformed_posterior.rsample().shape torch.Size([1, 1, 15])\n",
            "self.axes_learned.shape torch.Size([5, 15])\n",
            "untransformed_posterior.rsample().shape torch.Size([1, 1, 15])\n",
            "torch.Size([30, 3]) torch.Size([30, 15]) torch.Size([1, 3])\n",
            "num_axes = 5, explains 0.8925136810864583 variance\n"
          ]
        },
        {
          "name": "stdout",
          "output_type": "stream",
          "text": [
            "self.axes_learned.shape torch.Size([5, 15])\n",
            "untransformed_posterior.rsample().shape torch.Size([1, 1, 15])\n",
            "self.axes_learned.shape torch.Size([5, 15])\n",
            "untransformed_posterior.rsample().shape torch.Size([1, 1, 15])\n",
            "torch.Size([30, 3]) torch.Size([30, 15]) torch.Size([1, 3])\n",
            "num_axes = 5, explains 0.8789614651523099 variance\n"
          ]
        },
        {
          "name": "stdout",
          "output_type": "stream",
          "text": [
            "self.axes_learned.shape torch.Size([5, 15])\n",
            "untransformed_posterior.rsample().shape torch.Size([1, 1, 15])\n",
            "self.axes_learned.shape torch.Size([5, 15])\n",
            "untransformed_posterior.rsample().shape torch.Size([1, 1, 15])\n",
            "loocv round 25\n",
            "torch.Size([30, 3]) torch.Size([30, 15]) torch.Size([1, 3])\n",
            "num_axes = 5, explains 0.8849109812382394 variance\n"
          ]
        },
        {
          "name": "stdout",
          "output_type": "stream",
          "text": [
            "self.axes_learned.shape torch.Size([5, 15])\n",
            "untransformed_posterior.rsample().shape torch.Size([1, 1, 15])\n",
            "self.axes_learned.shape torch.Size([5, 15])\n",
            "untransformed_posterior.rsample().shape torch.Size([1, 1, 15])\n",
            "torch.Size([30, 3]) torch.Size([30, 15]) torch.Size([1, 3])\n",
            "num_axes = 5, explains 0.886053274048231 variance\n"
          ]
        },
        {
          "name": "stdout",
          "output_type": "stream",
          "text": [
            "self.axes_learned.shape torch.Size([5, 15])\n",
            "untransformed_posterior.rsample().shape torch.Size([1, 1, 15])\n",
            "self.axes_learned.shape torch.Size([5, 15])\n",
            "untransformed_posterior.rsample().shape torch.Size([1, 1, 15])\n",
            "torch.Size([30, 3]) torch.Size([30, 15]) torch.Size([1, 3])\n",
            "num_axes = 5, explains 0.8864574266299601 variance\n"
          ]
        },
        {
          "name": "stdout",
          "output_type": "stream",
          "text": [
            "self.axes_learned.shape torch.Size([5, 15])\n",
            "untransformed_posterior.rsample().shape torch.Size([1, 1, 15])\n",
            "self.axes_learned.shape torch.Size([5, 15])\n",
            "untransformed_posterior.rsample().shape torch.Size([1, 1, 15])\n",
            "torch.Size([30, 3]) torch.Size([30, 15]) torch.Size([1, 3])\n",
            "num_axes = 5, explains 0.8827250308534774 variance\n"
          ]
        },
        {
          "name": "stdout",
          "output_type": "stream",
          "text": [
            "self.axes_learned.shape torch.Size([5, 15])\n",
            "untransformed_posterior.rsample().shape torch.Size([1, 1, 15])\n",
            "self.axes_learned.shape torch.Size([5, 15])\n",
            "untransformed_posterior.rsample().shape torch.Size([1, 1, 15])\n",
            "torch.Size([30, 3]) torch.Size([30, 15]) torch.Size([1, 3])\n",
            "num_axes = 5, explains 0.8834342779412094 variance\n"
          ]
        },
        {
          "name": "stdout",
          "output_type": "stream",
          "text": [
            "self.axes_learned.shape torch.Size([5, 15])\n",
            "untransformed_posterior.rsample().shape torch.Size([1, 1, 15])\n",
            "self.axes_learned.shape torch.Size([5, 15])\n",
            "untransformed_posterior.rsample().shape torch.Size([1, 1, 15])\n",
            "loocv round 30\n",
            "torch.Size([30, 3]) torch.Size([30, 15]) torch.Size([1, 3])\n",
            "num_axes = 5, explains 0.8838562720795133 variance\n"
          ]
        },
        {
          "name": "stdout",
          "output_type": "stream",
          "text": [
            "self.axes_learned.shape torch.Size([5, 15])\n",
            "untransformed_posterior.rsample().shape torch.Size([1, 1, 15])\n",
            "self.axes_learned.shape torch.Size([5, 15])\n",
            "untransformed_posterior.rsample().shape torch.Size([1, 1, 15])\n",
            "loocv_outcome_mean.shape, Y.shape torch.Size([31, 15]) torch.Size([31, 15])\n",
            "torch.mean(torch.square(loocv_outcome_mean - Y)) tensor(2.9463, dtype=torch.float64, grad_fn=<MeanBackward0>)\n",
            "PCA transform with 6 principal axes\n",
            "Full input data shape torch.Size([31, 3]), output data shape torch.Size([31, 15])\n",
            "loocv round 0\n",
            "torch.Size([30, 3]) torch.Size([30, 15]) torch.Size([1, 3])\n",
            "num_axes = 6, explains 0.9158499456282487 variance\n"
          ]
        },
        {
          "name": "stdout",
          "output_type": "stream",
          "text": [
            "self.axes_learned.shape torch.Size([6, 15])\n",
            "untransformed_posterior.rsample().shape torch.Size([1, 1, 15])\n",
            "self.axes_learned.shape torch.Size([6, 15])\n",
            "untransformed_posterior.rsample().shape torch.Size([1, 1, 15])\n",
            "torch.Size([30, 3]) torch.Size([30, 15]) torch.Size([1, 3])\n",
            "num_axes = 6, explains 0.91315337953457 variance\n"
          ]
        },
        {
          "name": "stdout",
          "output_type": "stream",
          "text": [
            "self.axes_learned.shape torch.Size([6, 15])\n",
            "untransformed_posterior.rsample().shape torch.Size([1, 1, 15])\n",
            "self.axes_learned.shape torch.Size([6, 15])\n",
            "untransformed_posterior.rsample().shape torch.Size([1, 1, 15])\n",
            "torch.Size([30, 3]) torch.Size([30, 15]) torch.Size([1, 3])\n",
            "num_axes = 6, explains 0.9182127620450766 variance\n"
          ]
        },
        {
          "name": "stdout",
          "output_type": "stream",
          "text": [
            "self.axes_learned.shape torch.Size([6, 15])\n",
            "untransformed_posterior.rsample().shape torch.Size([1, 1, 15])\n",
            "self.axes_learned.shape torch.Size([6, 15])\n",
            "untransformed_posterior.rsample().shape torch.Size([1, 1, 15])\n",
            "torch.Size([30, 3]) torch.Size([30, 15]) torch.Size([1, 3])\n",
            "num_axes = 6, explains 0.9169798904496302 variance\n"
          ]
        },
        {
          "name": "stdout",
          "output_type": "stream",
          "text": [
            "self.axes_learned.shape torch.Size([6, 15])\n",
            "untransformed_posterior.rsample().shape torch.Size([1, 1, 15])\n",
            "self.axes_learned.shape torch.Size([6, 15])\n",
            "untransformed_posterior.rsample().shape torch.Size([1, 1, 15])\n",
            "torch.Size([30, 3]) torch.Size([30, 15]) torch.Size([1, 3])\n",
            "num_axes = 6, explains 0.9179392604460208 variance\n"
          ]
        },
        {
          "name": "stdout",
          "output_type": "stream",
          "text": [
            "self.axes_learned.shape torch.Size([6, 15])\n",
            "untransformed_posterior.rsample().shape torch.Size([1, 1, 15])\n",
            "self.axes_learned.shape torch.Size([6, 15])\n",
            "untransformed_posterior.rsample().shape torch.Size([1, 1, 15])\n",
            "loocv round 5\n",
            "torch.Size([30, 3]) torch.Size([30, 15]) torch.Size([1, 3])\n",
            "num_axes = 6, explains 0.9146492232424648 variance\n"
          ]
        },
        {
          "name": "stdout",
          "output_type": "stream",
          "text": [
            "self.axes_learned.shape torch.Size([6, 15])\n",
            "untransformed_posterior.rsample().shape torch.Size([1, 1, 15])\n",
            "self.axes_learned.shape torch.Size([6, 15])\n",
            "untransformed_posterior.rsample().shape torch.Size([1, 1, 15])\n",
            "torch.Size([30, 3]) torch.Size([30, 15]) torch.Size([1, 3])\n",
            "num_axes = 6, explains 0.9187640582040272 variance\n"
          ]
        },
        {
          "name": "stdout",
          "output_type": "stream",
          "text": [
            "self.axes_learned.shape torch.Size([6, 15])\n",
            "untransformed_posterior.rsample().shape torch.Size([1, 1, 15])\n",
            "self.axes_learned.shape torch.Size([6, 15])\n",
            "untransformed_posterior.rsample().shape torch.Size([1, 1, 15])\n",
            "torch.Size([30, 3]) torch.Size([30, 15]) torch.Size([1, 3])\n",
            "num_axes = 6, explains 0.9157203868902666 variance\n"
          ]
        },
        {
          "name": "stdout",
          "output_type": "stream",
          "text": [
            "self.axes_learned.shape torch.Size([6, 15])\n",
            "untransformed_posterior.rsample().shape torch.Size([1, 1, 15])\n",
            "self.axes_learned.shape torch.Size([6, 15])\n",
            "untransformed_posterior.rsample().shape torch.Size([1, 1, 15])\n",
            "torch.Size([30, 3]) torch.Size([30, 15]) torch.Size([1, 3])\n",
            "num_axes = 6, explains 0.9187682674017915 variance\n"
          ]
        },
        {
          "name": "stdout",
          "output_type": "stream",
          "text": [
            "self.axes_learned.shape torch.Size([6, 15])\n",
            "untransformed_posterior.rsample().shape torch.Size([1, 1, 15])\n",
            "self.axes_learned.shape torch.Size([6, 15])\n",
            "untransformed_posterior.rsample().shape torch.Size([1, 1, 15])\n",
            "torch.Size([30, 3]) torch.Size([30, 15]) torch.Size([1, 3])\n",
            "num_axes = 6, explains 0.920712547592058 variance\n"
          ]
        },
        {
          "name": "stdout",
          "output_type": "stream",
          "text": [
            "self.axes_learned.shape torch.Size([6, 15])\n",
            "untransformed_posterior.rsample().shape torch.Size([1, 1, 15])\n",
            "self.axes_learned.shape torch.Size([6, 15])\n",
            "untransformed_posterior.rsample().shape torch.Size([1, 1, 15])\n",
            "loocv round 10\n",
            "torch.Size([30, 3]) torch.Size([30, 15]) torch.Size([1, 3])\n",
            "num_axes = 6, explains 0.9243828771345184 variance\n"
          ]
        },
        {
          "name": "stdout",
          "output_type": "stream",
          "text": [
            "self.axes_learned.shape torch.Size([6, 15])\n",
            "untransformed_posterior.rsample().shape torch.Size([1, 1, 15])\n",
            "self.axes_learned.shape torch.Size([6, 15])\n",
            "untransformed_posterior.rsample().shape torch.Size([1, 1, 15])\n",
            "torch.Size([30, 3]) torch.Size([30, 15]) torch.Size([1, 3])\n",
            "num_axes = 6, explains 0.9154005814896449 variance\n"
          ]
        },
        {
          "name": "stdout",
          "output_type": "stream",
          "text": [
            "self.axes_learned.shape torch.Size([6, 15])\n",
            "untransformed_posterior.rsample().shape torch.Size([1, 1, 15])\n",
            "self.axes_learned.shape torch.Size([6, 15])\n",
            "untransformed_posterior.rsample().shape torch.Size([1, 1, 15])\n",
            "torch.Size([30, 3]) torch.Size([30, 15]) torch.Size([1, 3])\n",
            "num_axes = 6, explains 0.9133714025426254 variance\n"
          ]
        },
        {
          "name": "stdout",
          "output_type": "stream",
          "text": [
            "self.axes_learned.shape torch.Size([6, 15])\n",
            "untransformed_posterior.rsample().shape torch.Size([1, 1, 15])\n",
            "self.axes_learned.shape torch.Size([6, 15])\n",
            "untransformed_posterior.rsample().shape torch.Size([1, 1, 15])\n",
            "torch.Size([30, 3]) torch.Size([30, 15]) torch.Size([1, 3])\n",
            "num_axes = 6, explains 0.92193309097677 variance\n"
          ]
        },
        {
          "name": "stdout",
          "output_type": "stream",
          "text": [
            "self.axes_learned.shape torch.Size([6, 15])\n",
            "untransformed_posterior.rsample().shape torch.Size([1, 1, 15])\n",
            "self.axes_learned.shape torch.Size([6, 15])\n",
            "untransformed_posterior.rsample().shape torch.Size([1, 1, 15])\n",
            "torch.Size([30, 3]) torch.Size([30, 15]) torch.Size([1, 3])\n",
            "num_axes = 6, explains 0.9166385530771779 variance\n"
          ]
        },
        {
          "name": "stdout",
          "output_type": "stream",
          "text": [
            "self.axes_learned.shape torch.Size([6, 15])\n",
            "untransformed_posterior.rsample().shape torch.Size([1, 1, 15])\n",
            "self.axes_learned.shape torch.Size([6, 15])\n",
            "untransformed_posterior.rsample().shape torch.Size([1, 1, 15])\n",
            "loocv round 15\n",
            "torch.Size([30, 3]) torch.Size([30, 15]) torch.Size([1, 3])\n",
            "num_axes = 6, explains 0.9150014384713844 variance\n"
          ]
        },
        {
          "name": "stdout",
          "output_type": "stream",
          "text": [
            "self.axes_learned.shape torch.Size([6, 15])\n",
            "untransformed_posterior.rsample().shape torch.Size([1, 1, 15])\n",
            "self.axes_learned.shape torch.Size([6, 15])\n",
            "untransformed_posterior.rsample().shape torch.Size([1, 1, 15])\n",
            "torch.Size([30, 3]) torch.Size([30, 15]) torch.Size([1, 3])\n",
            "num_axes = 6, explains 0.9109195859990044 variance\n"
          ]
        },
        {
          "name": "stdout",
          "output_type": "stream",
          "text": [
            "self.axes_learned.shape torch.Size([6, 15])\n",
            "untransformed_posterior.rsample().shape torch.Size([1, 1, 15])\n",
            "self.axes_learned.shape torch.Size([6, 15])\n",
            "untransformed_posterior.rsample().shape torch.Size([1, 1, 15])\n",
            "torch.Size([30, 3]) torch.Size([30, 15]) torch.Size([1, 3])\n",
            "num_axes = 6, explains 0.9243410555611314 variance\n"
          ]
        },
        {
          "name": "stdout",
          "output_type": "stream",
          "text": [
            "self.axes_learned.shape torch.Size([6, 15])\n",
            "untransformed_posterior.rsample().shape torch.Size([1, 1, 15])\n",
            "self.axes_learned.shape torch.Size([6, 15])\n",
            "untransformed_posterior.rsample().shape torch.Size([1, 1, 15])\n",
            "torch.Size([30, 3]) torch.Size([30, 15]) torch.Size([1, 3])\n",
            "num_axes = 6, explains 0.9152023918650345 variance\n"
          ]
        },
        {
          "name": "stdout",
          "output_type": "stream",
          "text": [
            "self.axes_learned.shape torch.Size([6, 15])\n",
            "untransformed_posterior.rsample().shape torch.Size([1, 1, 15])\n",
            "self.axes_learned.shape torch.Size([6, 15])\n",
            "untransformed_posterior.rsample().shape torch.Size([1, 1, 15])\n",
            "torch.Size([30, 3]) torch.Size([30, 15]) torch.Size([1, 3])\n",
            "num_axes = 6, explains 0.9200581722030551 variance\n"
          ]
        },
        {
          "name": "stdout",
          "output_type": "stream",
          "text": [
            "self.axes_learned.shape torch.Size([6, 15])\n",
            "untransformed_posterior.rsample().shape torch.Size([1, 1, 15])\n",
            "self.axes_learned.shape torch.Size([6, 15])\n",
            "untransformed_posterior.rsample().shape torch.Size([1, 1, 15])\n",
            "loocv round 20\n",
            "torch.Size([30, 3]) torch.Size([30, 15]) torch.Size([1, 3])\n",
            "num_axes = 6, explains 0.9151951095175082 variance\n"
          ]
        },
        {
          "name": "stdout",
          "output_type": "stream",
          "text": [
            "self.axes_learned.shape torch.Size([6, 15])\n",
            "untransformed_posterior.rsample().shape torch.Size([1, 1, 15])\n",
            "self.axes_learned.shape torch.Size([6, 15])\n",
            "untransformed_posterior.rsample().shape torch.Size([1, 1, 15])\n",
            "torch.Size([30, 3]) torch.Size([30, 15]) torch.Size([1, 3])\n",
            "num_axes = 6, explains 0.9145898960425456 variance\n"
          ]
        },
        {
          "name": "stdout",
          "output_type": "stream",
          "text": [
            "self.axes_learned.shape torch.Size([6, 15])\n",
            "untransformed_posterior.rsample().shape torch.Size([1, 1, 15])\n",
            "self.axes_learned.shape torch.Size([6, 15])\n",
            "untransformed_posterior.rsample().shape torch.Size([1, 1, 15])\n",
            "torch.Size([30, 3]) torch.Size([30, 15]) torch.Size([1, 3])\n",
            "num_axes = 6, explains 0.9204339265915606 variance\n"
          ]
        },
        {
          "name": "stdout",
          "output_type": "stream",
          "text": [
            "self.axes_learned.shape torch.Size([6, 15])\n",
            "untransformed_posterior.rsample().shape torch.Size([1, 1, 15])\n",
            "self.axes_learned.shape torch.Size([6, 15])\n",
            "untransformed_posterior.rsample().shape torch.Size([1, 1, 15])\n",
            "torch.Size([30, 3]) torch.Size([30, 15]) torch.Size([1, 3])\n",
            "num_axes = 6, explains 0.919995953130135 variance\n"
          ]
        },
        {
          "name": "stdout",
          "output_type": "stream",
          "text": [
            "self.axes_learned.shape torch.Size([6, 15])\n",
            "untransformed_posterior.rsample().shape torch.Size([1, 1, 15])\n",
            "self.axes_learned.shape torch.Size([6, 15])\n",
            "untransformed_posterior.rsample().shape torch.Size([1, 1, 15])\n",
            "torch.Size([30, 3]) torch.Size([30, 15]) torch.Size([1, 3])\n",
            "num_axes = 6, explains 0.9138342606454363 variance\n"
          ]
        },
        {
          "name": "stdout",
          "output_type": "stream",
          "text": [
            "self.axes_learned.shape torch.Size([6, 15])\n",
            "untransformed_posterior.rsample().shape torch.Size([1, 1, 15])\n",
            "self.axes_learned.shape torch.Size([6, 15])\n",
            "untransformed_posterior.rsample().shape torch.Size([1, 1, 15])\n",
            "loocv round 25\n",
            "torch.Size([30, 3]) torch.Size([30, 15]) torch.Size([1, 3])\n",
            "num_axes = 6, explains 0.9180942368520791 variance\n"
          ]
        },
        {
          "name": "stdout",
          "output_type": "stream",
          "text": [
            "self.axes_learned.shape torch.Size([6, 15])\n",
            "untransformed_posterior.rsample().shape torch.Size([1, 1, 15])\n",
            "self.axes_learned.shape torch.Size([6, 15])\n",
            "untransformed_posterior.rsample().shape torch.Size([1, 1, 15])\n",
            "torch.Size([30, 3]) torch.Size([30, 15]) torch.Size([1, 3])\n",
            "num_axes = 6, explains 0.9192153728911955 variance\n"
          ]
        },
        {
          "name": "stdout",
          "output_type": "stream",
          "text": [
            "self.axes_learned.shape torch.Size([6, 15])\n",
            "untransformed_posterior.rsample().shape torch.Size([1, 1, 15])\n",
            "self.axes_learned.shape torch.Size([6, 15])\n",
            "untransformed_posterior.rsample().shape torch.Size([1, 1, 15])\n",
            "torch.Size([30, 3]) torch.Size([30, 15]) torch.Size([1, 3])\n",
            "num_axes = 6, explains 0.9184799688071913 variance\n"
          ]
        },
        {
          "name": "stdout",
          "output_type": "stream",
          "text": [
            "self.axes_learned.shape torch.Size([6, 15])\n",
            "untransformed_posterior.rsample().shape torch.Size([1, 1, 15])\n",
            "self.axes_learned.shape torch.Size([6, 15])\n",
            "untransformed_posterior.rsample().shape torch.Size([1, 1, 15])\n",
            "torch.Size([30, 3]) torch.Size([30, 15]) torch.Size([1, 3])\n",
            "num_axes = 6, explains 0.9180049825415025 variance\n"
          ]
        },
        {
          "name": "stdout",
          "output_type": "stream",
          "text": [
            "self.axes_learned.shape torch.Size([6, 15])\n",
            "untransformed_posterior.rsample().shape torch.Size([1, 1, 15])\n",
            "self.axes_learned.shape torch.Size([6, 15])\n",
            "untransformed_posterior.rsample().shape torch.Size([1, 1, 15])\n",
            "torch.Size([30, 3]) torch.Size([30, 15]) torch.Size([1, 3])\n",
            "num_axes = 6, explains 0.9166000471655898 variance\n"
          ]
        },
        {
          "name": "stdout",
          "output_type": "stream",
          "text": [
            "self.axes_learned.shape torch.Size([6, 15])\n",
            "untransformed_posterior.rsample().shape torch.Size([1, 1, 15])\n",
            "self.axes_learned.shape torch.Size([6, 15])\n",
            "untransformed_posterior.rsample().shape torch.Size([1, 1, 15])\n",
            "loocv round 30\n",
            "torch.Size([30, 3]) torch.Size([30, 15]) torch.Size([1, 3])\n",
            "num_axes = 6, explains 0.9170595873646257 variance\n"
          ]
        },
        {
          "name": "stdout",
          "output_type": "stream",
          "text": [
            "self.axes_learned.shape torch.Size([6, 15])\n",
            "untransformed_posterior.rsample().shape torch.Size([1, 1, 15])\n",
            "self.axes_learned.shape torch.Size([6, 15])\n",
            "untransformed_posterior.rsample().shape torch.Size([1, 1, 15])\n",
            "loocv_outcome_mean.shape, Y.shape torch.Size([31, 15]) torch.Size([31, 15])\n",
            "torch.mean(torch.square(loocv_outcome_mean - Y)) tensor(2.9352, dtype=torch.float64, grad_fn=<MeanBackward0>)\n",
            "PCA transform with 7 principal axes\n",
            "Full input data shape torch.Size([31, 3]), output data shape torch.Size([31, 15])\n",
            "loocv round 0\n",
            "torch.Size([30, 3]) torch.Size([30, 15]) torch.Size([1, 3])\n",
            "num_axes = 7, explains 0.9435893657488119 variance\n"
          ]
        },
        {
          "name": "stdout",
          "output_type": "stream",
          "text": [
            "self.axes_learned.shape torch.Size([7, 15])\n",
            "untransformed_posterior.rsample().shape torch.Size([1, 1, 15])\n",
            "self.axes_learned.shape torch.Size([7, 15])\n",
            "untransformed_posterior.rsample().shape torch.Size([1, 1, 15])\n",
            "torch.Size([30, 3]) torch.Size([30, 15]) torch.Size([1, 3])\n",
            "num_axes = 7, explains 0.941372016030929 variance\n"
          ]
        },
        {
          "name": "stdout",
          "output_type": "stream",
          "text": [
            "self.axes_learned.shape torch.Size([7, 15])\n",
            "untransformed_posterior.rsample().shape torch.Size([1, 1, 15])\n",
            "self.axes_learned.shape torch.Size([7, 15])\n",
            "untransformed_posterior.rsample().shape torch.Size([1, 1, 15])\n",
            "torch.Size([30, 3]) torch.Size([30, 15]) torch.Size([1, 3])\n",
            "num_axes = 7, explains 0.9440047838659349 variance\n"
          ]
        },
        {
          "name": "stdout",
          "output_type": "stream",
          "text": [
            "self.axes_learned.shape torch.Size([7, 15])\n",
            "untransformed_posterior.rsample().shape torch.Size([1, 1, 15])\n",
            "self.axes_learned.shape torch.Size([7, 15])\n",
            "untransformed_posterior.rsample().shape torch.Size([1, 1, 15])\n",
            "torch.Size([30, 3]) torch.Size([30, 15]) torch.Size([1, 3])\n",
            "num_axes = 7, explains 0.9432856480363491 variance\n"
          ]
        },
        {
          "name": "stdout",
          "output_type": "stream",
          "text": [
            "self.axes_learned.shape torch.Size([7, 15])\n",
            "untransformed_posterior.rsample().shape torch.Size([1, 1, 15])\n",
            "self.axes_learned.shape torch.Size([7, 15])\n",
            "untransformed_posterior.rsample().shape torch.Size([1, 1, 15])\n",
            "torch.Size([30, 3]) torch.Size([30, 15]) torch.Size([1, 3])\n",
            "num_axes = 7, explains 0.9440087713105336 variance\n"
          ]
        },
        {
          "name": "stdout",
          "output_type": "stream",
          "text": [
            "self.axes_learned.shape torch.Size([7, 15])\n",
            "untransformed_posterior.rsample().shape torch.Size([1, 1, 15])\n",
            "self.axes_learned.shape torch.Size([7, 15])\n",
            "untransformed_posterior.rsample().shape torch.Size([1, 1, 15])\n",
            "loocv round 5\n",
            "torch.Size([30, 3]) torch.Size([30, 15]) torch.Size([1, 3])\n",
            "num_axes = 7, explains 0.9420359649725903 variance\n"
          ]
        },
        {
          "name": "stdout",
          "output_type": "stream",
          "text": [
            "self.axes_learned.shape torch.Size([7, 15])\n",
            "untransformed_posterior.rsample().shape torch.Size([1, 1, 15])\n",
            "self.axes_learned.shape torch.Size([7, 15])\n",
            "untransformed_posterior.rsample().shape torch.Size([1, 1, 15])\n",
            "torch.Size([30, 3]) torch.Size([30, 15]) torch.Size([1, 3])\n",
            "num_axes = 7, explains 0.9457904039574074 variance\n"
          ]
        },
        {
          "name": "stdout",
          "output_type": "stream",
          "text": [
            "self.axes_learned.shape torch.Size([7, 15])\n",
            "untransformed_posterior.rsample().shape torch.Size([1, 1, 15])\n",
            "self.axes_learned.shape torch.Size([7, 15])\n",
            "untransformed_posterior.rsample().shape torch.Size([1, 1, 15])\n",
            "torch.Size([30, 3]) torch.Size([30, 15]) torch.Size([1, 3])\n",
            "num_axes = 7, explains 0.9423367465048628 variance\n"
          ]
        },
        {
          "name": "stdout",
          "output_type": "stream",
          "text": [
            "self.axes_learned.shape torch.Size([7, 15])\n",
            "untransformed_posterior.rsample().shape torch.Size([1, 1, 15])\n",
            "self.axes_learned.shape torch.Size([7, 15])\n",
            "untransformed_posterior.rsample().shape torch.Size([1, 1, 15])\n",
            "torch.Size([30, 3]) torch.Size([30, 15]) torch.Size([1, 3])\n",
            "num_axes = 7, explains 0.9428734754436572 variance\n"
          ]
        },
        {
          "name": "stdout",
          "output_type": "stream",
          "text": [
            "self.axes_learned.shape torch.Size([7, 15])\n",
            "untransformed_posterior.rsample().shape torch.Size([1, 1, 15])\n",
            "self.axes_learned.shape torch.Size([7, 15])\n",
            "untransformed_posterior.rsample().shape torch.Size([1, 1, 15])\n",
            "torch.Size([30, 3]) torch.Size([30, 15]) torch.Size([1, 3])\n",
            "num_axes = 7, explains 0.9460232544425605 variance\n"
          ]
        },
        {
          "name": "stdout",
          "output_type": "stream",
          "text": [
            "self.axes_learned.shape torch.Size([7, 15])\n",
            "untransformed_posterior.rsample().shape torch.Size([1, 1, 15])\n",
            "self.axes_learned.shape torch.Size([7, 15])\n",
            "untransformed_posterior.rsample().shape torch.Size([1, 1, 15])\n",
            "loocv round 10\n",
            "torch.Size([30, 3]) torch.Size([30, 15]) torch.Size([1, 3])\n",
            "num_axes = 7, explains 0.9497858412445083 variance\n"
          ]
        },
        {
          "name": "stdout",
          "output_type": "stream",
          "text": [
            "self.axes_learned.shape torch.Size([7, 15])\n",
            "untransformed_posterior.rsample().shape torch.Size([1, 1, 15])\n",
            "self.axes_learned.shape torch.Size([7, 15])\n",
            "untransformed_posterior.rsample().shape torch.Size([1, 1, 15])\n",
            "torch.Size([30, 3]) torch.Size([30, 15]) torch.Size([1, 3])\n",
            "num_axes = 7, explains 0.9407483804110086 variance\n"
          ]
        },
        {
          "name": "stdout",
          "output_type": "stream",
          "text": [
            "self.axes_learned.shape torch.Size([7, 15])\n",
            "untransformed_posterior.rsample().shape torch.Size([1, 1, 15])\n",
            "self.axes_learned.shape torch.Size([7, 15])\n",
            "untransformed_posterior.rsample().shape torch.Size([1, 1, 15])\n",
            "torch.Size([30, 3]) torch.Size([30, 15]) torch.Size([1, 3])\n",
            "num_axes = 7, explains 0.9411352071505615 variance\n"
          ]
        },
        {
          "name": "stdout",
          "output_type": "stream",
          "text": [
            "self.axes_learned.shape torch.Size([7, 15])\n",
            "untransformed_posterior.rsample().shape torch.Size([1, 1, 15])\n",
            "self.axes_learned.shape torch.Size([7, 15])\n",
            "untransformed_posterior.rsample().shape torch.Size([1, 1, 15])\n",
            "torch.Size([30, 3]) torch.Size([30, 15]) torch.Size([1, 3])\n",
            "num_axes = 7, explains 0.9461032902587626 variance\n"
          ]
        },
        {
          "name": "stdout",
          "output_type": "stream",
          "text": [
            "self.axes_learned.shape torch.Size([7, 15])\n",
            "untransformed_posterior.rsample().shape torch.Size([1, 1, 15])\n",
            "self.axes_learned.shape torch.Size([7, 15])\n",
            "untransformed_posterior.rsample().shape torch.Size([1, 1, 15])\n",
            "torch.Size([30, 3]) torch.Size([30, 15]) torch.Size([1, 3])\n",
            "num_axes = 7, explains 0.9425275495227378 variance\n"
          ]
        },
        {
          "name": "stdout",
          "output_type": "stream",
          "text": [
            "self.axes_learned.shape torch.Size([7, 15])\n",
            "untransformed_posterior.rsample().shape torch.Size([1, 1, 15])\n",
            "self.axes_learned.shape torch.Size([7, 15])\n",
            "untransformed_posterior.rsample().shape torch.Size([1, 1, 15])\n",
            "loocv round 15\n",
            "torch.Size([30, 3]) torch.Size([30, 15]) torch.Size([1, 3])\n",
            "num_axes = 7, explains 0.9419745397000865 variance\n"
          ]
        },
        {
          "name": "stdout",
          "output_type": "stream",
          "text": [
            "self.axes_learned.shape torch.Size([7, 15])\n",
            "untransformed_posterior.rsample().shape torch.Size([1, 1, 15])\n",
            "self.axes_learned.shape torch.Size([7, 15])\n",
            "untransformed_posterior.rsample().shape torch.Size([1, 1, 15])\n",
            "torch.Size([30, 3]) torch.Size([30, 15]) torch.Size([1, 3])\n",
            "num_axes = 7, explains 0.9373764088283872 variance\n"
          ]
        },
        {
          "name": "stdout",
          "output_type": "stream",
          "text": [
            "self.axes_learned.shape torch.Size([7, 15])\n",
            "untransformed_posterior.rsample().shape torch.Size([1, 1, 15])\n",
            "self.axes_learned.shape torch.Size([7, 15])\n",
            "untransformed_posterior.rsample().shape torch.Size([1, 1, 15])\n",
            "torch.Size([30, 3]) torch.Size([30, 15]) torch.Size([1, 3])\n",
            "num_axes = 7, explains 0.9459086570238276 variance\n"
          ]
        },
        {
          "name": "stdout",
          "output_type": "stream",
          "text": [
            "self.axes_learned.shape torch.Size([7, 15])\n",
            "untransformed_posterior.rsample().shape torch.Size([1, 1, 15])\n",
            "self.axes_learned.shape torch.Size([7, 15])\n",
            "untransformed_posterior.rsample().shape torch.Size([1, 1, 15])\n",
            "torch.Size([30, 3]) torch.Size([30, 15]) torch.Size([1, 3])\n",
            "num_axes = 7, explains 0.9426849718788914 variance\n"
          ]
        },
        {
          "name": "stdout",
          "output_type": "stream",
          "text": [
            "self.axes_learned.shape torch.Size([7, 15])\n",
            "untransformed_posterior.rsample().shape torch.Size([1, 1, 15])\n",
            "self.axes_learned.shape torch.Size([7, 15])\n",
            "untransformed_posterior.rsample().shape torch.Size([1, 1, 15])\n",
            "torch.Size([30, 3]) torch.Size([30, 15]) torch.Size([1, 3])\n",
            "num_axes = 7, explains 0.9448593073124804 variance\n"
          ]
        },
        {
          "name": "stdout",
          "output_type": "stream",
          "text": [
            "self.axes_learned.shape torch.Size([7, 15])\n",
            "untransformed_posterior.rsample().shape torch.Size([1, 1, 15])\n",
            "self.axes_learned.shape torch.Size([7, 15])\n",
            "untransformed_posterior.rsample().shape torch.Size([1, 1, 15])\n",
            "loocv round 20\n",
            "torch.Size([30, 3]) torch.Size([30, 15]) torch.Size([1, 3])\n",
            "num_axes = 7, explains 0.9415598401554168 variance\n"
          ]
        },
        {
          "name": "stdout",
          "output_type": "stream",
          "text": [
            "self.axes_learned.shape torch.Size([7, 15])\n",
            "untransformed_posterior.rsample().shape torch.Size([1, 1, 15])\n",
            "self.axes_learned.shape torch.Size([7, 15])\n",
            "untransformed_posterior.rsample().shape torch.Size([1, 1, 15])\n",
            "torch.Size([30, 3]) torch.Size([30, 15]) torch.Size([1, 3])\n",
            "num_axes = 7, explains 0.9414861571897851 variance\n"
          ]
        },
        {
          "name": "stdout",
          "output_type": "stream",
          "text": [
            "self.axes_learned.shape torch.Size([7, 15])\n",
            "untransformed_posterior.rsample().shape torch.Size([1, 1, 15])\n",
            "self.axes_learned.shape torch.Size([7, 15])\n",
            "untransformed_posterior.rsample().shape torch.Size([1, 1, 15])\n",
            "torch.Size([30, 3]) torch.Size([30, 15]) torch.Size([1, 3])\n",
            "num_axes = 7, explains 0.9470084745788928 variance\n"
          ]
        },
        {
          "name": "stdout",
          "output_type": "stream",
          "text": [
            "self.axes_learned.shape torch.Size([7, 15])\n",
            "untransformed_posterior.rsample().shape torch.Size([1, 1, 15])\n",
            "self.axes_learned.shape torch.Size([7, 15])\n",
            "untransformed_posterior.rsample().shape torch.Size([1, 1, 15])\n",
            "torch.Size([30, 3]) torch.Size([30, 15]) torch.Size([1, 3])\n",
            "num_axes = 7, explains 0.944045646668201 variance\n"
          ]
        },
        {
          "name": "stdout",
          "output_type": "stream",
          "text": [
            "self.axes_learned.shape torch.Size([7, 15])\n",
            "untransformed_posterior.rsample().shape torch.Size([1, 1, 15])\n",
            "self.axes_learned.shape torch.Size([7, 15])\n",
            "untransformed_posterior.rsample().shape torch.Size([1, 1, 15])\n",
            "torch.Size([30, 3]) torch.Size([30, 15]) torch.Size([1, 3])\n",
            "num_axes = 7, explains 0.9412691900511997 variance\n"
          ]
        },
        {
          "name": "stdout",
          "output_type": "stream",
          "text": [
            "self.axes_learned.shape torch.Size([7, 15])\n",
            "untransformed_posterior.rsample().shape torch.Size([1, 1, 15])\n",
            "self.axes_learned.shape torch.Size([7, 15])\n",
            "untransformed_posterior.rsample().shape torch.Size([1, 1, 15])\n",
            "loocv round 25\n",
            "torch.Size([30, 3]) torch.Size([30, 15]) torch.Size([1, 3])\n",
            "num_axes = 7, explains 0.9448358726373803 variance\n"
          ]
        },
        {
          "name": "stdout",
          "output_type": "stream",
          "text": [
            "self.axes_learned.shape torch.Size([7, 15])\n",
            "untransformed_posterior.rsample().shape torch.Size([1, 1, 15])\n",
            "self.axes_learned.shape torch.Size([7, 15])\n",
            "untransformed_posterior.rsample().shape torch.Size([1, 1, 15])\n",
            "torch.Size([30, 3]) torch.Size([30, 15]) torch.Size([1, 3])\n",
            "num_axes = 7, explains 0.9451554569190517 variance\n"
          ]
        },
        {
          "name": "stdout",
          "output_type": "stream",
          "text": [
            "self.axes_learned.shape torch.Size([7, 15])\n",
            "untransformed_posterior.rsample().shape torch.Size([1, 1, 15])\n",
            "self.axes_learned.shape torch.Size([7, 15])\n",
            "untransformed_posterior.rsample().shape torch.Size([1, 1, 15])\n",
            "torch.Size([30, 3]) torch.Size([30, 15]) torch.Size([1, 3])\n",
            "num_axes = 7, explains 0.9448266499380656 variance\n"
          ]
        },
        {
          "name": "stdout",
          "output_type": "stream",
          "text": [
            "self.axes_learned.shape torch.Size([7, 15])\n",
            "untransformed_posterior.rsample().shape torch.Size([1, 1, 15])\n",
            "self.axes_learned.shape torch.Size([7, 15])\n",
            "untransformed_posterior.rsample().shape torch.Size([1, 1, 15])\n",
            "torch.Size([30, 3]) torch.Size([30, 15]) torch.Size([1, 3])\n",
            "num_axes = 7, explains 0.9448825081262539 variance\n"
          ]
        },
        {
          "name": "stdout",
          "output_type": "stream",
          "text": [
            "self.axes_learned.shape torch.Size([7, 15])\n",
            "untransformed_posterior.rsample().shape torch.Size([1, 1, 15])\n",
            "self.axes_learned.shape torch.Size([7, 15])\n",
            "untransformed_posterior.rsample().shape torch.Size([1, 1, 15])\n",
            "torch.Size([30, 3]) torch.Size([30, 15]) torch.Size([1, 3])\n",
            "num_axes = 7, explains 0.9429016097370028 variance\n"
          ]
        },
        {
          "name": "stdout",
          "output_type": "stream",
          "text": [
            "self.axes_learned.shape torch.Size([7, 15])\n",
            "untransformed_posterior.rsample().shape torch.Size([1, 1, 15])\n",
            "self.axes_learned.shape torch.Size([7, 15])\n",
            "untransformed_posterior.rsample().shape torch.Size([1, 1, 15])\n",
            "loocv round 30\n",
            "torch.Size([30, 3]) torch.Size([30, 15]) torch.Size([1, 3])\n",
            "num_axes = 7, explains 0.9429882587989643 variance\n"
          ]
        },
        {
          "name": "stdout",
          "output_type": "stream",
          "text": [
            "self.axes_learned.shape torch.Size([7, 15])\n",
            "untransformed_posterior.rsample().shape torch.Size([1, 1, 15])\n",
            "self.axes_learned.shape torch.Size([7, 15])\n",
            "untransformed_posterior.rsample().shape torch.Size([1, 1, 15])\n",
            "loocv_outcome_mean.shape, Y.shape torch.Size([31, 15]) torch.Size([31, 15])\n",
            "torch.mean(torch.square(loocv_outcome_mean - Y)) tensor(2.9253, dtype=torch.float64, grad_fn=<MeanBackward0>)\n",
            "PCA transform with 8 principal axes\n",
            "Full input data shape torch.Size([31, 3]), output data shape torch.Size([31, 15])\n",
            "loocv round 0\n",
            "torch.Size([30, 3]) torch.Size([30, 15]) torch.Size([1, 3])\n",
            "num_axes = 8, explains 0.9607550802903334 variance\n"
          ]
        },
        {
          "name": "stdout",
          "output_type": "stream",
          "text": [
            "self.axes_learned.shape torch.Size([8, 15])\n",
            "untransformed_posterior.rsample().shape torch.Size([1, 1, 15])\n",
            "self.axes_learned.shape torch.Size([8, 15])\n",
            "untransformed_posterior.rsample().shape torch.Size([1, 1, 15])\n",
            "torch.Size([30, 3]) torch.Size([30, 15]) torch.Size([1, 3])\n",
            "num_axes = 8, explains 0.9591489405643532 variance\n"
          ]
        },
        {
          "name": "stdout",
          "output_type": "stream",
          "text": [
            "self.axes_learned.shape torch.Size([8, 15])\n",
            "untransformed_posterior.rsample().shape torch.Size([1, 1, 15])\n",
            "self.axes_learned.shape torch.Size([8, 15])\n",
            "untransformed_posterior.rsample().shape torch.Size([1, 1, 15])\n",
            "torch.Size([30, 3]) torch.Size([30, 15]) torch.Size([1, 3])\n",
            "num_axes = 8, explains 0.960162858370811 variance\n"
          ]
        },
        {
          "name": "stdout",
          "output_type": "stream",
          "text": [
            "self.axes_learned.shape torch.Size([8, 15])\n",
            "untransformed_posterior.rsample().shape torch.Size([1, 1, 15])\n",
            "self.axes_learned.shape torch.Size([8, 15])\n",
            "untransformed_posterior.rsample().shape torch.Size([1, 1, 15])\n",
            "torch.Size([30, 3]) torch.Size([30, 15]) torch.Size([1, 3])\n",
            "num_axes = 8, explains 0.9597693567456915 variance\n"
          ]
        },
        {
          "name": "stdout",
          "output_type": "stream",
          "text": [
            "self.axes_learned.shape torch.Size([8, 15])\n",
            "untransformed_posterior.rsample().shape torch.Size([1, 1, 15])\n",
            "self.axes_learned.shape torch.Size([8, 15])\n",
            "untransformed_posterior.rsample().shape torch.Size([1, 1, 15])\n",
            "torch.Size([30, 3]) torch.Size([30, 15]) torch.Size([1, 3])\n",
            "num_axes = 8, explains 0.9610889430832463 variance\n"
          ]
        },
        {
          "name": "stdout",
          "output_type": "stream",
          "text": [
            "self.axes_learned.shape torch.Size([8, 15])\n",
            "untransformed_posterior.rsample().shape torch.Size([1, 1, 15])\n",
            "self.axes_learned.shape torch.Size([8, 15])\n",
            "untransformed_posterior.rsample().shape torch.Size([1, 1, 15])\n",
            "loocv round 5\n",
            "torch.Size([30, 3]) torch.Size([30, 15]) torch.Size([1, 3])\n",
            "num_axes = 8, explains 0.9594565877877994 variance\n"
          ]
        },
        {
          "name": "stdout",
          "output_type": "stream",
          "text": [
            "self.axes_learned.shape torch.Size([8, 15])\n",
            "untransformed_posterior.rsample().shape torch.Size([1, 1, 15])\n",
            "self.axes_learned.shape torch.Size([8, 15])\n",
            "untransformed_posterior.rsample().shape torch.Size([1, 1, 15])\n",
            "torch.Size([30, 3]) torch.Size([30, 15]) torch.Size([1, 3])\n",
            "num_axes = 8, explains 0.9630212103362635 variance\n"
          ]
        },
        {
          "name": "stdout",
          "output_type": "stream",
          "text": [
            "self.axes_learned.shape torch.Size([8, 15])\n",
            "untransformed_posterior.rsample().shape torch.Size([1, 1, 15])\n",
            "self.axes_learned.shape torch.Size([8, 15])\n",
            "untransformed_posterior.rsample().shape torch.Size([1, 1, 15])\n",
            "torch.Size([30, 3]) torch.Size([30, 15]) torch.Size([1, 3])\n",
            "num_axes = 8, explains 0.9589739974426598 variance\n"
          ]
        },
        {
          "name": "stdout",
          "output_type": "stream",
          "text": [
            "self.axes_learned.shape torch.Size([8, 15])\n",
            "untransformed_posterior.rsample().shape torch.Size([1, 1, 15])\n",
            "self.axes_learned.shape torch.Size([8, 15])\n",
            "untransformed_posterior.rsample().shape torch.Size([1, 1, 15])\n",
            "torch.Size([30, 3]) torch.Size([30, 15]) torch.Size([1, 3])\n",
            "num_axes = 8, explains 0.9603694530605841 variance\n"
          ]
        },
        {
          "name": "stdout",
          "output_type": "stream",
          "text": [
            "self.axes_learned.shape torch.Size([8, 15])\n",
            "untransformed_posterior.rsample().shape torch.Size([1, 1, 15])\n",
            "self.axes_learned.shape torch.Size([8, 15])\n",
            "untransformed_posterior.rsample().shape torch.Size([1, 1, 15])\n",
            "torch.Size([30, 3]) torch.Size([30, 15]) torch.Size([1, 3])\n",
            "num_axes = 8, explains 0.9632012374605106 variance\n"
          ]
        },
        {
          "name": "stdout",
          "output_type": "stream",
          "text": [
            "self.axes_learned.shape torch.Size([8, 15])\n",
            "untransformed_posterior.rsample().shape torch.Size([1, 1, 15])\n",
            "self.axes_learned.shape torch.Size([8, 15])\n",
            "untransformed_posterior.rsample().shape torch.Size([1, 1, 15])\n",
            "loocv round 10\n",
            "torch.Size([30, 3]) torch.Size([30, 15]) torch.Size([1, 3])\n",
            "num_axes = 8, explains 0.9649491210375686 variance\n"
          ]
        },
        {
          "name": "stdout",
          "output_type": "stream",
          "text": [
            "self.axes_learned.shape torch.Size([8, 15])\n",
            "untransformed_posterior.rsample().shape torch.Size([1, 1, 15])\n",
            "self.axes_learned.shape torch.Size([8, 15])\n",
            "untransformed_posterior.rsample().shape torch.Size([1, 1, 15])\n",
            "torch.Size([30, 3]) torch.Size([30, 15]) torch.Size([1, 3])\n",
            "num_axes = 8, explains 0.9590625659638707 variance\n"
          ]
        },
        {
          "name": "stdout",
          "output_type": "stream",
          "text": [
            "self.axes_learned.shape torch.Size([8, 15])\n",
            "untransformed_posterior.rsample().shape torch.Size([1, 1, 15])\n",
            "self.axes_learned.shape torch.Size([8, 15])\n",
            "untransformed_posterior.rsample().shape torch.Size([1, 1, 15])\n",
            "torch.Size([30, 3]) torch.Size([30, 15]) torch.Size([1, 3])\n",
            "num_axes = 8, explains 0.9594528225035848 variance\n"
          ]
        },
        {
          "name": "stdout",
          "output_type": "stream",
          "text": [
            "self.axes_learned.shape torch.Size([8, 15])\n",
            "untransformed_posterior.rsample().shape torch.Size([1, 1, 15])\n",
            "self.axes_learned.shape torch.Size([8, 15])\n",
            "untransformed_posterior.rsample().shape torch.Size([1, 1, 15])\n",
            "torch.Size([30, 3]) torch.Size([30, 15]) torch.Size([1, 3])\n",
            "num_axes = 8, explains 0.9628679884116584 variance\n"
          ]
        },
        {
          "name": "stdout",
          "output_type": "stream",
          "text": [
            "self.axes_learned.shape torch.Size([8, 15])\n",
            "untransformed_posterior.rsample().shape torch.Size([1, 1, 15])\n",
            "self.axes_learned.shape torch.Size([8, 15])\n",
            "untransformed_posterior.rsample().shape torch.Size([1, 1, 15])\n",
            "torch.Size([30, 3]) torch.Size([30, 15]) torch.Size([1, 3])\n",
            "num_axes = 8, explains 0.9597120485736506 variance\n"
          ]
        },
        {
          "name": "stdout",
          "output_type": "stream",
          "text": [
            "self.axes_learned.shape torch.Size([8, 15])\n",
            "untransformed_posterior.rsample().shape torch.Size([1, 1, 15])\n",
            "self.axes_learned.shape torch.Size([8, 15])\n",
            "untransformed_posterior.rsample().shape torch.Size([1, 1, 15])\n",
            "loocv round 15\n",
            "torch.Size([30, 3]) torch.Size([30, 15]) torch.Size([1, 3])\n",
            "num_axes = 8, explains 0.9597200730070061 variance\n"
          ]
        },
        {
          "name": "stdout",
          "output_type": "stream",
          "text": [
            "self.axes_learned.shape torch.Size([8, 15])\n",
            "untransformed_posterior.rsample().shape torch.Size([1, 1, 15])\n",
            "self.axes_learned.shape torch.Size([8, 15])\n",
            "untransformed_posterior.rsample().shape torch.Size([1, 1, 15])\n",
            "torch.Size([30, 3]) torch.Size([30, 15]) torch.Size([1, 3])\n",
            "num_axes = 8, explains 0.9572903512498468 variance\n"
          ]
        },
        {
          "name": "stdout",
          "output_type": "stream",
          "text": [
            "self.axes_learned.shape torch.Size([8, 15])\n",
            "untransformed_posterior.rsample().shape torch.Size([1, 1, 15])\n",
            "self.axes_learned.shape torch.Size([8, 15])\n",
            "untransformed_posterior.rsample().shape torch.Size([1, 1, 15])\n",
            "torch.Size([30, 3]) torch.Size([30, 15]) torch.Size([1, 3])\n",
            "num_axes = 8, explains 0.9617238360044995 variance\n"
          ]
        },
        {
          "name": "stdout",
          "output_type": "stream",
          "text": [
            "self.axes_learned.shape torch.Size([8, 15])\n",
            "untransformed_posterior.rsample().shape torch.Size([1, 1, 15])\n",
            "self.axes_learned.shape torch.Size([8, 15])\n",
            "untransformed_posterior.rsample().shape torch.Size([1, 1, 15])\n",
            "torch.Size([30, 3]) torch.Size([30, 15]) torch.Size([1, 3])\n",
            "num_axes = 8, explains 0.9606199588153225 variance\n"
          ]
        },
        {
          "name": "stdout",
          "output_type": "stream",
          "text": [
            "self.axes_learned.shape torch.Size([8, 15])\n",
            "untransformed_posterior.rsample().shape torch.Size([1, 1, 15])\n",
            "self.axes_learned.shape torch.Size([8, 15])\n",
            "untransformed_posterior.rsample().shape torch.Size([1, 1, 15])\n",
            "torch.Size([30, 3]) torch.Size([30, 15]) torch.Size([1, 3])\n",
            "num_axes = 8, explains 0.9626250820662057 variance\n"
          ]
        },
        {
          "name": "stdout",
          "output_type": "stream",
          "text": [
            "self.axes_learned.shape torch.Size([8, 15])\n",
            "untransformed_posterior.rsample().shape torch.Size([1, 1, 15])\n",
            "self.axes_learned.shape torch.Size([8, 15])\n",
            "untransformed_posterior.rsample().shape torch.Size([1, 1, 15])\n",
            "loocv round 20\n",
            "torch.Size([30, 3]) torch.Size([30, 15]) torch.Size([1, 3])\n",
            "num_axes = 8, explains 0.9590935053161999 variance\n"
          ]
        },
        {
          "name": "stdout",
          "output_type": "stream",
          "text": [
            "self.axes_learned.shape torch.Size([8, 15])\n",
            "untransformed_posterior.rsample().shape torch.Size([1, 1, 15])\n",
            "self.axes_learned.shape torch.Size([8, 15])\n",
            "untransformed_posterior.rsample().shape torch.Size([1, 1, 15])\n",
            "torch.Size([30, 3]) torch.Size([30, 15]) torch.Size([1, 3])\n",
            "num_axes = 8, explains 0.9594603235116251 variance\n"
          ]
        },
        {
          "name": "stdout",
          "output_type": "stream",
          "text": [
            "self.axes_learned.shape torch.Size([8, 15])\n",
            "untransformed_posterior.rsample().shape torch.Size([1, 1, 15])\n",
            "self.axes_learned.shape torch.Size([8, 15])\n",
            "untransformed_posterior.rsample().shape torch.Size([1, 1, 15])\n",
            "torch.Size([30, 3]) torch.Size([30, 15]) torch.Size([1, 3])\n",
            "num_axes = 8, explains 0.9626289628384574 variance\n"
          ]
        },
        {
          "name": "stdout",
          "output_type": "stream",
          "text": [
            "self.axes_learned.shape torch.Size([8, 15])\n",
            "untransformed_posterior.rsample().shape torch.Size([1, 1, 15])\n",
            "self.axes_learned.shape torch.Size([8, 15])\n",
            "untransformed_posterior.rsample().shape torch.Size([1, 1, 15])\n",
            "torch.Size([30, 3]) torch.Size([30, 15]) torch.Size([1, 3])\n",
            "num_axes = 8, explains 0.9615811578402607 variance\n"
          ]
        },
        {
          "name": "stdout",
          "output_type": "stream",
          "text": [
            "self.axes_learned.shape torch.Size([8, 15])\n",
            "untransformed_posterior.rsample().shape torch.Size([1, 1, 15])\n",
            "self.axes_learned.shape torch.Size([8, 15])\n",
            "untransformed_posterior.rsample().shape torch.Size([1, 1, 15])\n",
            "torch.Size([30, 3]) torch.Size([30, 15]) torch.Size([1, 3])\n",
            "num_axes = 8, explains 0.9590853607989916 variance\n"
          ]
        },
        {
          "name": "stdout",
          "output_type": "stream",
          "text": [
            "self.axes_learned.shape torch.Size([8, 15])\n",
            "untransformed_posterior.rsample().shape torch.Size([1, 1, 15])\n",
            "self.axes_learned.shape torch.Size([8, 15])\n",
            "untransformed_posterior.rsample().shape torch.Size([1, 1, 15])\n",
            "loocv round 25\n",
            "torch.Size([30, 3]) torch.Size([30, 15]) torch.Size([1, 3])\n",
            "num_axes = 8, explains 0.96299466651209 variance\n"
          ]
        },
        {
          "name": "stdout",
          "output_type": "stream",
          "text": [
            "self.axes_learned.shape torch.Size([8, 15])\n",
            "untransformed_posterior.rsample().shape torch.Size([1, 1, 15])\n",
            "self.axes_learned.shape torch.Size([8, 15])\n",
            "untransformed_posterior.rsample().shape torch.Size([1, 1, 15])\n",
            "torch.Size([30, 3]) torch.Size([30, 15]) torch.Size([1, 3])\n",
            "num_axes = 8, explains 0.9623193529923023 variance\n"
          ]
        },
        {
          "name": "stdout",
          "output_type": "stream",
          "text": [
            "self.axes_learned.shape torch.Size([8, 15])\n",
            "untransformed_posterior.rsample().shape torch.Size([1, 1, 15])\n",
            "self.axes_learned.shape torch.Size([8, 15])\n",
            "untransformed_posterior.rsample().shape torch.Size([1, 1, 15])\n",
            "torch.Size([30, 3]) torch.Size([30, 15]) torch.Size([1, 3])\n",
            "num_axes = 8, explains 0.9619783909285247 variance\n"
          ]
        },
        {
          "name": "stdout",
          "output_type": "stream",
          "text": [
            "self.axes_learned.shape torch.Size([8, 15])\n",
            "untransformed_posterior.rsample().shape torch.Size([1, 1, 15])\n",
            "self.axes_learned.shape torch.Size([8, 15])\n",
            "untransformed_posterior.rsample().shape torch.Size([1, 1, 15])\n",
            "torch.Size([30, 3]) torch.Size([30, 15]) torch.Size([1, 3])\n",
            "num_axes = 8, explains 0.963262725328545 variance\n"
          ]
        },
        {
          "name": "stdout",
          "output_type": "stream",
          "text": [
            "self.axes_learned.shape torch.Size([8, 15])\n",
            "untransformed_posterior.rsample().shape torch.Size([1, 1, 15])\n",
            "self.axes_learned.shape torch.Size([8, 15])\n",
            "untransformed_posterior.rsample().shape torch.Size([1, 1, 15])\n",
            "torch.Size([30, 3]) torch.Size([30, 15]) torch.Size([1, 3])\n",
            "num_axes = 8, explains 0.9600780932262182 variance\n"
          ]
        },
        {
          "name": "stdout",
          "output_type": "stream",
          "text": [
            "self.axes_learned.shape torch.Size([8, 15])\n",
            "untransformed_posterior.rsample().shape torch.Size([1, 1, 15])\n",
            "self.axes_learned.shape torch.Size([8, 15])\n",
            "untransformed_posterior.rsample().shape torch.Size([1, 1, 15])\n",
            "loocv round 30\n",
            "torch.Size([30, 3]) torch.Size([30, 15]) torch.Size([1, 3])\n",
            "num_axes = 8, explains 0.960261210903546 variance\n"
          ]
        },
        {
          "name": "stdout",
          "output_type": "stream",
          "text": [
            "self.axes_learned.shape torch.Size([8, 15])\n",
            "untransformed_posterior.rsample().shape torch.Size([1, 1, 15])\n",
            "self.axes_learned.shape torch.Size([8, 15])\n",
            "untransformed_posterior.rsample().shape torch.Size([1, 1, 15])\n",
            "loocv_outcome_mean.shape, Y.shape torch.Size([31, 15]) torch.Size([31, 15])\n",
            "torch.mean(torch.square(loocv_outcome_mean - Y)) tensor(2.8784, dtype=torch.float64, grad_fn=<MeanBackward0>)\n",
            "PCA transform with 9 principal axes\n",
            "Full input data shape torch.Size([31, 3]), output data shape torch.Size([31, 15])\n",
            "loocv round 0\n",
            "torch.Size([30, 3]) torch.Size([30, 15]) torch.Size([1, 3])\n",
            "num_axes = 9, explains 0.9743221616381691 variance\n"
          ]
        },
        {
          "name": "stdout",
          "output_type": "stream",
          "text": [
            "self.axes_learned.shape torch.Size([9, 15])\n",
            "untransformed_posterior.rsample().shape torch.Size([1, 1, 15])\n",
            "self.axes_learned.shape torch.Size([9, 15])\n",
            "untransformed_posterior.rsample().shape torch.Size([1, 1, 15])\n",
            "torch.Size([30, 3]) torch.Size([30, 15]) torch.Size([1, 3])\n",
            "num_axes = 9, explains 0.9740191108116307 variance\n"
          ]
        },
        {
          "name": "stdout",
          "output_type": "stream",
          "text": [
            "self.axes_learned.shape torch.Size([9, 15])\n",
            "untransformed_posterior.rsample().shape torch.Size([1, 1, 15])\n",
            "self.axes_learned.shape torch.Size([9, 15])\n",
            "untransformed_posterior.rsample().shape torch.Size([1, 1, 15])\n",
            "torch.Size([30, 3]) torch.Size([30, 15]) torch.Size([1, 3])\n",
            "num_axes = 9, explains 0.9747718735869833 variance\n"
          ]
        },
        {
          "name": "stdout",
          "output_type": "stream",
          "text": [
            "self.axes_learned.shape torch.Size([9, 15])\n",
            "untransformed_posterior.rsample().shape torch.Size([1, 1, 15])\n",
            "self.axes_learned.shape torch.Size([9, 15])\n",
            "untransformed_posterior.rsample().shape torch.Size([1, 1, 15])\n",
            "torch.Size([30, 3]) torch.Size([30, 15]) torch.Size([1, 3])\n",
            "num_axes = 9, explains 0.9744146355528235 variance\n"
          ]
        },
        {
          "name": "stdout",
          "output_type": "stream",
          "text": [
            "self.axes_learned.shape torch.Size([9, 15])\n",
            "untransformed_posterior.rsample().shape torch.Size([1, 1, 15])\n",
            "self.axes_learned.shape torch.Size([9, 15])\n",
            "untransformed_posterior.rsample().shape torch.Size([1, 1, 15])\n",
            "torch.Size([30, 3]) torch.Size([30, 15]) torch.Size([1, 3])\n",
            "num_axes = 9, explains 0.9748619240256964 variance\n"
          ]
        },
        {
          "name": "stdout",
          "output_type": "stream",
          "text": [
            "self.axes_learned.shape torch.Size([9, 15])\n",
            "untransformed_posterior.rsample().shape torch.Size([1, 1, 15])\n",
            "self.axes_learned.shape torch.Size([9, 15])\n",
            "untransformed_posterior.rsample().shape torch.Size([1, 1, 15])\n",
            "loocv round 5\n",
            "torch.Size([30, 3]) torch.Size([30, 15]) torch.Size([1, 3])\n",
            "num_axes = 9, explains 0.9745026022329799 variance\n"
          ]
        },
        {
          "name": "stdout",
          "output_type": "stream",
          "text": [
            "self.axes_learned.shape torch.Size([9, 15])\n",
            "untransformed_posterior.rsample().shape torch.Size([1, 1, 15])\n",
            "self.axes_learned.shape torch.Size([9, 15])\n",
            "untransformed_posterior.rsample().shape torch.Size([1, 1, 15])\n",
            "torch.Size([30, 3]) torch.Size([30, 15]) torch.Size([1, 3])\n",
            "num_axes = 9, explains 0.9763543659423586 variance\n"
          ]
        },
        {
          "name": "stdout",
          "output_type": "stream",
          "text": [
            "self.axes_learned.shape torch.Size([9, 15])\n",
            "untransformed_posterior.rsample().shape torch.Size([1, 1, 15])\n",
            "self.axes_learned.shape torch.Size([9, 15])\n",
            "untransformed_posterior.rsample().shape torch.Size([1, 1, 15])\n",
            "torch.Size([30, 3]) torch.Size([30, 15]) torch.Size([1, 3])\n",
            "num_axes = 9, explains 0.9736022800840567 variance\n"
          ]
        },
        {
          "name": "stdout",
          "output_type": "stream",
          "text": [
            "self.axes_learned.shape torch.Size([9, 15])\n",
            "untransformed_posterior.rsample().shape torch.Size([1, 1, 15])\n",
            "self.axes_learned.shape torch.Size([9, 15])\n",
            "untransformed_posterior.rsample().shape torch.Size([1, 1, 15])\n",
            "torch.Size([30, 3]) torch.Size([30, 15]) torch.Size([1, 3])\n",
            "num_axes = 9, explains 0.9754276016110921 variance\n"
          ]
        },
        {
          "name": "stdout",
          "output_type": "stream",
          "text": [
            "self.axes_learned.shape torch.Size([9, 15])\n",
            "untransformed_posterior.rsample().shape torch.Size([1, 1, 15])\n",
            "self.axes_learned.shape torch.Size([9, 15])\n",
            "untransformed_posterior.rsample().shape torch.Size([1, 1, 15])\n",
            "torch.Size([30, 3]) torch.Size([30, 15]) torch.Size([1, 3])\n",
            "num_axes = 9, explains 0.9766845627755512 variance\n"
          ]
        },
        {
          "name": "stdout",
          "output_type": "stream",
          "text": [
            "self.axes_learned.shape torch.Size([9, 15])\n",
            "untransformed_posterior.rsample().shape torch.Size([1, 1, 15])\n",
            "self.axes_learned.shape torch.Size([9, 15])\n",
            "untransformed_posterior.rsample().shape torch.Size([1, 1, 15])\n",
            "loocv round 10\n",
            "torch.Size([30, 3]) torch.Size([30, 15]) torch.Size([1, 3])\n",
            "num_axes = 9, explains 0.9777040446033572 variance\n"
          ]
        },
        {
          "name": "stdout",
          "output_type": "stream",
          "text": [
            "self.axes_learned.shape torch.Size([9, 15])\n",
            "untransformed_posterior.rsample().shape torch.Size([1, 1, 15])\n",
            "self.axes_learned.shape torch.Size([9, 15])\n",
            "untransformed_posterior.rsample().shape torch.Size([1, 1, 15])\n",
            "torch.Size([30, 3]) torch.Size([30, 15]) torch.Size([1, 3])\n",
            "num_axes = 9, explains 0.9744981713203142 variance\n"
          ]
        },
        {
          "name": "stdout",
          "output_type": "stream",
          "text": [
            "self.axes_learned.shape torch.Size([9, 15])\n",
            "untransformed_posterior.rsample().shape torch.Size([1, 1, 15])\n",
            "self.axes_learned.shape torch.Size([9, 15])\n",
            "untransformed_posterior.rsample().shape torch.Size([1, 1, 15])\n",
            "torch.Size([30, 3]) torch.Size([30, 15]) torch.Size([1, 3])\n",
            "num_axes = 9, explains 0.9739073969245416 variance\n"
          ]
        },
        {
          "name": "stdout",
          "output_type": "stream",
          "text": [
            "self.axes_learned.shape torch.Size([9, 15])\n",
            "untransformed_posterior.rsample().shape torch.Size([1, 1, 15])\n",
            "self.axes_learned.shape torch.Size([9, 15])\n",
            "untransformed_posterior.rsample().shape torch.Size([1, 1, 15])\n",
            "torch.Size([30, 3]) torch.Size([30, 15]) torch.Size([1, 3])\n",
            "num_axes = 9, explains 0.9760118297269628 variance\n"
          ]
        },
        {
          "name": "stdout",
          "output_type": "stream",
          "text": [
            "self.axes_learned.shape torch.Size([9, 15])\n",
            "untransformed_posterior.rsample().shape torch.Size([1, 1, 15])\n",
            "self.axes_learned.shape torch.Size([9, 15])\n",
            "untransformed_posterior.rsample().shape torch.Size([1, 1, 15])\n",
            "torch.Size([30, 3]) torch.Size([30, 15]) torch.Size([1, 3])\n",
            "num_axes = 9, explains 0.9744027421601622 variance\n"
          ]
        },
        {
          "name": "stdout",
          "output_type": "stream",
          "text": [
            "self.axes_learned.shape torch.Size([9, 15])\n",
            "untransformed_posterior.rsample().shape torch.Size([1, 1, 15])\n",
            "self.axes_learned.shape torch.Size([9, 15])\n",
            "untransformed_posterior.rsample().shape torch.Size([1, 1, 15])\n",
            "loocv round 15\n",
            "torch.Size([30, 3]) torch.Size([30, 15]) torch.Size([1, 3])\n",
            "num_axes = 9, explains 0.9747939931572293 variance\n"
          ]
        },
        {
          "name": "stdout",
          "output_type": "stream",
          "text": [
            "self.axes_learned.shape torch.Size([9, 15])\n",
            "untransformed_posterior.rsample().shape torch.Size([1, 1, 15])\n",
            "self.axes_learned.shape torch.Size([9, 15])\n",
            "untransformed_posterior.rsample().shape torch.Size([1, 1, 15])\n",
            "torch.Size([30, 3]) torch.Size([30, 15]) torch.Size([1, 3])\n",
            "num_axes = 9, explains 0.9727995546103566 variance\n"
          ]
        },
        {
          "name": "stdout",
          "output_type": "stream",
          "text": [
            "self.axes_learned.shape torch.Size([9, 15])\n",
            "untransformed_posterior.rsample().shape torch.Size([1, 1, 15])\n",
            "self.axes_learned.shape torch.Size([9, 15])\n",
            "untransformed_posterior.rsample().shape torch.Size([1, 1, 15])\n",
            "torch.Size([30, 3]) torch.Size([30, 15]) torch.Size([1, 3])\n",
            "num_axes = 9, explains 0.9763805053968169 variance\n"
          ]
        },
        {
          "name": "stdout",
          "output_type": "stream",
          "text": [
            "self.axes_learned.shape torch.Size([9, 15])\n",
            "untransformed_posterior.rsample().shape torch.Size([1, 1, 15])\n",
            "self.axes_learned.shape torch.Size([9, 15])\n",
            "untransformed_posterior.rsample().shape torch.Size([1, 1, 15])\n",
            "torch.Size([30, 3]) torch.Size([30, 15]) torch.Size([1, 3])\n",
            "num_axes = 9, explains 0.9753167531125195 variance\n"
          ]
        },
        {
          "name": "stdout",
          "output_type": "stream",
          "text": [
            "self.axes_learned.shape torch.Size([9, 15])\n",
            "untransformed_posterior.rsample().shape torch.Size([1, 1, 15])\n",
            "self.axes_learned.shape torch.Size([9, 15])\n",
            "untransformed_posterior.rsample().shape torch.Size([1, 1, 15])\n",
            "torch.Size([30, 3]) torch.Size([30, 15]) torch.Size([1, 3])\n",
            "num_axes = 9, explains 0.9763704032601551 variance\n"
          ]
        },
        {
          "name": "stdout",
          "output_type": "stream",
          "text": [
            "self.axes_learned.shape torch.Size([9, 15])\n",
            "untransformed_posterior.rsample().shape torch.Size([1, 1, 15])\n",
            "self.axes_learned.shape torch.Size([9, 15])\n",
            "untransformed_posterior.rsample().shape torch.Size([1, 1, 15])\n",
            "loocv round 20\n",
            "torch.Size([30, 3]) torch.Size([30, 15]) torch.Size([1, 3])\n",
            "num_axes = 9, explains 0.9738015155000594 variance\n"
          ]
        },
        {
          "name": "stdout",
          "output_type": "stream",
          "text": [
            "self.axes_learned.shape torch.Size([9, 15])\n",
            "untransformed_posterior.rsample().shape torch.Size([1, 1, 15])\n",
            "self.axes_learned.shape torch.Size([9, 15])\n",
            "untransformed_posterior.rsample().shape torch.Size([1, 1, 15])\n",
            "torch.Size([30, 3]) torch.Size([30, 15]) torch.Size([1, 3])\n",
            "num_axes = 9, explains 0.9743431759862932 variance\n"
          ]
        },
        {
          "name": "stdout",
          "output_type": "stream",
          "text": [
            "self.axes_learned.shape torch.Size([9, 15])\n",
            "untransformed_posterior.rsample().shape torch.Size([1, 1, 15])\n",
            "self.axes_learned.shape torch.Size([9, 15])\n",
            "untransformed_posterior.rsample().shape torch.Size([1, 1, 15])\n",
            "torch.Size([30, 3]) torch.Size([30, 15]) torch.Size([1, 3])\n",
            "num_axes = 9, explains 0.9758875268971926 variance\n"
          ]
        },
        {
          "name": "stdout",
          "output_type": "stream",
          "text": [
            "self.axes_learned.shape torch.Size([9, 15])\n",
            "untransformed_posterior.rsample().shape torch.Size([1, 1, 15])\n",
            "self.axes_learned.shape torch.Size([9, 15])\n",
            "untransformed_posterior.rsample().shape torch.Size([1, 1, 15])\n",
            "torch.Size([30, 3]) torch.Size([30, 15]) torch.Size([1, 3])\n",
            "num_axes = 9, explains 0.9757605932176584 variance\n"
          ]
        },
        {
          "name": "stdout",
          "output_type": "stream",
          "text": [
            "self.axes_learned.shape torch.Size([9, 15])\n",
            "untransformed_posterior.rsample().shape torch.Size([1, 1, 15])\n",
            "self.axes_learned.shape torch.Size([9, 15])\n",
            "untransformed_posterior.rsample().shape torch.Size([1, 1, 15])\n",
            "torch.Size([30, 3]) torch.Size([30, 15]) torch.Size([1, 3])\n",
            "num_axes = 9, explains 0.9745552869864714 variance\n"
          ]
        },
        {
          "name": "stdout",
          "output_type": "stream",
          "text": [
            "self.axes_learned.shape torch.Size([9, 15])\n",
            "untransformed_posterior.rsample().shape torch.Size([1, 1, 15])\n",
            "self.axes_learned.shape torch.Size([9, 15])\n",
            "untransformed_posterior.rsample().shape torch.Size([1, 1, 15])\n",
            "loocv round 25\n",
            "torch.Size([30, 3]) torch.Size([30, 15]) torch.Size([1, 3])\n",
            "num_axes = 9, explains 0.9777113279938636 variance\n"
          ]
        },
        {
          "name": "stdout",
          "output_type": "stream",
          "text": [
            "self.axes_learned.shape torch.Size([9, 15])\n",
            "untransformed_posterior.rsample().shape torch.Size([1, 1, 15])\n",
            "self.axes_learned.shape torch.Size([9, 15])\n",
            "untransformed_posterior.rsample().shape torch.Size([1, 1, 15])\n",
            "torch.Size([30, 3]) torch.Size([30, 15]) torch.Size([1, 3])\n",
            "num_axes = 9, explains 0.9772388720990483 variance\n"
          ]
        },
        {
          "name": "stdout",
          "output_type": "stream",
          "text": [
            "self.axes_learned.shape torch.Size([9, 15])\n",
            "untransformed_posterior.rsample().shape torch.Size([1, 1, 15])\n",
            "self.axes_learned.shape torch.Size([9, 15])\n",
            "untransformed_posterior.rsample().shape torch.Size([1, 1, 15])\n",
            "torch.Size([30, 3]) torch.Size([30, 15]) torch.Size([1, 3])\n",
            "num_axes = 9, explains 0.976592358134901 variance\n"
          ]
        },
        {
          "name": "stdout",
          "output_type": "stream",
          "text": [
            "self.axes_learned.shape torch.Size([9, 15])\n",
            "untransformed_posterior.rsample().shape torch.Size([1, 1, 15])\n",
            "self.axes_learned.shape torch.Size([9, 15])\n",
            "untransformed_posterior.rsample().shape torch.Size([1, 1, 15])\n",
            "torch.Size([30, 3]) torch.Size([30, 15]) torch.Size([1, 3])\n",
            "num_axes = 9, explains 0.9772750427403126 variance\n"
          ]
        },
        {
          "name": "stdout",
          "output_type": "stream",
          "text": [
            "self.axes_learned.shape torch.Size([9, 15])\n",
            "untransformed_posterior.rsample().shape torch.Size([1, 1, 15])\n",
            "self.axes_learned.shape torch.Size([9, 15])\n",
            "untransformed_posterior.rsample().shape torch.Size([1, 1, 15])\n",
            "torch.Size([30, 3]) torch.Size([30, 15]) torch.Size([1, 3])\n",
            "num_axes = 9, explains 0.9746631515891095 variance\n"
          ]
        },
        {
          "name": "stdout",
          "output_type": "stream",
          "text": [
            "self.axes_learned.shape torch.Size([9, 15])\n",
            "untransformed_posterior.rsample().shape torch.Size([1, 1, 15])\n",
            "self.axes_learned.shape torch.Size([9, 15])\n",
            "untransformed_posterior.rsample().shape torch.Size([1, 1, 15])\n",
            "loocv round 30\n",
            "torch.Size([30, 3]) torch.Size([30, 15]) torch.Size([1, 3])\n",
            "num_axes = 9, explains 0.9750824963994067 variance\n"
          ]
        },
        {
          "name": "stdout",
          "output_type": "stream",
          "text": [
            "self.axes_learned.shape torch.Size([9, 15])\n",
            "untransformed_posterior.rsample().shape torch.Size([1, 1, 15])\n",
            "self.axes_learned.shape torch.Size([9, 15])\n",
            "untransformed_posterior.rsample().shape torch.Size([1, 1, 15])\n",
            "loocv_outcome_mean.shape, Y.shape torch.Size([31, 15]) torch.Size([31, 15])\n",
            "torch.mean(torch.square(loocv_outcome_mean - Y)) tensor(2.8681, dtype=torch.float64, grad_fn=<MeanBackward0>)\n",
            "PCA transform with 10 principal axes\n",
            "Full input data shape torch.Size([31, 3]), output data shape torch.Size([31, 15])\n",
            "loocv round 0\n",
            "torch.Size([30, 3]) torch.Size([30, 15]) torch.Size([1, 3])\n",
            "num_axes = 10, explains 0.9869777951569743 variance\n"
          ]
        },
        {
          "name": "stdout",
          "output_type": "stream",
          "text": [
            "self.axes_learned.shape torch.Size([10, 15])\n",
            "untransformed_posterior.rsample().shape torch.Size([1, 1, 15])\n",
            "self.axes_learned.shape torch.Size([10, 15])\n",
            "untransformed_posterior.rsample().shape torch.Size([1, 1, 15])\n",
            "torch.Size([30, 3]) torch.Size([30, 15]) torch.Size([1, 3])\n",
            "num_axes = 10, explains 0.9867480422129953 variance\n"
          ]
        },
        {
          "name": "stdout",
          "output_type": "stream",
          "text": [
            "self.axes_learned.shape torch.Size([10, 15])\n",
            "untransformed_posterior.rsample().shape torch.Size([1, 1, 15])\n",
            "self.axes_learned.shape torch.Size([10, 15])\n",
            "untransformed_posterior.rsample().shape torch.Size([1, 1, 15])\n",
            "torch.Size([30, 3]) torch.Size([30, 15]) torch.Size([1, 3])\n",
            "num_axes = 10, explains 0.9865487030695922 variance\n"
          ]
        },
        {
          "name": "stdout",
          "output_type": "stream",
          "text": [
            "self.axes_learned.shape torch.Size([10, 15])\n",
            "untransformed_posterior.rsample().shape torch.Size([1, 1, 15])\n",
            "self.axes_learned.shape torch.Size([10, 15])\n",
            "untransformed_posterior.rsample().shape torch.Size([1, 1, 15])\n",
            "torch.Size([30, 3]) torch.Size([30, 15]) torch.Size([1, 3])\n",
            "num_axes = 10, explains 0.9869062867823568 variance\n"
          ]
        },
        {
          "name": "stdout",
          "output_type": "stream",
          "text": [
            "self.axes_learned.shape torch.Size([10, 15])\n",
            "untransformed_posterior.rsample().shape torch.Size([1, 1, 15])\n",
            "self.axes_learned.shape torch.Size([10, 15])\n",
            "untransformed_posterior.rsample().shape torch.Size([1, 1, 15])\n",
            "torch.Size([30, 3]) torch.Size([30, 15]) torch.Size([1, 3])\n",
            "num_axes = 10, explains 0.9872891774985135 variance\n"
          ]
        },
        {
          "name": "stdout",
          "output_type": "stream",
          "text": [
            "self.axes_learned.shape torch.Size([10, 15])\n",
            "untransformed_posterior.rsample().shape torch.Size([1, 1, 15])\n",
            "self.axes_learned.shape torch.Size([10, 15])\n",
            "untransformed_posterior.rsample().shape torch.Size([1, 1, 15])\n",
            "loocv round 5\n",
            "torch.Size([30, 3]) torch.Size([30, 15]) torch.Size([1, 3])\n",
            "num_axes = 10, explains 0.9870398295322661 variance\n"
          ]
        },
        {
          "name": "stdout",
          "output_type": "stream",
          "text": [
            "self.axes_learned.shape torch.Size([10, 15])\n",
            "untransformed_posterior.rsample().shape torch.Size([1, 1, 15])\n",
            "self.axes_learned.shape torch.Size([10, 15])\n",
            "untransformed_posterior.rsample().shape torch.Size([1, 1, 15])\n",
            "torch.Size([30, 3]) torch.Size([30, 15]) torch.Size([1, 3])\n",
            "num_axes = 10, explains 0.9867919842517785 variance\n"
          ]
        },
        {
          "name": "stdout",
          "output_type": "stream",
          "text": [
            "self.axes_learned.shape torch.Size([10, 15])\n",
            "untransformed_posterior.rsample().shape torch.Size([1, 1, 15])\n",
            "self.axes_learned.shape torch.Size([10, 15])\n",
            "untransformed_posterior.rsample().shape torch.Size([1, 1, 15])\n",
            "torch.Size([30, 3]) torch.Size([30, 15]) torch.Size([1, 3])\n",
            "num_axes = 10, explains 0.9866714415008079 variance\n"
          ]
        },
        {
          "name": "stdout",
          "output_type": "stream",
          "text": [
            "self.axes_learned.shape torch.Size([10, 15])\n",
            "untransformed_posterior.rsample().shape torch.Size([1, 1, 15])\n",
            "self.axes_learned.shape torch.Size([10, 15])\n",
            "untransformed_posterior.rsample().shape torch.Size([1, 1, 15])\n",
            "torch.Size([30, 3]) torch.Size([30, 15]) torch.Size([1, 3])\n",
            "num_axes = 10, explains 0.987380669184762 variance\n"
          ]
        },
        {
          "name": "stdout",
          "output_type": "stream",
          "text": [
            "self.axes_learned.shape torch.Size([10, 15])\n",
            "untransformed_posterior.rsample().shape torch.Size([1, 1, 15])\n",
            "self.axes_learned.shape torch.Size([10, 15])\n",
            "untransformed_posterior.rsample().shape torch.Size([1, 1, 15])\n",
            "torch.Size([30, 3]) torch.Size([30, 15]) torch.Size([1, 3])\n",
            "num_axes = 10, explains 0.9871538835443978 variance\n"
          ]
        },
        {
          "name": "stdout",
          "output_type": "stream",
          "text": [
            "self.axes_learned.shape torch.Size([10, 15])\n",
            "untransformed_posterior.rsample().shape torch.Size([1, 1, 15])\n",
            "self.axes_learned.shape torch.Size([10, 15])\n",
            "untransformed_posterior.rsample().shape torch.Size([1, 1, 15])\n",
            "loocv round 10\n",
            "torch.Size([30, 3]) torch.Size([30, 15]) torch.Size([1, 3])\n",
            "num_axes = 10, explains 0.9869772933778614 variance\n"
          ]
        },
        {
          "name": "stdout",
          "output_type": "stream",
          "text": [
            "self.axes_learned.shape torch.Size([10, 15])\n",
            "untransformed_posterior.rsample().shape torch.Size([1, 1, 15])\n",
            "self.axes_learned.shape torch.Size([10, 15])\n",
            "untransformed_posterior.rsample().shape torch.Size([1, 1, 15])\n",
            "torch.Size([30, 3]) torch.Size([30, 15]) torch.Size([1, 3])\n",
            "num_axes = 10, explains 0.9873859426030951 variance\n"
          ]
        },
        {
          "name": "stdout",
          "output_type": "stream",
          "text": [
            "self.axes_learned.shape torch.Size([10, 15])\n",
            "untransformed_posterior.rsample().shape torch.Size([1, 1, 15])\n",
            "self.axes_learned.shape torch.Size([10, 15])\n",
            "untransformed_posterior.rsample().shape torch.Size([1, 1, 15])\n",
            "torch.Size([30, 3]) torch.Size([30, 15]) torch.Size([1, 3])\n",
            "num_axes = 10, explains 0.9862818644814884 variance\n"
          ]
        },
        {
          "name": "stdout",
          "output_type": "stream",
          "text": [
            "self.axes_learned.shape torch.Size([10, 15])\n",
            "untransformed_posterior.rsample().shape torch.Size([1, 1, 15])\n",
            "self.axes_learned.shape torch.Size([10, 15])\n",
            "untransformed_posterior.rsample().shape torch.Size([1, 1, 15])\n",
            "torch.Size([30, 3]) torch.Size([30, 15]) torch.Size([1, 3])\n",
            "num_axes = 10, explains 0.987113555018308 variance\n"
          ]
        },
        {
          "name": "stdout",
          "output_type": "stream",
          "text": [
            "self.axes_learned.shape torch.Size([10, 15])\n",
            "untransformed_posterior.rsample().shape torch.Size([1, 1, 15])\n",
            "self.axes_learned.shape torch.Size([10, 15])\n",
            "untransformed_posterior.rsample().shape torch.Size([1, 1, 15])\n",
            "torch.Size([30, 3]) torch.Size([30, 15]) torch.Size([1, 3])\n",
            "num_axes = 10, explains 0.9870439599557788 variance\n"
          ]
        },
        {
          "name": "stdout",
          "output_type": "stream",
          "text": [
            "self.axes_learned.shape torch.Size([10, 15])\n",
            "untransformed_posterior.rsample().shape torch.Size([1, 1, 15])\n",
            "self.axes_learned.shape torch.Size([10, 15])\n",
            "untransformed_posterior.rsample().shape torch.Size([1, 1, 15])\n",
            "loocv round 15\n",
            "torch.Size([30, 3]) torch.Size([30, 15]) torch.Size([1, 3])\n",
            "num_axes = 10, explains 0.9872358362227348 variance\n"
          ]
        },
        {
          "name": "stdout",
          "output_type": "stream",
          "text": [
            "self.axes_learned.shape torch.Size([10, 15])\n",
            "untransformed_posterior.rsample().shape torch.Size([1, 1, 15])\n",
            "self.axes_learned.shape torch.Size([10, 15])\n",
            "untransformed_posterior.rsample().shape torch.Size([1, 1, 15])\n",
            "torch.Size([30, 3]) torch.Size([30, 15]) torch.Size([1, 3])\n",
            "num_axes = 10, explains 0.9857153795906669 variance\n"
          ]
        },
        {
          "name": "stdout",
          "output_type": "stream",
          "text": [
            "self.axes_learned.shape torch.Size([10, 15])\n",
            "untransformed_posterior.rsample().shape torch.Size([1, 1, 15])\n",
            "self.axes_learned.shape torch.Size([10, 15])\n",
            "untransformed_posterior.rsample().shape torch.Size([1, 1, 15])\n",
            "torch.Size([30, 3]) torch.Size([30, 15]) torch.Size([1, 3])\n",
            "num_axes = 10, explains 0.9883185426898441 variance\n"
          ]
        },
        {
          "name": "stdout",
          "output_type": "stream",
          "text": [
            "self.axes_learned.shape torch.Size([10, 15])\n",
            "untransformed_posterior.rsample().shape torch.Size([1, 1, 15])\n",
            "self.axes_learned.shape torch.Size([10, 15])\n",
            "untransformed_posterior.rsample().shape torch.Size([1, 1, 15])\n",
            "torch.Size([30, 3]) torch.Size([30, 15]) torch.Size([1, 3])\n",
            "num_axes = 10, explains 0.98739008991622 variance\n"
          ]
        },
        {
          "name": "stdout",
          "output_type": "stream",
          "text": [
            "self.axes_learned.shape torch.Size([10, 15])\n",
            "untransformed_posterior.rsample().shape torch.Size([1, 1, 15])\n",
            "self.axes_learned.shape torch.Size([10, 15])\n",
            "untransformed_posterior.rsample().shape torch.Size([1, 1, 15])\n",
            "torch.Size([30, 3]) torch.Size([30, 15]) torch.Size([1, 3])\n",
            "num_axes = 10, explains 0.9869825032762665 variance\n"
          ]
        },
        {
          "name": "stdout",
          "output_type": "stream",
          "text": [
            "self.axes_learned.shape torch.Size([10, 15])\n",
            "untransformed_posterior.rsample().shape torch.Size([1, 1, 15])\n",
            "self.axes_learned.shape torch.Size([10, 15])\n",
            "untransformed_posterior.rsample().shape torch.Size([1, 1, 15])\n",
            "loocv round 20\n",
            "torch.Size([30, 3]) torch.Size([30, 15]) torch.Size([1, 3])\n",
            "num_axes = 10, explains 0.9868840121512623 variance\n"
          ]
        },
        {
          "name": "stdout",
          "output_type": "stream",
          "text": [
            "self.axes_learned.shape torch.Size([10, 15])\n",
            "untransformed_posterior.rsample().shape torch.Size([1, 1, 15])\n",
            "self.axes_learned.shape torch.Size([10, 15])\n",
            "untransformed_posterior.rsample().shape torch.Size([1, 1, 15])\n",
            "torch.Size([30, 3]) torch.Size([30, 15]) torch.Size([1, 3])\n",
            "num_axes = 10, explains 0.9869379662322655 variance\n"
          ]
        },
        {
          "name": "stdout",
          "output_type": "stream",
          "text": [
            "self.axes_learned.shape torch.Size([10, 15])\n",
            "untransformed_posterior.rsample().shape torch.Size([1, 1, 15])\n",
            "self.axes_learned.shape torch.Size([10, 15])\n",
            "untransformed_posterior.rsample().shape torch.Size([1, 1, 15])\n",
            "torch.Size([30, 3]) torch.Size([30, 15]) torch.Size([1, 3])\n",
            "num_axes = 10, explains 0.9870587331875045 variance\n"
          ]
        },
        {
          "name": "stdout",
          "output_type": "stream",
          "text": [
            "self.axes_learned.shape torch.Size([10, 15])\n",
            "untransformed_posterior.rsample().shape torch.Size([1, 1, 15])\n",
            "self.axes_learned.shape torch.Size([10, 15])\n",
            "untransformed_posterior.rsample().shape torch.Size([1, 1, 15])\n",
            "torch.Size([30, 3]) torch.Size([30, 15]) torch.Size([1, 3])\n",
            "num_axes = 10, explains 0.9883439146516959 variance\n"
          ]
        },
        {
          "name": "stdout",
          "output_type": "stream",
          "text": [
            "self.axes_learned.shape torch.Size([10, 15])\n",
            "untransformed_posterior.rsample().shape torch.Size([1, 1, 15])\n",
            "self.axes_learned.shape torch.Size([10, 15])\n",
            "untransformed_posterior.rsample().shape torch.Size([1, 1, 15])\n",
            "torch.Size([30, 3]) torch.Size([30, 15]) torch.Size([1, 3])\n",
            "num_axes = 10, explains 0.9877924740468885 variance\n"
          ]
        },
        {
          "name": "stdout",
          "output_type": "stream",
          "text": [
            "self.axes_learned.shape torch.Size([10, 15])\n",
            "untransformed_posterior.rsample().shape torch.Size([1, 1, 15])\n",
            "self.axes_learned.shape torch.Size([10, 15])\n",
            "untransformed_posterior.rsample().shape torch.Size([1, 1, 15])\n",
            "loocv round 25\n",
            "torch.Size([30, 3]) torch.Size([30, 15]) torch.Size([1, 3])\n",
            "num_axes = 10, explains 0.9877258060029895 variance\n"
          ]
        },
        {
          "name": "stdout",
          "output_type": "stream",
          "text": [
            "self.axes_learned.shape torch.Size([10, 15])\n",
            "untransformed_posterior.rsample().shape torch.Size([1, 1, 15])\n",
            "self.axes_learned.shape torch.Size([10, 15])\n",
            "untransformed_posterior.rsample().shape torch.Size([1, 1, 15])\n",
            "torch.Size([30, 3]) torch.Size([30, 15]) torch.Size([1, 3])\n",
            "num_axes = 10, explains 0.9870850770551242 variance\n"
          ]
        },
        {
          "name": "stdout",
          "output_type": "stream",
          "text": [
            "self.axes_learned.shape torch.Size([10, 15])\n",
            "untransformed_posterior.rsample().shape torch.Size([1, 1, 15])\n",
            "self.axes_learned.shape torch.Size([10, 15])\n",
            "untransformed_posterior.rsample().shape torch.Size([1, 1, 15])\n",
            "torch.Size([30, 3]) torch.Size([30, 15]) torch.Size([1, 3])\n",
            "num_axes = 10, explains 0.9878988636216234 variance\n"
          ]
        },
        {
          "name": "stdout",
          "output_type": "stream",
          "text": [
            "self.axes_learned.shape torch.Size([10, 15])\n",
            "untransformed_posterior.rsample().shape torch.Size([1, 1, 15])\n",
            "self.axes_learned.shape torch.Size([10, 15])\n",
            "untransformed_posterior.rsample().shape torch.Size([1, 1, 15])\n",
            "torch.Size([30, 3]) torch.Size([30, 15]) torch.Size([1, 3])\n",
            "num_axes = 10, explains 0.9871414841807684 variance\n"
          ]
        },
        {
          "name": "stdout",
          "output_type": "stream",
          "text": [
            "self.axes_learned.shape torch.Size([10, 15])\n",
            "untransformed_posterior.rsample().shape torch.Size([1, 1, 15])\n",
            "self.axes_learned.shape torch.Size([10, 15])\n",
            "untransformed_posterior.rsample().shape torch.Size([1, 1, 15])\n",
            "torch.Size([30, 3]) torch.Size([30, 15]) torch.Size([1, 3])\n",
            "num_axes = 10, explains 0.9872455194213656 variance\n"
          ]
        },
        {
          "name": "stdout",
          "output_type": "stream",
          "text": [
            "self.axes_learned.shape torch.Size([10, 15])\n",
            "untransformed_posterior.rsample().shape torch.Size([1, 1, 15])\n",
            "self.axes_learned.shape torch.Size([10, 15])\n",
            "untransformed_posterior.rsample().shape torch.Size([1, 1, 15])\n",
            "loocv round 30\n",
            "torch.Size([30, 3]) torch.Size([30, 15]) torch.Size([1, 3])\n",
            "num_axes = 10, explains 0.987745706968149 variance\n"
          ]
        },
        {
          "name": "stdout",
          "output_type": "stream",
          "text": [
            "self.axes_learned.shape torch.Size([10, 15])\n",
            "untransformed_posterior.rsample().shape torch.Size([1, 1, 15])\n",
            "self.axes_learned.shape torch.Size([10, 15])\n",
            "untransformed_posterior.rsample().shape torch.Size([1, 1, 15])\n",
            "loocv_outcome_mean.shape, Y.shape torch.Size([31, 15]) torch.Size([31, 15])\n",
            "torch.mean(torch.square(loocv_outcome_mean - Y)) tensor(2.8076, dtype=torch.float64, grad_fn=<MeanBackward0>)\n",
            "PCA transform with 11 principal axes\n",
            "Full input data shape torch.Size([31, 3]), output data shape torch.Size([31, 15])\n",
            "loocv round 0\n",
            "torch.Size([30, 3]) torch.Size([30, 15]) torch.Size([1, 3])\n",
            "num_axes = 11, explains 0.9935690858348576 variance\n"
          ]
        },
        {
          "name": "stdout",
          "output_type": "stream",
          "text": [
            "self.axes_learned.shape torch.Size([11, 15])\n",
            "untransformed_posterior.rsample().shape torch.Size([1, 1, 15])\n",
            "self.axes_learned.shape torch.Size([11, 15])\n",
            "untransformed_posterior.rsample().shape torch.Size([1, 1, 15])\n",
            "torch.Size([30, 3]) torch.Size([30, 15]) torch.Size([1, 3])\n",
            "num_axes = 11, explains 0.9934546376356946 variance\n"
          ]
        },
        {
          "name": "stdout",
          "output_type": "stream",
          "text": [
            "self.axes_learned.shape torch.Size([11, 15])\n",
            "untransformed_posterior.rsample().shape torch.Size([1, 1, 15])\n",
            "self.axes_learned.shape torch.Size([11, 15])\n",
            "untransformed_posterior.rsample().shape torch.Size([1, 1, 15])\n",
            "torch.Size([30, 3]) torch.Size([30, 15]) torch.Size([1, 3])\n",
            "num_axes = 11, explains 0.9935981480283124 variance\n"
          ]
        },
        {
          "name": "stdout",
          "output_type": "stream",
          "text": [
            "self.axes_learned.shape torch.Size([11, 15])\n",
            "untransformed_posterior.rsample().shape torch.Size([1, 1, 15])\n",
            "self.axes_learned.shape torch.Size([11, 15])\n",
            "untransformed_posterior.rsample().shape torch.Size([1, 1, 15])\n",
            "torch.Size([30, 3]) torch.Size([30, 15]) torch.Size([1, 3])\n",
            "num_axes = 11, explains 0.9937202690317343 variance\n"
          ]
        },
        {
          "name": "stdout",
          "output_type": "stream",
          "text": [
            "self.axes_learned.shape torch.Size([11, 15])\n",
            "untransformed_posterior.rsample().shape torch.Size([1, 1, 15])\n",
            "self.axes_learned.shape torch.Size([11, 15])\n",
            "untransformed_posterior.rsample().shape torch.Size([1, 1, 15])\n",
            "torch.Size([30, 3]) torch.Size([30, 15]) torch.Size([1, 3])\n",
            "num_axes = 11, explains 0.9940544845688846 variance\n"
          ]
        },
        {
          "name": "stdout",
          "output_type": "stream",
          "text": [
            "self.axes_learned.shape torch.Size([11, 15])\n",
            "untransformed_posterior.rsample().shape torch.Size([1, 1, 15])\n",
            "self.axes_learned.shape torch.Size([11, 15])\n",
            "untransformed_posterior.rsample().shape torch.Size([1, 1, 15])\n",
            "loocv round 5\n",
            "torch.Size([30, 3]) torch.Size([30, 15]) torch.Size([1, 3])\n",
            "num_axes = 11, explains 0.9939330848969435 variance\n"
          ]
        },
        {
          "name": "stdout",
          "output_type": "stream",
          "text": [
            "self.axes_learned.shape torch.Size([11, 15])\n",
            "untransformed_posterior.rsample().shape torch.Size([1, 1, 15])\n",
            "self.axes_learned.shape torch.Size([11, 15])\n",
            "untransformed_posterior.rsample().shape torch.Size([1, 1, 15])\n",
            "torch.Size([30, 3]) torch.Size([30, 15]) torch.Size([1, 3])\n",
            "num_axes = 11, explains 0.9934845247078182 variance\n"
          ]
        },
        {
          "name": "stdout",
          "output_type": "stream",
          "text": [
            "self.axes_learned.shape torch.Size([11, 15])\n",
            "untransformed_posterior.rsample().shape torch.Size([1, 1, 15])\n",
            "self.axes_learned.shape torch.Size([11, 15])\n",
            "untransformed_posterior.rsample().shape torch.Size([1, 1, 15])\n",
            "torch.Size([30, 3]) torch.Size([30, 15]) torch.Size([1, 3])\n",
            "num_axes = 11, explains 0.9937321917688832 variance\n"
          ]
        },
        {
          "name": "stdout",
          "output_type": "stream",
          "text": [
            "self.axes_learned.shape torch.Size([11, 15])\n",
            "untransformed_posterior.rsample().shape torch.Size([1, 1, 15])\n",
            "self.axes_learned.shape torch.Size([11, 15])\n",
            "untransformed_posterior.rsample().shape torch.Size([1, 1, 15])\n",
            "torch.Size([30, 3]) torch.Size([30, 15]) torch.Size([1, 3])\n",
            "num_axes = 11, explains 0.9939647344074171 variance\n"
          ]
        },
        {
          "name": "stdout",
          "output_type": "stream",
          "text": [
            "self.axes_learned.shape torch.Size([11, 15])\n",
            "untransformed_posterior.rsample().shape torch.Size([1, 1, 15])\n",
            "self.axes_learned.shape torch.Size([11, 15])\n",
            "untransformed_posterior.rsample().shape torch.Size([1, 1, 15])\n",
            "torch.Size([30, 3]) torch.Size([30, 15]) torch.Size([1, 3])\n",
            "num_axes = 11, explains 0.9935802967443584 variance\n"
          ]
        },
        {
          "name": "stdout",
          "output_type": "stream",
          "text": [
            "self.axes_learned.shape torch.Size([11, 15])\n",
            "untransformed_posterior.rsample().shape torch.Size([1, 1, 15])\n",
            "self.axes_learned.shape torch.Size([11, 15])\n",
            "untransformed_posterior.rsample().shape torch.Size([1, 1, 15])\n",
            "loocv round 10\n",
            "torch.Size([30, 3]) torch.Size([30, 15]) torch.Size([1, 3])\n",
            "num_axes = 11, explains 0.9934466381302406 variance\n"
          ]
        },
        {
          "name": "stdout",
          "output_type": "stream",
          "text": [
            "self.axes_learned.shape torch.Size([11, 15])\n",
            "untransformed_posterior.rsample().shape torch.Size([1, 1, 15])\n",
            "self.axes_learned.shape torch.Size([11, 15])\n",
            "untransformed_posterior.rsample().shape torch.Size([1, 1, 15])\n",
            "torch.Size([30, 3]) torch.Size([30, 15]) torch.Size([1, 3])\n",
            "num_axes = 11, explains 0.9936761955591892 variance\n"
          ]
        },
        {
          "name": "stdout",
          "output_type": "stream",
          "text": [
            "self.axes_learned.shape torch.Size([11, 15])\n",
            "untransformed_posterior.rsample().shape torch.Size([1, 1, 15])\n",
            "self.axes_learned.shape torch.Size([11, 15])\n",
            "untransformed_posterior.rsample().shape torch.Size([1, 1, 15])\n",
            "torch.Size([30, 3]) torch.Size([30, 15]) torch.Size([1, 3])\n",
            "num_axes = 11, explains 0.9930582892148229 variance\n"
          ]
        },
        {
          "name": "stdout",
          "output_type": "stream",
          "text": [
            "self.axes_learned.shape torch.Size([11, 15])\n",
            "untransformed_posterior.rsample().shape torch.Size([1, 1, 15])\n",
            "self.axes_learned.shape torch.Size([11, 15])\n",
            "untransformed_posterior.rsample().shape torch.Size([1, 1, 15])\n",
            "torch.Size([30, 3]) torch.Size([30, 15]) torch.Size([1, 3])\n",
            "num_axes = 11, explains 0.9938375004436978 variance\n"
          ]
        },
        {
          "name": "stdout",
          "output_type": "stream",
          "text": [
            "self.axes_learned.shape torch.Size([11, 15])\n",
            "untransformed_posterior.rsample().shape torch.Size([1, 1, 15])\n",
            "self.axes_learned.shape torch.Size([11, 15])\n",
            "untransformed_posterior.rsample().shape torch.Size([1, 1, 15])\n",
            "torch.Size([30, 3]) torch.Size([30, 15]) torch.Size([1, 3])\n",
            "num_axes = 11, explains 0.9938450404065536 variance\n"
          ]
        },
        {
          "name": "stdout",
          "output_type": "stream",
          "text": [
            "self.axes_learned.shape torch.Size([11, 15])\n",
            "untransformed_posterior.rsample().shape torch.Size([1, 1, 15])\n",
            "self.axes_learned.shape torch.Size([11, 15])\n",
            "untransformed_posterior.rsample().shape torch.Size([1, 1, 15])\n",
            "loocv round 15\n",
            "torch.Size([30, 3]) torch.Size([30, 15]) torch.Size([1, 3])\n",
            "num_axes = 11, explains 0.9943201504689051 variance\n"
          ]
        },
        {
          "name": "stdout",
          "output_type": "stream",
          "text": [
            "self.axes_learned.shape torch.Size([11, 15])\n",
            "untransformed_posterior.rsample().shape torch.Size([1, 1, 15])\n",
            "self.axes_learned.shape torch.Size([11, 15])\n",
            "untransformed_posterior.rsample().shape torch.Size([1, 1, 15])\n",
            "torch.Size([30, 3]) torch.Size([30, 15]) torch.Size([1, 3])\n",
            "num_axes = 11, explains 0.9932445948161187 variance\n"
          ]
        },
        {
          "name": "stdout",
          "output_type": "stream",
          "text": [
            "self.axes_learned.shape torch.Size([11, 15])\n",
            "untransformed_posterior.rsample().shape torch.Size([1, 1, 15])\n",
            "self.axes_learned.shape torch.Size([11, 15])\n",
            "untransformed_posterior.rsample().shape torch.Size([1, 1, 15])\n",
            "torch.Size([30, 3]) torch.Size([30, 15]) torch.Size([1, 3])\n",
            "num_axes = 11, explains 0.9935521140410535 variance\n"
          ]
        },
        {
          "name": "stdout",
          "output_type": "stream",
          "text": [
            "self.axes_learned.shape torch.Size([11, 15])\n",
            "untransformed_posterior.rsample().shape torch.Size([1, 1, 15])\n",
            "self.axes_learned.shape torch.Size([11, 15])\n",
            "untransformed_posterior.rsample().shape torch.Size([1, 1, 15])\n",
            "torch.Size([30, 3]) torch.Size([30, 15]) torch.Size([1, 3])\n",
            "num_axes = 11, explains 0.9937482426669425 variance\n"
          ]
        },
        {
          "name": "stdout",
          "output_type": "stream",
          "text": [
            "self.axes_learned.shape torch.Size([11, 15])\n",
            "untransformed_posterior.rsample().shape torch.Size([1, 1, 15])\n",
            "self.axes_learned.shape torch.Size([11, 15])\n",
            "untransformed_posterior.rsample().shape torch.Size([1, 1, 15])\n",
            "torch.Size([30, 3]) torch.Size([30, 15]) torch.Size([1, 3])\n",
            "num_axes = 11, explains 0.9938682969612581 variance\n"
          ]
        },
        {
          "name": "stdout",
          "output_type": "stream",
          "text": [
            "self.axes_learned.shape torch.Size([11, 15])\n",
            "untransformed_posterior.rsample().shape torch.Size([1, 1, 15])\n",
            "self.axes_learned.shape torch.Size([11, 15])\n",
            "untransformed_posterior.rsample().shape torch.Size([1, 1, 15])\n",
            "loocv round 20\n",
            "torch.Size([30, 3]) torch.Size([30, 15]) torch.Size([1, 3])\n",
            "num_axes = 11, explains 0.9938038428518137 variance\n"
          ]
        },
        {
          "name": "stdout",
          "output_type": "stream",
          "text": [
            "self.axes_learned.shape torch.Size([11, 15])\n",
            "untransformed_posterior.rsample().shape torch.Size([1, 1, 15])\n",
            "self.axes_learned.shape torch.Size([11, 15])\n",
            "untransformed_posterior.rsample().shape torch.Size([1, 1, 15])\n",
            "torch.Size([30, 3]) torch.Size([30, 15]) torch.Size([1, 3])\n",
            "num_axes = 11, explains 0.9939107914517492 variance\n"
          ]
        },
        {
          "name": "stdout",
          "output_type": "stream",
          "text": [
            "self.axes_learned.shape torch.Size([11, 15])\n",
            "untransformed_posterior.rsample().shape torch.Size([1, 1, 15])\n",
            "self.axes_learned.shape torch.Size([11, 15])\n",
            "untransformed_posterior.rsample().shape torch.Size([1, 1, 15])\n",
            "torch.Size([30, 3]) torch.Size([30, 15]) torch.Size([1, 3])\n",
            "num_axes = 11, explains 0.9938477084401477 variance\n"
          ]
        },
        {
          "name": "stdout",
          "output_type": "stream",
          "text": [
            "self.axes_learned.shape torch.Size([11, 15])\n",
            "untransformed_posterior.rsample().shape torch.Size([1, 1, 15])\n",
            "self.axes_learned.shape torch.Size([11, 15])\n",
            "untransformed_posterior.rsample().shape torch.Size([1, 1, 15])\n",
            "torch.Size([30, 3]) torch.Size([30, 15]) torch.Size([1, 3])\n",
            "num_axes = 11, explains 0.9936459380452405 variance\n"
          ]
        },
        {
          "name": "stdout",
          "output_type": "stream",
          "text": [
            "self.axes_learned.shape torch.Size([11, 15])\n",
            "untransformed_posterior.rsample().shape torch.Size([1, 1, 15])\n",
            "self.axes_learned.shape torch.Size([11, 15])\n",
            "untransformed_posterior.rsample().shape torch.Size([1, 1, 15])\n",
            "torch.Size([30, 3]) torch.Size([30, 15]) torch.Size([1, 3])\n",
            "num_axes = 11, explains 0.9944012892588773 variance\n"
          ]
        },
        {
          "name": "stdout",
          "output_type": "stream",
          "text": [
            "self.axes_learned.shape torch.Size([11, 15])\n",
            "untransformed_posterior.rsample().shape torch.Size([1, 1, 15])\n",
            "self.axes_learned.shape torch.Size([11, 15])\n",
            "untransformed_posterior.rsample().shape torch.Size([1, 1, 15])\n",
            "loocv round 25\n",
            "torch.Size([30, 3]) torch.Size([30, 15]) torch.Size([1, 3])\n",
            "num_axes = 11, explains 0.9936119763071568 variance\n"
          ]
        },
        {
          "name": "stdout",
          "output_type": "stream",
          "text": [
            "self.axes_learned.shape torch.Size([11, 15])\n",
            "untransformed_posterior.rsample().shape torch.Size([1, 1, 15])\n",
            "self.axes_learned.shape torch.Size([11, 15])\n",
            "untransformed_posterior.rsample().shape torch.Size([1, 1, 15])\n",
            "torch.Size([30, 3]) torch.Size([30, 15]) torch.Size([1, 3])\n",
            "num_axes = 11, explains 0.9938606640945775 variance\n"
          ]
        },
        {
          "name": "stdout",
          "output_type": "stream",
          "text": [
            "self.axes_learned.shape torch.Size([11, 15])\n",
            "untransformed_posterior.rsample().shape torch.Size([1, 1, 15])\n",
            "self.axes_learned.shape torch.Size([11, 15])\n",
            "untransformed_posterior.rsample().shape torch.Size([1, 1, 15])\n",
            "torch.Size([30, 3]) torch.Size([30, 15]) torch.Size([1, 3])\n",
            "num_axes = 11, explains 0.9938023111207678 variance\n"
          ]
        },
        {
          "name": "stdout",
          "output_type": "stream",
          "text": [
            "self.axes_learned.shape torch.Size([11, 15])\n",
            "untransformed_posterior.rsample().shape torch.Size([1, 1, 15])\n",
            "self.axes_learned.shape torch.Size([11, 15])\n",
            "untransformed_posterior.rsample().shape torch.Size([1, 1, 15])\n",
            "torch.Size([30, 3]) torch.Size([30, 15]) torch.Size([1, 3])\n",
            "num_axes = 11, explains 0.9939125067604726 variance\n"
          ]
        },
        {
          "name": "stdout",
          "output_type": "stream",
          "text": [
            "self.axes_learned.shape torch.Size([11, 15])\n",
            "untransformed_posterior.rsample().shape torch.Size([1, 1, 15])\n",
            "self.axes_learned.shape torch.Size([11, 15])\n",
            "untransformed_posterior.rsample().shape torch.Size([1, 1, 15])\n",
            "torch.Size([30, 3]) torch.Size([30, 15]) torch.Size([1, 3])\n",
            "num_axes = 11, explains 0.9937672888964417 variance\n"
          ]
        },
        {
          "name": "stdout",
          "output_type": "stream",
          "text": [
            "self.axes_learned.shape torch.Size([11, 15])\n",
            "untransformed_posterior.rsample().shape torch.Size([1, 1, 15])\n",
            "self.axes_learned.shape torch.Size([11, 15])\n",
            "untransformed_posterior.rsample().shape torch.Size([1, 1, 15])\n",
            "loocv round 30\n",
            "torch.Size([30, 3]) torch.Size([30, 15]) torch.Size([1, 3])\n",
            "num_axes = 11, explains 0.9937777111463324 variance\n"
          ]
        },
        {
          "name": "stdout",
          "output_type": "stream",
          "text": [
            "self.axes_learned.shape torch.Size([11, 15])\n",
            "untransformed_posterior.rsample().shape torch.Size([1, 1, 15])\n",
            "self.axes_learned.shape torch.Size([11, 15])\n",
            "untransformed_posterior.rsample().shape torch.Size([1, 1, 15])\n",
            "loocv_outcome_mean.shape, Y.shape torch.Size([31, 15]) torch.Size([31, 15])\n",
            "torch.mean(torch.square(loocv_outcome_mean - Y)) tensor(2.8088, dtype=torch.float64, grad_fn=<MeanBackward0>)\n",
            "PCA transform with 12 principal axes\n",
            "Full input data shape torch.Size([31, 3]), output data shape torch.Size([31, 15])\n",
            "loocv round 0\n",
            "torch.Size([30, 3]) torch.Size([30, 15]) torch.Size([1, 3])\n",
            "num_axes = 12, explains 0.9970263731206231 variance\n"
          ]
        },
        {
          "name": "stdout",
          "output_type": "stream",
          "text": [
            "self.axes_learned.shape torch.Size([12, 15])\n",
            "untransformed_posterior.rsample().shape torch.Size([1, 1, 15])\n",
            "self.axes_learned.shape torch.Size([12, 15])\n",
            "untransformed_posterior.rsample().shape torch.Size([1, 1, 15])\n",
            "torch.Size([30, 3]) torch.Size([30, 15]) torch.Size([1, 3])\n",
            "num_axes = 12, explains 0.9969193287070861 variance\n"
          ]
        },
        {
          "name": "stdout",
          "output_type": "stream",
          "text": [
            "self.axes_learned.shape torch.Size([12, 15])\n",
            "untransformed_posterior.rsample().shape torch.Size([1, 1, 15])\n",
            "self.axes_learned.shape torch.Size([12, 15])\n",
            "untransformed_posterior.rsample().shape torch.Size([1, 1, 15])\n",
            "torch.Size([30, 3]) torch.Size([30, 15]) torch.Size([1, 3])\n",
            "num_axes = 12, explains 0.9970233577640866 variance\n"
          ]
        },
        {
          "name": "stdout",
          "output_type": "stream",
          "text": [
            "self.axes_learned.shape torch.Size([12, 15])\n",
            "untransformed_posterior.rsample().shape torch.Size([1, 1, 15])\n",
            "self.axes_learned.shape torch.Size([12, 15])\n",
            "untransformed_posterior.rsample().shape torch.Size([1, 1, 15])\n",
            "torch.Size([30, 3]) torch.Size([30, 15]) torch.Size([1, 3])\n",
            "num_axes = 12, explains 0.9971432100637734 variance\n"
          ]
        },
        {
          "name": "stdout",
          "output_type": "stream",
          "text": [
            "self.axes_learned.shape torch.Size([12, 15])\n",
            "untransformed_posterior.rsample().shape torch.Size([1, 1, 15])\n",
            "self.axes_learned.shape torch.Size([12, 15])\n",
            "untransformed_posterior.rsample().shape torch.Size([1, 1, 15])\n",
            "torch.Size([30, 3]) torch.Size([30, 15]) torch.Size([1, 3])\n",
            "num_axes = 12, explains 0.9970533560973187 variance\n"
          ]
        },
        {
          "name": "stdout",
          "output_type": "stream",
          "text": [
            "self.axes_learned.shape torch.Size([12, 15])\n",
            "untransformed_posterior.rsample().shape torch.Size([1, 1, 15])\n",
            "self.axes_learned.shape torch.Size([12, 15])\n",
            "untransformed_posterior.rsample().shape torch.Size([1, 1, 15])\n",
            "loocv round 5\n",
            "torch.Size([30, 3]) torch.Size([30, 15]) torch.Size([1, 3])\n",
            "num_axes = 12, explains 0.9970292792297664 variance\n"
          ]
        },
        {
          "name": "stdout",
          "output_type": "stream",
          "text": [
            "self.axes_learned.shape torch.Size([12, 15])\n",
            "untransformed_posterior.rsample().shape torch.Size([1, 1, 15])\n",
            "self.axes_learned.shape torch.Size([12, 15])\n",
            "untransformed_posterior.rsample().shape torch.Size([1, 1, 15])\n",
            "torch.Size([30, 3]) torch.Size([30, 15]) torch.Size([1, 3])\n",
            "num_axes = 12, explains 0.9967644264453476 variance\n"
          ]
        },
        {
          "name": "stdout",
          "output_type": "stream",
          "text": [
            "self.axes_learned.shape torch.Size([12, 15])\n",
            "untransformed_posterior.rsample().shape torch.Size([1, 1, 15])\n",
            "self.axes_learned.shape torch.Size([12, 15])\n",
            "untransformed_posterior.rsample().shape torch.Size([1, 1, 15])\n",
            "torch.Size([30, 3]) torch.Size([30, 15]) torch.Size([1, 3])\n",
            "num_axes = 12, explains 0.997159317231361 variance\n"
          ]
        },
        {
          "name": "stdout",
          "output_type": "stream",
          "text": [
            "self.axes_learned.shape torch.Size([12, 15])\n",
            "untransformed_posterior.rsample().shape torch.Size([1, 1, 15])\n",
            "self.axes_learned.shape torch.Size([12, 15])\n",
            "untransformed_posterior.rsample().shape torch.Size([1, 1, 15])\n",
            "torch.Size([30, 3]) torch.Size([30, 15]) torch.Size([1, 3])\n",
            "num_axes = 12, explains 0.9972959804745816 variance\n"
          ]
        },
        {
          "name": "stdout",
          "output_type": "stream",
          "text": [
            "self.axes_learned.shape torch.Size([12, 15])\n",
            "untransformed_posterior.rsample().shape torch.Size([1, 1, 15])\n",
            "self.axes_learned.shape torch.Size([12, 15])\n",
            "untransformed_posterior.rsample().shape torch.Size([1, 1, 15])\n",
            "torch.Size([30, 3]) torch.Size([30, 15]) torch.Size([1, 3])\n",
            "num_axes = 12, explains 0.9969749530308739 variance\n"
          ]
        },
        {
          "name": "stdout",
          "output_type": "stream",
          "text": [
            "self.axes_learned.shape torch.Size([12, 15])\n",
            "untransformed_posterior.rsample().shape torch.Size([1, 1, 15])\n",
            "self.axes_learned.shape torch.Size([12, 15])\n",
            "untransformed_posterior.rsample().shape torch.Size([1, 1, 15])\n",
            "loocv round 10\n",
            "torch.Size([30, 3]) torch.Size([30, 15]) torch.Size([1, 3])\n",
            "num_axes = 12, explains 0.9969521233951969 variance\n"
          ]
        },
        {
          "name": "stdout",
          "output_type": "stream",
          "text": [
            "self.axes_learned.shape torch.Size([12, 15])\n",
            "untransformed_posterior.rsample().shape torch.Size([1, 1, 15])\n",
            "self.axes_learned.shape torch.Size([12, 15])\n",
            "untransformed_posterior.rsample().shape torch.Size([1, 1, 15])\n",
            "torch.Size([30, 3]) torch.Size([30, 15]) torch.Size([1, 3])\n",
            "num_axes = 12, explains 0.9971848171390127 variance\n"
          ]
        },
        {
          "name": "stdout",
          "output_type": "stream",
          "text": [
            "self.axes_learned.shape torch.Size([12, 15])\n",
            "untransformed_posterior.rsample().shape torch.Size([1, 1, 15])\n",
            "self.axes_learned.shape torch.Size([12, 15])\n",
            "untransformed_posterior.rsample().shape torch.Size([1, 1, 15])\n",
            "torch.Size([30, 3]) torch.Size([30, 15]) torch.Size([1, 3])\n",
            "num_axes = 12, explains 0.9967816765734703 variance\n"
          ]
        },
        {
          "name": "stdout",
          "output_type": "stream",
          "text": [
            "self.axes_learned.shape torch.Size([12, 15])\n",
            "untransformed_posterior.rsample().shape torch.Size([1, 1, 15])\n",
            "self.axes_learned.shape torch.Size([12, 15])\n",
            "untransformed_posterior.rsample().shape torch.Size([1, 1, 15])\n",
            "torch.Size([30, 3]) torch.Size([30, 15]) torch.Size([1, 3])\n",
            "num_axes = 12, explains 0.9970197393802895 variance\n"
          ]
        },
        {
          "name": "stdout",
          "output_type": "stream",
          "text": [
            "self.axes_learned.shape torch.Size([12, 15])\n",
            "untransformed_posterior.rsample().shape torch.Size([1, 1, 15])\n",
            "self.axes_learned.shape torch.Size([12, 15])\n",
            "untransformed_posterior.rsample().shape torch.Size([1, 1, 15])\n",
            "torch.Size([30, 3]) torch.Size([30, 15]) torch.Size([1, 3])\n",
            "num_axes = 12, explains 0.9972267677572617 variance\n"
          ]
        },
        {
          "name": "stdout",
          "output_type": "stream",
          "text": [
            "self.axes_learned.shape torch.Size([12, 15])\n",
            "untransformed_posterior.rsample().shape torch.Size([1, 1, 15])\n",
            "self.axes_learned.shape torch.Size([12, 15])\n",
            "untransformed_posterior.rsample().shape torch.Size([1, 1, 15])\n",
            "loocv round 15\n",
            "torch.Size([30, 3]) torch.Size([30, 15]) torch.Size([1, 3])\n",
            "num_axes = 12, explains 0.9967545024552081 variance\n"
          ]
        },
        {
          "name": "stdout",
          "output_type": "stream",
          "text": [
            "self.axes_learned.shape torch.Size([12, 15])\n",
            "untransformed_posterior.rsample().shape torch.Size([1, 1, 15])\n",
            "self.axes_learned.shape torch.Size([12, 15])\n",
            "untransformed_posterior.rsample().shape torch.Size([1, 1, 15])\n",
            "torch.Size([30, 3]) torch.Size([30, 15]) torch.Size([1, 3])\n",
            "num_axes = 12, explains 0.9969682402055065 variance\n"
          ]
        },
        {
          "name": "stdout",
          "output_type": "stream",
          "text": [
            "self.axes_learned.shape torch.Size([12, 15])\n",
            "untransformed_posterior.rsample().shape torch.Size([1, 1, 15])\n",
            "self.axes_learned.shape torch.Size([12, 15])\n",
            "untransformed_posterior.rsample().shape torch.Size([1, 1, 15])\n",
            "torch.Size([30, 3]) torch.Size([30, 15]) torch.Size([1, 3])\n",
            "num_axes = 12, explains 0.9969955446492315 variance\n"
          ]
        },
        {
          "name": "stdout",
          "output_type": "stream",
          "text": [
            "self.axes_learned.shape torch.Size([12, 15])\n",
            "untransformed_posterior.rsample().shape torch.Size([1, 1, 15])\n",
            "self.axes_learned.shape torch.Size([12, 15])\n",
            "untransformed_posterior.rsample().shape torch.Size([1, 1, 15])\n",
            "torch.Size([30, 3]) torch.Size([30, 15]) torch.Size([1, 3])\n",
            "num_axes = 12, explains 0.9972180073398234 variance\n"
          ]
        },
        {
          "name": "stdout",
          "output_type": "stream",
          "text": [
            "self.axes_learned.shape torch.Size([12, 15])\n",
            "untransformed_posterior.rsample().shape torch.Size([1, 1, 15])\n",
            "self.axes_learned.shape torch.Size([12, 15])\n",
            "untransformed_posterior.rsample().shape torch.Size([1, 1, 15])\n",
            "torch.Size([30, 3]) torch.Size([30, 15]) torch.Size([1, 3])\n",
            "num_axes = 12, explains 0.9971274853428812 variance\n"
          ]
        },
        {
          "name": "stdout",
          "output_type": "stream",
          "text": [
            "self.axes_learned.shape torch.Size([12, 15])\n",
            "untransformed_posterior.rsample().shape torch.Size([1, 1, 15])\n",
            "self.axes_learned.shape torch.Size([12, 15])\n",
            "untransformed_posterior.rsample().shape torch.Size([1, 1, 15])\n",
            "loocv round 20\n",
            "torch.Size([30, 3]) torch.Size([30, 15]) torch.Size([1, 3])\n",
            "num_axes = 12, explains 0.997020671040229 variance\n"
          ]
        },
        {
          "name": "stdout",
          "output_type": "stream",
          "text": [
            "self.axes_learned.shape torch.Size([12, 15])\n",
            "untransformed_posterior.rsample().shape torch.Size([1, 1, 15])\n",
            "self.axes_learned.shape torch.Size([12, 15])\n",
            "untransformed_posterior.rsample().shape torch.Size([1, 1, 15])\n",
            "torch.Size([30, 3]) torch.Size([30, 15]) torch.Size([1, 3])\n",
            "num_axes = 12, explains 0.9973033987872068 variance\n"
          ]
        },
        {
          "name": "stdout",
          "output_type": "stream",
          "text": [
            "self.axes_learned.shape torch.Size([12, 15])\n",
            "untransformed_posterior.rsample().shape torch.Size([1, 1, 15])\n",
            "self.axes_learned.shape torch.Size([12, 15])\n",
            "untransformed_posterior.rsample().shape torch.Size([1, 1, 15])\n",
            "torch.Size([30, 3]) torch.Size([30, 15]) torch.Size([1, 3])\n",
            "num_axes = 12, explains 0.996882293667058 variance\n"
          ]
        },
        {
          "name": "stdout",
          "output_type": "stream",
          "text": [
            "self.axes_learned.shape torch.Size([12, 15])\n",
            "untransformed_posterior.rsample().shape torch.Size([1, 1, 15])\n",
            "self.axes_learned.shape torch.Size([12, 15])\n",
            "untransformed_posterior.rsample().shape torch.Size([1, 1, 15])\n",
            "torch.Size([30, 3]) torch.Size([30, 15]) torch.Size([1, 3])\n",
            "num_axes = 12, explains 0.9970259081402691 variance\n"
          ]
        },
        {
          "name": "stdout",
          "output_type": "stream",
          "text": [
            "self.axes_learned.shape torch.Size([12, 15])\n",
            "untransformed_posterior.rsample().shape torch.Size([1, 1, 15])\n",
            "self.axes_learned.shape torch.Size([12, 15])\n",
            "untransformed_posterior.rsample().shape torch.Size([1, 1, 15])\n",
            "torch.Size([30, 3]) torch.Size([30, 15]) torch.Size([1, 3])\n",
            "num_axes = 12, explains 0.996898409713051 variance\n"
          ]
        },
        {
          "name": "stdout",
          "output_type": "stream",
          "text": [
            "self.axes_learned.shape torch.Size([12, 15])\n",
            "untransformed_posterior.rsample().shape torch.Size([1, 1, 15])\n",
            "self.axes_learned.shape torch.Size([12, 15])\n",
            "untransformed_posterior.rsample().shape torch.Size([1, 1, 15])\n",
            "loocv round 25\n",
            "torch.Size([30, 3]) torch.Size([30, 15]) torch.Size([1, 3])\n",
            "num_axes = 12, explains 0.9971051112632477 variance\n"
          ]
        },
        {
          "name": "stdout",
          "output_type": "stream",
          "text": [
            "self.axes_learned.shape torch.Size([12, 15])\n",
            "untransformed_posterior.rsample().shape torch.Size([1, 1, 15])\n",
            "self.axes_learned.shape torch.Size([12, 15])\n",
            "untransformed_posterior.rsample().shape torch.Size([1, 1, 15])\n",
            "torch.Size([30, 3]) torch.Size([30, 15]) torch.Size([1, 3])\n",
            "num_axes = 12, explains 0.9971986376624051 variance\n"
          ]
        },
        {
          "name": "stdout",
          "output_type": "stream",
          "text": [
            "self.axes_learned.shape torch.Size([12, 15])\n",
            "untransformed_posterior.rsample().shape torch.Size([1, 1, 15])\n",
            "self.axes_learned.shape torch.Size([12, 15])\n",
            "untransformed_posterior.rsample().shape torch.Size([1, 1, 15])\n",
            "torch.Size([30, 3]) torch.Size([30, 15]) torch.Size([1, 3])\n",
            "num_axes = 12, explains 0.9971656913259833 variance\n"
          ]
        },
        {
          "name": "stdout",
          "output_type": "stream",
          "text": [
            "self.axes_learned.shape torch.Size([12, 15])\n",
            "untransformed_posterior.rsample().shape torch.Size([1, 1, 15])\n",
            "self.axes_learned.shape torch.Size([12, 15])\n",
            "untransformed_posterior.rsample().shape torch.Size([1, 1, 15])\n",
            "torch.Size([30, 3]) torch.Size([30, 15]) torch.Size([1, 3])\n",
            "num_axes = 12, explains 0.9971464710336788 variance\n"
          ]
        },
        {
          "name": "stdout",
          "output_type": "stream",
          "text": [
            "self.axes_learned.shape torch.Size([12, 15])\n",
            "untransformed_posterior.rsample().shape torch.Size([1, 1, 15])\n",
            "self.axes_learned.shape torch.Size([12, 15])\n",
            "untransformed_posterior.rsample().shape torch.Size([1, 1, 15])\n",
            "torch.Size([30, 3]) torch.Size([30, 15]) torch.Size([1, 3])\n",
            "num_axes = 12, explains 0.997145094548474 variance\n"
          ]
        },
        {
          "name": "stdout",
          "output_type": "stream",
          "text": [
            "self.axes_learned.shape torch.Size([12, 15])\n",
            "untransformed_posterior.rsample().shape torch.Size([1, 1, 15])\n",
            "self.axes_learned.shape torch.Size([12, 15])\n",
            "untransformed_posterior.rsample().shape torch.Size([1, 1, 15])\n",
            "loocv round 30\n",
            "torch.Size([30, 3]) torch.Size([30, 15]) torch.Size([1, 3])\n",
            "num_axes = 12, explains 0.9970778940692454 variance\n"
          ]
        },
        {
          "name": "stdout",
          "output_type": "stream",
          "text": [
            "self.axes_learned.shape torch.Size([12, 15])\n",
            "untransformed_posterior.rsample().shape torch.Size([1, 1, 15])\n",
            "self.axes_learned.shape torch.Size([12, 15])\n",
            "untransformed_posterior.rsample().shape torch.Size([1, 1, 15])\n",
            "loocv_outcome_mean.shape, Y.shape torch.Size([31, 15]) torch.Size([31, 15])\n",
            "torch.mean(torch.square(loocv_outcome_mean - Y)) tensor(2.8113, dtype=torch.float64, grad_fn=<MeanBackward0>)\n",
            "PCA transform with 13 principal axes\n",
            "Full input data shape torch.Size([31, 3]), output data shape torch.Size([31, 15])\n",
            "loocv round 0\n",
            "torch.Size([30, 3]) torch.Size([30, 15]) torch.Size([1, 3])\n",
            "num_axes = 13, explains 0.9986615473125688 variance\n"
          ]
        },
        {
          "name": "stdout",
          "output_type": "stream",
          "text": [
            "self.axes_learned.shape torch.Size([13, 15])\n",
            "untransformed_posterior.rsample().shape torch.Size([1, 1, 15])\n",
            "self.axes_learned.shape torch.Size([13, 15])\n",
            "untransformed_posterior.rsample().shape torch.Size([1, 1, 15])\n",
            "torch.Size([30, 3]) torch.Size([30, 15]) torch.Size([1, 3])\n",
            "num_axes = 13, explains 0.9986738537655983 variance\n"
          ]
        },
        {
          "name": "stdout",
          "output_type": "stream",
          "text": [
            "self.axes_learned.shape torch.Size([13, 15])\n",
            "untransformed_posterior.rsample().shape torch.Size([1, 1, 15])\n",
            "self.axes_learned.shape torch.Size([13, 15])\n",
            "untransformed_posterior.rsample().shape torch.Size([1, 1, 15])\n",
            "torch.Size([30, 3]) torch.Size([30, 15]) torch.Size([1, 3])\n",
            "num_axes = 13, explains 0.9987267407050657 variance\n"
          ]
        },
        {
          "name": "stdout",
          "output_type": "stream",
          "text": [
            "self.axes_learned.shape torch.Size([13, 15])\n",
            "untransformed_posterior.rsample().shape torch.Size([1, 1, 15])\n",
            "self.axes_learned.shape torch.Size([13, 15])\n",
            "untransformed_posterior.rsample().shape torch.Size([1, 1, 15])\n",
            "torch.Size([30, 3]) torch.Size([30, 15]) torch.Size([1, 3])\n",
            "num_axes = 13, explains 0.9987178208471446 variance\n"
          ]
        },
        {
          "name": "stdout",
          "output_type": "stream",
          "text": [
            "self.axes_learned.shape torch.Size([13, 15])\n",
            "untransformed_posterior.rsample().shape torch.Size([1, 1, 15])\n",
            "self.axes_learned.shape torch.Size([13, 15])\n",
            "untransformed_posterior.rsample().shape torch.Size([1, 1, 15])\n",
            "torch.Size([30, 3]) torch.Size([30, 15]) torch.Size([1, 3])\n",
            "num_axes = 13, explains 0.9987148615050565 variance\n"
          ]
        },
        {
          "name": "stdout",
          "output_type": "stream",
          "text": [
            "self.axes_learned.shape torch.Size([13, 15])\n",
            "untransformed_posterior.rsample().shape torch.Size([1, 1, 15])\n",
            "self.axes_learned.shape torch.Size([13, 15])\n",
            "untransformed_posterior.rsample().shape torch.Size([1, 1, 15])\n",
            "loocv round 5\n",
            "torch.Size([30, 3]) torch.Size([30, 15]) torch.Size([1, 3])\n",
            "num_axes = 13, explains 0.9988012505208164 variance\n"
          ]
        },
        {
          "name": "stdout",
          "output_type": "stream",
          "text": [
            "self.axes_learned.shape torch.Size([13, 15])\n",
            "untransformed_posterior.rsample().shape torch.Size([1, 1, 15])\n",
            "self.axes_learned.shape torch.Size([13, 15])\n",
            "untransformed_posterior.rsample().shape torch.Size([1, 1, 15])\n",
            "torch.Size([30, 3]) torch.Size([30, 15]) torch.Size([1, 3])\n",
            "num_axes = 13, explains 0.9986201321770655 variance\n"
          ]
        },
        {
          "name": "stdout",
          "output_type": "stream",
          "text": [
            "self.axes_learned.shape torch.Size([13, 15])\n",
            "untransformed_posterior.rsample().shape torch.Size([1, 1, 15])\n",
            "self.axes_learned.shape torch.Size([13, 15])\n",
            "untransformed_posterior.rsample().shape torch.Size([1, 1, 15])\n",
            "torch.Size([30, 3]) torch.Size([30, 15]) torch.Size([1, 3])\n",
            "num_axes = 13, explains 0.9990047280231625 variance\n"
          ]
        },
        {
          "name": "stdout",
          "output_type": "stream",
          "text": [
            "self.axes_learned.shape torch.Size([13, 15])\n",
            "untransformed_posterior.rsample().shape torch.Size([1, 1, 15])\n",
            "self.axes_learned.shape torch.Size([13, 15])\n",
            "untransformed_posterior.rsample().shape torch.Size([1, 1, 15])\n",
            "torch.Size([30, 3]) torch.Size([30, 15]) torch.Size([1, 3])\n",
            "num_axes = 13, explains 0.9988111161525882 variance\n"
          ]
        },
        {
          "name": "stdout",
          "output_type": "stream",
          "text": [
            "self.axes_learned.shape torch.Size([13, 15])\n",
            "untransformed_posterior.rsample().shape torch.Size([1, 1, 15])\n",
            "self.axes_learned.shape torch.Size([13, 15])\n",
            "untransformed_posterior.rsample().shape torch.Size([1, 1, 15])\n",
            "torch.Size([30, 3]) torch.Size([30, 15]) torch.Size([1, 3])\n",
            "num_axes = 13, explains 0.9987529651531823 variance\n"
          ]
        },
        {
          "name": "stdout",
          "output_type": "stream",
          "text": [
            "self.axes_learned.shape torch.Size([13, 15])\n",
            "untransformed_posterior.rsample().shape torch.Size([1, 1, 15])\n",
            "self.axes_learned.shape torch.Size([13, 15])\n",
            "untransformed_posterior.rsample().shape torch.Size([1, 1, 15])\n",
            "loocv round 10\n",
            "torch.Size([30, 3]) torch.Size([30, 15]) torch.Size([1, 3])\n",
            "num_axes = 13, explains 0.9987156756878321 variance\n"
          ]
        },
        {
          "name": "stdout",
          "output_type": "stream",
          "text": [
            "self.axes_learned.shape torch.Size([13, 15])\n",
            "untransformed_posterior.rsample().shape torch.Size([1, 1, 15])\n",
            "self.axes_learned.shape torch.Size([13, 15])\n",
            "untransformed_posterior.rsample().shape torch.Size([1, 1, 15])\n",
            "torch.Size([30, 3]) torch.Size([30, 15]) torch.Size([1, 3])\n",
            "num_axes = 13, explains 0.9989516426507958 variance\n"
          ]
        },
        {
          "name": "stdout",
          "output_type": "stream",
          "text": [
            "self.axes_learned.shape torch.Size([13, 15])\n",
            "untransformed_posterior.rsample().shape torch.Size([1, 1, 15])\n",
            "self.axes_learned.shape torch.Size([13, 15])\n",
            "untransformed_posterior.rsample().shape torch.Size([1, 1, 15])\n",
            "torch.Size([30, 3]) torch.Size([30, 15]) torch.Size([1, 3])\n",
            "num_axes = 13, explains 0.9986616624555767 variance\n"
          ]
        },
        {
          "name": "stdout",
          "output_type": "stream",
          "text": [
            "self.axes_learned.shape torch.Size([13, 15])\n",
            "untransformed_posterior.rsample().shape torch.Size([1, 1, 15])\n",
            "self.axes_learned.shape torch.Size([13, 15])\n",
            "untransformed_posterior.rsample().shape torch.Size([1, 1, 15])\n",
            "torch.Size([30, 3]) torch.Size([30, 15]) torch.Size([1, 3])\n",
            "num_axes = 13, explains 0.998718471002873 variance\n"
          ]
        },
        {
          "name": "stdout",
          "output_type": "stream",
          "text": [
            "self.axes_learned.shape torch.Size([13, 15])\n",
            "untransformed_posterior.rsample().shape torch.Size([1, 1, 15])\n",
            "self.axes_learned.shape torch.Size([13, 15])\n",
            "untransformed_posterior.rsample().shape torch.Size([1, 1, 15])\n",
            "torch.Size([30, 3]) torch.Size([30, 15]) torch.Size([1, 3])\n",
            "num_axes = 13, explains 0.9987993704223505 variance\n"
          ]
        },
        {
          "name": "stdout",
          "output_type": "stream",
          "text": [
            "self.axes_learned.shape torch.Size([13, 15])\n",
            "untransformed_posterior.rsample().shape torch.Size([1, 1, 15])\n",
            "self.axes_learned.shape torch.Size([13, 15])\n",
            "untransformed_posterior.rsample().shape torch.Size([1, 1, 15])\n",
            "loocv round 15\n",
            "torch.Size([30, 3]) torch.Size([30, 15]) torch.Size([1, 3])\n",
            "num_axes = 13, explains 0.9986099894935314 variance\n"
          ]
        },
        {
          "name": "stdout",
          "output_type": "stream",
          "text": [
            "self.axes_learned.shape torch.Size([13, 15])\n",
            "untransformed_posterior.rsample().shape torch.Size([1, 1, 15])\n",
            "self.axes_learned.shape torch.Size([13, 15])\n",
            "untransformed_posterior.rsample().shape torch.Size([1, 1, 15])\n",
            "torch.Size([30, 3]) torch.Size([30, 15]) torch.Size([1, 3])\n",
            "num_axes = 13, explains 0.9985909385679574 variance\n"
          ]
        },
        {
          "name": "stdout",
          "output_type": "stream",
          "text": [
            "self.axes_learned.shape torch.Size([13, 15])\n",
            "untransformed_posterior.rsample().shape torch.Size([1, 1, 15])\n",
            "self.axes_learned.shape torch.Size([13, 15])\n",
            "untransformed_posterior.rsample().shape torch.Size([1, 1, 15])\n",
            "torch.Size([30, 3]) torch.Size([30, 15]) torch.Size([1, 3])\n",
            "num_axes = 13, explains 0.9987200962604618 variance\n"
          ]
        },
        {
          "name": "stdout",
          "output_type": "stream",
          "text": [
            "self.axes_learned.shape torch.Size([13, 15])\n",
            "untransformed_posterior.rsample().shape torch.Size([1, 1, 15])\n",
            "self.axes_learned.shape torch.Size([13, 15])\n",
            "untransformed_posterior.rsample().shape torch.Size([1, 1, 15])\n",
            "torch.Size([30, 3]) torch.Size([30, 15]) torch.Size([1, 3])\n",
            "num_axes = 13, explains 0.9987387590967175 variance\n"
          ]
        },
        {
          "name": "stdout",
          "output_type": "stream",
          "text": [
            "self.axes_learned.shape torch.Size([13, 15])\n",
            "untransformed_posterior.rsample().shape torch.Size([1, 1, 15])\n",
            "self.axes_learned.shape torch.Size([13, 15])\n",
            "untransformed_posterior.rsample().shape torch.Size([1, 1, 15])\n",
            "torch.Size([30, 3]) torch.Size([30, 15]) torch.Size([1, 3])\n",
            "num_axes = 13, explains 0.9988837242135671 variance\n"
          ]
        },
        {
          "name": "stdout",
          "output_type": "stream",
          "text": [
            "self.axes_learned.shape torch.Size([13, 15])\n",
            "untransformed_posterior.rsample().shape torch.Size([1, 1, 15])\n",
            "self.axes_learned.shape torch.Size([13, 15])\n",
            "untransformed_posterior.rsample().shape torch.Size([1, 1, 15])\n",
            "loocv round 20\n",
            "torch.Size([30, 3]) torch.Size([30, 15]) torch.Size([1, 3])\n",
            "num_axes = 13, explains 0.9987699924926872 variance\n"
          ]
        },
        {
          "name": "stdout",
          "output_type": "stream",
          "text": [
            "self.axes_learned.shape torch.Size([13, 15])\n",
            "untransformed_posterior.rsample().shape torch.Size([1, 1, 15])\n",
            "self.axes_learned.shape torch.Size([13, 15])\n",
            "untransformed_posterior.rsample().shape torch.Size([1, 1, 15])\n",
            "torch.Size([30, 3]) torch.Size([30, 15]) torch.Size([1, 3])\n",
            "num_axes = 13, explains 0.9987161542023274 variance\n"
          ]
        },
        {
          "name": "stdout",
          "output_type": "stream",
          "text": [
            "self.axes_learned.shape torch.Size([13, 15])\n",
            "untransformed_posterior.rsample().shape torch.Size([1, 1, 15])\n",
            "self.axes_learned.shape torch.Size([13, 15])\n",
            "untransformed_posterior.rsample().shape torch.Size([1, 1, 15])\n",
            "torch.Size([30, 3]) torch.Size([30, 15]) torch.Size([1, 3])\n",
            "num_axes = 13, explains 0.9986179217382254 variance\n"
          ]
        },
        {
          "name": "stdout",
          "output_type": "stream",
          "text": [
            "self.axes_learned.shape torch.Size([13, 15])\n",
            "untransformed_posterior.rsample().shape torch.Size([1, 1, 15])\n",
            "self.axes_learned.shape torch.Size([13, 15])\n",
            "untransformed_posterior.rsample().shape torch.Size([1, 1, 15])\n",
            "torch.Size([30, 3]) torch.Size([30, 15]) torch.Size([1, 3])\n",
            "num_axes = 13, explains 0.9987611300020404 variance\n"
          ]
        },
        {
          "name": "stdout",
          "output_type": "stream",
          "text": [
            "self.axes_learned.shape torch.Size([13, 15])\n",
            "untransformed_posterior.rsample().shape torch.Size([1, 1, 15])\n",
            "self.axes_learned.shape torch.Size([13, 15])\n",
            "untransformed_posterior.rsample().shape torch.Size([1, 1, 15])\n",
            "torch.Size([30, 3]) torch.Size([30, 15]) torch.Size([1, 3])\n",
            "num_axes = 13, explains 0.9987346345419642 variance\n"
          ]
        },
        {
          "name": "stdout",
          "output_type": "stream",
          "text": [
            "self.axes_learned.shape torch.Size([13, 15])\n",
            "untransformed_posterior.rsample().shape torch.Size([1, 1, 15])\n",
            "self.axes_learned.shape torch.Size([13, 15])\n",
            "untransformed_posterior.rsample().shape torch.Size([1, 1, 15])\n",
            "loocv round 25\n",
            "torch.Size([30, 3]) torch.Size([30, 15]) torch.Size([1, 3])\n",
            "num_axes = 13, explains 0.9987140045521906 variance\n"
          ]
        },
        {
          "name": "stdout",
          "output_type": "stream",
          "text": [
            "self.axes_learned.shape torch.Size([13, 15])\n",
            "untransformed_posterior.rsample().shape torch.Size([1, 1, 15])\n",
            "self.axes_learned.shape torch.Size([13, 15])\n",
            "untransformed_posterior.rsample().shape torch.Size([1, 1, 15])\n",
            "torch.Size([30, 3]) torch.Size([30, 15]) torch.Size([1, 3])\n",
            "num_axes = 13, explains 0.9988381241825156 variance\n"
          ]
        },
        {
          "name": "stdout",
          "output_type": "stream",
          "text": [
            "self.axes_learned.shape torch.Size([13, 15])\n",
            "untransformed_posterior.rsample().shape torch.Size([1, 1, 15])\n",
            "self.axes_learned.shape torch.Size([13, 15])\n",
            "untransformed_posterior.rsample().shape torch.Size([1, 1, 15])\n",
            "torch.Size([30, 3]) torch.Size([30, 15]) torch.Size([1, 3])\n",
            "num_axes = 13, explains 0.9988542153297735 variance\n"
          ]
        },
        {
          "name": "stdout",
          "output_type": "stream",
          "text": [
            "self.axes_learned.shape torch.Size([13, 15])\n",
            "untransformed_posterior.rsample().shape torch.Size([1, 1, 15])\n",
            "self.axes_learned.shape torch.Size([13, 15])\n",
            "untransformed_posterior.rsample().shape torch.Size([1, 1, 15])\n",
            "torch.Size([30, 3]) torch.Size([30, 15]) torch.Size([1, 3])\n",
            "num_axes = 13, explains 0.9987484203663504 variance\n"
          ]
        },
        {
          "name": "stdout",
          "output_type": "stream",
          "text": [
            "self.axes_learned.shape torch.Size([13, 15])\n",
            "untransformed_posterior.rsample().shape torch.Size([1, 1, 15])\n",
            "self.axes_learned.shape torch.Size([13, 15])\n",
            "untransformed_posterior.rsample().shape torch.Size([1, 1, 15])\n",
            "torch.Size([30, 3]) torch.Size([30, 15]) torch.Size([1, 3])\n",
            "num_axes = 13, explains 0.9987789578207057 variance\n"
          ]
        },
        {
          "name": "stdout",
          "output_type": "stream",
          "text": [
            "self.axes_learned.shape torch.Size([13, 15])\n",
            "untransformed_posterior.rsample().shape torch.Size([1, 1, 15])\n",
            "self.axes_learned.shape torch.Size([13, 15])\n",
            "untransformed_posterior.rsample().shape torch.Size([1, 1, 15])\n",
            "loocv round 30\n",
            "torch.Size([30, 3]) torch.Size([30, 15]) torch.Size([1, 3])\n",
            "num_axes = 13, explains 0.9987410075060572 variance\n"
          ]
        },
        {
          "name": "stdout",
          "output_type": "stream",
          "text": [
            "self.axes_learned.shape torch.Size([13, 15])\n",
            "untransformed_posterior.rsample().shape torch.Size([1, 1, 15])\n",
            "self.axes_learned.shape torch.Size([13, 15])\n",
            "untransformed_posterior.rsample().shape torch.Size([1, 1, 15])\n",
            "loocv_outcome_mean.shape, Y.shape torch.Size([31, 15]) torch.Size([31, 15])\n",
            "torch.mean(torch.square(loocv_outcome_mean - Y)) tensor(2.8097, dtype=torch.float64, grad_fn=<MeanBackward0>)\n",
            "PCA transform with 14 principal axes\n",
            "Full input data shape torch.Size([31, 3]), output data shape torch.Size([31, 15])\n",
            "loocv round 0\n",
            "torch.Size([30, 3]) torch.Size([30, 15]) torch.Size([1, 3])\n",
            "num_axes = 14, explains 0.9996343994359845 variance\n"
          ]
        },
        {
          "name": "stdout",
          "output_type": "stream",
          "text": [
            "self.axes_learned.shape torch.Size([14, 15])\n",
            "untransformed_posterior.rsample().shape torch.Size([1, 1, 15])\n",
            "self.axes_learned.shape torch.Size([14, 15])\n",
            "untransformed_posterior.rsample().shape torch.Size([1, 1, 15])\n",
            "torch.Size([30, 3]) torch.Size([30, 15]) torch.Size([1, 3])\n",
            "num_axes = 14, explains 0.9996066308002105 variance\n"
          ]
        },
        {
          "name": "stdout",
          "output_type": "stream",
          "text": [
            "self.axes_learned.shape torch.Size([14, 15])\n",
            "untransformed_posterior.rsample().shape torch.Size([1, 1, 15])\n",
            "self.axes_learned.shape torch.Size([14, 15])\n",
            "untransformed_posterior.rsample().shape torch.Size([1, 1, 15])\n",
            "torch.Size([30, 3]) torch.Size([30, 15]) torch.Size([1, 3])\n",
            "num_axes = 14, explains 0.9996257414741674 variance\n"
          ]
        },
        {
          "name": "stdout",
          "output_type": "stream",
          "text": [
            "self.axes_learned.shape torch.Size([14, 15])\n",
            "untransformed_posterior.rsample().shape torch.Size([1, 1, 15])\n",
            "self.axes_learned.shape torch.Size([14, 15])\n",
            "untransformed_posterior.rsample().shape torch.Size([1, 1, 15])\n",
            "torch.Size([30, 3]) torch.Size([30, 15]) torch.Size([1, 3])\n",
            "num_axes = 14, explains 0.9996180436437003 variance\n"
          ]
        },
        {
          "name": "stdout",
          "output_type": "stream",
          "text": [
            "self.axes_learned.shape torch.Size([14, 15])\n",
            "untransformed_posterior.rsample().shape torch.Size([1, 1, 15])\n",
            "self.axes_learned.shape torch.Size([14, 15])\n",
            "untransformed_posterior.rsample().shape torch.Size([1, 1, 15])\n",
            "torch.Size([30, 3]) torch.Size([30, 15]) torch.Size([1, 3])\n",
            "num_axes = 14, explains 0.9996224853116797 variance\n"
          ]
        },
        {
          "name": "stdout",
          "output_type": "stream",
          "text": [
            "self.axes_learned.shape torch.Size([14, 15])\n",
            "untransformed_posterior.rsample().shape torch.Size([1, 1, 15])\n",
            "self.axes_learned.shape torch.Size([14, 15])\n",
            "untransformed_posterior.rsample().shape torch.Size([1, 1, 15])\n",
            "loocv round 5\n",
            "torch.Size([30, 3]) torch.Size([30, 15]) torch.Size([1, 3])\n",
            "num_axes = 14, explains 0.9996671692944307 variance\n"
          ]
        },
        {
          "name": "stdout",
          "output_type": "stream",
          "text": [
            "self.axes_learned.shape torch.Size([14, 15])\n",
            "untransformed_posterior.rsample().shape torch.Size([1, 1, 15])\n",
            "self.axes_learned.shape torch.Size([14, 15])\n",
            "untransformed_posterior.rsample().shape torch.Size([1, 1, 15])\n",
            "torch.Size([30, 3]) torch.Size([30, 15]) torch.Size([1, 3])\n",
            "num_axes = 14, explains 0.999627971073963 variance\n"
          ]
        },
        {
          "name": "stdout",
          "output_type": "stream",
          "text": [
            "self.axes_learned.shape torch.Size([14, 15])\n",
            "untransformed_posterior.rsample().shape torch.Size([1, 1, 15])\n",
            "self.axes_learned.shape torch.Size([14, 15])\n",
            "untransformed_posterior.rsample().shape torch.Size([1, 1, 15])\n",
            "torch.Size([30, 3]) torch.Size([30, 15]) torch.Size([1, 3])\n",
            "num_axes = 14, explains 0.9996726165843305 variance\n"
          ]
        },
        {
          "name": "stdout",
          "output_type": "stream",
          "text": [
            "self.axes_learned.shape torch.Size([14, 15])\n",
            "untransformed_posterior.rsample().shape torch.Size([1, 1, 15])\n",
            "self.axes_learned.shape torch.Size([14, 15])\n",
            "untransformed_posterior.rsample().shape torch.Size([1, 1, 15])\n",
            "torch.Size([30, 3]) torch.Size([30, 15]) torch.Size([1, 3])\n",
            "num_axes = 14, explains 0.9996248227502674 variance\n"
          ]
        },
        {
          "name": "stdout",
          "output_type": "stream",
          "text": [
            "self.axes_learned.shape torch.Size([14, 15])\n",
            "untransformed_posterior.rsample().shape torch.Size([1, 1, 15])\n",
            "self.axes_learned.shape torch.Size([14, 15])\n",
            "untransformed_posterior.rsample().shape torch.Size([1, 1, 15])\n",
            "torch.Size([30, 3]) torch.Size([30, 15]) torch.Size([1, 3])\n",
            "num_axes = 14, explains 0.9996208269942163 variance\n"
          ]
        },
        {
          "name": "stdout",
          "output_type": "stream",
          "text": [
            "self.axes_learned.shape torch.Size([14, 15])\n",
            "untransformed_posterior.rsample().shape torch.Size([1, 1, 15])\n",
            "self.axes_learned.shape torch.Size([14, 15])\n",
            "untransformed_posterior.rsample().shape torch.Size([1, 1, 15])\n",
            "loocv round 10\n",
            "torch.Size([30, 3]) torch.Size([30, 15]) torch.Size([1, 3])\n",
            "num_axes = 14, explains 0.9996194162445745 variance\n"
          ]
        },
        {
          "name": "stdout",
          "output_type": "stream",
          "text": [
            "self.axes_learned.shape torch.Size([14, 15])\n",
            "untransformed_posterior.rsample().shape torch.Size([1, 1, 15])\n",
            "self.axes_learned.shape torch.Size([14, 15])\n",
            "untransformed_posterior.rsample().shape torch.Size([1, 1, 15])\n",
            "torch.Size([30, 3]) torch.Size([30, 15]) torch.Size([1, 3])\n",
            "num_axes = 14, explains 0.9997230256883324 variance\n"
          ]
        },
        {
          "name": "stdout",
          "output_type": "stream",
          "text": [
            "self.axes_learned.shape torch.Size([14, 15])\n",
            "untransformed_posterior.rsample().shape torch.Size([1, 1, 15])\n",
            "self.axes_learned.shape torch.Size([14, 15])\n",
            "untransformed_posterior.rsample().shape torch.Size([1, 1, 15])\n",
            "torch.Size([30, 3]) torch.Size([30, 15]) torch.Size([1, 3])\n",
            "num_axes = 14, explains 0.9996598860658429 variance\n"
          ]
        },
        {
          "name": "stdout",
          "output_type": "stream",
          "text": [
            "self.axes_learned.shape torch.Size([14, 15])\n",
            "untransformed_posterior.rsample().shape torch.Size([1, 1, 15])\n",
            "self.axes_learned.shape torch.Size([14, 15])\n",
            "untransformed_posterior.rsample().shape torch.Size([1, 1, 15])\n",
            "torch.Size([30, 3]) torch.Size([30, 15]) torch.Size([1, 3])\n",
            "num_axes = 14, explains 0.9996237909601237 variance\n"
          ]
        },
        {
          "name": "stdout",
          "output_type": "stream",
          "text": [
            "self.axes_learned.shape torch.Size([14, 15])\n",
            "untransformed_posterior.rsample().shape torch.Size([1, 1, 15])\n",
            "self.axes_learned.shape torch.Size([14, 15])\n",
            "untransformed_posterior.rsample().shape torch.Size([1, 1, 15])\n",
            "torch.Size([30, 3]) torch.Size([30, 15]) torch.Size([1, 3])\n",
            "num_axes = 14, explains 0.9996597198613957 variance\n"
          ]
        },
        {
          "name": "stdout",
          "output_type": "stream",
          "text": [
            "self.axes_learned.shape torch.Size([14, 15])\n",
            "untransformed_posterior.rsample().shape torch.Size([1, 1, 15])\n",
            "self.axes_learned.shape torch.Size([14, 15])\n",
            "untransformed_posterior.rsample().shape torch.Size([1, 1, 15])\n",
            "loocv round 15\n",
            "torch.Size([30, 3]) torch.Size([30, 15]) torch.Size([1, 3])\n",
            "num_axes = 14, explains 0.9996048485007059 variance\n"
          ]
        },
        {
          "name": "stdout",
          "output_type": "stream",
          "text": [
            "self.axes_learned.shape torch.Size([14, 15])\n",
            "untransformed_posterior.rsample().shape torch.Size([1, 1, 15])\n",
            "self.axes_learned.shape torch.Size([14, 15])\n",
            "untransformed_posterior.rsample().shape torch.Size([1, 1, 15])\n",
            "torch.Size([30, 3]) torch.Size([30, 15]) torch.Size([1, 3])\n",
            "num_axes = 14, explains 0.9995572383558474 variance\n"
          ]
        },
        {
          "name": "stdout",
          "output_type": "stream",
          "text": [
            "self.axes_learned.shape torch.Size([14, 15])\n",
            "untransformed_posterior.rsample().shape torch.Size([1, 1, 15])\n",
            "self.axes_learned.shape torch.Size([14, 15])\n",
            "untransformed_posterior.rsample().shape torch.Size([1, 1, 15])\n",
            "torch.Size([30, 3]) torch.Size([30, 15]) torch.Size([1, 3])\n",
            "num_axes = 14, explains 0.9996403154422348 variance\n"
          ]
        },
        {
          "name": "stdout",
          "output_type": "stream",
          "text": [
            "self.axes_learned.shape torch.Size([14, 15])\n",
            "untransformed_posterior.rsample().shape torch.Size([1, 1, 15])\n",
            "self.axes_learned.shape torch.Size([14, 15])\n",
            "untransformed_posterior.rsample().shape torch.Size([1, 1, 15])\n",
            "torch.Size([30, 3]) torch.Size([30, 15]) torch.Size([1, 3])\n",
            "num_axes = 14, explains 0.9996244978771472 variance\n"
          ]
        },
        {
          "name": "stdout",
          "output_type": "stream",
          "text": [
            "self.axes_learned.shape torch.Size([14, 15])\n",
            "untransformed_posterior.rsample().shape torch.Size([1, 1, 15])\n",
            "self.axes_learned.shape torch.Size([14, 15])\n",
            "untransformed_posterior.rsample().shape torch.Size([1, 1, 15])\n",
            "torch.Size([30, 3]) torch.Size([30, 15]) torch.Size([1, 3])\n",
            "num_axes = 14, explains 0.9997783216506922 variance\n"
          ]
        },
        {
          "name": "stdout",
          "output_type": "stream",
          "text": [
            "self.axes_learned.shape torch.Size([14, 15])\n",
            "untransformed_posterior.rsample().shape torch.Size([1, 1, 15])\n",
            "self.axes_learned.shape torch.Size([14, 15])\n",
            "untransformed_posterior.rsample().shape torch.Size([1, 1, 15])\n",
            "loocv round 20\n",
            "torch.Size([30, 3]) torch.Size([30, 15]) torch.Size([1, 3])\n",
            "num_axes = 14, explains 0.9996211712843639 variance\n"
          ]
        },
        {
          "name": "stdout",
          "output_type": "stream",
          "text": [
            "self.axes_learned.shape torch.Size([14, 15])\n",
            "untransformed_posterior.rsample().shape torch.Size([1, 1, 15])\n",
            "self.axes_learned.shape torch.Size([14, 15])\n",
            "untransformed_posterior.rsample().shape torch.Size([1, 1, 15])\n",
            "torch.Size([30, 3]) torch.Size([30, 15]) torch.Size([1, 3])\n",
            "num_axes = 14, explains 0.9996355590923307 variance\n"
          ]
        },
        {
          "name": "stdout",
          "output_type": "stream",
          "text": [
            "self.axes_learned.shape torch.Size([14, 15])\n",
            "untransformed_posterior.rsample().shape torch.Size([1, 1, 15])\n",
            "self.axes_learned.shape torch.Size([14, 15])\n",
            "untransformed_posterior.rsample().shape torch.Size([1, 1, 15])\n",
            "torch.Size([30, 3]) torch.Size([30, 15]) torch.Size([1, 3])\n",
            "num_axes = 14, explains 0.999592217140854 variance\n"
          ]
        },
        {
          "name": "stdout",
          "output_type": "stream",
          "text": [
            "self.axes_learned.shape torch.Size([14, 15])\n",
            "untransformed_posterior.rsample().shape torch.Size([1, 1, 15])\n",
            "self.axes_learned.shape torch.Size([14, 15])\n",
            "untransformed_posterior.rsample().shape torch.Size([1, 1, 15])\n",
            "torch.Size([30, 3]) torch.Size([30, 15]) torch.Size([1, 3])\n",
            "num_axes = 14, explains 0.9996231550544038 variance\n"
          ]
        },
        {
          "name": "stdout",
          "output_type": "stream",
          "text": [
            "self.axes_learned.shape torch.Size([14, 15])\n",
            "untransformed_posterior.rsample().shape torch.Size([1, 1, 15])\n",
            "self.axes_learned.shape torch.Size([14, 15])\n",
            "untransformed_posterior.rsample().shape torch.Size([1, 1, 15])\n",
            "torch.Size([30, 3]) torch.Size([30, 15]) torch.Size([1, 3])\n",
            "num_axes = 14, explains 0.9996084150305619 variance\n"
          ]
        },
        {
          "name": "stdout",
          "output_type": "stream",
          "text": [
            "self.axes_learned.shape torch.Size([14, 15])\n",
            "untransformed_posterior.rsample().shape torch.Size([1, 1, 15])\n",
            "self.axes_learned.shape torch.Size([14, 15])\n",
            "untransformed_posterior.rsample().shape torch.Size([1, 1, 15])\n",
            "loocv round 25\n",
            "torch.Size([30, 3]) torch.Size([30, 15]) torch.Size([1, 3])\n",
            "num_axes = 14, explains 0.9996506619837635 variance\n"
          ]
        },
        {
          "name": "stdout",
          "output_type": "stream",
          "text": [
            "self.axes_learned.shape torch.Size([14, 15])\n",
            "untransformed_posterior.rsample().shape torch.Size([1, 1, 15])\n",
            "self.axes_learned.shape torch.Size([14, 15])\n",
            "untransformed_posterior.rsample().shape torch.Size([1, 1, 15])\n",
            "torch.Size([30, 3]) torch.Size([30, 15]) torch.Size([1, 3])\n",
            "num_axes = 14, explains 0.99965405398018 variance\n"
          ]
        },
        {
          "name": "stdout",
          "output_type": "stream",
          "text": [
            "self.axes_learned.shape torch.Size([14, 15])\n",
            "untransformed_posterior.rsample().shape torch.Size([1, 1, 15])\n",
            "self.axes_learned.shape torch.Size([14, 15])\n",
            "untransformed_posterior.rsample().shape torch.Size([1, 1, 15])\n",
            "torch.Size([30, 3]) torch.Size([30, 15]) torch.Size([1, 3])\n",
            "num_axes = 14, explains 0.9996482476318079 variance\n"
          ]
        },
        {
          "name": "stdout",
          "output_type": "stream",
          "text": [
            "self.axes_learned.shape torch.Size([14, 15])\n",
            "untransformed_posterior.rsample().shape torch.Size([1, 1, 15])\n",
            "self.axes_learned.shape torch.Size([14, 15])\n",
            "untransformed_posterior.rsample().shape torch.Size([1, 1, 15])\n",
            "torch.Size([30, 3]) torch.Size([30, 15]) torch.Size([1, 3])\n",
            "num_axes = 14, explains 0.9996249523937915 variance\n"
          ]
        },
        {
          "name": "stdout",
          "output_type": "stream",
          "text": [
            "self.axes_learned.shape torch.Size([14, 15])\n",
            "untransformed_posterior.rsample().shape torch.Size([1, 1, 15])\n",
            "self.axes_learned.shape torch.Size([14, 15])\n",
            "untransformed_posterior.rsample().shape torch.Size([1, 1, 15])\n",
            "torch.Size([30, 3]) torch.Size([30, 15]) torch.Size([1, 3])\n",
            "num_axes = 14, explains 0.999665688184186 variance\n"
          ]
        },
        {
          "name": "stdout",
          "output_type": "stream",
          "text": [
            "self.axes_learned.shape torch.Size([14, 15])\n",
            "untransformed_posterior.rsample().shape torch.Size([1, 1, 15])\n",
            "self.axes_learned.shape torch.Size([14, 15])\n",
            "untransformed_posterior.rsample().shape torch.Size([1, 1, 15])\n",
            "loocv round 30\n",
            "torch.Size([30, 3]) torch.Size([30, 15]) torch.Size([1, 3])\n",
            "num_axes = 14, explains 0.9996008644848227 variance\n"
          ]
        },
        {
          "name": "stdout",
          "output_type": "stream",
          "text": [
            "self.axes_learned.shape torch.Size([14, 15])\n",
            "untransformed_posterior.rsample().shape torch.Size([1, 1, 15])\n",
            "self.axes_learned.shape torch.Size([14, 15])\n",
            "untransformed_posterior.rsample().shape torch.Size([1, 1, 15])\n",
            "loocv_outcome_mean.shape, Y.shape torch.Size([31, 15]) torch.Size([31, 15])\n",
            "torch.mean(torch.square(loocv_outcome_mean - Y)) tensor(2.7806, dtype=torch.float64, grad_fn=<MeanBackward0>)\n"
          ]
        }
      ],
      "source": [
        "MSE = []\n",
        "explained_vars = []\n",
        "\n",
        "for num_axes in range(2, Y.shape[-1]):\n",
        "\n",
        "    print(f\"PCA transform with {num_axes} principal axes\")\n",
        "\n",
        "    loocv_outcome_mean, loocv_outcome_variance, explained_var, _  = loocv_new(\n",
        "        X,\n",
        "        Y,\n",
        "        SingleTaskGP,\n",
        "        input_transform=InputStandardize(3),\n",
        "        outcome_transform=ChainedOutcomeTransform(\n",
        "            **{\"standardize\": Standardize(Y.shape[-1]), \"pca\": PCAOutcomeTransform(num_axes=num_axes)}\n",
        "        ),\n",
        "        likelihood=GaussianLikelihood(noise_prior=GammaPrior(3, 6), batch_shape=torch.Size([num_axes])), # TODO: change prior\n",
        "    )\n",
        "\n",
        "    print(\"loocv_outcome_mean.shape, Y.shape\", loocv_outcome_mean.shape, Y.shape)\n",
        "    print(\"torch.mean(torch.square(loocv_outcome_mean - Y))\", torch.mean(torch.square(loocv_outcome_mean - Y)))\n",
        "\n",
        "    MSE.append(torch.mean(torch.square(loocv_outcome_mean - Y)).item())\n",
        "\n",
        "    mean_explained_var = np.mean(explained_var)\n",
        "    explained_vars.append(mean_explained_var)"
      ]
    },
    {
      "cell_type": "code",
      "execution_count": 49,
      "metadata": {
        "collapsed": false,
        "customInput": null,
        "customOutput": null,
        "executionStartTime": 1671598217515,
        "executionStopTime": 1671598218020,
        "originalKey": "e8509cc3-bd04-4585-aef9-166f93690bf1",
        "requestMsgId": "e8509cc3-bd04-4585-aef9-166f93690bf1",
        "showInput": true
      },
      "outputs": [
        {
          "data": {
            "text/plain": [
              "([<matplotlib.axis.XTick at 0x7f741d3218e0>,\n",
              "  <matplotlib.axis.XTick at 0x7f741d320d00>,\n",
              "  <matplotlib.axis.XTick at 0x7f741d320880>,\n",
              "  <matplotlib.axis.XTick at 0x7f741d32f640>,\n",
              "  <matplotlib.axis.XTick at 0x7f74200af2b0>,\n",
              "  <matplotlib.axis.XTick at 0x7f74200afc40>,\n",
              "  <matplotlib.axis.XTick at 0x7f74200af7c0>,\n",
              "  <matplotlib.axis.XTick at 0x7f741d2c7d90>,\n",
              "  <matplotlib.axis.XTick at 0x7f741d2c78e0>,\n",
              "  <matplotlib.axis.XTick at 0x7f741d2c7af0>,\n",
              "  <matplotlib.axis.XTick at 0x7f741d2dd190>,\n",
              "  <matplotlib.axis.XTick at 0x7f741d2ddbe0>,\n",
              "  <matplotlib.axis.XTick at 0x7f741d2dd1c0>,\n",
              "  <matplotlib.axis.XTick at 0x7f743c3ef700>],\n",
              " <a list of 14 Text xticklabel objects>)"
            ]
          },
          "execution_count": 49,
          "metadata": {
            "bento_obj_id": "140137274862144"
          },
          "output_type": "execute_result"
        },
        {
          "data": {
            "image/png": "[encoded data removed]",
            "text/plain": [
              "<Figure size 432x288 with 1 Axes>"
            ]
          },
          "metadata": {
            "bento_obj_id": "140136730253248",
            "needs_background": "light"
          },
          "output_type": "display_data"
        }
      ],
      "source": [
        "plt.plot(range(2, Y.shape[-1]), MSE, \"-o\")\n",
        "plt.title(\"LOOCV MSE vs # axes\")\n",
        "plt.xlabel(\"number of principal axes\")\n",
        "plt.ylabel(\"LOOCV MSE\")\n",
        "plt.xticks(range(1, Y.shape[-1]))\n",
        "\n",
        "# TODO: plot MSE per metric"
      ]
    },
    {
      "cell_type": "code",
      "execution_count": 38,
      "metadata": {
        "collapsed": false,
        "customInput": null,
        "customOutput": null,
        "executionStartTime": 1662128719216,
        "executionStopTime": 1662128719321,
        "originalKey": "6ec625bc-a2b4-4929-9dab-4c6e12accabd",
        "requestMsgId": "6ec625bc-a2b4-4929-9dab-4c6e12accabd",
        "showInput": true
      },
      "outputs": [
        {
          "data": {
            "text/plain": [
              "[0.628856132564224,\n",
              " 0.7468973715832808,\n",
              " 0.8331834555808467,\n",
              " 0.8837114616587409,\n",
              " 0.9174032971710926,\n",
              " 0.9435285241433904,\n",
              " 0.9608617826765234,\n",
              " 0.9752921890347764,\n",
              " 0.987155236689882,\n",
              " 0.9937429209260408,\n",
              " 0.9970512279888242,\n",
              " 0.9987467712499597,\n",
              " 0.9996366694926102]"
            ]
          },
          "execution_count": 38,
          "metadata": {
            "bento_obj_id": "140416882395072"
          },
          "output_type": "execute_result"
        }
      ],
      "source": [
        "explained_vars"
      ]
    },
    {
      "cell_type": "code",
      "execution_count": 39,
      "metadata": {
        "collapsed": false,
        "customInput": null,
        "customOutput": null,
        "executionStartTime": 1662128720106,
        "executionStopTime": 1662128720491,
        "originalKey": "c351d5f6-97df-424d-8297-132fbf1cd24c",
        "requestMsgId": "c351d5f6-97df-424d-8297-132fbf1cd24c",
        "showInput": true
      },
      "outputs": [
        {
          "data": {
            "text/plain": [
              "Text(0, 0.5, 'LOOCV MSE')"
            ]
          },
          "execution_count": 39,
          "metadata": {
            "bento_obj_id": "140417099573904"
          },
          "output_type": "execute_result"
        },
        {
          "data": {
            "image/png": "[encoded data removed]",
            "text/plain": [
              "<Figure size 432x288 with 1 Axes>"
            ]
          },
          "metadata": {
            "bento_obj_id": "140416897148096",
            "needs_background": "light"
          },
          "output_type": "display_data"
        }
      ],
      "source": [
        "# can plot variance explained on the x-axis\n",
        "\n",
        "plt.plot(explained_vars, MSE, \"-o\")\n",
        "plt.title(\"LOOCV MSE vs explained variance\")\n",
        "plt.xlabel(\"explained variance\")\n",
        "plt.ylabel(\"LOOCV MSE\")"
      ]
    },
    {
      "cell_type": "code",
      "execution_count": null,
      "metadata": {
        "code_folding": [],
        "collapsed": false,
        "customInput": null,
        "customOutput": null,
        "executionStartTime": 1657820374420,
        "executionStopTime": 1657820375839,
        "hidden_ranges": [],
        "originalKey": "354bebfe-ef34-4e04-9705-013101cb55df",
        "requestMsgId": "354bebfe-ef34-4e04-9705-013101cb55df",
        "showInput": true
      },
      "outputs": [],
      "source": [
        "# on a bad day for PL with CI"
      ]
    },
    {
      "cell_type": "code",
      "execution_count": null,
      "metadata": {
        "code_folding": [],
        "collapsed": false,
        "customInput": null,
        "customOutput": null,
        "executionStartTime": 1657819813258,
        "executionStopTime": 1657819814324,
        "hidden_ranges": [],
        "originalKey": "27035b96-2c40-436b-b50c-150de8e3cd0c",
        "requestMsgId": "27035b96-2c40-436b-b50c-150de8e3cd0c",
        "showInput": true
      },
      "outputs": [],
      "source": []
    }
  ],
  "metadata": {
    "bento_stylesheets": {
      "bento/extensions/flow/main.css": true,
      "bento/extensions/kernel_selector/main.css": true,
      "bento/extensions/kernel_ui/main.css": true,
      "bento/extensions/new_kernel/main.css": true,
      "bento/extensions/system_usage/main.css": true,
      "bento/extensions/theme/main.css": true
    },
    "captumWidgetMessage": {},
    "dataExplorerConfig": {},
    "kernelspec": {
      "display_name": "Python 3",
      "language": "python",
      "name": "python3"
    },
    "language_info": {
      "codemirror_mode": {
        "name": "ipython",
        "version": 3
      },
      "file_extension": ".py",
      "mimetype": "text/x-python",
      "name": "python",
      "nbconvert_exporter": "python",
      "pygments_lexer": "ipython3",
      "version": "3.9.15 (main, Nov 24 2022, 14:31:59) \n[GCC 11.2.0]"
    },
    "last_base_url": "https://devvm10848.prn0.facebook.com:8090/",
    "last_kernel_id": "42b08eac-443a-4ab0-8e52-64522130fe14",
    "last_msg_id": "e54ae62a-9ef63aa68d85aa153af8d86c_1114",
    "last_server_session_id": "a471731c-0244-4194-bd9a-452795d1da7f",
    "outputWidgetContext": {},
    "vscode": {
      "interpreter": {
        "hash": "f178f7686bb85c5c6e141a85fd4c17c3082d63b89f6cfaecdf98c22c0047a219"
      }
    }
  },
  "nbformat": 4,
  "nbformat_minor": 2
}
