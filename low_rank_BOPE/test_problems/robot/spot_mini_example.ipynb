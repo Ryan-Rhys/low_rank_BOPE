{
 "cells": [
  {
   "cell_type": "code",
   "execution_count": 2,
   "id": "0e9c4c5f",
   "metadata": {},
   "outputs": [
    {
     "name": "stdout",
     "output_type": "stream",
     "text": [
      "The autoreload extension is already loaded. To reload it, use:\n",
      "  %reload_ext autoreload\n"
     ]
    }
   ],
   "source": [
    "%load_ext autoreload\n",
    "%autoreload 2\n",
    "\n",
    "import copy\n",
    "\n",
    "import io\n",
    "import sys\n",
    "\n",
    "import numpy as np\n",
    "\n",
    "sys.path.append('/home/yz685/low_rank_BOPE/low_rank_BOPE')\n",
    "sys.path.append(\"/home/yz685/low_rank_BOPE/low_rank_BOPE/aux_software/spot_mini_mini\")\n",
    "\n",
    "from typing import Optional\n",
    "\n",
    "import torch\n",
    "from botorch.test_functions.base import BaseTestProblem\n",
    "\n",
    "from gym.wrappers import RecordVideo\n",
    "from spotmicro.GaitGenerator.Bezier import BezierGait\n",
    "\n",
    "from spotmicro.GymEnvs.spot_bezier_env import spotBezierEnv\n",
    "from spotmicro.Kinematics.SpotKinematics import SpotModel\n",
    "\n",
    "from spotmicro.OpenLoopSM.SpotOL import BezierStepper\n",
    "from spotmicro.spot_env_randomizer import SpotEnvRandomizer\n",
    "from torch import Tensor\n",
    "\n"
   ]
  },
  {
   "attachments": {},
   "cell_type": "markdown",
   "id": "700f1d51",
   "metadata": {},
   "source": [
    "# TODO:\n",
    "- transpose y before flattening √\n",
    "- stardardize x"
   ]
  },
  {
   "cell_type": "code",
   "execution_count": 21,
   "id": "86098f6a-d2c7-476e-a940-bde99bc61464",
   "metadata": {
    "tags": []
   },
   "outputs": [],
   "source": [
    "\n",
    "\n",
    "class spotBezierEnv2(spotBezierEnv):\n",
    "    \"\"\"\n",
    "    Updates the environment for changes in the gym API in newer versions\n",
    "    \"\"\"\n",
    "\n",
    "    def __init__(self, *args, **kwargs):\n",
    "        super().__init__(*args, **kwargs)\n",
    "        self.render_mode = \"rgb_array\"\n",
    "        self.metadata[\"render_fps\"] = 50\n",
    "\n",
    "    def step(self, action):\n",
    "        observations, reward, done, info = super().step(action)\n",
    "        return observations, reward, done, False, info\n",
    "\n",
    "\n",
    "def spot_mini_mini_trajectory(\n",
    "    SwingPeriod: float = 0.2,\n",
    "    StepVelocity: float = 0.001,\n",
    "    ClearanceHeight: float = 0.05,\n",
    "    roll: float = 0.0,\n",
    "    pitch: float = 0.0,\n",
    "    max_timesteps: int = 500,\n",
    "    record_pos_every_n: int = 5,\n",
    "    record: bool = False,\n",
    "    results_path: str = None,\n",
    "    name_prefix: str = \"spot\",\n",
    "    seed: int = 1000\n",
    "):\n",
    "    r\"\"\"\n",
    "    Run one trajectory of a spot mini mini robot (?)\n",
    "\n",
    "    Args:\n",
    "\n",
    "    Returns:\n",
    "    \"\"\"\n",
    "    seed = seed\n",
    "    StepLength = 0.05\n",
    "    LateralFraction = 0.0\n",
    "    YawRate = 0.0\n",
    "    PenetrationDepth = 0.003\n",
    "    yaw = 0.0\n",
    "    orn = [roll, pitch, yaw]\n",
    "\n",
    "    env = spotBezierEnv2(\n",
    "        render=False,\n",
    "        env_randomizer=SpotEnvRandomizer(),\n",
    "        control_time_step=0.0,\n",
    "    )\n",
    "    dt = float(env._time_step)\n",
    "    if record:\n",
    "        assert results_path is not None\n",
    "        env = RecordVideo(\n",
    "            env=env,\n",
    "            video_folder=results_path,\n",
    "            name_prefix=name_prefix,\n",
    "            step_trigger=lambda x: x >= 50,\n",
    "        )\n",
    "\n",
    "    # Set seeds\n",
    "    env.seed(seed)\n",
    "    np.random.seed(seed)\n",
    "\n",
    "    state = env.reset()\n",
    "\n",
    "    spot = SpotModel()\n",
    "    T_bf0 = spot.WorldToFoot\n",
    "    T_bf = copy.deepcopy(T_bf0)\n",
    "\n",
    "    bzg = BezierGait(dt=dt)\n",
    "    bzg.Tswing = SwingPeriod\n",
    "\n",
    "    bz_step = BezierStepper(dt=dt, mode=0)\n",
    "    bz_step.StepLength = StepLength\n",
    "    bz_step.LateralFraction = LateralFraction\n",
    "    bz_step.YawRate = YawRate\n",
    "    bz_step.StepVelocity = StepVelocity\n",
    "\n",
    "    action = env.action_space.sample()\n",
    "\n",
    "    t = 0\n",
    "    pos_trajectory = []\n",
    "    while t < max_timesteps:\n",
    "        bz_step.ramp_up()\n",
    "        pos, _, _, _, _, _, _, _ = bz_step.StateMachine()\n",
    "\n",
    "        contacts = state[-4:]\n",
    "        # Get Desired Foot Poses\n",
    "        T_bf = bzg.GenerateTrajectory(\n",
    "            StepLength,\n",
    "            LateralFraction,\n",
    "            YawRate,\n",
    "            StepVelocity,\n",
    "            T_bf0,\n",
    "            T_bf,\n",
    "            ClearanceHeight,\n",
    "            PenetrationDepth,\n",
    "            contacts,\n",
    "        )\n",
    "        joint_angles = spot.IK(orn, pos, T_bf)\n",
    "\n",
    "        env.pass_joint_angles(joint_angles.reshape(-1))\n",
    "        # Get External Observations\n",
    "        env.spot.GetExternalObservations(bzg, bz_step)\n",
    "        # Step\n",
    "        state = env.step(action)[0]\n",
    "        if t % record_pos_every_n == 0:\n",
    "            pos_trajectory.append(env.spot.GetBasePosition())\n",
    "        t += 1\n",
    "    env.close()\n",
    "\n",
    "    # a list of tuples (x,y,z) indicating the position of the robot's centroid\n",
    "    return pos_trajectory \n",
    "\n",
    "\n",
    "class SpotMiniMiniProblem(BaseTestProblem):\n",
    "    r\"\"\"\n",
    "    Test problem class for spot mini mini robot with Bezier gait (?)\n",
    "\n",
    "    # TODO: manually standardize?  by self.original_bounds\n",
    "    \"\"\"\n",
    "    param_names = [\"SwingPeriod\", \"StepVelocity\", \"ClearanceHeight\", \"roll\", \"pitch\"]\n",
    "    pi8 = np.pi / 8\n",
    "    original_bounds = torch.tensor(\n",
    "        [\n",
    "            [0.1, 0.001, 0, -pi8, -pi8],\n",
    "            [0.4, 3, 0.1, pi8, pi8],\n",
    "        ]\n",
    "    )\n",
    "    noise_std = 0.0\n",
    "\n",
    "    def __init__(\n",
    "        self,\n",
    "        dim: int = 3,\n",
    "        max_timesteps: int = 500,\n",
    "        record_pos_every_n: int = 5,\n",
    "        noise_std: Optional[float] = None,\n",
    "        negate: bool = False,\n",
    "    ):\n",
    "        r\"\"\"\n",
    "        Initialize\n",
    "\n",
    "        Outcome is a flattened vector of the robot's centroid position (x,y,z)\n",
    "        at each timestep.\n",
    "\n",
    "        Args:\n",
    "            dim: input dimension of the problem, must be <= 5\n",
    "            max_timesteps: maximum number of timesteps to run the simulation for\n",
    "            record_pos_every_n: record the position every n timesteps\n",
    "            noise_std: standard deviation of the noise to add to the objective\n",
    "            negate: whether to negate the objective (if true, maximize) \n",
    "        \"\"\"\n",
    "        self.dim=dim\n",
    "        if dim > 5: # the idea is that you can control up to 5 parameters; all have default values\n",
    "            raise ValueError(\"dim should be <= 5!\")\n",
    "        self._bounds = torch.tensor([[0.]*dim, [1.]*dim])\n",
    "        super().__init__(noise_std=noise_std, negate=negate)\n",
    "\n",
    "        self.max_timesteps = max_timesteps\n",
    "        self.record_pos_every_n = record_pos_every_n\n",
    "        self.outcome_dim = max_timesteps // record_pos_every_n\n",
    "\n",
    "    def evaluate_true(self, X: Tensor) -> Tensor:\n",
    "        r\"\"\"\n",
    "        Evaluate the objective function without noise for inputs in X.\n",
    "        Args:\n",
    "            X: `num_samples x self.dim` tensor of inputs\n",
    "        Returns:\n",
    "            trajectories: `num_samples x self.outcome_dim` tensor\n",
    "        \"\"\"\n",
    "        trajectories = []\n",
    "        # save_stdout = sys.stdout\n",
    "        # sys.stdout = io.StringIO()  # suppress print out\n",
    "\n",
    "        X_ = self._unstandardize_X(X, bounds = self.original_bounds[:, :self.dim].clone().detach())\n",
    "        print(X, X_)\n",
    "\n",
    "        for i, X_i in enumerate(X_):\n",
    "            kwargs = {self.param_names[j]: p for j, p in enumerate(X_i)}\n",
    "            # list of (x,y,z) tuples, length = max_timesteps // record_pos_every_n\n",
    "            trajectory = spot_mini_mini_trajectory(\n",
    "                max_timesteps=self.max_timesteps,\n",
    "                record_pos_every_n=self.record_pos_every_n,\n",
    "                **kwargs\n",
    "            )\n",
    "            # after flattening it should look like [x1,x2,...,y1,y2,...,z1,z2,...]\n",
    "            flat_single_trajectory = torch.transpose(\n",
    "                torch.tensor(trajectory, dtype=X.dtype), -2, -1).flatten()\n",
    "            trajectories.append(flat_single_trajectory)\n",
    "\n",
    "        # sys.stdout = save_stdout  # restore print out\n",
    "\n",
    "        trajectories = torch.stack(trajectories)\n",
    "\n",
    "        return trajectories\n",
    "\n",
    "    def _unstandardize_X(self, X, bounds):\n",
    "            \n",
    "        r\"\"\"\n",
    "        Unstandardize the input X to the original bounds.\n",
    "\n",
    "        Args:\n",
    "            X: `num_samples x dim` tensor of inputs\n",
    "            bounds: `2 x dim` tensor of bounds\n",
    "\n",
    "        Returns:\n",
    "            X: `num_samples x dim` tensor of unstandardized inputs\n",
    "        \"\"\"\n",
    "        return X * (bounds[1] - bounds[0]) + bounds[0]"
   ]
  },
  {
   "cell_type": "code",
   "execution_count": 4,
   "id": "ce86ce18",
   "metadata": {},
   "outputs": [
    {
     "name": "stdout",
     "output_type": "stream",
     "text": [
      "argv[0]=\n",
      "argv[0]=\n",
      "[9, 13, 18, 22]\n",
      "Action SPACE: Box(-1.0, 1.0, (14,), float32)\n"
     ]
    },
    {
     "name": "stderr",
     "output_type": "stream",
     "text": [
      "/home/yz685/anaconda3/envs/bope_pca/lib/python3.9/site-packages/gym/spaces/box.py:127: UserWarning: \u001b[33mWARN: Box bound precision lowered by casting to float32\u001b[0m\n",
      "  logger.warn(f\"Box bound precision lowered by casting to {self.dtype}\")\n"
     ]
    }
   ],
   "source": [
    "y = spot_mini_mini_trajectory()"
   ]
  },
  {
   "cell_type": "code",
   "execution_count": 22,
   "id": "498b6236-3bae-481a-8eb7-74b5fea76fd3",
   "metadata": {
    "tags": []
   },
   "outputs": [],
   "source": [
    "# example use\n",
    "from botorch.utils.sampling import draw_sobol_samples\n",
    "\n",
    "d = 3 # number of parameters\n",
    "n = 2\n",
    "# bounds = SpotMiniMiniProblem.original_bounds[:, :d]\n",
    "bounds = torch.tensor([[0.]*d, [1.]*d])\n",
    "X = draw_sobol_samples(\n",
    "    bounds=bounds,\n",
    "    n=n,\n",
    "    q=1,\n",
    "    # seed=1000,\n",
    ").squeeze(dim=1)\n",
    "\n",
    "\n",
    "problem = SpotMiniMiniProblem(dim=d)\n",
    "Y = problem.evaluate_true(X)"
   ]
  },
  {
   "cell_type": "code",
   "execution_count": 24,
   "id": "a09cce6d",
   "metadata": {},
   "outputs": [
    {
     "data": {
      "text/plain": [
       "tensor([[0.9264, 0.0346, 0.2048],\n",
       "        [0.2396, 0.6037, 0.6380]])"
      ]
     },
     "execution_count": 24,
     "metadata": {},
     "output_type": "execute_result"
    }
   ],
   "source": [
    "X"
   ]
  },
  {
   "cell_type": "code",
   "execution_count": 27,
   "id": "fb4f106a",
   "metadata": {},
   "outputs": [
    {
     "data": {
      "text/plain": [
       "tensor([[1.0000e-01, 1.0000e-03, 0.0000e+00],\n",
       "        [4.0000e-01, 3.0000e+00, 1.0000e-01]])"
      ]
     },
     "execution_count": 27,
     "metadata": {},
     "output_type": "execute_result"
    }
   ],
   "source": [
    "SpotMiniMiniProblem.original_bounds[:, :d]"
   ]
  },
  {
   "cell_type": "code",
   "execution_count": 26,
   "id": "9cc48bb0",
   "metadata": {},
   "outputs": [
    {
     "data": {
      "text/plain": [
       "tensor([[0.3779, 0.1046, 0.0205],\n",
       "        [0.1719, 1.8114, 0.0638]])"
      ]
     },
     "execution_count": 26,
     "metadata": {},
     "output_type": "execute_result"
    }
   ],
   "source": [
    "problem._unstandardize_X(X, SpotMiniMiniProblem.original_bounds[:, :d])"
   ]
  },
  {
   "cell_type": "code",
   "execution_count": 28,
   "id": "59899761-f4c2-424a-b7af-5dc58b6c622c",
   "metadata": {
    "tags": []
   },
   "outputs": [
    {
     "data": {
      "text/plain": [
       "tensor([[1.0000e-01, 1.0000e-03, 0.0000e+00],\n",
       "        [4.0000e-01, 3.0000e+00, 1.0000e-01]])"
      ]
     },
     "execution_count": 28,
     "metadata": {},
     "output_type": "execute_result"
    }
   ],
   "source": [
    "problem._unstandardize_X(torch.tensor([\n",
    "    [0,0,0], [1,1,1]\n",
    "]), SpotMiniMiniProblem.original_bounds[:, :d])"
   ]
  },
  {
   "cell_type": "code",
   "execution_count": 7,
   "id": "411d99f7-d334-4ff8-a6e0-571333fdf75c",
   "metadata": {
    "tags": []
   },
   "outputs": [
    {
     "data": {
      "text/plain": [
       "torch.Size([2, 300])"
      ]
     },
     "execution_count": 7,
     "metadata": {},
     "output_type": "execute_result"
    }
   ],
   "source": [
    "Y.shape"
   ]
  },
  {
   "cell_type": "code",
   "execution_count": 9,
   "id": "eb21f078-57da-42fc-b061-1288aabf55e7",
   "metadata": {
    "tags": []
   },
   "outputs": [
    {
     "name": "stdout",
     "output_type": "stream",
     "text": [
      "argv[0]=\n",
      "argv[0]=\n",
      "[9, 13, 18, 22]\n",
      "Action SPACE: Box(-1.0, 1.0, (14,), float32)\n",
      "Moviepy - Building video /home/yz685/low_rank_BOPE/low_rank_BOPE/test_problems/robot/spot-step-50.mp4.\n",
      "Moviepy - Writing video /home/yz685/low_rank_BOPE/low_rank_BOPE/test_problems/robot/spot-step-50.mp4\n",
      "\n"
     ]
    },
    {
     "ename": "TypeError",
     "evalue": "must be real number, not NoneType",
     "output_type": "error",
     "traceback": [
      "\u001b[0;31m---------------------------------------------------------------------------\u001b[0m",
      "\u001b[0;31mTypeError\u001b[0m                                 Traceback (most recent call last)",
      "\u001b[0;32m/tmp/ipykernel_1409938/1304841704.py\u001b[0m in \u001b[0;36m<module>\u001b[0;34m\u001b[0m\n\u001b[1;32m      1\u001b[0m \u001b[0;31m# Rendering video of the robot dog walking\u001b[0m\u001b[0;34m\u001b[0m\u001b[0;34m\u001b[0m\u001b[0m\n\u001b[1;32m      2\u001b[0m \u001b[0;31m# This make take ~1min or longer depending on how long the video is\u001b[0m\u001b[0;34m\u001b[0m\u001b[0;34m\u001b[0m\u001b[0m\n\u001b[0;32m----> 3\u001b[0;31m \u001b[0mtrajectory\u001b[0m \u001b[0;34m=\u001b[0m \u001b[0mspot_mini_mini_trajectory\u001b[0m\u001b[0;34m(\u001b[0m\u001b[0mSwingPeriod\u001b[0m\u001b[0;34m=\u001b[0m\u001b[0;36m0.2\u001b[0m\u001b[0;34m,\u001b[0m \u001b[0mStepVelocity\u001b[0m\u001b[0;34m=\u001b[0m\u001b[0;36m0.001\u001b[0m\u001b[0;34m,\u001b[0m \u001b[0mClearanceHeight\u001b[0m\u001b[0;34m=\u001b[0m\u001b[0;36m0.05\u001b[0m\u001b[0;34m,\u001b[0m \u001b[0mrecord\u001b[0m\u001b[0;34m=\u001b[0m\u001b[0;32mTrue\u001b[0m\u001b[0;34m,\u001b[0m \u001b[0mresults_path\u001b[0m\u001b[0;34m=\u001b[0m\u001b[0;34m\"./\"\u001b[0m\u001b[0;34m)\u001b[0m\u001b[0;34m\u001b[0m\u001b[0;34m\u001b[0m\u001b[0m\n\u001b[0m",
      "\u001b[0;32m/tmp/ipykernel_1409938/43946539.py\u001b[0m in \u001b[0;36mspot_mini_mini_trajectory\u001b[0;34m(SwingPeriod, StepVelocity, ClearanceHeight, roll, pitch, max_timesteps, record_pos_every_n, record, results_path, name_prefix, seed)\u001b[0m\n\u001b[1;32m    100\u001b[0m             \u001b[0mpos_trajectory\u001b[0m\u001b[0;34m.\u001b[0m\u001b[0mappend\u001b[0m\u001b[0;34m(\u001b[0m\u001b[0menv\u001b[0m\u001b[0;34m.\u001b[0m\u001b[0mspot\u001b[0m\u001b[0;34m.\u001b[0m\u001b[0mGetBasePosition\u001b[0m\u001b[0;34m(\u001b[0m\u001b[0;34m)\u001b[0m\u001b[0;34m)\u001b[0m\u001b[0;34m\u001b[0m\u001b[0;34m\u001b[0m\u001b[0m\n\u001b[1;32m    101\u001b[0m         \u001b[0mt\u001b[0m \u001b[0;34m+=\u001b[0m \u001b[0;36m1\u001b[0m\u001b[0;34m\u001b[0m\u001b[0;34m\u001b[0m\u001b[0m\n\u001b[0;32m--> 102\u001b[0;31m     \u001b[0menv\u001b[0m\u001b[0;34m.\u001b[0m\u001b[0mclose\u001b[0m\u001b[0;34m(\u001b[0m\u001b[0;34m)\u001b[0m\u001b[0;34m\u001b[0m\u001b[0;34m\u001b[0m\u001b[0m\n\u001b[0m\u001b[1;32m    103\u001b[0m     \u001b[0;32mreturn\u001b[0m \u001b[0mpos_trajectory\u001b[0m\u001b[0;34m\u001b[0m\u001b[0;34m\u001b[0m\u001b[0m\n\u001b[1;32m    104\u001b[0m \u001b[0;34m\u001b[0m\u001b[0m\n",
      "\u001b[0;32m~/anaconda3/envs/bope_pca/lib/python3.9/site-packages/gym/wrappers/record_video.py\u001b[0m in \u001b[0;36mclose\u001b[0;34m(self)\u001b[0m\n\u001b[1;32m    205\u001b[0m         \u001b[0;34m\"\"\"Closes the wrapper then the video recorder.\"\"\"\u001b[0m\u001b[0;34m\u001b[0m\u001b[0;34m\u001b[0m\u001b[0m\n\u001b[1;32m    206\u001b[0m         \u001b[0msuper\u001b[0m\u001b[0;34m(\u001b[0m\u001b[0;34m)\u001b[0m\u001b[0;34m.\u001b[0m\u001b[0mclose\u001b[0m\u001b[0;34m(\u001b[0m\u001b[0;34m)\u001b[0m\u001b[0;34m\u001b[0m\u001b[0;34m\u001b[0m\u001b[0m\n\u001b[0;32m--> 207\u001b[0;31m         \u001b[0mself\u001b[0m\u001b[0;34m.\u001b[0m\u001b[0mclose_video_recorder\u001b[0m\u001b[0;34m(\u001b[0m\u001b[0;34m)\u001b[0m\u001b[0;34m\u001b[0m\u001b[0;34m\u001b[0m\u001b[0m\n\u001b[0m\u001b[1;32m    208\u001b[0m \u001b[0;34m\u001b[0m\u001b[0m\n\u001b[1;32m    209\u001b[0m     \u001b[0;32mdef\u001b[0m \u001b[0m__del__\u001b[0m\u001b[0;34m(\u001b[0m\u001b[0mself\u001b[0m\u001b[0;34m)\u001b[0m\u001b[0;34m:\u001b[0m\u001b[0;34m\u001b[0m\u001b[0;34m\u001b[0m\u001b[0m\n",
      "\u001b[0;32m~/anaconda3/envs/bope_pca/lib/python3.9/site-packages/gym/wrappers/record_video.py\u001b[0m in \u001b[0;36mclose_video_recorder\u001b[0;34m(self)\u001b[0m\n\u001b[1;32m    178\u001b[0m         \u001b[0;32mif\u001b[0m \u001b[0mself\u001b[0m\u001b[0;34m.\u001b[0m\u001b[0mrecording\u001b[0m\u001b[0;34m:\u001b[0m\u001b[0;34m\u001b[0m\u001b[0;34m\u001b[0m\u001b[0m\n\u001b[1;32m    179\u001b[0m             \u001b[0;32massert\u001b[0m \u001b[0mself\u001b[0m\u001b[0;34m.\u001b[0m\u001b[0mvideo_recorder\u001b[0m \u001b[0;32mis\u001b[0m \u001b[0;32mnot\u001b[0m \u001b[0;32mNone\u001b[0m\u001b[0;34m\u001b[0m\u001b[0;34m\u001b[0m\u001b[0m\n\u001b[0;32m--> 180\u001b[0;31m             \u001b[0mself\u001b[0m\u001b[0;34m.\u001b[0m\u001b[0mvideo_recorder\u001b[0m\u001b[0;34m.\u001b[0m\u001b[0mclose\u001b[0m\u001b[0;34m(\u001b[0m\u001b[0;34m)\u001b[0m\u001b[0;34m\u001b[0m\u001b[0;34m\u001b[0m\u001b[0m\n\u001b[0m\u001b[1;32m    181\u001b[0m         \u001b[0mself\u001b[0m\u001b[0;34m.\u001b[0m\u001b[0mrecording\u001b[0m \u001b[0;34m=\u001b[0m \u001b[0;32mFalse\u001b[0m\u001b[0;34m\u001b[0m\u001b[0;34m\u001b[0m\u001b[0m\n\u001b[1;32m    182\u001b[0m         \u001b[0mself\u001b[0m\u001b[0;34m.\u001b[0m\u001b[0mrecorded_frames\u001b[0m \u001b[0;34m=\u001b[0m \u001b[0;36m1\u001b[0m\u001b[0;34m\u001b[0m\u001b[0;34m\u001b[0m\u001b[0m\n",
      "\u001b[0;32m~/anaconda3/envs/bope_pca/lib/python3.9/site-packages/gym/wrappers/monitoring/video_recorder.py\u001b[0m in \u001b[0;36mclose\u001b[0;34m(self)\u001b[0m\n\u001b[1;32m    156\u001b[0m             \u001b[0mlogger\u001b[0m\u001b[0;34m.\u001b[0m\u001b[0mdebug\u001b[0m\u001b[0;34m(\u001b[0m\u001b[0;34mf\"Closing video encoder: path={self.path}\"\u001b[0m\u001b[0;34m)\u001b[0m\u001b[0;34m\u001b[0m\u001b[0;34m\u001b[0m\u001b[0m\n\u001b[1;32m    157\u001b[0m             \u001b[0mclip\u001b[0m \u001b[0;34m=\u001b[0m \u001b[0mImageSequenceClip\u001b[0m\u001b[0;34m(\u001b[0m\u001b[0mself\u001b[0m\u001b[0;34m.\u001b[0m\u001b[0mrecorded_frames\u001b[0m\u001b[0;34m,\u001b[0m \u001b[0mfps\u001b[0m\u001b[0;34m=\u001b[0m\u001b[0mself\u001b[0m\u001b[0;34m.\u001b[0m\u001b[0mframes_per_sec\u001b[0m\u001b[0;34m)\u001b[0m\u001b[0;34m\u001b[0m\u001b[0;34m\u001b[0m\u001b[0m\n\u001b[0;32m--> 158\u001b[0;31m             \u001b[0mclip\u001b[0m\u001b[0;34m.\u001b[0m\u001b[0mwrite_videofile\u001b[0m\u001b[0;34m(\u001b[0m\u001b[0mself\u001b[0m\u001b[0;34m.\u001b[0m\u001b[0mpath\u001b[0m\u001b[0;34m)\u001b[0m\u001b[0;34m\u001b[0m\u001b[0;34m\u001b[0m\u001b[0m\n\u001b[0m\u001b[1;32m    159\u001b[0m         \u001b[0;32melse\u001b[0m\u001b[0;34m:\u001b[0m\u001b[0;34m\u001b[0m\u001b[0;34m\u001b[0m\u001b[0m\n\u001b[1;32m    160\u001b[0m             \u001b[0;31m# No frames captured. Set metadata.\u001b[0m\u001b[0;34m\u001b[0m\u001b[0;34m\u001b[0m\u001b[0m\n",
      "\u001b[0;32m~/.local/lib/python3.9/site-packages/decorator.py\u001b[0m in \u001b[0;36mfun\u001b[0;34m(*args, **kw)\u001b[0m\n",
      "\u001b[0;32m~/anaconda3/envs/bope_pca/lib/python3.9/site-packages/moviepy/decorators.py\u001b[0m in \u001b[0;36mrequires_duration\u001b[0;34m(f, clip, *a, **k)\u001b[0m\n\u001b[1;32m     52\u001b[0m         \u001b[0;32mraise\u001b[0m \u001b[0mValueError\u001b[0m\u001b[0;34m(\u001b[0m\u001b[0;34m\"Attribute 'duration' not set\"\u001b[0m\u001b[0;34m)\u001b[0m\u001b[0;34m\u001b[0m\u001b[0;34m\u001b[0m\u001b[0m\n\u001b[1;32m     53\u001b[0m     \u001b[0;32melse\u001b[0m\u001b[0;34m:\u001b[0m\u001b[0;34m\u001b[0m\u001b[0;34m\u001b[0m\u001b[0m\n\u001b[0;32m---> 54\u001b[0;31m         \u001b[0;32mreturn\u001b[0m \u001b[0mf\u001b[0m\u001b[0;34m(\u001b[0m\u001b[0mclip\u001b[0m\u001b[0;34m,\u001b[0m \u001b[0;34m*\u001b[0m\u001b[0ma\u001b[0m\u001b[0;34m,\u001b[0m \u001b[0;34m**\u001b[0m\u001b[0mk\u001b[0m\u001b[0;34m)\u001b[0m\u001b[0;34m\u001b[0m\u001b[0;34m\u001b[0m\u001b[0m\n\u001b[0m\u001b[1;32m     55\u001b[0m \u001b[0;34m\u001b[0m\u001b[0m\n\u001b[1;32m     56\u001b[0m \u001b[0;34m\u001b[0m\u001b[0m\n",
      "\u001b[0;32m~/.local/lib/python3.9/site-packages/decorator.py\u001b[0m in \u001b[0;36mfun\u001b[0;34m(*args, **kw)\u001b[0m\n",
      "\u001b[0;32m~/anaconda3/envs/bope_pca/lib/python3.9/site-packages/moviepy/decorators.py\u001b[0m in \u001b[0;36muse_clip_fps_by_default\u001b[0;34m(f, clip, *a, **k)\u001b[0m\n\u001b[1;32m    133\u001b[0m              for (k,v) in k.items()}\n\u001b[1;32m    134\u001b[0m \u001b[0;34m\u001b[0m\u001b[0m\n\u001b[0;32m--> 135\u001b[0;31m     \u001b[0;32mreturn\u001b[0m \u001b[0mf\u001b[0m\u001b[0;34m(\u001b[0m\u001b[0mclip\u001b[0m\u001b[0;34m,\u001b[0m \u001b[0;34m*\u001b[0m\u001b[0mnew_a\u001b[0m\u001b[0;34m,\u001b[0m \u001b[0;34m**\u001b[0m\u001b[0mnew_kw\u001b[0m\u001b[0;34m)\u001b[0m\u001b[0;34m\u001b[0m\u001b[0;34m\u001b[0m\u001b[0m\n\u001b[0m",
      "\u001b[0;32m~/.local/lib/python3.9/site-packages/decorator.py\u001b[0m in \u001b[0;36mfun\u001b[0;34m(*args, **kw)\u001b[0m\n",
      "\u001b[0;32m~/anaconda3/envs/bope_pca/lib/python3.9/site-packages/moviepy/decorators.py\u001b[0m in \u001b[0;36mconvert_masks_to_RGB\u001b[0;34m(f, clip, *a, **k)\u001b[0m\n\u001b[1;32m     20\u001b[0m     \u001b[0;32mif\u001b[0m \u001b[0mclip\u001b[0m\u001b[0;34m.\u001b[0m\u001b[0mismask\u001b[0m\u001b[0;34m:\u001b[0m\u001b[0;34m\u001b[0m\u001b[0;34m\u001b[0m\u001b[0m\n\u001b[1;32m     21\u001b[0m         \u001b[0mclip\u001b[0m \u001b[0;34m=\u001b[0m \u001b[0mclip\u001b[0m\u001b[0;34m.\u001b[0m\u001b[0mto_RGB\u001b[0m\u001b[0;34m(\u001b[0m\u001b[0;34m)\u001b[0m\u001b[0;34m\u001b[0m\u001b[0;34m\u001b[0m\u001b[0m\n\u001b[0;32m---> 22\u001b[0;31m     \u001b[0;32mreturn\u001b[0m \u001b[0mf\u001b[0m\u001b[0;34m(\u001b[0m\u001b[0mclip\u001b[0m\u001b[0;34m,\u001b[0m \u001b[0;34m*\u001b[0m\u001b[0ma\u001b[0m\u001b[0;34m,\u001b[0m \u001b[0;34m**\u001b[0m\u001b[0mk\u001b[0m\u001b[0;34m)\u001b[0m\u001b[0;34m\u001b[0m\u001b[0;34m\u001b[0m\u001b[0m\n\u001b[0m\u001b[1;32m     23\u001b[0m \u001b[0;34m\u001b[0m\u001b[0m\n\u001b[1;32m     24\u001b[0m \u001b[0;34m@\u001b[0m\u001b[0mdecorator\u001b[0m\u001b[0;34m.\u001b[0m\u001b[0mdecorator\u001b[0m\u001b[0;34m\u001b[0m\u001b[0;34m\u001b[0m\u001b[0m\n",
      "\u001b[0;32m~/anaconda3/envs/bope_pca/lib/python3.9/site-packages/moviepy/video/VideoClip.py\u001b[0m in \u001b[0;36mwrite_videofile\u001b[0;34m(self, filename, fps, codec, bitrate, audio, audio_fps, preset, audio_nbytes, audio_codec, audio_bitrate, audio_bufsize, temp_audiofile, rewrite_audio, remove_temp, write_logfile, verbose, threads, ffmpeg_params, logger)\u001b[0m\n\u001b[1;32m    298\u001b[0m                                        logger=logger)\n\u001b[1;32m    299\u001b[0m \u001b[0;34m\u001b[0m\u001b[0m\n\u001b[0;32m--> 300\u001b[0;31m         ffmpeg_write_video(self, filename, fps, codec,\n\u001b[0m\u001b[1;32m    301\u001b[0m                            \u001b[0mbitrate\u001b[0m\u001b[0;34m=\u001b[0m\u001b[0mbitrate\u001b[0m\u001b[0;34m,\u001b[0m\u001b[0;34m\u001b[0m\u001b[0;34m\u001b[0m\u001b[0m\n\u001b[1;32m    302\u001b[0m                            \u001b[0mpreset\u001b[0m\u001b[0;34m=\u001b[0m\u001b[0mpreset\u001b[0m\u001b[0;34m,\u001b[0m\u001b[0;34m\u001b[0m\u001b[0;34m\u001b[0m\u001b[0m\n",
      "\u001b[0;32m~/anaconda3/envs/bope_pca/lib/python3.9/site-packages/moviepy/video/io/ffmpeg_writer.py\u001b[0m in \u001b[0;36mffmpeg_write_video\u001b[0;34m(clip, filename, fps, codec, bitrate, preset, withmask, write_logfile, audiofile, verbose, threads, ffmpeg_params, logger)\u001b[0m\n\u001b[1;32m    211\u001b[0m         \u001b[0mlogfile\u001b[0m \u001b[0;34m=\u001b[0m \u001b[0;32mNone\u001b[0m\u001b[0;34m\u001b[0m\u001b[0;34m\u001b[0m\u001b[0m\n\u001b[1;32m    212\u001b[0m     \u001b[0mlogger\u001b[0m\u001b[0;34m(\u001b[0m\u001b[0mmessage\u001b[0m\u001b[0;34m=\u001b[0m\u001b[0;34m'Moviepy - Writing video %s\\n'\u001b[0m \u001b[0;34m%\u001b[0m \u001b[0mfilename\u001b[0m\u001b[0;34m)\u001b[0m\u001b[0;34m\u001b[0m\u001b[0;34m\u001b[0m\u001b[0m\n\u001b[0;32m--> 213\u001b[0;31m     with FFMPEG_VideoWriter(filename, clip.size, fps, codec = codec,\n\u001b[0m\u001b[1;32m    214\u001b[0m                                 \u001b[0mpreset\u001b[0m\u001b[0;34m=\u001b[0m\u001b[0mpreset\u001b[0m\u001b[0;34m,\u001b[0m \u001b[0mbitrate\u001b[0m\u001b[0;34m=\u001b[0m\u001b[0mbitrate\u001b[0m\u001b[0;34m,\u001b[0m \u001b[0mlogfile\u001b[0m\u001b[0;34m=\u001b[0m\u001b[0mlogfile\u001b[0m\u001b[0;34m,\u001b[0m\u001b[0;34m\u001b[0m\u001b[0;34m\u001b[0m\u001b[0m\n\u001b[1;32m    215\u001b[0m                                 \u001b[0maudiofile\u001b[0m\u001b[0;34m=\u001b[0m\u001b[0maudiofile\u001b[0m\u001b[0;34m,\u001b[0m \u001b[0mthreads\u001b[0m\u001b[0;34m=\u001b[0m\u001b[0mthreads\u001b[0m\u001b[0;34m,\u001b[0m\u001b[0;34m\u001b[0m\u001b[0;34m\u001b[0m\u001b[0m\n",
      "\u001b[0;32m~/anaconda3/envs/bope_pca/lib/python3.9/site-packages/moviepy/video/io/ffmpeg_writer.py\u001b[0m in \u001b[0;36m__init__\u001b[0;34m(self, filename, size, fps, codec, audiofile, preset, bitrate, withmask, logfile, threads, ffmpeg_params)\u001b[0m\n\u001b[1;32m     86\u001b[0m             \u001b[0;34m'-s'\u001b[0m\u001b[0;34m,\u001b[0m \u001b[0;34m'%dx%d'\u001b[0m \u001b[0;34m%\u001b[0m \u001b[0;34m(\u001b[0m\u001b[0msize\u001b[0m\u001b[0;34m[\u001b[0m\u001b[0;36m0\u001b[0m\u001b[0;34m]\u001b[0m\u001b[0;34m,\u001b[0m \u001b[0msize\u001b[0m\u001b[0;34m[\u001b[0m\u001b[0;36m1\u001b[0m\u001b[0;34m]\u001b[0m\u001b[0;34m)\u001b[0m\u001b[0;34m,\u001b[0m\u001b[0;34m\u001b[0m\u001b[0;34m\u001b[0m\u001b[0m\n\u001b[1;32m     87\u001b[0m             \u001b[0;34m'-pix_fmt'\u001b[0m\u001b[0;34m,\u001b[0m \u001b[0;34m'rgba'\u001b[0m \u001b[0;32mif\u001b[0m \u001b[0mwithmask\u001b[0m \u001b[0;32melse\u001b[0m \u001b[0;34m'rgb24'\u001b[0m\u001b[0;34m,\u001b[0m\u001b[0;34m\u001b[0m\u001b[0;34m\u001b[0m\u001b[0m\n\u001b[0;32m---> 88\u001b[0;31m             \u001b[0;34m'-r'\u001b[0m\u001b[0;34m,\u001b[0m \u001b[0;34m'%.02f'\u001b[0m \u001b[0;34m%\u001b[0m \u001b[0mfps\u001b[0m\u001b[0;34m,\u001b[0m\u001b[0;34m\u001b[0m\u001b[0;34m\u001b[0m\u001b[0m\n\u001b[0m\u001b[1;32m     89\u001b[0m             \u001b[0;34m'-an'\u001b[0m\u001b[0;34m,\u001b[0m \u001b[0;34m'-i'\u001b[0m\u001b[0;34m,\u001b[0m \u001b[0;34m'-'\u001b[0m\u001b[0;34m\u001b[0m\u001b[0;34m\u001b[0m\u001b[0m\n\u001b[1;32m     90\u001b[0m         ]\n",
      "\u001b[0;31mTypeError\u001b[0m: must be real number, not NoneType"
     ]
    }
   ],
   "source": [
    "# Rendering video of the robot dog walking\n",
    "# This make take ~1min or longer depending on how long the video is\n",
    "trajectory = spot_mini_mini_trajectory(SwingPeriod=0.2, StepVelocity=0.001, ClearanceHeight=0.05, record=True, results_path=\"./\")"
   ]
  },
  {
   "cell_type": "code",
   "execution_count": null,
   "id": "17f8949d",
   "metadata": {},
   "outputs": [],
   "source": []
  }
 ],
 "metadata": {
  "kernelspec": {
   "display_name": "Python 3 (ipykernel)",
   "language": "python",
   "name": "python3"
  },
  "language_info": {
   "codemirror_mode": {
    "name": "ipython",
    "version": 3
   },
   "file_extension": ".py",
   "mimetype": "text/x-python",
   "name": "python",
   "nbconvert_exporter": "python",
   "pygments_lexer": "ipython3",
   "version": "3.9.15"
  }
 },
 "nbformat": 4,
 "nbformat_minor": 5
}
